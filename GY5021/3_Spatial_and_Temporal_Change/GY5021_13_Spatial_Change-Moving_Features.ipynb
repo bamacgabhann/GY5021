{
 "cells": [
  {
   "cell_type": "markdown",
   "id": "cadf9fcb-814a-44b4-996c-d035cfe0a5cf",
   "metadata": {},
   "source": [
    "<a href=\"https://colab.research.google.com/github/bamacgabhann/GY5021/blob/2024/GY5021/3_Spatial_and_Temporal_Change/GY5021_13_Spatial_Change-Moving_Features.ipynb\" target=\"_parent\"><img src=\"https://colab.research.google.com/assets/colab-badge.svg\" alt=\"Open In Colab\"/></a>     <a href=\"https://mybinder.org/v2/gh/bamacgabhann/GY5021/9a706c8973d5bde0e50593ecc94941b0426f24a6?urlpath=lab%2Ftree%2FGY5021%2F3_Spatial_and_Temporal_Change%2FGY5021_13_Spatial_Change-Moving_Features.ipynb\" target=\"_parent\"><img src=\"https://mybinder.org/badge_logo.svg\" alt=\"Open in Binder\" /></a>"
   ]
  },
  {
   "cell_type": "markdown",
   "id": "9fcdf290-13c5-43ed-a0d7-09ff23e18786",
   "metadata": {},
   "source": [
    "<img src=\"https://raw.githubusercontent.com/bamacgabhann/GY5021/2024/PD_logo.png\" align=center alt=\"UL Geography logo\"/>"
   ]
  },
  {
   "cell_type": "markdown",
   "id": "4cdbfdbb-f681-4be1-8cf4-5824fc89ec83",
   "metadata": {},
   "source": [
    "# Spatial Change: Moving Features\n",
    "\n",
    "In the two *Temporal Change* Notebooks, we lused SAR imagery on different dates, and census data from different years, to look at how things change over time.\n",
    "\n",
    "Change from one date or time to another isn't the only change we can map, though - we can also map and analyse features which are moving.\n",
    "\n",
    "In this Notebook, we're going to use the example of transport geography to illustrate the power of looking at data for people and objects which aren't fixed in place."
   ]
  },
  {
   "cell_type": "code",
   "execution_count": null,
   "id": "b7f2fc2e-b3ee-4ecd-bef6-94333256ef0b",
   "metadata": {},
   "outputs": [],
   "source": [
    "if 'google.colab' in str(get_ipython()):\n",
    "  !pip install osmnx movingpandas\n",
    "\n",
    "import pandas as pd\n",
    "import geopandas as gpd\n",
    "from shapely import LineString\n",
    "import movingpandas as mpd\n",
    "import osmnx as ox\n",
    "import numpy as np\n",
    "import shapely as shp\n",
    "import matplotlib.pyplot as plt\n",
    "import matplotlib.colors as colors\n",
    "import hvplot.pandas\n",
    "\n",
    "from datetime import datetime, timedelta\n",
    "from shapely.geometry import Point, LineString, Polygon, box\n",
    "from holoviews import opts\n",
    "\n",
    "import warnings\n",
    "\n",
    "warnings.filterwarnings(\"ignore\")\n",
    "\n",
    "pd.options.mode.copy_on_write = True # this line is just changing a setting to make this work more easily"
   ]
  },
  {
   "cell_type": "markdown",
   "id": "ec55b94a-33ab-4d94-b725-9e81c8939830",
   "metadata": {},
   "source": [
    "## 1. Moving people\n",
    "\n",
    "We're actually going to start by sticking with census data. At the start of the last Notebook, I pointed out how the connection of census forms to particular addresses meant we could put census data on a map. But that home address is not the only location given for each person on the census form: there's also a question asking about everyone's Place of Work, School, or College. \n",
    "\n",
    "This means we have *two* locations for everyone, and can map how people are moving."
   ]
  },
  {
   "cell_type": "code",
   "execution_count": null,
   "id": "b57214f4-c668-4e0c-b480-5e802f881407",
   "metadata": {},
   "outputs": [],
   "source": [
    "powscar_ed_2016 = pd.read_csv('https://github.com/bamacgabhann/GY5021/raw/2024/GY5021/3_Spatial_and_Temporal_Change/sample_data/powscar/POWSCAR_ED_2016.csv', encoding = 'ISO-8859-1')\n",
    "powscar_ed_2016.head()"
   ]
  },
  {
   "cell_type": "markdown",
   "id": "20e7bd47-6ea5-461e-ac91-758c6b2d41b4",
   "metadata": {},
   "source": [
    "This is the data for 2016 at Electoral Division level (access to the data for smaller geographic areas is heavily restricted to researchers on approved projects for data protection reasons). Essentially, each row gives two locations - the 'RESIDENCE' electoral division, and the 'POWSCAR' electoral division - the place of work, school, or college. The last column is a count of how many people live in the specified residence ED, and commute to the specified POWSCAR ED. \n",
    "\n",
    "Mapping this is not straightforward, because each row has *two* locations. Each of those locations can individually be described by a vector polygon, but we can't have two different vector polygons for one row of attributes. \n",
    "\n",
    "However, there is a way to illustrate data which has two locations for each row - just not as polygons. If each location was a single coordinate, we'd have a start coordinate and an end coordinate. Two coordinates can be represented by a line. So, we can illustrate the data if we can create a line feature for each row.\n",
    "\n",
    "To do this, all we need to do is represent each of the vector polygons by a single point - for example the centre point of the vector polygon, commonly called the centroid. \n",
    "\n",
    "For this we need a file that's too big for GitHub, so you'll need to download <a href='https://ulcampus-my.sharepoint.com/:u:/g/personal/breandan_macgabhann_ul_ie/EdfSokFKQ3dPjybIUq9MYAEBawT4mEX-dmbaTspyBAj1vg?e=ECXLbE'>```ED_2016.gpkg```</a> (also available on Brightspace) and upload it to the sample data folder.\n"
   ]
  },
  {
   "cell_type": "code",
   "execution_count": null,
   "id": "8b8a7d3e-e8f4-4d1f-9c41-896d4f21b17e",
   "metadata": {},
   "outputs": [],
   "source": [
    "ed_2016 = gpd.read_file('sample_data/ED_2016.gpkg')\n",
    "ed_2016.head()"
   ]
  },
  {
   "cell_type": "markdown",
   "id": "575471cf-58d0-4fd0-9dd7-9cba011c9b06",
   "metadata": {},
   "source": [
    "In this case, the ```CENTROID_X``` and ```CENTROID_Y``` attributes already have those coordinates. But it's completely possible to generate them if you're working on a file without that data already. In fact, let's go ahead and do that here - we'd need to combine the X and Y coordinates into a point anyway, so we're not really skipping a step."
   ]
  },
  {
   "cell_type": "code",
   "execution_count": null,
   "id": "feaabc2c-0e3f-437e-b6d9-6d1ce26d8cb1",
   "metadata": {},
   "outputs": [],
   "source": [
    "ed_2016['centroid'] = ed_2016['geometry'].centroid\n",
    "ed_2016.head()"
   ]
  },
  {
   "cell_type": "markdown",
   "id": "556690b1-c475-44a9-b7a4-9beb67cc97cd",
   "metadata": {},
   "source": [
    "You can compare the ```CENTROID_X``` and ```CENTROID_Y``` numbers to the numbers in the new ```centroid``` attribute if you want to check that it worked. \n",
    "\n",
    "The next step is a *join* - much as we've had to do working with census data before, joining the locations to the data attributes. But here we don't need to join all of the columns from the location data, only the centroid point. So let's extract a dataframe which contains only the GUID and the centroid."
   ]
  },
  {
   "cell_type": "code",
   "execution_count": null,
   "id": "00d2df21-af46-46d7-bfa8-4eda2a8b76ea",
   "metadata": {},
   "outputs": [],
   "source": [
    "ed_2016_centroids = ed_2016[['GUID_', 'centroid']]\n",
    "ed_2016_centroids.head()"
   ]
  },
  {
   "cell_type": "markdown",
   "id": "642dccb4-3b69-45dc-9c43-2f6b3d9db971",
   "metadata": {},
   "source": [
    "Now, we can join or *merge* this with the POWSCAR data. But, we need to do it twice - once for the RESIDENCE ED, and once for the POWSCAR ED. \n",
    "\n",
    "Previously when we did this, we made sure we had one shared column of data which had the same name in both datasets. But, it doesn't have to be the same name - you just have to specify the name of the column in each dataset. Let's demonstrate by joining for the RESIDENCE ED first."
   ]
  },
  {
   "cell_type": "code",
   "execution_count": null,
   "id": "53644aae-e990-426e-b9f9-5aafdd2c65b4",
   "metadata": {},
   "outputs": [],
   "source": [
    "powscar_ed_2016 = powscar_ed_2016.merge(ed_2016_centroids, left_on='RESIDENCE_ED_GUID', right_on='GUID_')\n",
    "powscar_ed_2016.head()"
   ]
  },
  {
   "cell_type": "markdown",
   "id": "887f10cd-4b0d-4703-b066-190b0bd7a821",
   "metadata": {},
   "source": [
    "We need to rename the ```centroid``` column, because we need to repeat the join for the POWSCAR ED column, and we need to know which centroid is which. We can also drop the ```GUID_``` column which got added by the join - it's just duplicating the ```RESIDENCE_ED_GUID``` column."
   ]
  },
  {
   "cell_type": "code",
   "execution_count": null,
   "id": "7f1a65e1-b654-4f6e-8580-2f74cd336efe",
   "metadata": {},
   "outputs": [],
   "source": [
    "powscar_ed_2016 = powscar_ed_2016.rename(columns = {'centroid':'residence_centroid'}).drop(columns='GUID_')\n",
    "powscar_ed_2016.head()"
   ]
  },
  {
   "cell_type": "markdown",
   "id": "bff68728-ef23-4532-9ce5-0a86a97bf52c",
   "metadata": {},
   "source": [
    "Now we repeat the join for the POWSCAR ED:"
   ]
  },
  {
   "cell_type": "code",
   "execution_count": null,
   "id": "c4416ee0-0ccc-4733-b093-b9cf76e06d0b",
   "metadata": {},
   "outputs": [],
   "source": [
    "powscar_ed_2016_joined = powscar_ed_2016.merge(ed_2016_centroids, left_on='POWSC_ED_GUID', right_on='GUID_')\n",
    "powscar_ed_2016_joined"
   ]
  },
  {
   "cell_type": "markdown",
   "id": "6d8d2229-01cd-48b1-9b92-13a19ed8bfc7",
   "metadata": {},
   "source": [
    "Side note: You might have caught that I created a new dataframe for this join, rather than just modifying the original. I just want to make a quick point here.\n",
    "\n",
    "This is the default *inner join* - which matches all rows in the left dataframe to a row in the right dataframe, and *keeps only rows with matches*. That's fine here, but be aware there are other kinds of join:\n",
    "\n",
    "- left join: keep all rows from the left dataframe, matching where possible\n",
    "- right join: keep all rows from the right dataframe, matching where possible\n",
    "- outer join: keep all rows from both dataframes, matching where possible\n",
    "\n",
    "If we did a left join here:"
   ]
  },
  {
   "cell_type": "code",
   "execution_count": null,
   "id": "71c256c1-61c8-44fe-b7e6-f6cc435e555a",
   "metadata": {},
   "outputs": [],
   "source": [
    "powscar_ed_2016_left = powscar_ed_2016.merge(ed_2016_centroids, how='left', left_on='POWSC_ED_GUID', right_on='GUID_')\n",
    "powscar_ed_2016_left"
   ]
  },
  {
   "cell_type": "markdown",
   "id": "32b5bf9e-a7cd-4c50-ad1b-0c8c48a0e470",
   "metadata": {},
   "source": [
    "The inner join produced 282752 rows. The left join has 291893 rows. That's 9,141 rows dropped from the inner join - which is because there's some rows in the original dataset which *do not have a POWSCAR ED* - such as people who work from home, or have no fixed place of work. Since the inner join can't match them, these rows are dropped - but if we specify a left join, these rows are kept whether they're matched or not. \n",
    "\n",
    "Anyway, side note over.\n",
    "\n",
    "We now need to rename the new ```centroid``` column and drop the extra ```GUID_``` column again:"
   ]
  },
  {
   "cell_type": "code",
   "execution_count": null,
   "id": "c7bdb854-c780-4918-b5b9-a0400f78f2ac",
   "metadata": {},
   "outputs": [],
   "source": [
    "powscar_ed_2016 = powscar_ed_2016_joined.rename(columns = {'centroid':'powsc_centroid'}).drop(columns='GUID_')\n",
    "powscar_ed_2016.head()"
   ]
  },
  {
   "cell_type": "markdown",
   "id": "e03d2b66-829e-4af4-b9fe-3f3569f33dfa",
   "metadata": {},
   "source": [
    "Now we need to make a line feature from the two centroid points:"
   ]
  },
  {
   "cell_type": "code",
   "execution_count": null,
   "id": "ca13b6e8-5d1c-4dd7-b784-6cca8de99014",
   "metadata": {},
   "outputs": [],
   "source": [
    "powscar_ed_2016['geometry'] = powscar_ed_2016.apply(lambda row: LineString([row['residence_centroid'], row['powsc_centroid']]), axis=1)\n",
    "powscar_ed_2016"
   ]
  },
  {
   "cell_type": "markdown",
   "id": "6fc89477-34c0-484a-941c-2c729700e93c",
   "metadata": {},
   "source": [
    "And turn it into a GeoDataFrame so we can map it:"
   ]
  },
  {
   "cell_type": "code",
   "execution_count": null,
   "id": "c270e920-fc9d-4c46-8281-be5aef78fc8f",
   "metadata": {},
   "outputs": [],
   "source": [
    "powscar_ed_2016 = gpd.GeoDataFrame(powscar_ed_2016, crs=2157)\n",
    "powscar_ed_2016.head()"
   ]
  },
  {
   "cell_type": "code",
   "execution_count": null,
   "id": "9be794b3-d0c7-422a-b0f2-c1e0a2d3b30f",
   "metadata": {},
   "outputs": [],
   "source": [
    "powscar_ed_2016.plot()"
   ]
  },
  {
   "cell_type": "markdown",
   "id": "701cee5e-b1b2-4276-af34-7c6f5c5e54ad",
   "metadata": {},
   "source": [
    "OK so that worked, but obviously this is not a particularly useful plot. However, we can isolate parts of the dataset in order to make plots which would be much more useful. For example, the University of Limerick is in the Ballysimon ED - and we can extract all rows where the POWSC ED is Ballysimon to see who's travelling to that ED:"
   ]
  },
  {
   "cell_type": "code",
   "execution_count": null,
   "id": "4589df89-ccf5-43ed-a222-d70d4ac4b7b1",
   "metadata": {},
   "outputs": [],
   "source": [
    "powscar_ballysimon_ed_2016 = powscar_ed_2016[powscar_ed_2016['POWSC_CSOED_LABEL'] == 'Ballysimon']\n",
    "powscar_ballysimon_ed_2016"
   ]
  },
  {
   "cell_type": "code",
   "execution_count": null,
   "id": "f27ee6ab-ca25-4ab2-b6f8-8b10b732eaae",
   "metadata": {},
   "outputs": [],
   "source": [
    "powscar_ballysimon_ed_2016.plot()"
   ]
  },
  {
   "cell_type": "markdown",
   "id": "e9dba4de-9c92-47f0-9b3a-702027c92de2",
   "metadata": {},
   "source": [
    "OK, let's make this look better - which, by the way, I'm sure you're realising is a large part of doing GIS mapping."
   ]
  },
  {
   "cell_type": "code",
   "execution_count": null,
   "id": "29bc0b36-3844-48d7-bdc5-0af4e4971778",
   "metadata": {},
   "outputs": [],
   "source": [
    "fig, ax = plt.subplots()\n",
    "ax.set_title('2016 Commuting to Ballysimon ED')\n",
    "ed_2016.boundary.plot(ax=ax, color='fuchsia', linewidth=0.5)\n",
    "powscar_ballysimon_ed_2016.plot(column='COUNT', ax=ax, linewidth=0.5, cmap=\"YlGn\", legend=True)\n",
    "plt.show()"
   ]
  },
  {
   "cell_type": "markdown",
   "id": "58ea21bf-b2ae-4eb8-a368-be520f17613d",
   "metadata": {},
   "source": [
    "Not much variation in the colours, but we can try to make the scale more useful by making it logarithmic:"
   ]
  },
  {
   "cell_type": "code",
   "execution_count": null,
   "id": "55f3ac44-96ca-41a5-8f69-3c6c3b140002",
   "metadata": {},
   "outputs": [],
   "source": [
    "powscar_ballysimon_ed_2016['log_count'] = np.log(powscar_ballysimon_ed_2016['COUNT'])\n",
    "max_count = powscar_ballysimon_ed_2016['COUNT'].max()\n",
    "min_count = powscar_ballysimon_ed_2016['COUNT'].min()\n",
    "powscar_ballysimon_ed_2016.head()"
   ]
  },
  {
   "cell_type": "code",
   "execution_count": null,
   "id": "d9980faa-7bca-40ed-b388-e397923aac22",
   "metadata": {},
   "outputs": [],
   "source": [
    "fig, ax = plt.subplots(figsize=(21,21))\n",
    "ax.set_title('2016 Commuting to Ballysimon ED')\n",
    "ed_2016.boundary.plot(ax=ax, color='fuchsia', linewidth=0.2)\n",
    "powscar_ballysimon_ed_2016.plot(column='COUNT', ax=ax, linewidth=powscar_ballysimon_ed_2016['log_count'], norm=colors.LogNorm(vmin=min_count, vmax=max_count), cmap=\"YlGn\", legend=True)\n",
    "plt.show()"
   ]
  },
  {
   "cell_type": "markdown",
   "id": "d7e616e5-5245-450c-81a3-2e3d3af53ad4",
   "metadata": {},
   "source": [
    "I'm sure we could make this prettier, but I'll stop there for now. Just for comparison, the Ballycummin ED on the other side of Limerick:"
   ]
  },
  {
   "cell_type": "code",
   "execution_count": null,
   "id": "6b72ec4c-ede7-40ea-b813-d29ed4c694f2",
   "metadata": {},
   "outputs": [],
   "source": [
    "powscar_ballycummin_ed_2016 = powscar_ed_2016[powscar_ed_2016['POWSC_CSOED_LABEL'] == 'Ballycummin']\n",
    "powscar_ballycummin_ed_2016['log_count'] = np.log(powscar_ballycummin_ed_2016['COUNT'])\n",
    "max_count_ballycummin = powscar_ballycummin_ed_2016['COUNT'].max()\n",
    "min_count_ballycummin = powscar_ballycummin_ed_2016['COUNT'].min()\n",
    "\n",
    "fig, ax = plt.subplots(figsize=(21,21))\n",
    "ax.set_title('2016 Commuting to Ballycummin ED')\n",
    "ed_2016.boundary.plot(ax=ax, color='fuchsia', linewidth=0.2)\n",
    "powscar_ballycummin_ed_2016.plot(column='COUNT', ax=ax, linewidth=powscar_ballycummin_ed_2016['log_count'], norm=colors.LogNorm(vmin=min_count_ballycummin, vmax=max_count_ballycummin), cmap=\"YlGn\", legend=True)\n",
    "plt.show()"
   ]
  },
  {
   "cell_type": "markdown",
   "id": "49287c86-5cf9-42a3-9cb8-259e6b0ff417",
   "metadata": {},
   "source": [
    "That's still an unhealthy amount of commuting, but it really looks like the Ballysimon map is showing students commuting from their home address to UL - and some are, due to the housing crisis, but it wasn't quite this bad in 2016 so it's more likely that the data isn't really reflecting reality. Another note of caution - it doesn't make the data unusable, but you do need to think about what the data might be showing.\n",
    "\n",
    "In any case, the point here is that you can use vector Line features to show movement from one place to another, whether using POWSCAR data from the Census, or any other source of similar data, including workplace employee data, or even custom surveys.\n",
    "\n",
    "On top of that, you could plot train lines, bus routes, roads, towns and cities - any relevant transport and population data. "
   ]
  },
  {
   "cell_type": "markdown",
   "id": "acd870cb-0e3b-4f57-a660-b56339492afc",
   "metadata": {},
   "source": [
    "## 2. Actual movement data\n",
    "\n",
    "The above example is showing aggregate or theoretical movement, but it's not showing the *actual* movement of individual people or vehicles.\n",
    "\n",
    "Just as in the example above, you can show actual movement as a Line feature, where the points along the line are locations along the path of movement.\n",
    "\n",
    "However, it's also possible to go deeper, with data consisting of a series of Points - each with a timestamp recording *when* the person or object was at that point. \n",
    "\n",
    "Let's use an example of a bus journey, tracked using a mobile phone GPS with the app Strava - normally used to track exercise, so bear in mind that you can repeat this kind of analysis for examples like bike trips or runs. Data from Strava - and other common GPS tracking apps - can be downloaded as a GPX file, a standard format for movement data, which records locations and timestamps."
   ]
  },
  {
   "cell_type": "code",
   "execution_count": null,
   "id": "d636b816-3a2f-46cc-997e-5a1ea9bd1bd8",
   "metadata": {},
   "outputs": [],
   "source": [
    "gpx = gpd.read_file('https://github.com/bamacgabhann/GY5021/raw/2024/GY5021/3_Spatial_and_Temporal_Change/sample_data/bus/304 to UL 2019-02-18 0745.gpx', layer=\"track_points\").set_index(\"time\")\n",
    "\n",
    "# Since GPX is a standardised format, it has a lot of unnecessary columns which aren't always used. So we can drop the unused columns here\n",
    "\n",
    "gpx.drop(\n",
    "    columns=[\n",
    "        \"magvar\",\n",
    "        \"geoidheight\",\n",
    "        \"name\",\n",
    "        \"cmt\",\n",
    "        \"desc\",\n",
    "        \"src\",\n",
    "        \"link1_href\",\n",
    "        \"link1_text\",\n",
    "        \"link1_type\",\n",
    "        \"link2_href\",\n",
    "        \"link2_text\",\n",
    "        \"link2_type\",\n",
    "        \"sym\",\n",
    "        \"type\",\n",
    "        \"fix\",\n",
    "        \"sat\",\n",
    "        \"hdop\",\n",
    "        \"vdop\",\n",
    "        \"pdop\",\n",
    "        \"ageofdgpsdata\",\n",
    "        \"dgpsid\",\n",
    "    ],\n",
    "    inplace=True,\n",
    ")\n",
    "gpx = gpx.to_crs(2157) # reproject to EPSG:2157 - Irish Transverse Mercator (ITM)\n",
    "gpx.head()"
   ]
  },
  {
   "cell_type": "markdown",
   "id": "ecf7b037-b62a-4e66-9313-75a7286a8fce",
   "metadata": {},
   "source": [
    "So here we can see the data has timestamps, and a Point location for each time. Let's plot this:"
   ]
  },
  {
   "cell_type": "code",
   "execution_count": null,
   "id": "a04286cc-24cb-4e73-a58c-077a0ba9094e",
   "metadata": {},
   "outputs": [],
   "source": [
    "gpx.plot()"
   ]
  },
  {
   "cell_type": "markdown",
   "id": "eb981fdb-e583-4168-8ff6-341729d56d75",
   "metadata": {},
   "source": [
    "Okay, that's nice to see, but not very useful by itself, so, let's use OSMNX to grab some roads and buildings for the area:"
   ]
  },
  {
   "cell_type": "code",
   "execution_count": null,
   "id": "7c764e36-dad2-45d1-bfba-5fe42636daf7",
   "metadata": {},
   "outputs": [],
   "source": [
    "# create a box containing the route, expanded by 500m, and a WGS84 polygon of this to use for extracting OSM data\n",
    "overlay_bounds = gpd.GeoDataFrame({\"id\":1,\"geometry\":[box(*gpx.total_bounds)]}).set_crs(2157)\n",
    "overlay_bounds['geometry'] = overlay_bounds['geometry'].buffer(500)\n",
    "route_bounds = overlay_bounds.to_crs(4326).geometry[0]\n",
    "\n",
    "# download the buildings\n",
    "tags = {\"building\": True}\n",
    "lk_buildings = ox.features_from_polygon(route_bounds, tags)\n",
    "lk_buildings = lk_buildings[lk_buildings.geom_type == 'Polygon'].to_crs(2157).overlay(overlay_bounds, how='intersection')\n",
    "\n",
    "# download the motorway, national, secondary, and local roads from OpenStreetMap in the area, cropping them to the map area\n",
    "LK_M_roads = ox.features_from_polygon(route_bounds, tags={'highway': ['motorway_link', 'motorway']}).to_crs(2157).overlay(overlay_bounds, how='intersection')\n",
    "LK_N_roads = ox.features_from_polygon(route_bounds, tags={'highway': ['trunk','trunk_link','primary','primary_link']}).to_crs(2157).overlay(overlay_bounds, how='intersection')\n",
    "LK_R_roads = ox.features_from_polygon(route_bounds, tags={'highway': ['secondary','secondary_link']}).to_crs(2157).overlay(overlay_bounds, how='intersection')\n",
    "LK_L_roads = ox.features_from_polygon(route_bounds, tags={'highway': ['tertiary','unclassified','residential','service', 'tertiary_link']}).to_crs(2157).overlay(overlay_bounds, how='intersection')\n",
    "\n",
    "# plot\n",
    "fig, ax = plt.subplots(figsize=(21, 21))\n",
    "\n",
    "# plot all roads with a thicker black line which will show as edges,\n",
    "# and a main line coloured by category\n",
    "LK_L_roads.plot(ax=ax, color='black', linewidth=1.2)\n",
    "LK_R_roads.plot(ax=ax, color='black', linewidth=1.7)\n",
    "LK_N_roads.plot(ax=ax, color='black', linewidth=2.2)\n",
    "LK_M_roads.plot(ax=ax, color='black', linewidth=2.2)\n",
    "LK_L_roads.plot(ax=ax, color='white', linewidth=1)\n",
    "LK_R_roads.plot(ax=ax, color='yellow', linewidth=1.5)\n",
    "LK_N_roads.plot(ax=ax, color='green', linewidth=2)\n",
    "LK_M_roads.plot(ax=ax, color='Blue', linewidth=2)\n",
    "\n",
    "# plot the buildings\n",
    "lk_buildings.plot(ax=ax, color='silver')\n",
    "\n",
    "# plot the bus journey\n",
    "gpx.plot(ax=ax, color='teal')\n",
    "\n",
    "plt.show()"
   ]
  },
  {
   "cell_type": "markdown",
   "id": "7191a1f7-8be1-4bda-b239-43b059445d61",
   "metadata": {},
   "source": [
    "This is much nicer, but it's still just treating the bus journey as a line, it's not doing anything with the time data which makes it movement data. \n",
    "\n",
    "We can use the ```movingpandas``` package to do this."
   ]
  },
  {
   "cell_type": "code",
   "execution_count": null,
   "id": "58a0dc7a-6fba-482b-b512-731d53443cc8",
   "metadata": {},
   "outputs": [],
   "source": [
    "track = mpd.Trajectory(gpx, 1)\n",
    "track.add_speed(name=\"speed (km/h)\", units=(\"km\", \"h\"))\n",
    "track.add_distance(units=\"m\")\n",
    "\n",
    "track.df"
   ]
  },
  {
   "cell_type": "code",
   "execution_count": null,
   "id": "def2a41c-00e5-4990-89e9-3a42ecd9d302",
   "metadata": {},
   "outputs": [],
   "source": [
    "# plot\n",
    "fig, ax = plt.subplots(figsize=(18, 18), layout='constrained')\n",
    "\n",
    "# plot all roads with a thicker black line which will show as edges,\n",
    "# and a main line coloured by category\n",
    "LK_L_roads.plot(ax=ax, color='black', linewidth=1.2)\n",
    "LK_R_roads.plot(ax=ax, color='black', linewidth=1.7)\n",
    "LK_N_roads.plot(ax=ax, color='black', linewidth=2.2)\n",
    "LK_M_roads.plot(ax=ax, color='black', linewidth=2.2)\n",
    "LK_L_roads.plot(ax=ax, color='white', linewidth=1)\n",
    "LK_R_roads.plot(ax=ax, color='yellow', linewidth=1.5)\n",
    "LK_N_roads.plot(ax=ax, color='green', linewidth=2)\n",
    "LK_M_roads.plot(ax=ax, color='Blue', linewidth=2)\n",
    "\n",
    "# plot the buildings\n",
    "lk_buildings.plot(ax=ax, color='silver')\n",
    "\n",
    "# plot the bus journey\n",
    "track.df.plot(ax=ax, column='speed (km/h)', cmap='RdYlGn', vmin=0, vmax=60)\n",
    "\n",
    "# colourbar\n",
    "sm = plt.cm.ScalarMappable(cmap='RdYlGn', norm=plt.Normalize(vmin=0, vmax=60))\n",
    "cb = plt.colorbar(sm, ax=ax, extend='max', label=\"Speed (kph)\", shrink=0.7)\n",
    "cb.set_ticks([0, 10, 20, 30, 40, 50, 60])\n",
    "\n",
    "plt.show()"
   ]
  },
  {
   "cell_type": "markdown",
   "id": "8cb63836-8124-4dbf-a1e9-2a648ed1bf83",
   "metadata": {},
   "source": [
    "Nice - we can now see where the bus was moving fast or slow, which can hopefully allow analysis of potential changes to infrastructure etc. to help improve the system.\n",
    "\n",
    "This is the kind of thing that ```movingpandas``` allows - it simply adds a lot of functions to handle movement data. But it's more than just adding columns for speed - it can also identify where movement stopped:"
   ]
  },
  {
   "cell_type": "code",
   "execution_count": null,
   "id": "41c069a7-3287-48e2-9289-846d443e419b",
   "metadata": {},
   "outputs": [],
   "source": [
    "# identify locations where the bus remained within a circle diameter 30m for more than 15 seconds\n",
    "\n",
    "detector = mpd.TrajectoryStopDetector(track)\n",
    "stationary_points = detector.get_stop_points(\n",
    "    min_duration=timedelta(seconds=15), \n",
    "    max_diameter=30\n",
    ")"
   ]
  },
  {
   "cell_type": "code",
   "execution_count": null,
   "id": "6dc9acbe-5383-46a6-b750-6828d8f6a7b6",
   "metadata": {},
   "outputs": [],
   "source": [
    "bus_stops = gpd.read_file('https://github.com/bamacgabhann/GY5021/raw/2024/GY5021/3_Spatial_and_Temporal_Change/sample_data/bus/stops_304_to_ul.gpkg').to_crs(2157)"
   ]
  },
  {
   "cell_type": "code",
   "execution_count": null,
   "id": "00e1734d-0541-4ab5-96cb-6e7545189692",
   "metadata": {},
   "outputs": [],
   "source": [
    "# plot\n",
    "fig, ax = plt.subplots(figsize=(18, 18), layout='constrained')\n",
    "\n",
    "# plot all roads with a thicker black line which will show as edges,\n",
    "# and a main line coloured by category\n",
    "LK_L_roads.plot(ax=ax, color='black', linewidth=1.2)\n",
    "LK_R_roads.plot(ax=ax, color='black', linewidth=1.7)\n",
    "LK_N_roads.plot(ax=ax, color='black', linewidth=2.2)\n",
    "LK_M_roads.plot(ax=ax, color='black', linewidth=2.2)\n",
    "LK_L_roads.plot(ax=ax, color='white', linewidth=1)\n",
    "LK_R_roads.plot(ax=ax, color='yellow', linewidth=1.5)\n",
    "LK_N_roads.plot(ax=ax, color='green', linewidth=2)\n",
    "LK_M_roads.plot(ax=ax, color='Blue', linewidth=2)\n",
    "\n",
    "# plot the buildings\n",
    "lk_buildings.plot(ax=ax, color='silver')\n",
    "\n",
    "# plot the bus journey\n",
    "track.df.plot(ax=ax, column='speed (km/h)', cmap='RdYlGn', vmin=0, vmax=60)\n",
    "\n",
    "# plot the stationary points\n",
    "stationary_points.plot(ax=ax, marker='o', color='fuchsia', markersize=stationary_points['duration_s'])\n",
    "\n",
    "# plot the bus stops\n",
    "bus_stops.plot(ax=ax, marker='x', color='indigo', markersize=100, zorder=1)\n",
    "\n",
    "# colourbar\n",
    "sm = plt.cm.ScalarMappable(cmap='RdYlGn', norm=plt.Normalize(vmin=0, vmax=60))\n",
    "cb = plt.colorbar(sm, ax=ax, extend='max', label=\"Speed (kph)\", shrink=0.7)\n",
    "cb.set_ticks([0, 10, 20, 30, 40, 50, 60])\n",
    "\n",
    "plt.show()"
   ]
  },
  {
   "cell_type": "markdown",
   "id": "311d9763-6a07-47b8-ae4a-89e4c6a723ee",
   "metadata": {},
   "source": [
    "We can do more than just map this, as well - we can look at *how long* the bus was stopped for."
   ]
  },
  {
   "cell_type": "code",
   "execution_count": null,
   "id": "073140eb-c524-4808-8e75-42dd9f52766a",
   "metadata": {},
   "outputs": [],
   "source": [
    "stationary_points[1:]"
   ]
  },
  {
   "cell_type": "markdown",
   "id": "8c488962-7fd9-4185-a1b6-9b7daecdb797",
   "metadata": {},
   "source": [
    "And we can add up the stationary periods:"
   ]
  },
  {
   "cell_type": "code",
   "execution_count": null,
   "id": "9e684e41-fe34-4feb-ab88-b5915d8eef62",
   "metadata": {},
   "outputs": [],
   "source": [
    "stationary_points[1:]['duration_s'].sum()"
   ]
  },
  {
   "cell_type": "markdown",
   "id": "39a1e4dd-69f2-4aff-8eab-f7a52fe05618",
   "metadata": {},
   "source": [
    "That's in seconds. In minutes:"
   ]
  },
  {
   "cell_type": "code",
   "execution_count": null,
   "id": "4cc3163a-b3c8-4bb1-b9a9-7808d223a606",
   "metadata": {},
   "outputs": [],
   "source": [
    "stationary_points[1:]['duration_s'].sum()/60"
   ]
  },
  {
   "cell_type": "markdown",
   "id": "4a6a9773-6812-4797-b1d9-bc47e3b63665",
   "metadata": {},
   "source": [
    "Just to make that clear - in a bus journey which lasted 1h15min, that's 75 minutes, it spent THIRTY SEVEN minutes stationary. That's HALF the journey time. \n",
    "\n",
    "This is part of a research dataset I'm working on, trying to improve the bus system in Limerick, and I'm about to move on to bus services in other places too. \n",
    "\n",
    "Obviously, movingpandas can be used for much more than just bus journeys - the main author, Anite Graser, initially wrote it to analyse shipping data. There's some great tutorials which you can find <a href='https://github.com/movingpandas/movingpandas?tab=readme-ov-file'>on the GitHub page</a>."
   ]
  },
  {
   "cell_type": "markdown",
   "id": "b1128038-5365-4d3f-9703-d251d61e7fd0",
   "metadata": {},
   "source": [
    "## Summary\n",
    "\n",
    "Movement can be shown by Line features - with a line going from the start point to the end point.\n",
    "\n",
    "For even more detail, movement can be shown by a series of Point features, where each Point has a timestamp. \n",
    "\n",
    "Data of this kind can reveal some very powerful insights, and it's a lot of fun to work with. It's also data you can easily collect yourself, using apps like Strava - and movement data for ships and aircraft is also available from AIS and ADSB transponder data. Hopefully this has given you some ideas!"
   ]
  },
  {
   "cell_type": "markdown",
   "id": "a2fad91b-47e9-427e-8cd2-88ffe24b2bed",
   "metadata": {},
   "source": [
    "___\n",
    "\n",
    "Week 3 Notebooks: \n",
    "\n",
    "11. Temporal Change: Active Remote Sensing <a href=\"https://colab.research.google.com/github/bamacgabhann/GY5021/blob/2024/GY5021/3_Spatial_and_Temporal_Change/GY5021_11_Temporal_Change-Active_Remote_Sensing.ipynb\" target=\"_parent\"><img src=\"https://colab.research.google.com/assets/colab-badge.svg\" alt=\"Open In Colab\"/></a>     <a href=\"https://mybinder.org/v2/gh/bamacgabhann/GY5021/9a706c8973d5bde0e50593ecc94941b0426f24a6?urlpath=lab%2Ftree%2FGY5021%2F3_Spatial_and_Temporal_Change%2FGY5021_11_Temporal_Change-Active_Remote_Sensing.ipynb\" target=\"_parent\"><img src=\"https://mybinder.org/badge_logo.svg\" alt=\"Open in Binder\" /></a>\n",
    "\n",
    "12. Census Data Through Time  <a href=\"https://colab.research.google.com/github/bamacgabhann/GY5021/blob/2024/GY5021/3_Spatial_and_Temporal_Change/GY5021_12_Temporal_Change-Census_Data.ipynb\" target=\"_parent\"><img src=\"https://colab.research.google.com/assets/colab-badge.svg\" alt=\"Open In Colab\"/></a>     <a href=\"https://mybinder.org/v2/gh/bamacgabhann/GY5021/9a706c8973d5bde0e50593ecc94941b0426f24a6?urlpath=lab%2Ftree%2FGY5021%2F3_Spatial_and_Temporal_Change%2FGY5021_12_Temporal_Change-Census_Data.ipynb\" target=\"_parent\"><img src=\"https://mybinder.org/badge_logo.svg\" alt=\"Open in Binder\" /></a>\n",
    "\n",
    "13. Moving Objects  <a href=\"https://colab.research.google.com/github/bamacgabhann/GY5021/blob/2024/GY5021/3_Spatial_and_Temporal_Change/GY5021_13_Spatial_Change-Moving_Features.ipynb\" target=\"_parent\"><img src=\"https://colab.research.google.com/assets/colab-badge.svg\" alt=\"Open In Colab\"/></a>     <a href=\"https://mybinder.org/v2/gh/bamacgabhann/GY5021/9a706c8973d5bde0e50593ecc94941b0426f24a6?urlpath=lab%2Ftree%2FGY5021%2F3_Spatial_and_Temporal_Change%2FGY5021_13_Spatial_Change-Moving_Features.ipynb\" target=\"_parent\"><img src=\"https://mybinder.org/badge_logo.svg\" alt=\"Open in Binder\" /></a>"
   ]
  }
 ],
 "metadata": {
  "kernelspec": {
   "display_name": "GY5021",
   "language": "python",
   "name": "gy5021"
  },
  "language_info": {
   "codemirror_mode": {
    "name": "ipython",
    "version": 3
   },
   "file_extension": ".py",
   "mimetype": "text/x-python",
   "name": "python",
   "nbconvert_exporter": "python",
   "pygments_lexer": "ipython3",
   "version": "3.11.6"
  }
 },
 "nbformat": 4,
 "nbformat_minor": 5
}
