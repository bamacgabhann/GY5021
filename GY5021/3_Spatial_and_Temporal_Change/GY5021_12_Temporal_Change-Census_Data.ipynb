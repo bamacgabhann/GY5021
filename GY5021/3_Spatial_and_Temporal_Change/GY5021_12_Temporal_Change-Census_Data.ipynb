{
 "cells": [
  {
   "cell_type": "markdown",
   "id": "5ac53ace-4b13-4094-b3c0-bca4c05049f5",
   "metadata": {},
   "source": [
    "<a href=\"https://colab.research.google.com/github/bamacgabhann/GY5021/blob/2024/GY5021/3_Spatial_and_Temporal_Change/GY5021_12_Temporal_Change-Census_Data.ipynb\" target=\"_parent\"><img src=\"https://colab.research.google.com/assets/colab-badge.svg\" alt=\"Open In Colab\"/></a>     <a href=\"https://mybinder.org/v2/gh/bamacgabhann/GY5021/9a706c8973d5bde0e50593ecc94941b0426f24a6?urlpath=lab%2Ftree%2FGY5021%2F3_Spatial_and_Temporal_Change%2FGY5021_12_Temporal_Change-Census_Data.ipynb\" target=\"_parent\"><img src=\"https://mybinder.org/badge_logo.svg\" alt=\"Open in Binder\" /></a>"
   ]
  },
  {
   "cell_type": "markdown",
   "id": "09653b60-0c87-4534-8dac-7c458c648293",
   "metadata": {},
   "source": [
    "<img src=\"https://raw.githubusercontent.com/bamacgabhann/GY5021/2024/PD_logo.png\" align=center alt=\"UL Geography logo\"/>"
   ]
  },
  {
   "cell_type": "markdown",
   "id": "334bf2db-d95d-422b-a4aa-32ac241ef8ea",
   "metadata": {},
   "source": [
    "# Temporal Change: Census Data\n",
    "\n",
    "In the *Active Remote Sensing* Notebook, we looked at change over time with raster data, using SAR satellite imagery collected months and years apart to map floods in Athlone.\n",
    "\n",
    "Change over time is not limited to raster data - and census data is an excellent example of that. Population estimates for Ireland have been made since the population was counted at 1,100,000 in 1672, and the first full census of Ireland was taken in 1821. From 1841 to 1911, a census was undertaken every decade. Following the War of Independence, the first census of the State as it is today was taken in 1926, continuing at 10-year intervals until the interval was reduced to 5 years from 1951 onwards. The most recent census was delayed by a year due to the COVID pandemic, with the data published last year.\n",
    "\n",
    "The census doesn't just count the number of people. If you were living in Ireland on Census night - 03 April 2022 - you should have filled in the form, and so you might have seen the range of questions. In addition to the number of people present in a household on census night, there were questions about the age, sex, marital status, place of birth, ethnicity, religion, languages spoken, health, commuting and travel, education, and employment for each person. There were also questions about the household - the age of the building, ownership or rental, provision of energy and water supply, and more.\n",
    "\n",
    "Most importantly, the census forms are specific for each address. This means that we don't just know who, but also where - and we can put that on a map.\n",
    "\n",
    "And because we have census data going back decades, we can also map changes in the data over time. \n",
    "\n",
    "We'll need ```pandas```, ```geopandas```, ```numpy```, and ```matplotlib``` for this Notebook."
   ]
  },
  {
   "cell_type": "code",
   "execution_count": null,
   "id": "9c9f22f8-c43f-43c4-beec-e38d25f980c5",
   "metadata": {},
   "outputs": [],
   "source": [
    "import pandas as pd\n",
    "import geopandas as gpd\n",
    "import numpy as np\n",
    "import matplotlib.pyplot as plt\n",
    "import matplotlib.colors as colors"
   ]
  },
  {
   "cell_type": "markdown",
   "id": "cf75d80f-fcaf-4595-ab0d-1a61298be92b",
   "metadata": {},
   "source": [
    "## 1. Mapping change over time in vector data\n",
    "\n",
    "Census data is vector data, and this will apply to any vector data. In order to illustrate change over time in vector data, you need three things:\n",
    "\n",
    "1. Vector geometry features\n",
    "2. Data for each vector geometry feature at an earlier data/time\n",
    "3. Data for each vector geometry feature at a later data/time\n",
    "\n",
    "Let's demonstrate using some census data for Limerick from 2016 and 2022. To do this, I'm going to use a couple of files which are identical to the full census data, but for which I've isolated only the data for Limerick City and some of the surrounding area (we could use the full data, but using the selected area will just make things a bit quicker since we won't be downloading or processing the entire dataset).\n",
    "\n",
    "First, the 2022 map of vector geometry features:"
   ]
  },
  {
   "cell_type": "code",
   "execution_count": null,
   "id": "6e0b2f69-75d9-4fee-9c6b-200406ed3cc6",
   "metadata": {},
   "outputs": [],
   "source": [
    "lk_sa_2022 = gpd.read_file('sample_data/census/lk_sa_2022.gpkg')\n",
    "lk_sa_2022.plot()"
   ]
  },
  {
   "cell_type": "markdown",
   "id": "44a7b3e3-aead-4e8b-9e9a-0d8b261507ff",
   "metadata": {},
   "source": [
    "And actually, if we look at the data, we can see it has the 2016 and 2022 GUID codes in different columns, so we won't even need a 2016 version map."
   ]
  },
  {
   "cell_type": "code",
   "execution_count": null,
   "id": "695c4696-d0eb-4109-a5bd-dd6071227fd3",
   "metadata": {},
   "outputs": [],
   "source": [
    "lk_sa_2022.head()"
   ]
  },
  {
   "cell_type": "markdown",
   "id": "2869f14e-5f62-4d47-86de-851fd763cd96",
   "metadata": {},
   "source": [
    "Now the 2022 data:"
   ]
  },
  {
   "cell_type": "code",
   "execution_count": null,
   "id": "fb84f9e5-c90f-46fe-b0ef-b8e083b3c8cf",
   "metadata": {},
   "outputs": [],
   "source": [
    "lk_sa_data_2022 = pd.read_csv('sample_data/census/lk_sa_data_2022.csv')\n",
    "lk_sa_data_2022"
   ]
  },
  {
   "cell_type": "markdown",
   "id": "9c55229a-9a12-440f-8ef8-0e3899a22d90",
   "metadata": {},
   "source": [
    "and the 2016 data:"
   ]
  },
  {
   "cell_type": "code",
   "execution_count": null,
   "id": "52dda880-a914-44a1-8f05-b04eb606e729",
   "metadata": {},
   "outputs": [],
   "source": [
    "lk_sa_data_2016 = pd.read_csv('sample_data/census/lk_sa_data_2016.csv')\n",
    "lk_sa_data_2016"
   ]
  },
  {
   "cell_type": "markdown",
   "id": "20c79cfc-18e8-40ea-a222-90bee1c06e57",
   "metadata": {},
   "source": [
    "That's the three elements we need, but they're in three separate files. We can't use that directly. Fortunately, we can use the GUID codes to link the data to the vector geometry. \n",
    "\n",
    "To keep things simple, we'll just look at raw population numbers: so rather than just merging the full datasets, we'll extract only the GUID and population for each row from the data tables."
   ]
  },
  {
   "cell_type": "code",
   "execution_count": null,
   "id": "fd7d7d23-3530-41d5-96bc-38f9a25c7afb",
   "metadata": {},
   "outputs": [],
   "source": [
    "lk16data = lk_sa_data_2016[['GUID', 'T1_1AGETT']]  # this line extracts the GUID and population numbers to a new dataframe called lk16data\n",
    "lk16data = lk16data.rename(columns = {'GUID':'SA_GUID_2016'}) # this line renames the GUID column to SA_GUID_2016, which is the relevant column name in the geometry data\n",
    "lk16data = lk16data.rename(columns = {'T1_1AGETT':'2016_Population'}) # this line renames the T1_1AGETT column to 2016_Population, so we don't have identical column names for 2016 and 2022\n",
    "lk16 = lk_sa_2022.merge(lk16data, on='SA_GUID_2016') # this line merges the vector geometry data with the lk16data we just made, using the SA_GUID_2016 column\n",
    "# i.e. python checks both the vector geometry lk_sa_2022 and the data lk16data, and merges the rows from each with matching values in the column called SA_GUID_2016\n",
    "lk16.head()"
   ]
  },
  {
   "cell_type": "code",
   "execution_count": null,
   "id": "8c0b9e0d-2523-41ea-9aaf-5ac62dbd6ee6",
   "metadata": {},
   "outputs": [],
   "source": [
    "lk22data = lk_sa_data_2022[['GUID', 'T1_1AGETT']]  # this line extracts the GUID and population numbers to a new dataframe called lk22data\n",
    "lk22data = lk22data.rename(columns = {'GUID':'SA_GUID_2022'}) # this line renames the GUID column to SA_GUID_2022, which is the relevant column name in the geometry data\n",
    "lk22data = lk22data.rename(columns = {'T1_1AGETT':'2022_Population'}) # this line renames the T1_1AGETT column to 2022_Population, so we don't have identical column names for 2016 and 2022\n",
    "lk22 = lk_sa_2022.merge(lk22data, on='SA_GUID_2022') # this line merges the vector geometry data with the lk22data we just made, using the SA_GUID_2022 column\n",
    "# i.e. python checks both the vector geometry lk_sa_2022 and the data lk22data, and merges the rows from each with matching values in the column called SA_GUID_2022\n",
    "lk22.head()"
   ]
  },
  {
   "cell_type": "markdown",
   "id": "46c4bca9-3453-438a-ad6f-8e1180a3f981",
   "metadata": {},
   "source": [
    "We could show that with two maps side by side:"
   ]
  },
  {
   "cell_type": "code",
   "execution_count": null,
   "id": "48e8ed3f-f976-4b9b-af2e-f7a062712e52",
   "metadata": {},
   "outputs": [],
   "source": [
    "fig, (ax16, ax22) = plt.subplots(1,2, figsize=(21,7), sharey=True, layout='constrained')\n",
    "ax16.set_title('Limerick population 2016')\n",
    "ax22.set_title('Limerick population 2022')\n",
    "lk16.plot(column='2016_Population', ax=ax16, cmap='YlGn', vmin=0, vmax=800)\n",
    "lk22.plot(column='2022_Population', ax=ax22, cmap='YlGn', vmin=0, vmax=800, legend=True)\n",
    "plt.show()"
   ]
  },
  {
   "cell_type": "markdown",
   "id": "dc772e02-2a22-401c-a33b-70bd687be83f",
   "metadata": {},
   "source": [
    "The very dark area showing a population close to 800 is the hospital, by the way.\n",
    "\n",
    "So, some changes are pretty clear, but it's still a bit awkward looking side by side. Why not try and show it on a single map? We have a single vector geometry geodataframe, so we can just add both population data columns into that instead of making it a new geodataframe for each year."
   ]
  },
  {
   "cell_type": "code",
   "execution_count": null,
   "id": "d7934a97-8e4a-48c9-9e90-3aaeaf8c6c30",
   "metadata": {},
   "outputs": [],
   "source": [
    "# we've already done most of the steps, we just need to change the last step of where we're combining the data\n",
    "\n",
    "lk_sa_2022 = lk_sa_2022.merge(lk16data, on='SA_GUID_2016') # this line called the merged geodataframe 'lk16' last time\n",
    "# this time we just add the lk16data population numbers straight into the lk_sa_2022 vector geometry geodataframe\n",
    "\n",
    "# and now we can add the 2022 population data into the same geodataframe\n",
    "lk_sa_2022 = lk_sa_2022.merge(lk22data, on='SA_GUID_2022') # again this was 'lk22' last time\n",
    "lk_sa_2022.head()"
   ]
  },
  {
   "cell_type": "markdown",
   "id": "c8d91bfb-e13d-4c18-a4bc-30402dac5c77",
   "metadata": {},
   "source": [
    "Scroll right, and you'll see both 2022 and 2016 population data columns. \n",
    "\n",
    "However, if we want a single map, we need that data combined in a single column. So, we make one by subtracting the two columns we just added."
   ]
  },
  {
   "cell_type": "code",
   "execution_count": null,
   "id": "b2037fd5-c6d8-4fc1-9619-e02da154df6d",
   "metadata": {},
   "outputs": [],
   "source": [
    "lk_sa_2022['Population_Change'] = lk_sa_2022['2022_Population'] - lk_sa_2022['2016_Population']\n",
    "lk_sa_2022.head()"
   ]
  },
  {
   "cell_type": "markdown",
   "id": "deb0e79a-15c1-4d5d-a391-b2b0957176d4",
   "metadata": {},
   "source": [
    "Scroll right to see the population change column we just made. Now we can plot this:"
   ]
  },
  {
   "cell_type": "code",
   "execution_count": null,
   "id": "7b8f7ed2-dff5-4393-bba2-18215bbf21e8",
   "metadata": {},
   "outputs": [],
   "source": [
    "fig, ax = plt.subplots(figsize=(21,7), )\n",
    "ax.set_title('Limerick population change 2016-2022')\n",
    "lk_sa_2022.plot(column='Population_Change', ax=ax, cmap='RdBu', legend=True)\n",
    "plt.show()"
   ]
  },
  {
   "cell_type": "markdown",
   "id": "d90c91fb-71b5-47da-a179-aace9fa856dc",
   "metadata": {},
   "source": [
    "We can make this look even better if we redo it using the same trick as for the DEM terrain map in Notebook 9, making a colourmap centered at zero:"
   ]
  },
  {
   "cell_type": "code",
   "execution_count": null,
   "id": "34f7af23-97cf-4cee-bb0f-04e549fced8d",
   "metadata": {},
   "outputs": [],
   "source": [
    "colors_pop_decrease = plt.cm.RdBu(np.linspace(0, 0.5, 256))\n",
    "colors_pop_increase = plt.cm.RdBu(np.linspace(0.5, 1, 256))\n",
    "all_colors = np.vstack((colors_pop_decrease, colors_pop_increase))\n",
    "popchange = colors.LinearSegmentedColormap.from_list(\n",
    "    'popchange', all_colors)\n",
    "divnorm = colors.TwoSlopeNorm(vmin=-132, vcenter=0, vmax=241)"
   ]
  },
  {
   "cell_type": "code",
   "execution_count": null,
   "id": "d5e2779b-43fd-4f6d-bd37-b5ad8e0831f1",
   "metadata": {},
   "outputs": [],
   "source": [
    "fig, ax = plt.subplots(figsize=(21,7), )\n",
    "ax.set_title('Limerick population change 2016-2022')\n",
    "lk_sa_2022.plot(column='Population_Change', ax=ax,  cmap=popchange, norm=divnorm, legend=True)\n",
    "plt.show()"
   ]
  },
  {
   "cell_type": "markdown",
   "id": "45673bb8-5b5f-4b2b-bd74-197b74cedafc",
   "metadata": {},
   "source": [
    "Now that looks a lot better! We can see the changes a lot more clearly here. \n",
    "\n",
    "And that's the simple version of how to show change in census data over time."
   ]
  },
  {
   "cell_type": "markdown",
   "id": "879787b8-d902-48ec-86eb-2ca7c9dc5476",
   "metadata": {},
   "source": [
    "## 2. Census Geographic Areas\n",
    "\n",
    "Yeah, there's a 'BUT' coming. \n",
    "\n",
    "Before we start really trying to analyse change in the data, let's just take a moment to think through exactly what we just did above, what change we're showing. In order to really think about this, we need to start by considering what's actually in the data.\n",
    "\n",
    "The data we used above is just parts of the full census dataset, so let's have a closer look at them, starting with the data table."
   ]
  },
  {
   "cell_type": "code",
   "execution_count": null,
   "id": "eeaaedd9-e152-454f-8c27-819e3dbec651",
   "metadata": {},
   "outputs": [],
   "source": [
    "lk_sa_data_2022.head()"
   ]
  },
  {
   "cell_type": "markdown",
   "id": "5b8a690d-b517-4712-8710-ab97627e67a2",
   "metadata": {},
   "source": [
    "This is some of the census data for 2022. The columns to the right contain the actual data: by reference to the glossary, we can see what the column names refer to, with the visible columns ```T1_1AGE0M``` being a count of the number of male children 0 years old, ```T1_1AGE1M``` being a count of the number of male children 1 year old, and so on. We used ```T1_1AGETT``` above because I already know it's the total population of the area. But what about the other columns?\n",
    "\n",
    "The first three columns are the geographic identifiers, ```GUID``` standing for ```Geographic Unique IDentifier```. Each row then refers to a different geographic area identified by the ID in this column, and of course we used this to link the data to the vector geometry shapes. But how are these geographic areas defined?\n",
    "\n",
    "These particular areas we just used above are referred to as 'small areas', and they are defined specifically for the census. The forms for the census are tied to individual addresses, but it would be quite intrusive to publish the individual data - which includes answers to how much people earn, when they travel to work, and other sensitive information. So, the data has to be collated to be shared, in order to protect everyone's privacy. Collating the data over large areas can obscure useful information, though - for example, if you want to see whether people are using a particular bus service. The small areas are essentially the compromise: publishing the data for quite small geographic areas, but not so small that individual people's answers could be identified.\n",
    "\n",
    "The small areas are defined such that each should normally have in the region of 100-200 people, and they try to keep the boundaries of the small areas meaningful where possible - following features like roads, housing estates, and similar.\n",
    "\n",
    "However, the above is just the table of data - it's doesn't have the actual polygon shapes for the small areas. Of course, we joined this data table (or part of it, anyway) to the vector geometry above. Let's look again at that vector geometry geodataframe:"
   ]
  },
  {
   "cell_type": "code",
   "execution_count": null,
   "id": "b37c5e50-f4d4-4309-97ee-9dd4d4d96ccf",
   "metadata": {},
   "outputs": [],
   "source": [
    "lk_sa_2022.head()"
   ]
  },
  {
   "cell_type": "markdown",
   "id": "571e0f69-a1cf-4275-b35a-3684cfcdf887",
   "metadata": {},
   "source": [
    "Here you can see *two* GUID values for each small area - ```SA_GUID_2016``` and ```SA_GUID_2022```. We used both of those above, to join the data for 2016 and 2022, but we didn't really talk about it. If you look at the next set of columns, you'll see ```SA_PUB2011```, ```SA_PUB2016```, and ```SA_PUB2022```: that's reference numbers for small areas for the past 3 censuses (censii?).\n",
    "\n",
    "Why do the small areas need different reference numbers for each census? \n",
    "\n",
    "*Because the small areas change for each census*. \n",
    "\n",
    "The small areas need to change for the same reason that the census is run every 5 years. Not all small areas change every time, and they try to keep the changes to a minimum; but as the population grows, the number of people in some of the small areas will increase, urban growth will see new housing estates built in previously rural areas, and so on. \n",
    "\n",
    "This does mean you need to be careful, because as we said at the top, in order to look at change in an area over time, you need three things:\n",
    "\n",
    "1. Vector geometry features\n",
    "2. Data for each vector geometry feature at an earlier data/time\n",
    "3. Data for each vector geometry feature at a later data/time\n",
    "\n",
    "And here's the real 'BUT': if the geographic area itself is changing, then the change in the information (such as population) is not meaningful. \n",
    "\n",
    "Think about what we mean by change: to look at how anything changes, we need some information which is changing, and some which is staying the same. A bus moving faster means it is travelling a larger distance (that's the information which is changing) in the same duration of time (that's the information which is staying the same). We can't say the bus is faster if we're just comparing distances travelled over different durations of time - or if it's a different bus. We can't say a child is getting taller if we measure a child's height one year, and a different child's height the next year. Has to be the same child, obviously. Similarly, for census areas, if the population grows *and* the area changes, what's staying the same? \n",
    "\n",
    "There's two points to saying this. First, that you have to be careful when working with census data that you're comparing like with like; since some of the small areas change each time, that needs to be accounted for. The fact that the small areas map data contains GUIDs for 2022 and 2016 means that this is generally possible for the most recent censuses, but is awkward in cases where areas have been split or reconfigured because it's not possible to know *how* areas have been split or reconfigured. Secondly, it means that the further back you go, the less data you will usefully have, because of the greater changes to the areas. \n",
    "\n",
    "In the example above, I specifically chose Limerick because there's actually only very minor tweaks to the small areas between 2016 and 2022 - or at least, only very minor changes within the area shown. I deleted all the areas with significant changes. So it's definitely an oversimplified example, and you won't be able to do that everywhere. \n",
    "\n",
    "Let's look at an example with more change."
   ]
  },
  {
   "cell_type": "markdown",
   "id": "52fdce3a-07d7-4e15-9a06-25a96f0a87c3",
   "metadata": {},
   "source": [
    "## 3. Population Change\n",
    "\n",
    "Let's look at Carlow from 2016 to 2022. I've already merged the population data with the vector polygons for the small areas, using the 2016 and 2022 small area polygons separately."
   ]
  },
  {
   "cell_type": "code",
   "execution_count": null,
   "id": "5e8163d1-600c-49c4-83b5-4a589a3f08a5",
   "metadata": {},
   "outputs": [],
   "source": [
    "cw_sa_2016 = gpd.read_file('sample_data/census/cw_sa_2016.gpkg')\n",
    "cw_sa_2022 = gpd.read_file('sample_data/census/cw_sa_2022.gpkg')\n",
    "fig, (ax16, ax22) = plt.subplots(1,2, figsize=(21,7), sharey=True, layout='constrained')\n",
    "ax16.set_title('Carlow population 2016')\n",
    "ax22.set_title('Carlow population 2022')\n",
    "cw_sa_2016.plot(column='Population_2016', ax=ax16, cmap='YlGn', vmin=0, vmax=650)\n",
    "cw_sa_2022.plot(column='Population_2022', ax=ax22, cmap='YlGn', vmin=0, vmax=650, legend=True)\n",
    "plt.show()"
   ]
  },
  {
   "cell_type": "markdown",
   "id": "8350b168-ef76-41ae-b5ff-a52970801743",
   "metadata": {},
   "source": [
    "We can see that the population has increased overall, and we can see some particular areas where the population has increased. But, we can also see that the small areas themselves have changed. We can highlight this by plotting the 2022 small area boundaries on the 2016 map, and the 2016 small area bouundaries on the 2022 map:"
   ]
  },
  {
   "cell_type": "code",
   "execution_count": null,
   "id": "057dee6c-d089-459a-a205-f312d1e4709a",
   "metadata": {},
   "outputs": [],
   "source": [
    "fig, (ax16, ax22) = plt.subplots(1,2, figsize=(21,7), sharey=True, layout='constrained')\n",
    "ax16.set_title('Carlow population 2016')\n",
    "ax22.set_title('Carlow population 2022')\n",
    "cw_sa_2016.plot(column='Population_2016', ax=ax16, cmap='YlGn', vmin=0, vmax=650)\n",
    "cw_sa_2022.plot(column='Population_2022', ax=ax22, cmap='YlGn', vmin=0, vmax=650, legend=True)\n",
    "cw_sa_2022.boundary.plot(ax=ax16, color='fuchsia', linewidth=0.5)\n",
    "cw_sa_2016.boundary.plot(ax=ax22, color='fuchsia', linewidth=0.5)\n",
    "plt.show()"
   ]
  },
  {
   "cell_type": "markdown",
   "id": "a8e1605b-3015-4b87-b577-694edad56d70",
   "metadata": {},
   "source": [
    "We can try to do what we did for Limerick, and put both population columns in the 2022 geometry geodataframe, using the ```SA_GUID_2016``` *and* ```SA_GUID_2022``` to link the 2016 and 2022 data respectively. In fact we already have the 2022 population data in that file, so we can add the 206 data easily in the same way we did for Limerick earlier. So first extracting the 2016 GUID and population numbers from the 2016 data, and then using the ```SA_GUID_2016``` to join this with the 2022 geometry."
   ]
  },
  {
   "cell_type": "code",
   "execution_count": null,
   "id": "2c670c96-1bbb-4668-ba6e-ce76fac85b44",
   "metadata": {},
   "outputs": [],
   "source": [
    "cw16data = cw_sa_2016[['SA_GUID_2016', 'Population_2016']]\n",
    "cw16data.head()"
   ]
  },
  {
   "cell_type": "markdown",
   "id": "43c19698-508e-4f66-8146-363c1e024b0a",
   "metadata": {},
   "source": [
    "Now I can join this to the 2022 data:"
   ]
  },
  {
   "cell_type": "code",
   "execution_count": null,
   "id": "7f040b16-d772-42ad-ac72-620208acb056",
   "metadata": {},
   "outputs": [],
   "source": [
    "cw_sa_change = cw_sa_2022.merge(cw16data, on='SA_GUID_2016')\n",
    "cw_sa_change.head()"
   ]
  },
  {
   "cell_type": "markdown",
   "id": "c0288659-4b54-4823-a4ea-bf6b8cca7825",
   "metadata": {},
   "source": [
    "Scroll to the right - you should see columns for both ```Population_2016``` and ```Population_2022```. Now we calculate a new column showing the change by simply subtracting these two:"
   ]
  },
  {
   "cell_type": "code",
   "execution_count": null,
   "id": "582591d1-6019-4ac5-976c-b476cc60eafc",
   "metadata": {},
   "outputs": [],
   "source": [
    "cw_sa_change['Population_Change'] = cw_sa_change['Population_2022'] - cw_sa_change['Population_2016']"
   ]
  },
  {
   "cell_type": "markdown",
   "id": "91b3c12a-1876-4fb7-969f-7d18f18dcc27",
   "metadata": {},
   "source": [
    "Let's plot this:"
   ]
  },
  {
   "cell_type": "code",
   "execution_count": null,
   "id": "7bbabfd9-18d5-464d-b1ff-af53b201c29e",
   "metadata": {},
   "outputs": [],
   "source": [
    "fig, ax = plt.subplots(figsize=(21,7), )\n",
    "ax.set_title('Carlow population change 2016-2022')\n",
    "cw_sa_change.plot(column='Population_Change', ax=ax, cmap=popchange, norm=divnorm, legend=True)\n",
    "cw_sa_2016.boundary.plot(ax=ax, color='fuchsia', linewidth=0.5)\n",
    "plt.show()"
   ]
  },
  {
   "cell_type": "markdown",
   "id": "2c73fdc4-8707-4d66-bd1c-f07626df3b54",
   "metadata": {},
   "source": [
    "That looks nice - but remember that because some of the areas have changed, this isn't actually showing change in population for each area. Some areas have 'lost' population because they've been divided, or had parts shifted to ther small areas, not because of actual increases or decreases in population. Only areas which have actually stayed the same will be showing meaningful changes in the actual number of people within that area:"
   ]
  },
  {
   "cell_type": "code",
   "execution_count": null,
   "id": "b880878c-065c-4b8f-8bfd-85b9678932da",
   "metadata": {},
   "outputs": [],
   "source": [
    "cw2_sa_2016 = gpd.read_file('sample_data/census/cw2_sa_2016.gpkg')\n",
    "cw2_sa_2022 = gpd.read_file('sample_data/census/cw2_sa_2022.gpkg')\n",
    "cw16data2 = cw2_sa_2016[['SA_GUID_2016', 'Population_2016']]\n",
    "cw_sa_change2 = cw2_sa_2022.merge(cw16data2, on='SA_GUID_2016')\n",
    "cw_sa_change2['Population_Change'] = cw_sa_change2['Population_2022'] - cw_sa_change2['Population_2016']\n",
    "fig, ax = plt.subplots(figsize=(21,7), )\n",
    "ax.set_title('Carlow population change 2016-2022: Unchanged areas only')\n",
    "cw_sa_2016.plot(ax=ax, color='dimgrey')\n",
    "cw_sa_change2.plot(column='Population_Change', ax=ax, cmap=popchange, norm=divnorm, legend=True)\n",
    "cw_sa_2016.boundary.plot(ax=ax, color='fuchsia', linewidth=0.5)\n",
    "plt.show()"
   ]
  },
  {
   "cell_type": "markdown",
   "id": "7b04d872-b846-48ad-96dd-d242885aa72b",
   "metadata": {},
   "source": [
    "## 4. Alternative Geographic Levels\n",
    "\n",
    "There's not really any easy way to account for the changes to the small areas themselves, unless the CSO actually republish the 2016 census data using the 2022 small areas. That's unlikely, unfortunately, because they have too much work to do already on the new data - not all the 2022 results are released yet, and they're already developing the next census for 2026.\n",
    "\n",
    "However, if we use larger geographic areas, there would be fewer changes. While not giving us the same spatial resolution, it's often enough for what we need. The census data is also published at the level of:\n",
    "\n",
    " - Electoral Divisions (ED)\n",
    " - Local Electoral Area (LEA)\n",
    " - Administrative Counties\n",
    " - NUTS3 Regions\n",
    " - Provinces\n",
    "\n",
    "Electoral Divisions were historically areas which elected local councillors, but with the change to multi-seat proportional representation areas, they're now generally of low significance - and so aren't changed very often. There were 3409 EDs in 2016, and 3420 in 2022 - an increase of 11, I think all due to the expansion of Cork City - although there were a small number of other tweaks as well. This makes them useful for comparing census data over time. They do have two drawbacks though: first, since they're historic areas, and so their populations vary wildly, from fewer than 10 people to multiple thousands; and second, for the same reason, their the areas covered by different EDs also vary wildly, from a few city blocks to areas larger than entire cities.\n",
    "\n",
    "Local Electoral Areas are the new districts from which local councillors are elected. These are revised from time to time based on population changes, so they're less useful for comparison - but of course it's useful to look at them in terms of them being areas represented by councillors, and so subject to political attention.\n",
    "\n",
    "Administrative Counties are the areas covered by local Councils. These are not changed regularly, although it's not all that long since Limerick City Council and Limerick County Council were merged into Limerick City and County Council. There's some large-scale change comparisons possible, but they're too large for a lot of possible change over time analyses.\n",
    "\n",
    "NUTS3 regions are European Union data-reporting regions. They're useful for international comparisons, but not really within Ireland.\n",
    "\n",
    "Provinces are historic, and too large for most meaningful change analyses - I'm really not sure why the CSO still reports the data at this level.\n",
    "\n",
    "Raw population numbers are also published in 1km grid squares, although this doesn't come with the other census data. "
   ]
  },
  {
   "cell_type": "code",
   "execution_count": null,
   "id": "0432c314-d85d-41a8-a77e-613877790e08",
   "metadata": {},
   "outputs": [],
   "source": [
    "lk_ed_2022 = gpd.read_file('sample_data/census/lk_ed_2022.gpkg')\n",
    "lk_ed_2016 = gpd.read_file('sample_data/census/lk_ed_2016.gpkg')\n",
    "fig, (ax16, ax22) = plt.subplots(1,2, figsize=(21,7), sharey=True, layout='constrained')\n",
    "ax16.set_title('Limerick ED population 2016')\n",
    "ax22.set_title('Limerick ED population 2022')\n",
    "lk_ed_2016.plot(column='T1_1AGETT', ax=ax16, cmap='YlGn', vmin=0, vmax=18500)\n",
    "lk_ed_2022.plot(column='T1_1AGETT', ax=ax22, cmap='YlGn', vmin=0, vmax=18500, legend=True)\n",
    "lk_sa_2022.boundary.plot(ax=ax16, color='fuchsia', linewidth=0.5)\n",
    "lk_sa_2022.boundary.plot(ax=ax22, color='fuchsia', linewidth=0.5)\n",
    "plt.show()"
   ]
  },
  {
   "cell_type": "code",
   "execution_count": null,
   "id": "14eacf2d-3383-419c-a4c6-230cf00c27b8",
   "metadata": {},
   "outputs": [],
   "source": [
    "cw_ed_2022 = gpd.read_file('sample_data/census/cw_ed_2022.gpkg')\n",
    "cw_ed_2016 = gpd.read_file('sample_data/census/cw_ed_2016.gpkg')\n",
    "fig, (ax16, ax22) = plt.subplots(1,2, figsize=(21,7), sharey=True, layout='constrained')\n",
    "ax16.set_title('Carlow ED population 2016')\n",
    "ax22.set_title('Carlow ED population 2022')\n",
    "cw_ed_2016.plot(column='T1_1AGETT', ax=ax16, cmap='YlGn', vmin=0, vmax=18500)\n",
    "cw_sa_2016.boundary.plot(ax=ax16, color='fuchsia', linewidth=0.5)\n",
    "cw_ed_2022.plot(column='T1_1AGETT', ax=ax22, cmap='YlGn', vmin=0, vmax=18500, legend=True)\n",
    "cw_sa_2022.boundary.plot(ax=ax22, color='fuchsia', linewidth=0.5)\n",
    "plt.show()"
   ]
  },
  {
   "cell_type": "markdown",
   "id": "5b6f2fba-5f2e-4616-a157-80812a2b9547",
   "metadata": {},
   "source": [
    "The population change looks smaller at ED level, yes?\n",
    "\n",
    "Unfortunately, plotting a direct comparison on a single map is made more awkward by the CSO using different map polygons with different GUIDs, and the only shared attribute is called \"ED_ID\" in 2016, with leading zeros, and \"ED_ID_STR\" in 2022 without leading zeros. Meaning I had to manually edit these to match them up. \n",
    "\n",
    "Anyway, I did it, so here:"
   ]
  },
  {
   "cell_type": "code",
   "execution_count": null,
   "id": "b4eecb09-b105-455f-90c4-ac0d23937e30",
   "metadata": {},
   "outputs": [],
   "source": [
    "lk_ed = gpd.read_file('sample_data/census/lk_ed.gpkg')\n",
    "cw_ed = gpd.read_file('sample_data/census/cw_ed.gpkg')\n",
    "\n",
    "fig, ((axlk_ed, axlk_sa), (axcw_ed, axcw_sa)) = plt.subplots(2,2, figsize=(21,15))\n",
    "axlk_ed.set_title('Limerick ED population change 2016-2022')\n",
    "axlk_sa.set_title('Limerick SA population change 2016-2022')\n",
    "axcw_ed.set_title('Carlow ED population change 2016-2022')\n",
    "axcw_sa.set_title('Carlow SA population change 2016-2022')\n",
    "lk_ed.plot(column='Population_Change', ax=axlk_ed, cmap='Blues', vmin=0, vmax=3000, legend=True)\n",
    "lk_sa_2022.boundary.plot(ax=axlk_ed, color='fuchsia', linewidth=0.5)\n",
    "lk_sa_2022.plot(column='Population_Change', ax=axlk_sa,  cmap=popchange, norm=divnorm, legend=True)\n",
    "lk_ed_2022.boundary.plot(ax=axlk_sa, color='fuchsia', linewidth=0.5)\n",
    "cw_ed.plot(column='Population_Change', ax=axcw_ed, cmap='Blues', vmin=0, vmax=3000, legend=True)\n",
    "cw_sa_2022.boundary.plot(ax=axcw_ed, color='fuchsia', linewidth=0.5)\n",
    "cw_sa_change.plot(column='Population_Change', ax=axcw_sa, cmap=popchange, norm=divnorm, legend=True)\n",
    "cw_ed_2016.boundary.plot(ax=axcw_sa, color='fuchsia', linewidth=0.5)\n",
    "plt.show()"
   ]
  },
  {
   "cell_type": "markdown",
   "id": "3224cb07-14b4-4d08-b0e0-5c7107f6857c",
   "metadata": {},
   "source": [
    "Honestly, cleaning the data to make this took me about 5 hours. Do not recommend unless important. Which just serves to reinforce the point that you'll probably spend most of your mapping work time cleaning data, unless you're very lucky.\n",
    "\n",
    "So, in theory, census data is great to show over time - but be careful, because it's not always as straightforward as you might think."
   ]
  },
  {
   "cell_type": "markdown",
   "id": "2d8bb32a-c13a-47a6-82dc-1a6d4ee16c23",
   "metadata": {},
   "source": [
    "## 5. Beyond Population Data\n",
    "\n",
    "Of course, for areas which don't change boundaries, you can do a lot more than just look at the raw population numbers."
   ]
  },
  {
   "cell_type": "code",
   "execution_count": null,
   "id": "530d231e-006b-41de-b5ff-e85682f7aec2",
   "metadata": {},
   "outputs": [],
   "source": [
    "pd.options.mode.copy_on_write = True # this line is just changing a setting to make this work more easily\n",
    "\n",
    "# Let's extract the data for walking, cycling, bus, and train/dart/luas to work/school/college for 2016 and 2022\n",
    "lk16tr = lk_sa_data_2016[['GUID', 'T11_1_FT', 'T11_1_BIT', 'T11_1_BUT', 'T11_1_TDLT', 'T11_1_TT']]  \n",
    "lk22tr = lk_sa_data_2022[['GUID', 'T11_1_FT', 'T11_1_BIT', 'T11_1_BUT', 'T11_1_TDLT', 'T11_1_TT']]  \n",
    "\n",
    "# Calculate some new attributes for public and active transport\n",
    "lk16tr['active_transport_2016'] = ((lk16tr['T11_1_FT'] + lk16tr['T11_1_BIT'])/lk16tr['T11_1_TT'])*100  # commuting on foot + commuting by bike as % fpr 2016\n",
    "lk16tr['public_transport_2016'] = ((lk16tr['T11_1_BUT'] + lk16tr['T11_1_TDLT'])/lk16tr['T11_1_TT'])*100  # commuting by bus + commuting by train/dart/luas as % for 2016\n",
    "lk16tr['pub_act_transport_2016'] = lk16tr['public_transport_2016'] + lk16tr['active_transport_2016']  # sum of foot/bike and bus/train/dart/luas for 2016\n",
    "lk22tr['active_transport_2022'] = ((lk22tr['T11_1_FT'] + lk22tr['T11_1_BIT'])/lk22tr['T11_1_TT'])*100  # commuting on foot + commuting by bike as % fpr 2022\n",
    "lk22tr['public_transport_2022'] = ((lk22tr['T11_1_BUT'] + lk22tr['T11_1_TDLT'])/lk22tr['T11_1_TT'])*100  # commuting by bus + commuting by train/dart/luas as % for 2022\n",
    "lk22tr['pub_act_transport_2022'] = lk22tr['public_transport_2022'] + lk22tr['active_transport_2022']  # sum of foot/bike and bus/train/dart/luas for 2022\n",
    "\n",
    "# drop the raw data columns because we're finished with them\n",
    "lk16tr = lk16tr.drop(['T11_1_FT', 'T11_1_BIT', 'T11_1_BUT', 'T11_1_TDLT', 'T11_1_TT'], axis=1)\n",
    "lk22tr = lk22tr.drop(['T11_1_FT', 'T11_1_BIT', 'T11_1_BUT', 'T11_1_TDLT', 'T11_1_TT'], axis=1)\n",
    "\n",
    "# rename the GUID columns to SA_GUID_2016 and SA_GUID_2022, which is the relevant column names in the geometry data\n",
    "lk16tr = lk16tr.rename(columns = {'GUID':'SA_GUID_2016'}) \n",
    "lk22tr = lk22tr.rename(columns = {'GUID':'SA_GUID_2022'}) \n",
    "\n",
    "# merge the vector geometry data with the transport data we just calculated, using the SA_GUID_2016 and SA_GUID_2022 columns\n",
    "lk_tr = lk_sa_2022.merge(lk16tr, on='SA_GUID_2016') \n",
    "lk_tr = lk_tr.merge(lk22tr, on='SA_GUID_2022') \n",
    "\n",
    "# Calculate new attributes for change 2016-2022\n",
    "lk_tr['active_transport_change'] = lk_tr['active_transport_2022'] - lk_tr['active_transport_2016']\n",
    "lk_tr['public_transport_change'] = lk_tr['public_transport_2022'] - lk_tr['public_transport_2016']\n",
    "lk_tr['pub_act_transport_change'] = lk_tr['pub_act_transport_2022'] - lk_tr['pub_act_transport_2016']\n",
    "\n",
    "# Set up a new colour scale for the change attributes\n",
    "colors_change_down = plt.cm.RdBu(np.linspace(0, 0.5, 256))\n",
    "colors_change_up = plt.cm.RdBu(np.linspace(0.5, 1, 256))\n",
    "all_change = np.vstack((colors_change_down, colors_change_up))\n",
    "tr_change = colors.LinearSegmentedColormap.from_list(\n",
    "    'tr_change', all_change)\n",
    "div_tr = colors.TwoSlopeNorm(vmin=-50, vcenter=0, vmax=50)\n",
    "\n",
    "# Plot the results\n",
    "fig, ((pt16, pt22, ptch), (at16, at22, atch), (pat16, pat22, patch)) = plt.subplots(3,3, figsize=(21,21), sharex=True, sharey=True, layout='constrained')\n",
    "pt16.set_title('Public Transport in Limerick 2016')\n",
    "pt22.set_title('Public Transport in Limerick 2022')\n",
    "ptch.set_title('Public Transport Change in Limerick 2016-2022')\n",
    "at16.set_title('Active Transport in Limerick 2016')\n",
    "at22.set_title('Active Transport in Limerick 2022')\n",
    "atch.set_title('Active Transport Change in Limerick 2016-2022')\n",
    "pat16.set_title('Public and Active Transport in Limerick 2016')\n",
    "pat22.set_title('Public and Active Transport in Limerick 2022')\n",
    "patch.set_title('Public and Active Transport Change in Limerick 2016-2022')\n",
    "\n",
    "lk_tr.plot(column='public_transport_2016', ax=pt16, cmap='Greens', vmin=0, vmax=100, legend=False)\n",
    "lk_tr.plot(column='public_transport_2022', ax=pt22, cmap='Greens', vmin=0, vmax=100, legend=True)\n",
    "lk_tr.plot(column='public_transport_change', ax=ptch, cmap=tr_change, norm=div_tr, legend=True)\n",
    "lk_tr.plot(column='active_transport_2016', ax=at16, cmap='Greens', vmin=0, vmax=100, legend=False)\n",
    "lk_tr.plot(column='active_transport_2022', ax=at22, cmap='Greens', vmin=0, vmax=100, legend=True)\n",
    "lk_tr.plot(column='active_transport_change', ax=atch, cmap=tr_change, norm=div_tr, legend=True)\n",
    "lk_tr.plot(column='pub_act_transport_2016', ax=pat16, cmap='Greens', vmin=0, vmax=100, legend=False)\n",
    "lk_tr.plot(column='pub_act_transport_2022', ax=pat22, cmap='Greens', vmin=0, vmax=100, legend=True)\n",
    "lk_tr.plot(column='pub_act_transport_change', ax=patch, cmap=tr_change, norm=div_tr, legend=True)\n",
    "\n",
    "lk_sa_2022.boundary.plot(ax=pt16, color='fuchsia', linewidth=0.5)\n",
    "lk_sa_2022.boundary.plot(ax=pt22, color='fuchsia', linewidth=0.5)\n",
    "lk_sa_2022.boundary.plot(ax=ptch, color='fuchsia', linewidth=0.5)\n",
    "lk_sa_2022.boundary.plot(ax=at16, color='fuchsia', linewidth=0.5)\n",
    "lk_sa_2022.boundary.plot(ax=at22, color='fuchsia', linewidth=0.5)\n",
    "lk_sa_2022.boundary.plot(ax=atch, color='fuchsia', linewidth=0.5)\n",
    "lk_sa_2022.boundary.plot(ax=pat16, color='fuchsia', linewidth=0.5)\n",
    "lk_sa_2022.boundary.plot(ax=pat22, color='fuchsia', linewidth=0.5)\n",
    "lk_sa_2022.boundary.plot(ax=patch, color='fuchsia', linewidth=0.5)\n",
    "\n",
    "plt.show()"
   ]
  },
  {
   "cell_type": "markdown",
   "id": "4544b245-9e90-4b92-98ba-5d45cf8d6e7f",
   "metadata": {},
   "source": [
    "The next steps here would be to add some bus routes, stop locations, stop catchment areas, cycle lanes etc. Hopefully you can see the potential - just be wary of the data cleaning needed to make it work, if it's possible."
   ]
  },
  {
   "cell_type": "markdown",
   "id": "ab5c1515-427d-4196-9136-7d7028056573",
   "metadata": {},
   "source": [
    "## Summary\n",
    "\n",
    "The key point here is that if you want to show change over time in vector data, at the core it's no different from showing any other vector data. You need two things:\n",
    "\n",
    "1. vector geometry\n",
    "2. data in an attribute column\n",
    "\n",
    "just like any other vector map.\n",
    "\n",
    "The only difference is in *where the attribute data comes from*. Normally, it will involve some simple maths - subtracting data for the earlier date from the data for the later date. \n",
    "\n",
    "The complicated part, as in the example above, is in ensuring the data for both dates refers to exactly the same geometry shapes.\n",
    "\n",
    "There's simple examples where this is less of an issue - for example if you want to illustrate data for countries, it's mostly straightforward, although you do need to watch out for examples like East and West Germany. \n",
    "\n",
    "But for census data (and of course the same might apply to other examples), this isn't straightforward, and often requires a lot of checking and data cleaning to get the data into a usable format."
   ]
  },
  {
   "cell_type": "markdown",
   "id": "cfa1f209-6d9b-4a1d-9da0-5da886bc6c37",
   "metadata": {},
   "source": [
    "___\n",
    "\n",
    "Week 3 Notebooks: \n",
    "\n",
    "11. Temporal Change: Active Remote Sensing <a href=\"https://colab.research.google.com/github/bamacgabhann/GY5021/blob/2024/GY5021/3_Spatial_and_Temporal_Change/GY5021_11_Temporal_Change-Active_Remote_Sensing.ipynb\" target=\"_parent\"><img src=\"https://colab.research.google.com/assets/colab-badge.svg\" alt=\"Open In Colab\"/></a>     <a href=\"https://mybinder.org/v2/gh/bamacgabhann/GY5021/9a706c8973d5bde0e50593ecc94941b0426f24a6?urlpath=lab%2Ftree%2FGY5021%2F3_Spatial_and_Temporal_Change%2FGY5021_11_Temporal_Change-Active_Remote_Sensing.ipynb\" target=\"_parent\"><img src=\"https://mybinder.org/badge_logo.svg\" alt=\"Open in Binder\" /></a>\n",
    "\n",
    "12. Census Data Through Time  <a href=\"https://colab.research.google.com/github/bamacgabhann/GY5021/blob/2024/GY5021/3_Spatial_and_Temporal_Change/GY5021_12_Temporal_Change-Census_Data.ipynb\" target=\"_parent\"><img src=\"https://colab.research.google.com/assets/colab-badge.svg\" alt=\"Open In Colab\"/></a>     <a href=\"https://mybinder.org/v2/gh/bamacgabhann/GY5021/9a706c8973d5bde0e50593ecc94941b0426f24a6?urlpath=lab%2Ftree%2FGY5021%2F3_Spatial_and_Temporal_Change%2FGY5021_12_Temporal_Change-Census_Data.ipynb\" target=\"_parent\"><img src=\"https://mybinder.org/badge_logo.svg\" alt=\"Open in Binder\" /></a>\n",
    "\n",
    "13. Moving Objects  <a href=\"https://colab.research.google.com/github/bamacgabhann/GY5021/blob/2024/GY5021/3_Spatial_and_Temporal_Change/GY5021_13_Spatial_Change-Moving_Features.ipynb\" target=\"_parent\"><img src=\"https://colab.research.google.com/assets/colab-badge.svg\" alt=\"Open In Colab\"/></a>     <a href=\"https://mybinder.org/v2/gh/bamacgabhann/GY5021/9a706c8973d5bde0e50593ecc94941b0426f24a6?urlpath=lab%2Ftree%2FGY5021%2F3_Spatial_and_Temporal_Change%2FGY5021_13_Spatial_Change-Moving_Features.ipynb\" target=\"_parent\"><img src=\"https://mybinder.org/badge_logo.svg\" alt=\"Open in Binder\" /></a>"
   ]
  }
 ],
 "metadata": {
  "kernelspec": {
   "display_name": "Python 3 (ipykernel)",
   "language": "python",
   "name": "python3"
  },
  "language_info": {
   "codemirror_mode": {
    "name": "ipython",
    "version": 3
   },
   "file_extension": ".py",
   "mimetype": "text/x-python",
   "name": "python",
   "nbconvert_exporter": "python",
   "pygments_lexer": "ipython3",
   "version": "3.11.6"
  }
 },
 "nbformat": 4,
 "nbformat_minor": 5
}
