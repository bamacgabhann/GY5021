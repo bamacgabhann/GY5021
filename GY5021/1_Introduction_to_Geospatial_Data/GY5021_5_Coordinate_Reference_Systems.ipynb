{
 "cells": [
  {
   "cell_type": "markdown",
   "id": "4b0429cd-03b9-4d1f-b86e-9709a8775d46",
   "metadata": {
    "colab_type": "text",
    "id": "view-in-github"
   },
   "source": [
    "<a href=\"https://colab.research.google.com/github/bamacgabhann/GY5021/blob/2024/GY5021/1_Introduction_to_Geospatial_Data/GY5021_5_Coordinate_Reference_Systems.ipynb\" target=\"_parent\"><img src=\"https://colab.research.google.com/assets/colab-badge.svg\" alt=\"Open In Colab\"/></a>     <a href=\"https://mybinder.org/v2/gh/bamacgabhann/GY5021/9a706c8973d5bde0e50593ecc94941b0426f24a6?urlpath=lab%2Ftree%2FGY5021%2F1_Introduction_to_Geospatial_Data%2FGY5021_5_Coordinate_Reference_Systems.ipynb\" target=\"_parent\"><img src=\"https://mybinder.org/badge_logo.svg\" alt=\"Open in Binder\" /></a>"
   ]
  },
  {
   "cell_type": "markdown",
   "id": "7c47d893-19ac-4e6d-ad07-35b115d16a47",
   "metadata": {},
   "source": [
    "<img src=\"https://raw.githubusercontent.com/bamacgabhann/GY5021/2024/PD_logo.png\" align=center alt=\"UL Geography logo\"/>"
   ]
  },
  {
   "cell_type": "markdown",
   "id": "de127a72-26a7-4af9-9ed3-8cc3cabdeef3",
   "metadata": {
    "id": "j-2xUUAfX0xa"
   },
   "source": [
    "# Coordinate Reference Systems\n",
    "\n",
    "In the Vector Data and Attribute Data notebooks, we looked at some examples of vector data with points, lines, and polygons - but most of the examples used simple made-up integer coordinates. But we also used one example in the Attribute Data notebook which used coordinates looking more real, each with two six-figure numbers. But what type of coordinates are these?\n",
    "\n",
    "Of course, this raises some further questions. Are there different kinds of coordinates? How can we tell the difference? And how do we make sure that all our data is using the same type of coordinates, or at least is plotted together in the right place on a map?\n",
    "\n",
    "To explore and understand this, I'm going to use some code which I'm not really going to explain until the bottom of this notebook. So you might want to go through it a second time, if you want to understand the code in Python. If you just want to understand the principles, and take that to QGIS or ArcGIS, you can manage without fully understanding the code, of course.\n",
    "\n"
   ]
  },
  {
   "cell_type": "markdown",
   "id": "089ea560-f084-4d48-bc98-a868b621eac6",
   "metadata": {},
   "source": [
    "## 1. Coordinates and map projections\n",
    "\n",
    "The problem with maps is that the Earth is round - while maps are flat.\n",
    "\n",
    "It is impossible to unfold a round shape like the Earth onto a flat surface without distorting at least one of shapes, areas, distances, and angles. Simply can't be done. \n",
    "\n",
    "This means that every map you'll ever see is wrong, in some way. No flat map can every be completely accurate.\n",
    "\n",
    "Let's step back for a second, and look at coordinates. The coordinates used for the Earth on a global scale are latitude and longitude. Lines of latitude are parallel to the equator, while lines of longitude run from pole to pole. Latitude is measured in degrees north or south of the equator, going from -90 at the south pole to +90 at the north pole; longitude is measured in degrees east or west of the Prime Meridian, going from 0 to 180 as you move east, and from 0 to -180 as you move west.\n",
    "\n",
    "<img src='https://upload.wikimedia.org/wikipedia/commons/thumb/6/62/Latitude_and_Longitude_of_the_Earth.svg/652px-Latitude_and_Longitude_of_the_Earth.svg.png' />\n",
    "\n",
    "There's a couple of important things to point out here. Lines of latitude are parallel - but they are not equal in length. The equator goes around the entire circumference of the Earth, its widest point - but lines of latitude then get smaller as you move north or south, reducing to zero length at the Poles. Lines of longitude, on the other hand, *are* all the same length, running from Pole to Pole, each having the full circumference of the Earth - but they aren't parallel, with the distance between them being widest at the equator, and reducing to zero at the Poles.\n",
    "\n",
    "This means that a degree of longitude will cover the same distance on the ground, regardless of where you are in the world - but a degree of latutide is a much bigger distance near the equator than near the poles, where it reduces towards zero.\n",
    "\n",
    "We can create a basic map of the world by ignoring this, and treating degrees of latitude and longitude as if they were constant measures of distance, and directly using them as X and Y coordinates - making the lines of longitude parallel.\n"
   ]
  },
  {
   "cell_type": "code",
   "execution_count": null,
   "id": "c7b7dce4-60e1-40bf-8c17-bbdcaf9544c8",
   "metadata": {},
   "outputs": [],
   "source": [
    "import matplotlib.pyplot as plt\n",
    "import geopandas as gpd"
   ]
  },
  {
   "cell_type": "code",
   "execution_count": null,
   "id": "270501d7-6af9-4fb9-a6fd-3eb8e32ef9df",
   "metadata": {},
   "outputs": [],
   "source": [
    "land = gpd.read_file('https://github.com/bamacgabhann/GY5021/raw/2024/GY5021/1_Introduction_to_Geospatial_Data/sample_data/land.gpkg')\n",
    "ocean = gpd.read_file('https://github.com/bamacgabhann/GY5021/raw/2024/GY5021/1_Introduction_to_Geospatial_Data/sample_data/ocean.gpkg')\n",
    "grid = gpd.read_file('https://github.com/bamacgabhann/GY5021/raw/2024/GY5021/1_Introduction_to_Geospatial_Data/sample_data/LatLongGrid.gpkg')\n",
    "circles = gpd.read_file('https://github.com/bamacgabhann/GY5021/raw/2024/GY5021/1_Introduction_to_Geospatial_Data/sample_data/tissot.gpkg')\n",
    "world = gpd.read_file('https://github.com/bamacgabhann/GY5021/raw/2024/GY5021/1_Introduction_to_Geospatial_Data/sample_data/WorldBorders.gpkg')"
   ]
  },
  {
   "cell_type": "code",
   "execution_count": null,
   "id": "ee06ffcf-bb20-4baa-9483-5c3a090b52ab",
   "metadata": {},
   "outputs": [],
   "source": [
    "land_pc = land.to_crs(4326)\n",
    "ocean_pc = ocean.to_crs(4326)\n",
    "grid_pc = grid.to_crs(4326)\n",
    "\n",
    "fig, ax = plt.subplots(figsize = (9,6))\n",
    "\n",
    "land_pc.plot(ax=ax, color='forestgreen')\n",
    "ocean_pc.plot(ax=ax, color='lightblue')\n",
    "grid_pc.plot(ax=ax, color='white', linewidth=0.5)\n",
    "\n",
    "ax.axis('off')\n",
    "\n",
    "plt.show()"
   ]
  },
  {
   "cell_type": "markdown",
   "id": "c67a20e5-1d17-4192-b199-341528143df9",
   "metadata": {},
   "source": [
    "Obviously, this massively stretches the areas closer to the poles - they're shown to be the same size as the equator, which is clearly not the case.\n",
    "\n",
    "This is the simplest map projection. It's also one of the worst, because of the various properties - shapes, areas, distances, and angles - it preserves *none* of them. We can see that if we add some 750km circles to the map:"
   ]
  },
  {
   "cell_type": "code",
   "execution_count": null,
   "id": "fa0c120a-303b-4c8f-89f4-29e85521431c",
   "metadata": {},
   "outputs": [],
   "source": [
    "circles_pc = circles.to_crs(4326)\n",
    "\n",
    "fig, ax = plt.subplots(figsize = (9,6))\n",
    "land_pc.plot(ax=ax, color='forestgreen')\n",
    "ocean_pc.plot(ax=ax, color='lightblue')\n",
    "grid_pc.plot(ax=ax, color='white', linewidth=0.5)\n",
    "circles_pc.boundary.plot(ax=ax, color='fuchsia')\n",
    "\n",
    "ax.axis('off')\n",
    "\n",
    "plt.show()"
   ]
  },
  {
   "cell_type": "markdown",
   "id": "944b843b-f973-42f3-b4ff-ffd58e95831c",
   "metadata": {},
   "source": [
    "## 2. The Mercator Projection\n",
    "\n",
    "In the 16th century, Flemish geographer Gerardus Mercator presented a new map of the world. His map aimed to be useful for sailors navigating by compass, and the priority for this use case is to preserve angles. His map therefore applied an equal amount of north-south stretching as east-west stretching. It's known now as the Mercator projection, and it's probably the world map you're used to seeing."
   ]
  },
  {
   "cell_type": "code",
   "execution_count": null,
   "id": "f38b7854-8293-4e76-9055-847e577f2a9f",
   "metadata": {},
   "outputs": [],
   "source": [
    "land_merc = land.to_crs(crs='+proj=merc')\n",
    "ocean_merc = ocean.to_crs(crs='+proj=merc')\n",
    "grid_merc = grid.to_crs(crs='+proj=merc')\n",
    "\n",
    "fig, ax = plt.subplots(figsize = (9,6))\n",
    "\n",
    "land_merc.plot(ax=ax, color='forestgreen')\n",
    "ocean_merc.plot(ax=ax, color='lightblue')\n",
    "grid_merc.plot(ax=ax, color='white', linewidth=0.5)\n",
    "\n",
    "ax.set_ylim(-20000000, 20000000)\n",
    "ax.axis('off')\n",
    "\n",
    "plt.show()"
   ]
  },
  {
   "cell_type": "markdown",
   "id": "1e8b1bba-4cb5-4239-88fe-b4d3c3bcec2d",
   "metadata": {},
   "source": [
    "With the circles:"
   ]
  },
  {
   "cell_type": "code",
   "execution_count": null,
   "id": "e67de304-4435-40f6-870b-652c8e5f110a",
   "metadata": {},
   "outputs": [],
   "source": [
    "circles_merc = circles.to_crs(crs='+proj=merc')\n",
    "\n",
    "fig, ax = plt.subplots(figsize = (9,6))\n",
    "\n",
    "land_merc.plot(ax=ax, color='forestgreen')\n",
    "ocean_merc.plot(ax=ax, color='lightblue')\n",
    "grid_merc.plot(ax=ax, color='white', linewidth=0.5)\n",
    "circles_merc.boundary.plot(ax=ax, color='fuchsia')\n",
    "\n",
    "ax.set_ylim(-20000000, 20000000)\n",
    "ax.axis('off')\n",
    "\n",
    "plt.show()"
   ]
  },
  {
   "cell_type": "markdown",
   "id": "d86c04e3-98df-4878-8762-1ec5d102e7d4",
   "metadata": {},
   "source": [
    "Here you can see the power of the Mercator projection - the circles are all circles. They get bigger towards the poles, but they aren't distorted, and that means you can use compass directions to navigate with this map.\n",
    "\n",
    "However, the inflation of size does distort reality quite significantly. Greenland looks far bigger than Africa, when in fact it's over 10 times smaller. \n",
    "\n",
    "There's a great clip from [The West Wing](https://www.youtube.com/watch?v=OH1bZ0F3zVU) which explains some of the issues with this. Europe, the USA, Canada, Russia, and China are all inflated, while India, the Middle East, Africa, and South America are generally not. You can't help but notice the distinction between the developed and developing world there.\n",
    "\n",
    "One alternative, mentioned in that clip, is the Gall-Peters projection."
   ]
  },
  {
   "cell_type": "markdown",
   "id": "68e10d1d-d6fc-4496-920e-445425fe207a",
   "metadata": {},
   "source": [
    "## 3. The Gall-Peters Projection"
   ]
  },
  {
   "cell_type": "code",
   "execution_count": null,
   "id": "ea8541d4-8d43-4067-a3d2-88fa0a0a10f9",
   "metadata": {},
   "outputs": [],
   "source": [
    "land_gp = land.to_crs(crs='+proj=cea +lon_0=0 +x_0=0 +y_0=0 +lat_ts=45 +ellps=WGS84 +datum=WGS84 +units=m +no_defs')\n",
    "ocean_gp = ocean.to_crs(crs='+proj=cea +lon_0=0 +x_0=0 +y_0=0 +lat_ts=45 +ellps=WGS84 +datum=WGS84 +units=m +no_defs')\n",
    "grid_gp = grid.to_crs(crs='+proj=cea +lon_0=0 +x_0=0 +y_0=0 +lat_ts=45 +ellps=WGS84 +datum=WGS84 +units=m +no_defs')\n",
    "\n",
    "fig, ax = plt.subplots(figsize = (9,6))\n",
    "\n",
    "land_gp.plot(ax=ax, color='forestgreen')\n",
    "ocean_gp.plot(ax=ax, color='lightblue')\n",
    "grid_gp.plot(ax=ax, color='white', linewidth=0.5)\n",
    "\n",
    "ax.axis('off')\n",
    "\n",
    "plt.show()"
   ]
  },
  {
   "cell_type": "markdown",
   "id": "e5552bb6-cee8-4a39-8f90-e8d87ebdcfab",
   "metadata": {},
   "source": [
    "With the circles:"
   ]
  },
  {
   "cell_type": "code",
   "execution_count": null,
   "id": "6d4765cb-c89c-4344-be7b-af34eb863d36",
   "metadata": {},
   "outputs": [],
   "source": [
    "circles_gp = circles.to_crs(crs='+proj=cea +lon_0=0 +x_0=0 +y_0=0 +lat_ts=45 +ellps=WGS84 +datum=WGS84 +units=m +no_defs')\n",
    "\n",
    "fig, ax = plt.subplots(figsize = (9,6))\n",
    "\n",
    "land_gp.plot(ax=ax, color='forestgreen')\n",
    "ocean_gp.plot(ax=ax, color='lightblue')\n",
    "grid_gp.plot(ax=ax, color='white', linewidth=0.5)\n",
    "circles_gp.boundary.plot(ax=ax, color='fuchsia')\n",
    "\n",
    "ax.axis('off')\n",
    "\n",
    "plt.show()"
   ]
  },
  {
   "cell_type": "markdown",
   "id": "0a5c2f86-7cf5-4d35-aae8-2cf1555c7fcf",
   "metadata": {},
   "source": [
    "Clearly the circles are deformed here, so, there's no using this map for navigation.\n",
    "\n",
    "However, you might notice that all the circles are roughly the same size. That's what this map does: it's an *equal area* map. Look at the relative sizes of Africa and Greenland - that's the real size comparison. The shapes are deformed, but in some ways this is a much better view of the world.\n",
    "\n",
    "Neither map is correct, though. As I said, no map can be. They're both useful in different contexts. but both also have major flaws."
   ]
  },
  {
   "cell_type": "markdown",
   "id": "3406c6a7-8a8b-4eaf-9be7-3fb832f82426",
   "metadata": {},
   "source": [
    "## 4. The Mollweide Projection\n",
    "\n",
    "There have been numerous attempts to make other map projections. Wikipedia actually has a [pretty good list](https://en.wikipedia.org/wiki/List_of_map_projections). \n",
    "\n",
    "These are known as *cylindrical* projections. You can think of them like there being a projector light in the centre of the Earth, projecting the Earth's surface onto the surface of a cylinder which is touching Earth at the Equator.\n",
    "\n",
    "One variation on this is the Mollweide projection, which is pseudocyclindrical. It's an equal-area projection:"
   ]
  },
  {
   "cell_type": "code",
   "execution_count": null,
   "id": "8560dff7-e445-48ce-9063-e8693de9dfb2",
   "metadata": {},
   "outputs": [],
   "source": [
    "land_moll = land.to_crs(crs='+proj=moll')\n",
    "ocean_moll = ocean.to_crs(crs='+proj=moll')\n",
    "grid_moll = grid.to_crs(crs='+proj=moll')\n",
    "\n",
    "fig, ax = plt.subplots(figsize = (9,6))\n",
    "\n",
    "land_moll.plot(ax=ax, color='forestgreen')\n",
    "ocean_moll.plot(ax=ax, color='lightblue')\n",
    "grid_moll.plot(ax=ax, color='white', linewidth=0.5)\n",
    "\n",
    "ax.axis('off')\n",
    "\n",
    "plt.show()"
   ]
  },
  {
   "cell_type": "markdown",
   "id": "cdf120d6-e301-4799-a163-723abfbc527d",
   "metadata": {},
   "source": [
    "Adding the circles:"
   ]
  },
  {
   "cell_type": "code",
   "execution_count": null,
   "id": "de41b9e0-0a4d-4ec5-ae0a-6e797c9f4c40",
   "metadata": {},
   "outputs": [],
   "source": [
    "circles_moll = circles.to_crs(crs='+proj=moll')\n",
    "\n",
    "fig, ax = plt.subplots(figsize = (9,6))\n",
    "\n",
    "land_moll.plot(ax=ax, color='forestgreen')\n",
    "ocean_moll.plot(ax=ax, color='lightblue')\n",
    "grid_moll.plot(ax=ax, color='white', linewidth=0.5)\n",
    "circles_moll.boundary.plot(ax=ax, color='fuchsia')\n",
    "\n",
    "ax.axis('off')\n",
    "\n",
    "plt.show()"
   ]
  },
  {
   "cell_type": "markdown",
   "id": "a33ab30a-25d0-45be-b12b-fca650bf1c7b",
   "metadata": {},
   "source": [
    "Again look at Africa and Greenland for relative sizes. Obviously the circles are deformed, so no navigation, but similar sizes are maintained by not showing the world as a rectangle. \n",
    "\n",
    "This is the map projection on which you'll normally see global data like sea surface temperatures. "
   ]
  },
  {
   "cell_type": "markdown",
   "id": "499809a6-2eef-4223-a12c-20d8562cd23e",
   "metadata": {},
   "source": [
    "## 5. Conical Projections: Albers and Lambert\n",
    "\n",
    "It's also possible to project the Earth's surface onto other shapes. One is a cone: imagine a conical hat sitting on top of the Earth."
   ]
  },
  {
   "cell_type": "code",
   "execution_count": null,
   "id": "8284e3cb-5335-400e-ab05-c00ea8c1418d",
   "metadata": {},
   "outputs": [],
   "source": [
    "land_alb = land.to_crs(crs='+proj=aea +lat_1=29.5 +lat_2=42.5')\n",
    "ocean_alb = ocean.to_crs(crs='+proj=aea +lat_1=29.5 +lat_2=42.5')\n",
    "grid_alb = grid.to_crs(crs='+proj=aea +lat_1=29.5 +lat_2=42.5')\n",
    "\n",
    "fig, ax = plt.subplots(figsize = (9,6))\n",
    "\n",
    "land_alb.plot(ax=ax, color='forestgreen')\n",
    "ocean_alb.plot(ax=ax, color='lightblue')\n",
    "grid_alb.plot(ax=ax, color='white', linewidth=0.5)\n",
    "\n",
    "ax.axis('off')\n",
    "\n",
    "plt.show()"
   ]
  },
  {
   "cell_type": "code",
   "execution_count": null,
   "id": "b5fd6853-119e-4a4f-9f1f-387442846ac7",
   "metadata": {},
   "outputs": [],
   "source": [
    "circles_alb = circles.to_crs(crs='+proj=aea +lat_1=29.5 +lat_2=42.5')\n",
    "\n",
    "fig, ax = plt.subplots(figsize = (9,6))\n",
    "\n",
    "land_alb.plot(ax=ax, color='forestgreen')\n",
    "ocean_alb.plot(ax=ax, color='lightblue')\n",
    "grid_alb.plot(ax=ax, color='white', linewidth=0.5)\n",
    "circles_alb.boundary.plot(ax=ax, color='fuchsia')\n",
    "\n",
    "ax.axis('off')\n",
    "\n",
    "plt.show()"
   ]
  },
  {
   "cell_type": "markdown",
   "id": "6f266518-995a-48d1-a143-13468ac8fc91",
   "metadata": {},
   "source": [
    "Very strange looking, but if you take a closer look at the USA - this is the standard map projection you'll see for maps of the United States, the Albers equal area projection. \n",
    "\n",
    "We can use a North America-centred version, and set the map to only show the area covering the continental US:"
   ]
  },
  {
   "cell_type": "code",
   "execution_count": null,
   "id": "76f4a013-2e27-47c7-839c-07aa0ba92c92",
   "metadata": {},
   "outputs": [],
   "source": [
    "usa = gpd.read_file('https://www2.census.gov/geo/tiger/GENZ2018/shp/cb_2018_us_state_20m.zip')\n",
    "\n",
    "usa_alb_us = usa.to_crs(4269)\n",
    "land_alb_us = land.to_crs(4269)\n",
    "ocean_alb_us = ocean.to_crs(4269)\n",
    "grid_alb_us = grid.to_crs(4269)\n",
    "\n",
    "fig, ax = plt.subplots(figsize = (9,6))\n",
    "\n",
    "land_alb_us.plot(ax=ax, color='forestgreen')\n",
    "ocean_alb_us.plot(ax=ax, color='lightblue')\n",
    "usa_alb_us.boundary.plot(ax=ax, linewidth=0.5, color='darkslategrey')\n",
    "grid_alb_us.plot(ax=ax, color='white', linewidth=0.5)\n",
    "\n",
    "ax.axis('off')\n",
    "ax.set_xlim(-130, -60)\n",
    "ax.set_ylim(23, 50)\n",
    "\n",
    "plt.show()"
   ]
  },
  {
   "cell_type": "markdown",
   "id": "86b06333-4fcf-4d37-9fc3-e4d2956b04fd",
   "metadata": {},
   "source": [
    "A different conic projection, the Lambert Azimuthal Equal Area projection, is commonly used for Europe:"
   ]
  },
  {
   "cell_type": "code",
   "execution_count": null,
   "id": "ccd56e3f-7625-42ca-98f9-414db4e3766b",
   "metadata": {},
   "outputs": [],
   "source": [
    "europe = world[world['continent']=='Europe'].to_crs(3035)\n",
    "land_lam = land.to_crs(3035)\n",
    "grid_lam = grid.to_crs(3035)\n",
    "\n",
    "fig, ax = plt.subplots(figsize = (9,6))\n",
    "\n",
    "land_lam.plot(ax=ax, color='forestgreen')\n",
    "europe.boundary.plot(ax=ax, linewidth=0.5, color='darkslategrey')\n",
    "grid_lam.plot(ax=ax, color='white', linewidth=0.5)\n",
    "\n",
    "ax.axis('off')\n",
    "ax.set_xlim(2500000, 6500000)\n",
    "ax.set_ylim(1000000, 5450000)\n",
    "\n",
    "plt.show()"
   ]
  },
  {
   "cell_type": "markdown",
   "id": "56cb6a19-6ce7-461f-888b-c5e4a819c4ec",
   "metadata": {},
   "source": [
    "You might recognise that map from your Euro notes and coins - it's the standard map projection used by the EU.\n",
    "\n"
   ]
  },
  {
   "cell_type": "markdown",
   "id": "46a50768-75bc-4172-b981-ad50154401d6",
   "metadata": {},
   "source": [
    "## 6. The Irish Transverse Mercator Projection\n",
    "\n",
    "You'll notice we've gone from global maps to continental maps. We can go even more local. Let's look at Ireland in some different projections. \n",
    "\n",
    "Lambert:"
   ]
  },
  {
   "cell_type": "code",
   "execution_count": null,
   "id": "d7f1eb8d-fa99-4d63-8001-6adef112b4f9",
   "metadata": {},
   "outputs": [],
   "source": [
    "ireland_laea = world[world['name']=='Ireland'].to_crs(3035)\n",
    "fig, ax = plt.subplots()\n",
    "ireland_laea.plot(ax=ax, color='forestgreen')\n",
    "ax.axis('off')\n",
    "plt.show()"
   ]
  },
  {
   "cell_type": "markdown",
   "id": "7b68f06b-28dd-4b11-aea1-07dd2abc92b6",
   "metadata": {},
   "source": [
    "Gall-Peters:"
   ]
  },
  {
   "cell_type": "code",
   "execution_count": null,
   "id": "d1ce9167-3d6d-4f00-9394-37a42d865fb2",
   "metadata": {},
   "outputs": [],
   "source": [
    "ireland_gallpeters = world[world['name']=='Ireland'].to_crs(crs='+proj=cea +lon_0=0 +x_0=0 +y_0=0 +lat_ts=45 +ellps=WGS84 +datum=WGS84 +units=m +no_defs')\n",
    "fig, ax = plt.subplots()\n",
    "ireland_gallpeters.plot(ax=ax, color='forestgreen')\n",
    "ax.axis('off')\n",
    "plt.show()"
   ]
  },
  {
   "cell_type": "markdown",
   "id": "a1ea9ae6-8b3d-4bbb-844e-79e4484307d7",
   "metadata": {},
   "source": [
    "Mercator:"
   ]
  },
  {
   "cell_type": "code",
   "execution_count": null,
   "id": "eb74a965-698d-4b5b-a0be-ad4554ad257c",
   "metadata": {},
   "outputs": [],
   "source": [
    "ireland_mercator = world[world['name']=='Ireland'].to_crs(crs='+proj=merc')\n",
    "fig, ax = plt.subplots()\n",
    "ireland_mercator.plot(ax=ax, color='forestgreen')\n",
    "ax.axis('off')\n",
    "plt.show()"
   ]
  },
  {
   "cell_type": "markdown",
   "id": "bc2e586a-483d-48d2-83ad-99202686cc7a",
   "metadata": {},
   "source": [
    "Some differences there. So, which of them is the best map projection to use for Ireland?\n",
    "\n",
    "None of them. Ireland, like many other countries, uses a specific map projection and coordinate system which has been designed to show Ireland with as little distortion as possible. Ours is called the Irish Transverse Mercator projection, or ITM for short:"
   ]
  },
  {
   "cell_type": "code",
   "execution_count": null,
   "id": "e9776413-5974-4930-8b01-7f5cbde9230e",
   "metadata": {},
   "outputs": [],
   "source": [
    "ireland_itm = world[world['name']=='Ireland'].to_crs(2157)\n",
    "fig, ax = plt.subplots()\n",
    "ireland_itm.plot(ax=ax, color='forestgreen')\n",
    "plt.show()"
   ]
  },
  {
   "cell_type": "markdown",
   "id": "9e8b8470-00b4-42be-a01a-2a5f11f3e312",
   "metadata": {},
   "source": [
    "Notice the numbers around the map there. The general coordinate system used globally is latitude and longitude, measured in degrees, minutes, and seconds north or south of the equator, and east or west of the Greenwitch Meridian. That's the most useful system for global use, but it has a disadvantage in that 360 degrees around the lines of latitude varies from zero at the poles, to the full circumference of the planet around the equator. In other words, a degree is a measurement of angle from the centre of the Earth, but it's *not* a consistent measure of distance.\n",
    "\n",
    "The numbers around that last map of Ireland aren't in degrees. They're in metres. The ITM projection has been defined as a grid in metres. This makes it extremely useful for local work - if you have two coordinates, you can tell how far apart they are in metres simply by subtracting the numbers. It makes calculating distances and areas much easier. It is the preferred coordinate system for Ireland, and should be used for virtually all maps of Ireland."
   ]
  },
  {
   "cell_type": "markdown",
   "id": "e06fd53c-b31b-4d88-991a-4fc8981cc92d",
   "metadata": {},
   "source": [
    "## 8. Coordinate Reference Systems in Python\n",
    "\n",
    "The mathematical definitions of these map projections are known as *coordinate reference systems*. \n",
    "\n",
    "You don't have to learn them all, don't worry. What's important is two things:\n",
    "\n",
    "1. Being aware of different projections, so that you can choose a good one for whatever data you want to use.\n",
    "2. Making sure your data is in the right map projection.\n",
    "\n",
    "Which one to use is going to be fairly straightforward, honestly, even though it sounds complicated. Does your map only show part of Ireland? Then use ITM. Does it show only part of another country? Then find that country's system. Europe-wide? LAEA. Global? Mercator if you're showing routes, like shipping or flights, Gall-Peters if you're showing area-density numbers like population density, availability of healthcare etc., and Mollweide if you're showing a global dataset like surface temperature.\n",
    "\n",
    "The main thing is going to be ensuring that all your data is in the right coordinate reference system. You might have some data from the CSO using ITM, a base map from Google in Mercator, some EPA data in the old Irish Grid (the system used before ITM. It's been defunct for 20 years, but still some people use it, I don't know what to tell you), and some European data in LAEA. You need to get it all into the same system, so that you can most effectively use all the data together.\n",
    "\n",
    "In Python, pyproj is a package which is designed to handle coordinate reference systems. \n",
    "\n",
    "<img src=\"https://pyproj4.github.io/pyproj/stable/_static/logo.png\" style=\"height:60px\" alt=\"pyproj logo\"/>\n",
    "\n",
    "Like NumPy, it is written in C, so although it's called from python, all the computation is done at a compiled level, meaning it's fast.\n",
    "\n",
    "pyproj can interpret references to a CRS in numerous different formats. From the pyproj documentation (https://pyproj4.github.io/pyproj/stable/api/crs/crs.html#pyproj.crs.CRS.from_user_input):\n",
    "\n",
    " - PROJ string  \n",
    " - Dictionary of PROJ parameters \n",
    " - PROJ keyword arguments for parameters  \n",
    " - JSON string with PROJ parameters  \n",
    " - CRS WKT string  \n",
    " - An authority string, e.g. ```'epsg:4326'```  \n",
    " - An EPSG integer e.g. ```'4326'```  \n",
    " - A tuple of (“auth_name”: “auth_e.g.”) e.g. ```('epsg',   '4326')```  \n",
    " - An object with a ```to_wkt``` method  \n",
    " - A ```pyproj.crs.CRS``` class \n",
    "\n",
    "pyproj allows for the definition of custom coordinate reference systems, and as per the list above, can essentially handle any pre-defined crs. It also facilitates transformations between coordinate reference systems. \n",
    "\n",
    "You've just seen me do that a bunch - and I used PROJ strings, PROJ parameters, and EPSG codes to do the transformations. Look back through them all, and you'll see.\n",
    "\n",
    "QGIS also uses PROJ, as does every open source geospatial tool I know. I'm not sure what ArcGIS Pro uses, but either way, in both QGIS and ArcGIS it is equally possible to reproject layers into different coordinate reference systems, and save layers in different systems.\n",
    "\n",
    "Again - don't memorise any of this. Knowing that all of this exists is the important part: just look up what you need, when you need it. If something's important enough to memorise, you'll be using it enough to remember it.\n",
    "\n",
    "Of course, because geospatial data should ideally have the coordinate reference system information saved, this means we need some particular file types for geospatial data. In the next Notebook, we'll look at some different types of files for storing and using geospatial data."
   ]
  },
  {
   "cell_type": "markdown",
   "id": "9219771c-fccf-4e7c-a8e0-a5b4920854bb",
   "metadata": {},
   "source": [
    "___\n",
    "\n",
    "Week 1 Notebooks: \n",
    "\n",
    "1. Geospatial Software and Programming Languages <a href=\"https://colab.research.google.com/github/bamacgabhann/GY5021/blob/2024/GY5021/1_Introduction_to_Geospatial_Data/GY5021_1_Geospatial_Software_and_Programming_Languages.ipynb\" target=\"_parent\"><img src=\"https://colab.research.google.com/assets/colab-badge.svg\" alt=\"Open In Colab\"/></a>     <a href=\"https://mybinder.org/v2/gh/bamacgabhann/GY5021/9a706c8973d5bde0e50593ecc94941b0426f24a6?urlpath=lab%2Ftree%2FGY5021%2F1_Introduction_to_Geospatial_Data%2FGY5021_1_Geospatial_Software_and_Programming_Languages.ipynb\" target=\"_parent\"><img src=\"https://mybinder.org/badge_logo.svg\" alt=\"Open in Binder\" /></a>\n",
    "\n",
    "2. Data Types <a href=\"https://colab.research.google.com/github/bamacgabhann/GY5021/blob/2024/GY5021/1_Introduction_to_Geospatial_Data/GY5021_2_Data_Types.ipynb\" target=\"_parent\"><img src=\"https://colab.research.google.com/assets/colab-badge.svg\" alt=\"Open In Colab\"/></a>     <a href=\"https://mybinder.org/v2/gh/bamacgabhann/GY5021/9a706c8973d5bde0e50593ecc94941b0426f24a6?urlpath=lab%2Ftree%2FGY5021%2F1_Introduction_to_Geospatial_Data%2FGY5021_2_Data_Types.ipynb\" target=\"_parent\"><img src=\"https://mybinder.org/badge_logo.svg\" alt=\"Open in Binder\" /></a>\n",
    "\n",
    "3. Vector Data <a href=\"https://colab.research.google.com/github/bamacgabhann/GY5021/blob/2024/GY5021/1_Introduction_to_Geospatial_Data/GY5021_3_Vector_Data.ipynb\" target=\"_parent\"><img src=\"https://colab.research.google.com/assets/colab-badge.svg\" alt=\"Open In Colab\"/></a>     <a href=\"https://mybinder.org/v2/gh/bamacgabhann/GY5021/9a706c8973d5bde0e50593ecc94941b0426f24a6?urlpath=lab%2Ftree%2FGY5021%2F1_Introduction_to_Geospatial_Data%2FGY5021_3_Vector_Data.ipynb\" target=\"_parent\"><img src=\"https://mybinder.org/badge_logo.svg\" alt=\"Open in Binder\" /></a>\n",
    "\n",
    "4. Attribute Data <a href=\"https://colab.research.google.com/github/bamacgabhann/GY5021/blob/2024/GY5021/1_Introduction_to_Geospatial_Data/GY5021_4_Attribute_Data.ipynb\" target=\"_parent\"><img src=\"https://colab.research.google.com/assets/colab-badge.svg\" alt=\"Open In Colab\"/></a>     <a href=\"https://mybinder.org/v2/gh/bamacgabhann/GY5021/9a706c8973d5bde0e50593ecc94941b0426f24a6?urlpath=lab%2Ftree%2FGY5021%2F1_Introduction_to_Geospatial_Data%2FGY5021_4_Attribute_Data.ipynb\" target=\"_parent\"><img src=\"https://mybinder.org/badge_logo.svg\" alt=\"Open in Binder\" /></a>\n",
    "\n",
    "5. Coordinate Reference Systems <a href=\"https://colab.research.google.com/github/bamacgabhann/GY5021/blob/2024/GY5021/1_Introduction_to_Geospatial_Data/GY5021_5_Coordinate_Reference_Systems.ipynb\" target=\"_parent\"><img src=\"https://colab.research.google.com/assets/colab-badge.svg\" alt=\"Open In Colab\"/></a>     <a href=\"https://mybinder.org/v2/gh/bamacgabhann/GY5021/9a706c8973d5bde0e50593ecc94941b0426f24a6?urlpath=lab%2Ftree%2FGY5021%2F1_Introduction_to_Geospatial_Data%2FGY5021_5_Coordinate_Reference_Systems.ipynb\" target=\"_parent\"><img src=\"https://mybinder.org/badge_logo.svg\" alt=\"Open in Binder\" /></a>\n",
    "\n",
    "6. Geospatial Data Files <a href=\"https://colab.research.google.com/github/bamacgabhann/GY5021/blob/2024/GY5021/1_Introduction_to_Geospatial_Data/GY5021_6_Geospatial_Data_Files.ipynb\" target=\"_parent\"><img src=\"https://colab.research.google.com/assets/colab-badge.svg\" alt=\"Open In Colab\"/></a>     <a href=\"https://mybinder.org/v2/gh/bamacgabhann/GY5021/9a706c8973d5bde0e50593ecc94941b0426f24a6?urlpath=lab%2Ftree%2FGY5021%2F1_Introduction_to_Geospatial_Data%2FGY5021_6_Geospatial_Data_Files.ipynb\" target=\"_parent\"><img src=\"https://mybinder.org/badge_logo.svg\" alt=\"Open in Binder\" /></a>\n",
    "\n",
    "7. Vector Geoprocessing <a href=\"https://colab.research.google.com/github/bamacgabhann/GY5021/blob/2024/GY5021/1_Introduction_to_Geospatial_Data/GY5021_7_Vector_Geoprocessing.ipynb\" target=\"_parent\"><img src=\"https://colab.research.google.com/assets/colab-badge.svg\" alt=\"Open In Colab\"/></a>     <a href=\"https://mybinder.org/v2/gh/bamacgabhann/GY5021/9a706c8973d5bde0e50593ecc94941b0426f24a6?urlpath=lab%2Ftree%2FGY5021%2F1_Introduction_to_Geospatial_Data%2FGY5021_7_Vector_Geoprocessing.ipynb\" target=\"_parent\"><img src=\"https://mybinder.org/badge_logo.svg\" alt=\"Open in Binder\" /></a>\n",
    "\n",
    "Additional:\n",
    "\n",
    "- The Python Language <a href=\"https://colab.research.google.com/github/bamacgabhann/GY5021/blob/2024/GY5021/1_Introduction_to_Geospatial_Data/GY5021_The_Python_Language.ipynb\" target=\"_parent\"><img src=\"https://colab.research.google.com/assets/colab-badge.svg\" alt=\"Open In Colab\"/></a>     <a href=\"https://mybinder.org/v2/gh/bamacgabhann/GY5021/9a706c8973d5bde0e50593ecc94941b0426f24a6?urlpath=lab%2Ftree%2FGY5021%2F1_Introduction_to_Geospatial_Data%2FGY5021_The_Python_Language.ipynb\" target=\"_parent\"><img src=\"https://mybinder.org/badge_logo.svg\" alt=\"Open in Binder\" /></a>\n",
    "\n",
    "- Getting Started Seriously With Python <a href=\"https://colab.research.google.com/github/bamacgabhann/GY5021/blob/2024/GY5021/1_Introduction_to_Geospatial_Data/GY5021_Getting_Started_Seriously_With_Python.ipynb\" target=\"_parent\"><img src=\"https://colab.research.google.com/assets/colab-badge.svg\" alt=\"Open In Colab\"/></a>     <a href=\"https://mybinder.org/v2/gh/bamacgabhann/GY5021/9a706c8973d5bde0e50593ecc94941b0426f24a6?urlpath=lab%2Ftree%2FGY5021%2F1_Introduction_to_Geospatial_Data%2FGY5021_Getting_Started_Seriously_With_Python.ipynb\" target=\"_parent\"><img src=\"https://mybinder.org/badge_logo.svg\" alt=\"Open in Binder\" /></a>"
   ]
  }
 ],
 "metadata": {
  "kernelspec": {
   "display_name": "GY5021",
   "language": "python",
   "name": "gy5021"
  },
  "language_info": {
   "codemirror_mode": {
    "name": "ipython",
    "version": 3
   },
   "file_extension": ".py",
   "mimetype": "text/x-python",
   "name": "python",
   "nbconvert_exporter": "python",
   "pygments_lexer": "ipython3",
   "version": "3.11.6"
  }
 },
 "nbformat": 4,
 "nbformat_minor": 5
}
