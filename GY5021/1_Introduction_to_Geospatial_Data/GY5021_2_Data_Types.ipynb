{
 "cells": [
  {
   "cell_type": "markdown",
   "metadata": {
    "colab_type": "text",
    "id": "view-in-github"
   },
   "source": [
    "<a href=\"https://colab.research.google.com/github/bamacgabhann/GY5021/blob/2024/GY5021/1_Introduction_to_Geospatial_Data/GY5021_2_Data_Types.ipynb\" target=\"_parent\"><img src=\"https://colab.research.google.com/assets/colab-badge.svg\" alt=\"Open In Colab\"/></a>     <a href=\"https://mybinder.org/v2/gh/bamacgabhann/GY5021/9a706c8973d5bde0e50593ecc94941b0426f24a6?urlpath=lab%2Ftree%2FGY5021%2F1_Introduction_to_Geospatial_Data%2FGY5021_2_Data_Types.ipynb\" target=\"_parent\"><img src=\"https://mybinder.org/badge_logo.svg\" alt=\"Open in Binder\" /></a>"
   ]
  },
  {
   "cell_type": "markdown",
   "metadata": {},
   "source": [
    "<img src=\"https://raw.githubusercontent.com/bamacgabhann/GY5021/2024/PD_logo.png\" align=center alt=\"UL Geography logo\"/>"
   ]
  },
  {
   "cell_type": "markdown",
   "metadata": {},
   "source": [
    "# Data, and Data Types"
   ]
  },
  {
   "cell_type": "markdown",
   "metadata": {},
   "source": [
    "### Information about the world\n",
    "When we look at the world, we can see things like buildings, trees, rivers, and rocks. We can watch birds flying in the sky, fish swimming in a lake, cars and buses driving past on a road. We can hear the sounds of flowing water, branches rustling in the wind, waves rolling pebbles on a beach. We can smell the salty air near the sea, or the smoky air near a fire. We can feel the warmth or cold in the air or the water.\n",
    "\n",
    "We can appreciate these things, enjoy them - or not, in some cases. Depending on what we see, hear, smell, or feel, we can make choices, take decisions, or do actions. That's because everything we can see, hear, smell, or feel is *information* about the world. It's *data*. How we feel about it, or what we do about it - that's because our brains are taking that data, perhaps combining it with other information that we already know, and processing it. \n",
    "\n",
    "We can see a bus driving down the road, and decide that now is really not a good time to start crossing the road. We can hear the sound of raindrops hitting windows, and put a coat on before opening the door to go outside. We can smell burning food, and rush to the cooker to pull a pot off the heat<a name=\"cite_ref-1\"></a>[<sup>[1]</sup>](#cite_note-1). We can see a ball flying towards us, calculate where and when it's going to be close to us, and put out a hand to catch it. \n",
    "\n",
    "All of this, we often take for granted, but it's really astonishing just how powerful our brains are, and how much information they can process so quickly.\n",
    "\n",
    "That includes information about what's happening in our environment. We can identify different kinds of rocks, and even use small changes to figure out the geological history of an area - even over hundreds of millions of years: that's how the geological timescale was first constructed back in the 1800s. We can see a cloudless sky, feel the warmth in the air, and remember smelling smoke in the air from a forest on a previous similar day. We can identify species of animals and plants, hear their calls, see signs of disease. We can write these observations down, track them over days, weeks, months, years and longer figure out what weather conditions make wildfires more likely, and where. To record how populations of plants and animals are affected as towns and cities grow, or as farming practices change. To notice that we're having to plant crops a couple of weeks later these days, that October isn't really as cold as it used to be, or that we're having more storms per year than we did in the past. With just our own senses, we can discover an astonishing amount about the natural world - and we have.\n",
    "\n",
    "<a name=\"cite_note-1\"></a>*[1] [^](#cite_ref-1) I'm better at geography than cooking.*"
   ]
  },
  {
   "cell_type": "markdown",
   "metadata": {},
   "source": [
    "### Sensors\n",
    "However astonishing it might be though, our senses have limits. We can see red, green, and blue light, anything in between, or any combinations; but we can't see infrared or X-rays, or any objects smaller than about 0.1mm, and we can't say exactly how tall a tree or building is. We can't hear sounds below 20Hz or above 20kHz. We can't smell how much carbon dioxide is in the air - and even things we can smell, like smoke, only gives us a very rough estimate of how much we're smelling. We can't even feel if something is wet (really! When we feel something and think it's wet, we're actually just judging that based on texture and temperature, not the wetness itself).\n",
    "\n",
    "We're also limited by where we are. We can only see what's in front of us, as far as the horizon; closer, if something's in the way. We can hear from all directions, but not very far. We might be only just able to make out what a friend 180m away is saying, but no further - and even closer if it's noisy around us. We can't smell something if the wind is blowing it away from us. We can only feel what we can physically touch. And that's assuming all of our senses are working in perfect condition. \n",
    "\n",
    "But we're not limited by our own senses. We can feel the cold, hear the rain, and see the branches swaying in the wind - and use a thermometer to measure the temperature, a gauge to measure the rainfall, and an anemometer and vane to measure the wind speed and direction. Also a barometer to measure the air pressure, a laser rangefinder to measure the height of the tree - and the same elsewhere to see how these all change over distance. We can measure the carbon dioxide, sulphur dioxide, particulate pollution in the air; track how water level rises and falls in rivers after certain amounts of rainfall in different places; use infrared cameras and more to see what our eyes can't, and put them on satellites to see more at once than we ever possibly could.\n",
    "\n",
    "Advances in technology and computing over the past couple of decades has brought us to a point where the level of information about the natural world we can collect as data makes the word \"astonishing\" seem just... too ordinary. Sensors for recording various kinds of data can now be mass produced with costs cheap enough to put them wherever they might be useful. Individual sensors for measurements like temperature, air pressure, humidity can cost just pennies. They need to be combined with electronics to power and read them, but even so, instruments which were once only available to professional organisations with significant budgets can now be easily obtained by almost everyone. Want your own weather station? You can buy a solar powered one that will wirelessly upload all its data to a free online dashboard for less than €100. A seismograph to monitor earthquakes can cost as little as €160. Even where the costs of equipment are still only within the budgets of large organisations - satellites, for example - the high speed internet means that anyone and everyone can have the same access to their data as the professionals. "
   ]
  },
  {
   "cell_type": "markdown",
   "metadata": {},
   "source": [
    "### Geospatial data\n",
    "Crucially, for information about the environment, this has included advances in determining *where* things are. For thousands of years, people have been making maps, but the launch of the GPS satellite network starting in 1978 fundamentally changed everything - and the falling costs have long since made it available to everyone. \n",
    "\n",
    "Now, almost all of us have smartphones in our pockets which can locate where we are on the surface of the Earth to within 5 metres - and show us a satellite image and map of what's around us. Professional equipment can get that down to just one centimeter or even better - and that's only 'professional' equipment because most people don't need it, not because it's too expensive. \n",
    "\n",
    "Because it's now so cheap and easy to record a location, we don't just have data about the natural world: we have geospatial data. It's not just that a thermometer can measure the temperature; we can also now easily record precisely where and when that temperature was recorded, and map that with similar readings in many different places over long periods of time - along with whatever other data we want. \n",
    "\n",
    "We're not really limited anymore by the technology. We're pretty much at a point where almost anyone can collect or find geospatial data for almost anything they want to. To put it simply, in terms of what we might want to know about the natural world, it's not about what geospatial information we're *able* to record anymore - it's about what geospatial information we *want* to record. "
   ]
  },
  {
   "cell_type": "markdown",
   "metadata": {
    "id": "opdw0KiEGkZ6"
   },
   "source": [
    "### Processing\n",
    "Just like our senses, our brains have limits too, and this amount of data is just far too much for our brains to process. Spot the patterns in pressure, temperature, and humidity changes? Maybe, but if you have one reading per second, and several years of data? From multiple locations? It's just too much.\n",
    "\n",
    "That's where computers can come in - and what modern computers can do is almost overwhelming. The computer I'm writing this on can do something in the range of 76,728,000,000 calculations per second. Whatever data can be collected by sensors or people, computers can analyse faster and in much more detail than any person ever could. \n",
    "\n",
    "Just like with data collection, it's also not really about what's *possible* to do - sure, there's some limits there, but those limits are now so far away that it's really about what you *want* to do.\n",
    "\n",
    "For all of you taking this module, there will be different things you're interested in. Some might want to look at whether particular places will be at risk of flooding in the future, while others might be more interested in looking at biodiversity of places, or how buildings and roads might be changing temperature patterns through the urban heat island effect, or whether existing bus routes are enough to serve the population living in particular places. I'm sure some of you will be thinking \"I'm not interested in any of those\", but will have completely different things you'd be interested in doing. That's fine, and I am looking forward to hearing what you're each interested in looking at.\n",
    "\n",
    "So it would be a bit of a challenge to cover everything in six weeks, to put it mildly - but I'll do my best to cover what's interesting to each of you, and give you all the opportunity to cover the basics, so that if you want to do something different in the future, you'll at least know where to start.\n",
    "\n",
    "Geospatial data analysis means using computers to process geolocated data in order to better understand what is happening in the world. There's two aspects to this. \n",
    "\n",
    "The first aspect is that computers need to be told what to do - which we call programming. This can be done by writing instructions in a form the computer can understand - which we'd call a programming language. Of course, a lot of the time, the instructions have already been written out and packaged by other people into a computer programme - also known as software, or as an app. To read this, you had to at least open a browser and click on a link. That means you used a basic set of instructions (which control how all the various components of the computer work together) called an operating system. You used this to turn on the computer, log in, and run a second set of instructions for how to communicate with other computers over the internet, and how to display the data received - that's your web browser, maybe Chrome or Firefox or Edge. One of those bits of data received was a link to this page, and the programme instructions told the computer to get the data for this page from where it's stored, and how to show that on your screen - the size of the text, the colour of the background, and much more. \n",
    "\n",
    "For analysis of geospatial data, we can write instructions ourselves in a programming language, such as Python, Julia, Rust, or R. Or, we can use instructions previously written by other people with software such as QGIS or ArcGIS. There's even instructions which form web pages you can use in a browser, like Felt, Earth Engine, Binder, and Colab - which is what you're using now. \n",
    "\n",
    "These are your tools. Which tool you need or want to use depends on what you want to do, and how you want to do it. I plan to give you an introduction to some of these tools, and hopefully I can help you decide what you want to do and use. Some of you are complete beginners to this, and will need a bit more guidance, and that's absolutely normal. Some of you have done some of this before, and might want to learn something different. Either way, I plan to give everyone the opportunity to develop some new skills in something useful.\n",
    "\n",
    "The second aspect is that the data needs to be in a form which the computer can understand and use. This generally means giving the data to the computer in a file or format which matches a format already in its instructions - just like how Word understands how to open and display a written document, while Excel knows how to open and display a spreadsheet. \n",
    "\n",
    "However, it's also about the different things that computers can do with different kinds of data.\n",
    "\n",
    "In order to understand how best to do that, it's important to first understand how different information about the real world can be represented as different types of data - and how computers handle data of different types. So, that's what this Notebook will explore.\n",
    "\n",
    "This Notebook, as all the notebooks in this module, uses the Python programming language, but much the same will apply to other programming languages and software."
   ]
  },
  {
   "cell_type": "markdown",
   "metadata": {
    "id": "ZQLF2lDeK9Bt"
   },
   "source": [
    "## 1. Computers handle text and numbers differently.\n",
    "\n",
    "With numbers, if we try to add 2 + 2, we get 4."
   ]
  },
  {
   "cell_type": "code",
   "execution_count": 1,
   "metadata": {
    "colab": {
     "base_uri": "https://localhost:8080/"
    },
    "id": "9m74sYYUK7iZ",
    "outputId": "b183ed87-f1a3-4fe2-cab9-f8c27bae858c"
   },
   "outputs": [
    {
     "data": {
      "text/plain": [
       "4"
      ]
     },
     "execution_count": 1,
     "metadata": {},
     "output_type": "execute_result"
    }
   ],
   "source": [
    "2 + 2"
   ]
  },
  {
   "cell_type": "markdown",
   "metadata": {
    "id": "XOooWZ4pNCcn"
   },
   "source": [
    "We know what numbers are, of course, we take that for granted. But how does a computer know? A keyboard has a bunch of different keys, each with a different squiggle on it. The computer doesn't see the keyboard, even - when you press a letter or number key, it sends a particular message to the computer to display the relevant squiggle on the screen. \n",
    "\n",
    "It's basic enough for software to have instructions for the computer on which of these signals or squiggles represent numbers, and which represent letters or symbols - but at the end of the day, they're all just squiggles. The proper term would be _characters_. We have a set of characters that we use to count - the numbers - and a set of characters we use to read and write - the letters. \n",
    "\n",
    "But it's not completely that simple. If we want to write what we've counted, we can use the number characters; but we can also use letters to spell out the numbers. Sometimes, letter characters can even be used as parts of numbers. Other times, we'll use the number characters as if they're letters or symbols, rather than for counting. \n",
    "\n",
    "This means that there's times when the number characters can be treated as letters."
   ]
  },
  {
   "cell_type": "code",
   "execution_count": 2,
   "metadata": {
    "colab": {
     "base_uri": "https://localhost:8080/",
     "height": 36
    },
    "id": "HN_SHU4KGhcU",
    "outputId": "7dc4bfab-9110-4b35-fa49-abf8ea0368b8"
   },
   "outputs": [
    {
     "data": {
      "text/plain": [
       "'22'"
      ]
     },
     "execution_count": 2,
     "metadata": {},
     "output_type": "execute_result"
    }
   ],
   "source": [
    "'2' + '2'"
   ]
  },
  {
   "cell_type": "markdown",
   "metadata": {
    "id": "S3LuT41HNVRn"
   },
   "source": [
    "This isn't a mathematical error - it's no different than if we tried:"
   ]
  },
  {
   "cell_type": "code",
   "execution_count": 3,
   "metadata": {
    "colab": {
     "base_uri": "https://localhost:8080/",
     "height": 36
    },
    "id": "2uDb_8tTNY1l",
    "outputId": "3829a69e-06b4-402f-df88-c12c4c14f863"
   },
   "outputs": [
    {
     "data": {
      "text/plain": [
       "'twotwo'"
      ]
     },
     "execution_count": 3,
     "metadata": {},
     "output_type": "execute_result"
    }
   ],
   "source": [
    "\"two\" + \"two\""
   ]
  },
  {
   "cell_type": "markdown",
   "metadata": {
    "id": "2PYPCGfYLOXT"
   },
   "source": [
    "A series of text characters like this is referred to as a *string* in computing. Strings will be common enough in geospatial data, particularly for labels - for example placenames, species names of plants or animals, and categories of roads or paths.  \n",
    "\n",
    "For string data, Python \"adds\" them by simply putting them together, as you see above. Hence 2 + 2 = 22: it's just putting the characters together.\n",
    "\n",
    "You might be thinking *\"OK, but it's easy enough to remember to type a number without putting quotes around it, since I don't usually do that\"*. \n",
    "\n",
    "Sure, if you're typing it out, that's easy.\n",
    "\n",
    "But remember that when you're trying to process environmental data, you're not usually typing the data - you're usually bringing in a dataset generated by sensors, or from other sources, and that data isn't always perfect. It's important to make sure that if you want the data  to be able to be processed as numbers, it's stored in a form which will be recognised as numbers; and if you want the data to be able to be processed as a string of text characters, it's stored in a form which can be recognised as a string of text characters.\n",
    "\n",
    "Here's a quick example using the pandas library (we'll cover what I mean by a library, and what pandas is, a bit later; first, we need to import it to use it)."
   ]
  },
  {
   "cell_type": "code",
   "execution_count": 4,
   "metadata": {
    "id": "hoLZflyQwKrS"
   },
   "outputs": [],
   "source": [
    "import pandas"
   ]
  },
  {
   "cell_type": "markdown",
   "metadata": {
    "id": "MnmzJJuYxJHX"
   },
   "source": [
    "If we import data from a spreadsheet or some other data source which is all numbers, that's fine."
   ]
  },
  {
   "cell_type": "code",
   "execution_count": 5,
   "metadata": {
    "colab": {
     "base_uri": "https://localhost:8080/"
    },
    "id": "OH024rLpwNCW",
    "outputId": "1e9520d4-7688-4ccc-bfea-113e63d4fb6b"
   },
   "outputs": [
    {
     "data": {
      "text/plain": [
       "0    1\n",
       "1    2\n",
       "2    3\n",
       "3    4\n",
       "dtype: int64"
      ]
     },
     "execution_count": 5,
     "metadata": {},
     "output_type": "execute_result"
    }
   ],
   "source": [
    "pandas.Series([1, 2, 3, 4])"
   ]
  },
  {
   "cell_type": "markdown",
   "metadata": {
    "id": "GTrc5c36xYat"
   },
   "source": [
    "```dtype``` is 'data type'. The ```int``` part of ```int64``` means the data is being treated as an *integer* - a whole number, without any decimal places, like 1, 2, 3, and 4. That's the correct data type for this set of values. \n",
    "\n",
    "Integers are also a common data type in geospatial data. For example, you'd use integers for anything you'd want to count, like the number of floors in a building, the number of people living in an area, or the number of bicycles passing a particular point over a certain time interval. You would also use integers for anything which can be put in an ordered sequence, for example the stream order of rivers. Some sensors will also produce certain values as integers, for example if they're recording parts per million concentrations or the like where decimal places wouldn't be meaningful given the accuracy of the sensor.\n",
    "\n",
    "But, say the sensor wasn't able to get a reading once, and so one of the values has an error."
   ]
  },
  {
   "cell_type": "code",
   "execution_count": 6,
   "metadata": {
    "colab": {
     "base_uri": "https://localhost:8080/"
    },
    "id": "jbtBX17-wfYX",
    "outputId": "c4334ef4-04cf-46c0-c6f1-de6bff016e24"
   },
   "outputs": [
    {
     "data": {
      "text/plain": [
       "0     1\n",
       "1     2\n",
       "2    NA\n",
       "3     4\n",
       "dtype: object"
      ]
     },
     "execution_count": 6,
     "metadata": {},
     "output_type": "execute_result"
    }
   ],
   "source": [
    "pandas.Series([1, 2, 'NA', 4])"
   ]
  },
  {
   "cell_type": "markdown",
   "metadata": {
    "id": "DeCmbfGdx1PZ"
   },
   "source": [
    "Now, ```dtype: object``` is telling you that the data is being treated as objects. In this case, it means it knows there's different kinds of data there - some numbers and some text. For large datasets, one of the problems this creates is that the data type for each entry has to be stored separately, which takes up a lot more memory. \n",
    "\n",
    "More importantly, if you wanted to do some processing on the data, it would work in some cases, but not all cases. For example, if you wanted to take an average of a couple of readings - well, that's going to produce an error."
   ]
  },
  {
   "cell_type": "code",
   "execution_count": 7,
   "metadata": {},
   "outputs": [
    {
     "ename": "TypeError",
     "evalue": "unsupported operand type(s) for +: 'int' and 'str'",
     "output_type": "error",
     "traceback": [
      "\u001b[0;31m---------------------------------------------------------------------------\u001b[0m",
      "\u001b[0;31mTypeError\u001b[0m                                 Traceback (most recent call last)",
      "Cell \u001b[0;32mIn[7], line 1\u001b[0m\n\u001b[0;32m----> 1\u001b[0m \u001b[43mpandas\u001b[49m\u001b[38;5;241;43m.\u001b[39;49m\u001b[43mSeries\u001b[49m\u001b[43m(\u001b[49m\u001b[43m[\u001b[49m\u001b[38;5;241;43m1\u001b[39;49m\u001b[43m,\u001b[49m\u001b[43m \u001b[49m\u001b[38;5;241;43m2\u001b[39;49m\u001b[43m,\u001b[49m\u001b[43m \u001b[49m\u001b[38;5;124;43m'\u001b[39;49m\u001b[38;5;124;43mNA\u001b[39;49m\u001b[38;5;124;43m'\u001b[39;49m\u001b[43m,\u001b[49m\u001b[43m \u001b[49m\u001b[38;5;241;43m4\u001b[39;49m\u001b[43m]\u001b[49m\u001b[43m)\u001b[49m\u001b[38;5;241;43m.\u001b[39;49m\u001b[43mmean\u001b[49m\u001b[43m(\u001b[49m\u001b[43m)\u001b[49m\n",
      "File \u001b[0;32m~/.pyenv/versions/IEOS2023/lib/python3.11/site-packages/pandas/core/series.py:6221\u001b[0m, in \u001b[0;36mSeries.mean\u001b[0;34m(self, axis, skipna, numeric_only, **kwargs)\u001b[0m\n\u001b[1;32m   6213\u001b[0m \u001b[38;5;129m@doc\u001b[39m(make_doc(\u001b[38;5;124m\"\u001b[39m\u001b[38;5;124mmean\u001b[39m\u001b[38;5;124m\"\u001b[39m, ndim\u001b[38;5;241m=\u001b[39m\u001b[38;5;241m1\u001b[39m))\n\u001b[1;32m   6214\u001b[0m \u001b[38;5;28;01mdef\u001b[39;00m \u001b[38;5;21mmean\u001b[39m(\n\u001b[1;32m   6215\u001b[0m     \u001b[38;5;28mself\u001b[39m,\n\u001b[0;32m   (...)\u001b[0m\n\u001b[1;32m   6219\u001b[0m     \u001b[38;5;241m*\u001b[39m\u001b[38;5;241m*\u001b[39mkwargs,\n\u001b[1;32m   6220\u001b[0m ):\n\u001b[0;32m-> 6221\u001b[0m     \u001b[38;5;28;01mreturn\u001b[39;00m \u001b[43mNDFrame\u001b[49m\u001b[38;5;241;43m.\u001b[39;49m\u001b[43mmean\u001b[49m\u001b[43m(\u001b[49m\u001b[38;5;28;43mself\u001b[39;49m\u001b[43m,\u001b[49m\u001b[43m \u001b[49m\u001b[43maxis\u001b[49m\u001b[43m,\u001b[49m\u001b[43m \u001b[49m\u001b[43mskipna\u001b[49m\u001b[43m,\u001b[49m\u001b[43m \u001b[49m\u001b[43mnumeric_only\u001b[49m\u001b[43m,\u001b[49m\u001b[43m \u001b[49m\u001b[38;5;241;43m*\u001b[39;49m\u001b[38;5;241;43m*\u001b[39;49m\u001b[43mkwargs\u001b[49m\u001b[43m)\u001b[49m\n",
      "File \u001b[0;32m~/.pyenv/versions/IEOS2023/lib/python3.11/site-packages/pandas/core/generic.py:11984\u001b[0m, in \u001b[0;36mNDFrame.mean\u001b[0;34m(self, axis, skipna, numeric_only, **kwargs)\u001b[0m\n\u001b[1;32m  11977\u001b[0m \u001b[38;5;28;01mdef\u001b[39;00m \u001b[38;5;21mmean\u001b[39m(\n\u001b[1;32m  11978\u001b[0m     \u001b[38;5;28mself\u001b[39m,\n\u001b[1;32m  11979\u001b[0m     axis: Axis \u001b[38;5;241m|\u001b[39m \u001b[38;5;28;01mNone\u001b[39;00m \u001b[38;5;241m=\u001b[39m \u001b[38;5;241m0\u001b[39m,\n\u001b[0;32m   (...)\u001b[0m\n\u001b[1;32m  11982\u001b[0m     \u001b[38;5;241m*\u001b[39m\u001b[38;5;241m*\u001b[39mkwargs,\n\u001b[1;32m  11983\u001b[0m ) \u001b[38;5;241m-\u001b[39m\u001b[38;5;241m>\u001b[39m Series \u001b[38;5;241m|\u001b[39m \u001b[38;5;28mfloat\u001b[39m:\n\u001b[0;32m> 11984\u001b[0m     \u001b[38;5;28;01mreturn\u001b[39;00m \u001b[38;5;28;43mself\u001b[39;49m\u001b[38;5;241;43m.\u001b[39;49m\u001b[43m_stat_function\u001b[49m\u001b[43m(\u001b[49m\n\u001b[1;32m  11985\u001b[0m \u001b[43m        \u001b[49m\u001b[38;5;124;43m\"\u001b[39;49m\u001b[38;5;124;43mmean\u001b[39;49m\u001b[38;5;124;43m\"\u001b[39;49m\u001b[43m,\u001b[49m\u001b[43m \u001b[49m\u001b[43mnanops\u001b[49m\u001b[38;5;241;43m.\u001b[39;49m\u001b[43mnanmean\u001b[49m\u001b[43m,\u001b[49m\u001b[43m \u001b[49m\u001b[43maxis\u001b[49m\u001b[43m,\u001b[49m\u001b[43m \u001b[49m\u001b[43mskipna\u001b[49m\u001b[43m,\u001b[49m\u001b[43m \u001b[49m\u001b[43mnumeric_only\u001b[49m\u001b[43m,\u001b[49m\u001b[43m \u001b[49m\u001b[38;5;241;43m*\u001b[39;49m\u001b[38;5;241;43m*\u001b[39;49m\u001b[43mkwargs\u001b[49m\n\u001b[1;32m  11986\u001b[0m \u001b[43m    \u001b[49m\u001b[43m)\u001b[49m\n",
      "File \u001b[0;32m~/.pyenv/versions/IEOS2023/lib/python3.11/site-packages/pandas/core/generic.py:11941\u001b[0m, in \u001b[0;36mNDFrame._stat_function\u001b[0;34m(self, name, func, axis, skipna, numeric_only, **kwargs)\u001b[0m\n\u001b[1;32m  11937\u001b[0m nv\u001b[38;5;241m.\u001b[39mvalidate_func(name, (), kwargs)\n\u001b[1;32m  11939\u001b[0m validate_bool_kwarg(skipna, \u001b[38;5;124m\"\u001b[39m\u001b[38;5;124mskipna\u001b[39m\u001b[38;5;124m\"\u001b[39m, none_allowed\u001b[38;5;241m=\u001b[39m\u001b[38;5;28;01mFalse\u001b[39;00m)\n\u001b[0;32m> 11941\u001b[0m \u001b[38;5;28;01mreturn\u001b[39;00m \u001b[38;5;28;43mself\u001b[39;49m\u001b[38;5;241;43m.\u001b[39;49m\u001b[43m_reduce\u001b[49m\u001b[43m(\u001b[49m\n\u001b[1;32m  11942\u001b[0m \u001b[43m    \u001b[49m\u001b[43mfunc\u001b[49m\u001b[43m,\u001b[49m\u001b[43m \u001b[49m\u001b[43mname\u001b[49m\u001b[38;5;241;43m=\u001b[39;49m\u001b[43mname\u001b[49m\u001b[43m,\u001b[49m\u001b[43m \u001b[49m\u001b[43maxis\u001b[49m\u001b[38;5;241;43m=\u001b[39;49m\u001b[43maxis\u001b[49m\u001b[43m,\u001b[49m\u001b[43m \u001b[49m\u001b[43mskipna\u001b[49m\u001b[38;5;241;43m=\u001b[39;49m\u001b[43mskipna\u001b[49m\u001b[43m,\u001b[49m\u001b[43m \u001b[49m\u001b[43mnumeric_only\u001b[49m\u001b[38;5;241;43m=\u001b[39;49m\u001b[43mnumeric_only\u001b[49m\n\u001b[1;32m  11943\u001b[0m \u001b[43m\u001b[49m\u001b[43m)\u001b[49m\n",
      "File \u001b[0;32m~/.pyenv/versions/IEOS2023/lib/python3.11/site-packages/pandas/core/series.py:6129\u001b[0m, in \u001b[0;36mSeries._reduce\u001b[0;34m(self, op, name, axis, skipna, numeric_only, filter_type, **kwds)\u001b[0m\n\u001b[1;32m   6124\u001b[0m     \u001b[38;5;66;03m# GH#47500 - change to TypeError to match other methods\u001b[39;00m\n\u001b[1;32m   6125\u001b[0m     \u001b[38;5;28;01mraise\u001b[39;00m \u001b[38;5;167;01mTypeError\u001b[39;00m(\n\u001b[1;32m   6126\u001b[0m         \u001b[38;5;124mf\u001b[39m\u001b[38;5;124m\"\u001b[39m\u001b[38;5;124mSeries.\u001b[39m\u001b[38;5;132;01m{\u001b[39;00mname\u001b[38;5;132;01m}\u001b[39;00m\u001b[38;5;124m does not allow \u001b[39m\u001b[38;5;132;01m{\u001b[39;00mkwd_name\u001b[38;5;132;01m}\u001b[39;00m\u001b[38;5;124m=\u001b[39m\u001b[38;5;132;01m{\u001b[39;00mnumeric_only\u001b[38;5;132;01m}\u001b[39;00m\u001b[38;5;124m \u001b[39m\u001b[38;5;124m\"\u001b[39m\n\u001b[1;32m   6127\u001b[0m         \u001b[38;5;124m\"\u001b[39m\u001b[38;5;124mwith non-numeric dtypes.\u001b[39m\u001b[38;5;124m\"\u001b[39m\n\u001b[1;32m   6128\u001b[0m     )\n\u001b[0;32m-> 6129\u001b[0m \u001b[38;5;28;01mreturn\u001b[39;00m \u001b[43mop\u001b[49m\u001b[43m(\u001b[49m\u001b[43mdelegate\u001b[49m\u001b[43m,\u001b[49m\u001b[43m \u001b[49m\u001b[43mskipna\u001b[49m\u001b[38;5;241;43m=\u001b[39;49m\u001b[43mskipna\u001b[49m\u001b[43m,\u001b[49m\u001b[43m \u001b[49m\u001b[38;5;241;43m*\u001b[39;49m\u001b[38;5;241;43m*\u001b[39;49m\u001b[43mkwds\u001b[49m\u001b[43m)\u001b[49m\n",
      "File \u001b[0;32m~/.pyenv/versions/IEOS2023/lib/python3.11/site-packages/pandas/core/nanops.py:147\u001b[0m, in \u001b[0;36mbottleneck_switch.__call__.<locals>.f\u001b[0;34m(values, axis, skipna, **kwds)\u001b[0m\n\u001b[1;32m    145\u001b[0m         result \u001b[38;5;241m=\u001b[39m alt(values, axis\u001b[38;5;241m=\u001b[39maxis, skipna\u001b[38;5;241m=\u001b[39mskipna, \u001b[38;5;241m*\u001b[39m\u001b[38;5;241m*\u001b[39mkwds)\n\u001b[1;32m    146\u001b[0m \u001b[38;5;28;01melse\u001b[39;00m:\n\u001b[0;32m--> 147\u001b[0m     result \u001b[38;5;241m=\u001b[39m \u001b[43malt\u001b[49m\u001b[43m(\u001b[49m\u001b[43mvalues\u001b[49m\u001b[43m,\u001b[49m\u001b[43m \u001b[49m\u001b[43maxis\u001b[49m\u001b[38;5;241;43m=\u001b[39;49m\u001b[43maxis\u001b[49m\u001b[43m,\u001b[49m\u001b[43m \u001b[49m\u001b[43mskipna\u001b[49m\u001b[38;5;241;43m=\u001b[39;49m\u001b[43mskipna\u001b[49m\u001b[43m,\u001b[49m\u001b[43m \u001b[49m\u001b[38;5;241;43m*\u001b[39;49m\u001b[38;5;241;43m*\u001b[39;49m\u001b[43mkwds\u001b[49m\u001b[43m)\u001b[49m\n\u001b[1;32m    149\u001b[0m \u001b[38;5;28;01mreturn\u001b[39;00m result\n",
      "File \u001b[0;32m~/.pyenv/versions/IEOS2023/lib/python3.11/site-packages/pandas/core/nanops.py:404\u001b[0m, in \u001b[0;36m_datetimelike_compat.<locals>.new_func\u001b[0;34m(values, axis, skipna, mask, **kwargs)\u001b[0m\n\u001b[1;32m    401\u001b[0m \u001b[38;5;28;01mif\u001b[39;00m datetimelike \u001b[38;5;129;01mand\u001b[39;00m mask \u001b[38;5;129;01mis\u001b[39;00m \u001b[38;5;28;01mNone\u001b[39;00m:\n\u001b[1;32m    402\u001b[0m     mask \u001b[38;5;241m=\u001b[39m isna(values)\n\u001b[0;32m--> 404\u001b[0m result \u001b[38;5;241m=\u001b[39m \u001b[43mfunc\u001b[49m\u001b[43m(\u001b[49m\u001b[43mvalues\u001b[49m\u001b[43m,\u001b[49m\u001b[43m \u001b[49m\u001b[43maxis\u001b[49m\u001b[38;5;241;43m=\u001b[39;49m\u001b[43maxis\u001b[49m\u001b[43m,\u001b[49m\u001b[43m \u001b[49m\u001b[43mskipna\u001b[49m\u001b[38;5;241;43m=\u001b[39;49m\u001b[43mskipna\u001b[49m\u001b[43m,\u001b[49m\u001b[43m \u001b[49m\u001b[43mmask\u001b[49m\u001b[38;5;241;43m=\u001b[39;49m\u001b[43mmask\u001b[49m\u001b[43m,\u001b[49m\u001b[43m \u001b[49m\u001b[38;5;241;43m*\u001b[39;49m\u001b[38;5;241;43m*\u001b[39;49m\u001b[43mkwargs\u001b[49m\u001b[43m)\u001b[49m\n\u001b[1;32m    406\u001b[0m \u001b[38;5;28;01mif\u001b[39;00m datetimelike:\n\u001b[1;32m    407\u001b[0m     result \u001b[38;5;241m=\u001b[39m _wrap_results(result, orig_values\u001b[38;5;241m.\u001b[39mdtype, fill_value\u001b[38;5;241m=\u001b[39miNaT)\n",
      "File \u001b[0;32m~/.pyenv/versions/IEOS2023/lib/python3.11/site-packages/pandas/core/nanops.py:719\u001b[0m, in \u001b[0;36mnanmean\u001b[0;34m(values, axis, skipna, mask)\u001b[0m\n\u001b[1;32m    716\u001b[0m     dtype_count \u001b[38;5;241m=\u001b[39m dtype\n\u001b[1;32m    718\u001b[0m count \u001b[38;5;241m=\u001b[39m _get_counts(values\u001b[38;5;241m.\u001b[39mshape, mask, axis, dtype\u001b[38;5;241m=\u001b[39mdtype_count)\n\u001b[0;32m--> 719\u001b[0m the_sum \u001b[38;5;241m=\u001b[39m \u001b[43mvalues\u001b[49m\u001b[38;5;241;43m.\u001b[39;49m\u001b[43msum\u001b[49m\u001b[43m(\u001b[49m\u001b[43maxis\u001b[49m\u001b[43m,\u001b[49m\u001b[43m \u001b[49m\u001b[43mdtype\u001b[49m\u001b[38;5;241;43m=\u001b[39;49m\u001b[43mdtype_sum\u001b[49m\u001b[43m)\u001b[49m\n\u001b[1;32m    720\u001b[0m the_sum \u001b[38;5;241m=\u001b[39m _ensure_numeric(the_sum)\n\u001b[1;32m    722\u001b[0m \u001b[38;5;28;01mif\u001b[39;00m axis \u001b[38;5;129;01mis\u001b[39;00m \u001b[38;5;129;01mnot\u001b[39;00m \u001b[38;5;28;01mNone\u001b[39;00m \u001b[38;5;129;01mand\u001b[39;00m \u001b[38;5;28mgetattr\u001b[39m(the_sum, \u001b[38;5;124m\"\u001b[39m\u001b[38;5;124mndim\u001b[39m\u001b[38;5;124m\"\u001b[39m, \u001b[38;5;28;01mFalse\u001b[39;00m):\n",
      "File \u001b[0;32m~/.pyenv/versions/IEOS2023/lib/python3.11/site-packages/numpy/core/_methods.py:49\u001b[0m, in \u001b[0;36m_sum\u001b[0;34m(a, axis, dtype, out, keepdims, initial, where)\u001b[0m\n\u001b[1;32m     47\u001b[0m \u001b[38;5;28;01mdef\u001b[39;00m \u001b[38;5;21m_sum\u001b[39m(a, axis\u001b[38;5;241m=\u001b[39m\u001b[38;5;28;01mNone\u001b[39;00m, dtype\u001b[38;5;241m=\u001b[39m\u001b[38;5;28;01mNone\u001b[39;00m, out\u001b[38;5;241m=\u001b[39m\u001b[38;5;28;01mNone\u001b[39;00m, keepdims\u001b[38;5;241m=\u001b[39m\u001b[38;5;28;01mFalse\u001b[39;00m,\n\u001b[1;32m     48\u001b[0m          initial\u001b[38;5;241m=\u001b[39m_NoValue, where\u001b[38;5;241m=\u001b[39m\u001b[38;5;28;01mTrue\u001b[39;00m):\n\u001b[0;32m---> 49\u001b[0m     \u001b[38;5;28;01mreturn\u001b[39;00m \u001b[43mumr_sum\u001b[49m\u001b[43m(\u001b[49m\u001b[43ma\u001b[49m\u001b[43m,\u001b[49m\u001b[43m \u001b[49m\u001b[43maxis\u001b[49m\u001b[43m,\u001b[49m\u001b[43m \u001b[49m\u001b[43mdtype\u001b[49m\u001b[43m,\u001b[49m\u001b[43m \u001b[49m\u001b[43mout\u001b[49m\u001b[43m,\u001b[49m\u001b[43m \u001b[49m\u001b[43mkeepdims\u001b[49m\u001b[43m,\u001b[49m\u001b[43m \u001b[49m\u001b[43minitial\u001b[49m\u001b[43m,\u001b[49m\u001b[43m \u001b[49m\u001b[43mwhere\u001b[49m\u001b[43m)\u001b[49m\n",
      "\u001b[0;31mTypeError\u001b[0m: unsupported operand type(s) for +: 'int' and 'str'"
     ]
    }
   ],
   "source": [
    "pandas.Series([1, 2, 'NA', 4]).mean()"
   ]
  },
  {
   "cell_type": "markdown",
   "metadata": {},
   "source": [
    "```TypeError: unsupported operand type(s) for +: 'int' and 'str'``` means it can't calculate an average, because it can't add the numbers and the text. "
   ]
  },
  {
   "cell_type": "code",
   "execution_count": null,
   "metadata": {
    "colab": {
     "base_uri": "https://localhost:8080/"
    },
    "id": "7KU11AfQOIAp",
    "outputId": "a626e53c-3676-4ff6-faf3-fb0dd5bb5262"
   },
   "outputs": [],
   "source": [
    "type(\"2\")"
   ]
  },
  {
   "cell_type": "markdown",
   "metadata": {
    "id": "SzsuRPGVOfZ3"
   },
   "source": [
    "```str``` means *string*, the data type for text characters. As a number, we would get a different data type:"
   ]
  },
  {
   "cell_type": "code",
   "execution_count": null,
   "metadata": {
    "colab": {
     "base_uri": "https://localhost:8080/"
    },
    "id": "HHWAoyG-OeAV",
    "outputId": "061e658b-cc21-4bf1-d740-97bb5e6c69d3"
   },
   "outputs": [],
   "source": [
    "type(2)"
   ]
  },
  {
   "cell_type": "markdown",
   "metadata": {
    "id": "DFc8HEHkOoOD"
   },
   "source": [
    "```int``` is the *integer* data type. \n",
    "\n",
    "Now, here we come to our second distinction:"
   ]
  },
  {
   "cell_type": "markdown",
   "metadata": {
    "id": "MSHCTQPbO28m"
   },
   "source": [
    "## 2. Not all numbers are created equal\n"
   ]
  },
  {
   "cell_type": "markdown",
   "metadata": {
    "id": "e6dxTgGwEkpa"
   },
   "source": [
    "Integers are whole numbers. These are stored in computer memory differently than numbers with decimal places."
   ]
  },
  {
   "cell_type": "code",
   "execution_count": null,
   "metadata": {
    "colab": {
     "base_uri": "https://localhost:8080/"
    },
    "id": "03sXMGoJEyEF",
    "outputId": "d729c8ef-5983-498f-dce5-217f26f53829"
   },
   "outputs": [],
   "source": [
    "type(2.0)"
   ]
  },
  {
   "cell_type": "markdown",
   "metadata": {
    "id": "zxDvG4cQE5CI"
   },
   "source": [
    "```float``` is a *floating point number*, a number which *does* have a decimal point and numbers after it. These also take up more memory than whole number integers - so if our numbers don't have anything after the decimal point, it's going to be more efficient and faster to store and work with them as integers. That's not an issue when we only have a couple of numbers, but if we're working with huge datasets, it can make a sizeable difference. You wouldn't want to store the population of every small area of the Census of Population as a floating point number - counts are better as integers, and having them as floats will vastly increase the size of the data, for zero gain."
   ]
  },
  {
   "cell_type": "code",
   "execution_count": null,
   "metadata": {},
   "outputs": [],
   "source": [
    "pandas.Series([1, 2.0, 3, 4])"
   ]
  },
  {
   "cell_type": "markdown",
   "metadata": {},
   "source": [
    "Even having just one floating point value here means that all the values are stored as floating point values. Be careful with this - you can bloat your datasets and slow everything down with just one stray decimal place. Floats aren't a bad data type though, it's just about using the right type for particular data.\n",
    "\n",
    "Like integers, floats are a very common type for geospatial data. Almost anything that is measured will be stored as a float - distances, speeds, and temperatures, to name but a few.\n",
    "\n",
    "There is a bit more about floats below, but for now let's move on."
   ]
  },
  {
   "cell_type": "markdown",
   "metadata": {
    "id": "TjTNi2fDtGE2"
   },
   "source": [
    "## 3. Some numbers represent particular things"
   ]
  },
  {
   "cell_type": "markdown",
   "metadata": {
    "id": "7yHujoG3tr9S"
   },
   "source": [
    "When does 15+15 not equal 30?\n",
    "\n",
    "When it's February.\n",
    "\n",
    "A quick example, using the ```datetime``` module which tells Python how to handle dates and times. First we need to import it:"
   ]
  },
  {
   "cell_type": "code",
   "execution_count": null,
   "metadata": {
    "id": "4YbN16aftnsb"
   },
   "outputs": [],
   "source": [
    "import datetime\n"
   ]
  },
  {
   "cell_type": "markdown",
   "metadata": {},
   "source": [
    "Now let's set a date of 15 February 2024, by giving it numbers in the order Year, Month, Day:"
   ]
  },
  {
   "cell_type": "code",
   "execution_count": null,
   "metadata": {
    "colab": {
     "base_uri": "https://localhost:8080/"
    },
    "id": "WQrbS3Ju5-DW",
    "outputId": "e7417e6c-7deb-4573-a0d4-6bcd60806ea9"
   },
   "outputs": [],
   "source": [
    "datetime.date(2024,2,15)"
   ]
  },
  {
   "cell_type": "markdown",
   "metadata": {},
   "source": [
    "Now, let's add 15 days to that, by adding a *timedelta* (a period of time) of 15 days:"
   ]
  },
  {
   "cell_type": "code",
   "execution_count": null,
   "metadata": {
    "colab": {
     "base_uri": "https://localhost:8080/"
    },
    "id": "pmeGqoAv6MoL",
    "outputId": "74d646dd-6a8a-4ee1-bcfd-aa12769fb73c"
   },
   "outputs": [],
   "source": [
    "datetime.date(2024,2,15) + datetime.timedelta(days=15)"
   ]
  },
  {
   "cell_type": "markdown",
   "metadata": {
    "id": "yj0ZsbNg6V8T"
   },
   "source": [
    "```2024, 3, 1``` is, of course, the 1st of March 2024. Obviously, it doesn't produce a date of 30th February - because the datetime module knows that there's no such date. Dates, and times as well, work differently to normal numbers. \n",
    "\n",
    "Dates and times can be quite awkward - as you'll probably have noticed if you've used Excel much. Which brings up another issue - not all languages and software handle dates and times in the same way. Excel has one way, Python has another, and there's also some particular Python modules which have their own alternative formats. It's just something to be mindful of.\n",
    "\n",
    "Dates and times are one example, but not the only example, of cases where numbers don't come in isolation. A particularly relevant example in our case is the coordinates we use to record locations. For that, we need to consider other data types."
   ]
  },
  {
   "cell_type": "markdown",
   "metadata": {
    "id": "aRbvZgds8GYr"
   },
   "source": [
    "## 4. Tuples, lists, and dictionaries\n",
    "\n",
    "A single number as a coordinate is not very useful without the other coordinate. We'll get more into coordinate systems later, but for cases like these, Python has a data type called a tuple.\n",
    "\n",
    "Tuples are groups of multiple values. In Python, they're denoted by round brackets."
   ]
  },
  {
   "cell_type": "code",
   "execution_count": null,
   "metadata": {
    "colab": {
     "base_uri": "https://localhost:8080/",
     "height": 194
    },
    "id": "1cVnficV-e8T",
    "outputId": "2da14cfd-a657-4693-ff51-a7586351ee0b"
   },
   "outputs": [],
   "source": [
    "mytuple = (5, 8)\n",
    "type(mytuple)"
   ]
  },
  {
   "cell_type": "markdown",
   "metadata": {},
   "source": [
    "Those two numbers are now stored together. Tuples are good for coordinates, which of course need at least two numbers (e.g. latitude and longitude, or north and east). Keeping them together as one data object just keeps things simpler.\n",
    "\n",
    "Tuples can have more than two values as well - I only use two as the example, because that's what you'd have for coordinates. \n",
    "\n",
    "An important aspect of the tuple data type is that tuples are unchangeable. If we try to change one of those numbers, it won't work."
   ]
  },
  {
   "cell_type": "code",
   "execution_count": null,
   "metadata": {},
   "outputs": [],
   "source": [
    "mytuple[1] = 6"
   ]
  },
  {
   "cell_type": "markdown",
   "metadata": {
    "id": "eRetb47T8R6T"
   },
   "source": [
    "Because they're unchangeable, you can't accidentally modify them, which does come in handy at times.\n",
    "\n",
    "We'll come back to coordinates later. But sometimes you'll need a group of multiple values which you *can* change, and for that we have lists."
   ]
  },
  {
   "cell_type": "code",
   "execution_count": null,
   "metadata": {
    "colab": {
     "base_uri": "https://localhost:8080/"
    },
    "id": "Emhj3TKt_3wY",
    "outputId": "26c52230-b6b3-4fad-aac8-8d74f1900ba1"
   },
   "outputs": [],
   "source": [
    "mylist = [5, 8]\n",
    "type(mylist)"
   ]
  },
  {
   "cell_type": "markdown",
   "metadata": {},
   "source": [
    "If we try to change a value in a list like we failed to do for the tuple, this time it will work."
   ]
  },
  {
   "cell_type": "code",
   "execution_count": null,
   "metadata": {
    "colab": {
     "base_uri": "https://localhost:8080/"
    },
    "id": "YuETZe7wARnD",
    "outputId": "279063ad-f085-4601-83c3-536892da0653"
   },
   "outputs": [],
   "source": [
    "mylist[1] = 9\n",
    "mylist"
   ]
  },
  {
   "cell_type": "markdown",
   "metadata": {
    "id": "8-uqZlGHAVaN"
   },
   "source": [
    "Again, lists can have more than two values - and neither tuples nor lists are limited to integers. You can have tuples to store first names, middle names, and surnames; you can even create a List of people coming to an event, where the data in the list is the tuples containing first names, middle names, and surnames for everyone.\n",
    "\n",
    "In geospatial data, you might have a list for all the species of plants observed in a particular area, or the type of vehicles allowed on a particular road.\n",
    "\n",
    "And sometimes you'll want to store a group of multiple values with references to what the numbers represent - key:value pairs. For that, Python has dictionaries."
   ]
  },
  {
   "cell_type": "code",
   "execution_count": null,
   "metadata": {
    "colab": {
     "base_uri": "https://localhost:8080/"
    },
    "id": "9qyZZM_5Ao4B",
    "outputId": "d6e973eb-f1f8-49b0-bd96-0f6d7f52a717"
   },
   "outputs": [],
   "source": [
    "mydictionary = {\"Temperature\": 15, \"Pressure\": 1016, \"Humidity\": 83}\n",
    "mydictionary"
   ]
  },
  {
   "cell_type": "markdown",
   "metadata": {},
   "source": [
    "Dictionaries allow you to reference a value by its key:"
   ]
  },
  {
   "cell_type": "code",
   "execution_count": null,
   "metadata": {},
   "outputs": [],
   "source": [
    "mydictionary[\"Temperature\"]"
   ]
  },
  {
   "cell_type": "markdown",
   "metadata": {
    "id": "F7Cy5l1WBRss"
   },
   "source": [
    "You'll get used to these different data types if and when you need them, but it's at least good to be aware of these different kinds of data from the start."
   ]
  },
  {
   "cell_type": "markdown",
   "metadata": {
    "id": "xn3lPn60CRVq"
   },
   "source": [
    "## 5. Booleans\n",
    "\n",
    "One last type it's worth being aware of. Sometimes you don't need text or numbers, you just need to indicate a straight choice. Let's demonstrate by returning to our first example:"
   ]
  },
  {
   "cell_type": "code",
   "execution_count": null,
   "metadata": {
    "colab": {
     "base_uri": "https://localhost:8080/"
    },
    "id": "cVxtj8X0BQQ_",
    "outputId": "34493c11-a7e8-4415-c154-382dc08d4581"
   },
   "outputs": [],
   "source": [
    "2 == 2.0"
   ]
  },
  {
   "cell_type": "markdown",
   "metadata": {},
   "source": [
    "This checks if the integer 2 is equal to the floating point number 2.0. Of course it is, so this returns ```True```."
   ]
  },
  {
   "cell_type": "code",
   "execution_count": null,
   "metadata": {
    "colab": {
     "base_uri": "https://localhost:8080/"
    },
    "id": "E1C1aWQICo88",
    "outputId": "b529e297-3ad2-437e-d035-6858845be7da"
   },
   "outputs": [],
   "source": [
    "2 == \"2\""
   ]
  },
  {
   "cell_type": "markdown",
   "metadata": {
    "id": "DXYX6R1yCrmJ"
   },
   "source": [
    "This checks if the integer 2 is equal to the text character 2. Because they're different types of data, this isn't true. One is a number, the other is essentially a squiggle that just happens to be identical to the squiggle for the number. Since it's not true, this returns ```False```.\n",
    "\n",
    "The ```True``` and ```False``` here are what we refer to as *Boolean* values. These are commonly stored as ```1``` for ```True```, and ```0``` for ```False```. Data can be stored in this format, for example, from checkboxes. In geospatial data, you might use booleans to indicate if something is present or absent; for example, ```1``` if a parking space is an e-car charging point, ```0``` if not. "
   ]
  },
  {
   "cell_type": "markdown",
   "metadata": {
    "id": "pw12M6vTDXH1"
   },
   "source": [
    "## 6. The more complicated bits and bytes\n",
    "\n",
    "Numbers in a computer are not stored as the actual number. Computers store all information in short term memory or on a hard disk where each spot can have one of two values - just like a Boolean. Usually, these are considered as 1 or 0. These are *binary* numbers.\n",
    "\n",
    "(In Python, we can write numbers in binary if we prefix them with `0b`, which I'll use in the next couple of examples.)\n",
    "\n",
    "A binary number with one digit can give us only two values."
   ]
  },
  {
   "cell_type": "code",
   "execution_count": null,
   "metadata": {
    "colab": {
     "base_uri": "https://localhost:8080/"
    },
    "id": "pRYuL4pIFOCc",
    "outputId": "1db199c8-7f04-41d0-b049-186422022f16"
   },
   "outputs": [],
   "source": [
    "0b0"
   ]
  },
  {
   "cell_type": "code",
   "execution_count": null,
   "metadata": {
    "colab": {
     "base_uri": "https://localhost:8080/"
    },
    "id": "jAQhOM1yF44A",
    "outputId": "0baaf528-d106-42fb-904e-f4097618414e"
   },
   "outputs": [],
   "source": [
    "0b1"
   ]
  },
  {
   "cell_type": "markdown",
   "metadata": {
    "id": "VJwcEB2WHDmu"
   },
   "source": [
    "So far, so obvious - binary ```0``` is 0, and binary ```1``` is 1. But counting up to 1 won't get us very far.\n",
    "\n",
    "If we put two of these binary characters together, using two digits, we can represent up to 3."
   ]
  },
  {
   "cell_type": "code",
   "execution_count": null,
   "metadata": {},
   "outputs": [],
   "source": [
    "0b00"
   ]
  },
  {
   "cell_type": "code",
   "execution_count": null,
   "metadata": {},
   "outputs": [],
   "source": [
    "0b01"
   ]
  },
  {
   "cell_type": "code",
   "execution_count": null,
   "metadata": {},
   "outputs": [],
   "source": [
    "0b10"
   ]
  },
  {
   "cell_type": "code",
   "execution_count": null,
   "metadata": {
    "colab": {
     "base_uri": "https://localhost:8080/"
    },
    "id": "J7FGgHUUF8DK",
    "outputId": "38c87c19-cac3-4276-bbff-ae045eba3d74"
   },
   "outputs": [],
   "source": [
    "0b11"
   ]
  },
  {
   "cell_type": "markdown",
   "metadata": {
    "id": "FM6kRlztHp2T"
   },
   "source": [
    "Binary ```00``` is 0, binary ```01``` is 1, binary ```10``` is 2, and binary ```11``` is 3.\n",
    "\n",
    "Hence the old computer science joke, *\"there are 10 types of people in the world: those who understand binary, and those who don't.\"*\n",
    "\n",
    "Counting up to 3 isn't much better than counting up to 1, but we can just keep adding more characters to the binary if we want bigger numbers. \n",
    "\n",
    "If we go up to eight digits, that's enough to get us up to:"
   ]
  },
  {
   "cell_type": "code",
   "execution_count": null,
   "metadata": {
    "colab": {
     "base_uri": "https://localhost:8080/"
    },
    "id": "HKYmBlalHf1u",
    "outputId": "45b9fe6a-f521-42f0-bef0-8a5ca3484a92"
   },
   "outputs": [],
   "source": [
    "0b11111111"
   ]
  },
  {
   "cell_type": "markdown",
   "metadata": {
    "id": "bIvBc-CzHt5D"
   },
   "source": [
    "This is a bit oversimplified but: inside a computer, those single points in memory which can represent either 0 or 1 can be grouped together like this to store larger numbers. \n",
    "\n",
    "One point in memory is a *bit*. A group of eight of these points or *bits* is a *byte*. Because 8 binary digits can count up to 255, that means that a group of eight memory points or *bits* forming a *byte* can store number values between 0-255. \n",
    "\n",
    "If you want negative numbers, then you can use one of the eight bits to represent the + or - sign, and the remaining 7 bits for the number."
   ]
  },
  {
   "cell_type": "code",
   "execution_count": null,
   "metadata": {},
   "outputs": [],
   "source": [
    "-0b1111111"
   ]
  },
  {
   "cell_type": "markdown",
   "metadata": {},
   "source": [
    "Some early computers had 8-bit processors - meaning they could handle 8 bits, or one byte, at a time: 0-255, or -127 to +127. This didn't mean they couldn't process larger numbers; parts of the memory could be combined to store larger values. But it was a limit, and has left a lasting impact in the definition of many common file types, particularly for image files. \n",
    "\n",
    "For example, GIF images use one byte per colour, and so can only show 256 colours. JPG and PNG images use three bytes per colour - one byte each for red, green, and blue, for a total of 24 bits per colour - allowing 16,777,216 different colours, which is more than our eyes can distinguish. \n",
    "\n",
    "From the 1990s, when home computers became common, most had 32-bit processors."
   ]
  },
  {
   "cell_type": "code",
   "execution_count": null,
   "metadata": {
    "colab": {
     "base_uri": "https://localhost:8080/"
    },
    "id": "scbK5ku7KQzQ",
    "outputId": "a0ceb1f4-347e-403c-d778-c542291ffddc"
   },
   "outputs": [],
   "source": [
    "0b11111111111111111111111111111111"
   ]
  },
  {
   "cell_type": "markdown",
   "metadata": {
    "id": "bUcXFb3WKhcp"
   },
   "source": [
    "That's a much larger number, and allows a lot more, but one limit on that was still the references to the points in memory. 32-bit computers could only access that many bits of memory. 4,294,967,295 bytes is 4 gigabytes - so 32-bit computers could only use 4Gb of RAM.\n",
    "\n",
    "As computers became more powerful, more memory was needed, and now, most computers (like the one you're using) are generally 64-bit."
   ]
  },
  {
   "cell_type": "code",
   "execution_count": null,
   "metadata": {
    "colab": {
     "base_uri": "https://localhost:8080/"
    },
    "id": "rsTBMJosLD2j",
    "outputId": "f19c8481-e211-4c68-88af-10daa9917b10"
   },
   "outputs": [],
   "source": [
    "0b1111111111111111111111111111111111111111111111111111111111111111"
   ]
  },
  {
   "cell_type": "markdown",
   "metadata": {
    "id": "Psj1jR0lLG1Q"
   },
   "source": [
    "That will probably last a while. 18,446,744,073,709,551,615 bytes is 18.4 exabytes, and nobody needs 18.4 exabytes of RAM in their computer. That would be enough to hold the entire sum of human knowledge produced from the dawn of civilisation to the end of the 20th century in memory at the same time. We're not going to be moving to 128-bit computers any time soon.\n",
    "\n",
    "The broader point here is that numbers are usually stored by computers as 8-bit, 16-bit, 32-bit, or 64-bit. We saw an example in part 1 above, our pandas series:"
   ]
  },
  {
   "cell_type": "code",
   "execution_count": null,
   "metadata": {
    "colab": {
     "base_uri": "https://localhost:8080/"
    },
    "id": "UrEtrITjMps1",
    "outputId": "3340f3a9-ec62-443c-c0b8-3b09fb5e342d"
   },
   "outputs": [],
   "source": [
    "pandas.Series([1, 2, 3, 4])"
   ]
  },
  {
   "cell_type": "markdown",
   "metadata": {
    "id": "JweNAuitMv33"
   },
   "source": [
    "When we looked at this first, I said only that the ```int``` part of ```int64``` indicated that the data was stored as integers. The ```64``` bit of ```int64```  means that these numbers are being stored as a 64-bit values: the computer has allocated 64 bits of memory to hold each integer. That allows numbers up to 18,446,744,073,709,551,614, or between -9,223,372,036,854,775,807 and +9,223,372,036,854,775,807 if you need to allow for negative numbers. That'll do for most cases, I suspect!\n",
    "\n",
    "You might be wondering at this point why I'm getting quite so far into the nitty gritty details here. Part of my reason is simply so that when you see something like ```int32``` or ```int64```, or ```float32``` or ```float64```, you won't be left wondering what that means. \n",
    "\n",
    "But there's another quirk to this as well, and it's about the ```float32```s and ```float64```s. You might have noticed that I only used integers in the examples for this section so far. How can we represent a floating point number in binary?"
   ]
  },
  {
   "cell_type": "code",
   "execution_count": null,
   "metadata": {
    "colab": {
     "base_uri": "https://localhost:8080/",
     "height": 176
    },
    "id": "w-ickj6FMrKU",
    "outputId": "94ab4f72-241f-4c49-a6a6-9d0f82011e94"
   },
   "outputs": [],
   "source": [
    "bin(0.1)"
   ]
  },
  {
   "cell_type": "markdown",
   "metadata": {
    "id": "n3Dv_TcWOc59"
   },
   "source": [
    "You can't, not directly. \n",
    "\n",
    "How computers handle this is to approximate floating point numbers as binary fractions and exponents. Exactly how this works is beyond the scope here - you can look up *floating point arithmetic* if you want to know more - but what you *do* need to know is, this means that what you see is not always what you get.\n",
    "\n",
    "Take the number 0.1. Seems simple? It's short, not complicated, it shouldn't be a problem, right?"
   ]
  },
  {
   "cell_type": "code",
   "execution_count": null,
   "metadata": {
    "colab": {
     "base_uri": "https://localhost:8080/"
    },
    "id": "uLtJ__mLOapB",
    "outputId": "34b97e5d-1504-4015-ecaf-f1cafb2b12cf"
   },
   "outputs": [],
   "source": [
    "0.1"
   ]
  },
  {
   "cell_type": "markdown",
   "metadata": {},
   "source": [
    "Except, it turns out that 0.1 actually can't be represented accurately in this format. It might look fine there, but if we show more decimal places, we can see that 0.1 *isn't actually 0.1*."
   ]
  },
  {
   "cell_type": "code",
   "execution_count": null,
   "metadata": {
    "colab": {
     "base_uri": "https://localhost:8080/",
     "height": 35
    },
    "id": "X89p1rzdPC0X",
    "outputId": "1f7ffbe8-d98c-4cd2-c10b-3f81a8524d79"
   },
   "outputs": [],
   "source": [
    "\"{:.24f}\".format(0.1)"
   ]
  },
  {
   "cell_type": "markdown",
   "metadata": {
    "id": "x9n3mbEZP0-r"
   },
   "source": [
    "This just tells Python to show 0.1 to 24 decimal places - and while you'd expect all 24 *should* be zeros, they aren't.\n",
    "\n",
    "This can produce some very unexpected results:"
   ]
  },
  {
   "cell_type": "code",
   "execution_count": null,
   "metadata": {
    "colab": {
     "base_uri": "https://localhost:8080/"
    },
    "id": "sexf-ZbBPtnH",
    "outputId": "5d11d7b3-7ceb-442b-c128-2818946806ef"
   },
   "outputs": [],
   "source": [
    "0.1*3 == 0.3"
   ]
  },
  {
   "cell_type": "markdown",
   "metadata": {},
   "source": [
    "0.1 multiplied by 3 *should* equal 0.3 - but because of the approximation, three times *the value stored by a computer to represent 0.1* is not equal to *the value stored by the computer to represent 0.3*."
   ]
  },
  {
   "cell_type": "code",
   "execution_count": null,
   "metadata": {},
   "outputs": [],
   "source": [
    "\"{:.24f}\".format(0.1*3)"
   ]
  },
  {
   "cell_type": "code",
   "execution_count": null,
   "metadata": {},
   "outputs": [],
   "source": [
    "\"{:.24f}\".format(0.3)"
   ]
  },
  {
   "cell_type": "code",
   "execution_count": null,
   "metadata": {},
   "outputs": [],
   "source": [
    "\"{:.24f}\".format(0.1*3 - 0.3)"
   ]
  },
  {
   "cell_type": "markdown",
   "metadata": {
    "id": "8sBTZh9ZP4kM"
   },
   "source": [
    "This isn't a bug in Python, it's simply a result of how computers work, and will be the same in any software on any computer.\n",
    "\n",
    "In most cases, there's nothing you can or should do about this - but you absolutely should be aware of it, and mindful of it, so that you don't get any unexpected results - or at least so that you understand it when you do."
   ]
  },
  {
   "cell_type": "markdown",
   "metadata": {
    "id": "43UF_CAaQUuD"
   },
   "source": [
    "## 7. Hexadecimal\n",
    "\n",
    "Aside from decimal and binary, there's one other number system commonly used by computers, and that's hexadecimal, which is a base 16 number system. 'Base' in this context means 'how many different symbols are used to represent numbers'. \n",
    "\n",
    "Binary is base 2, using two symbols: 0 or 1. \n",
    "\n",
    "Our normal decimal numbers are base 10, with 10 symbols: 0, 1, 2, 3, 4, 5, 6, 7, 8, and 9. \n",
    "\n",
    "Hex, as base 16, needs more symbols for numbers than we have number symbols. Right at the top of this notebook, I said that sometimes letter characters can be used as parts of numbers - and this is what I had in mind when I wrote that. Hex uses the letters a, b, c, d, e, and f to represent additional numbers: a = 10, b = 11, c = 12, d = 13, e = 14, and f = 15.\n",
    "\n",
    "(In Python, the prefix `0x` is used to represent hex numbers)."
   ]
  },
  {
   "cell_type": "code",
   "execution_count": null,
   "metadata": {
    "colab": {
     "base_uri": "https://localhost:8080/"
    },
    "id": "2-zOOf2ZRDUJ",
    "outputId": "8f6aecb2-c406-4947-b22b-8d998608aeb3"
   },
   "outputs": [],
   "source": [
    "0xf == 15"
   ]
  },
  {
   "cell_type": "markdown",
   "metadata": {
    "id": "kQdtPbvyRYEe"
   },
   "source": [
    "You'll see this most commonly in HTML code for websites, where colours are represented by hex values for RGB (red, green, and blue). These are commonly written as a # followed by 6 digits, e.g. #000000 is black, #ffffff is white, #00ff00 is green, and #f8ed62 would be a shade of yellow.\n",
    "\n",
    "You might have realised why (but don't worry if you haven't, this stuff is not very intuitive):"
   ]
  },
  {
   "cell_type": "code",
   "execution_count": null,
   "metadata": {
    "colab": {
     "base_uri": "https://localhost:8080/"
    },
    "id": "GVUOnGjhS7nH",
    "outputId": "4d2f1b2d-f2a8-4a5e-abca-b5520280d595"
   },
   "outputs": [],
   "source": [
    "0xff"
   ]
  },
  {
   "cell_type": "markdown",
   "metadata": {
    "id": "WSdvVIe1S-Mi"
   },
   "source": [
    "Two hex characters can represent 256 different values - just the same as eight bits, or one byte. For this reason, bytes are sometimes represented by two hex characters.\n",
    "\n",
    "For this reason, hex might come up in other contexts, so best to be aware of it. Some environmental sensors I work with, for example, output their raw values as hex bytes, which means the code I had to write to process the values had to convert that to integers. It's generally an example of \"when you have to deal with it, you figure out how\", but it's good to be aware of it in case it comes up."
   ]
  },
  {
   "cell_type": "markdown",
   "metadata": {
    "id": "RG2RS1YHTpPZ"
   },
   "source": [
    "## 8. Summary\n",
    "\n",
    "You won't usually have to deal with the hex bytes or binary bits, but you will have to deal with data which comes in different kinds. You should now have a handle on the concept that computers store and treat data in different ways - text characters (strings, ```str```), integers (whole numbers, ```int```), decimals (floating point numbers, ```float```), dates and times, and combinations like tuples, lists, and dictionaries.\n",
    "\n",
    "It's not essential to memorise all of this right at the start. Through the internet, we have access to virtually the entirety of human knowledge through the smartphones in our pockets; we can look up the details when we need to. The important part is knowing the general concept."
   ]
  },
  {
   "cell_type": "markdown",
   "metadata": {},
   "source": [
    "___\n",
    "\n",
    "Week 1 Notebooks: \n",
    "\n",
    "1. Geospatial Software and Programming Languages <a href=\"https://colab.research.google.com/github/bamacgabhann/GY5021/blob/2024/GY5021/1_Introduction_to_Geospatial_Data/GY5021_1_Geospatial_Software_and_Programming_Languages.ipynb\" target=\"_parent\"><img src=\"https://colab.research.google.com/assets/colab-badge.svg\" alt=\"Open In Colab\"/></a>     <a href=\"https://mybinder.org/v2/gh/bamacgabhann/GY5021/9a706c8973d5bde0e50593ecc94941b0426f24a6?urlpath=lab%2Ftree%2FGY5021%2F1_Introduction_to_Geospatial_Data%2FGY5021_1_Geospatial_Software_and_Programming_Languages.ipynb\" target=\"_parent\"><img src=\"https://mybinder.org/badge_logo.svg\" alt=\"Open in Binder\" /></a>\n",
    "\n",
    "2. Data Types <a href=\"https://colab.research.google.com/github/bamacgabhann/GY5021/blob/2024/GY5021/1_Introduction_to_Geospatial_Data/GY5021_2_Data_Types.ipynb\" target=\"_parent\"><img src=\"https://colab.research.google.com/assets/colab-badge.svg\" alt=\"Open In Colab\"/></a>     <a href=\"https://mybinder.org/v2/gh/bamacgabhann/GY5021/9a706c8973d5bde0e50593ecc94941b0426f24a6?urlpath=lab%2Ftree%2FGY5021%2F1_Introduction_to_Geospatial_Data%2FGY5021_2_Data_Types.ipynb\" target=\"_parent\"><img src=\"https://mybinder.org/badge_logo.svg\" alt=\"Open in Binder\" /></a>\n",
    "\n",
    "3. Vector Data <a href=\"https://colab.research.google.com/github/bamacgabhann/GY5021/blob/2024/GY5021/1_Introduction_to_Geospatial_Data/GY5021_3_Vector_Data.ipynb\" target=\"_parent\"><img src=\"https://colab.research.google.com/assets/colab-badge.svg\" alt=\"Open In Colab\"/></a>     <a href=\"https://mybinder.org/v2/gh/bamacgabhann/GY5021/9a706c8973d5bde0e50593ecc94941b0426f24a6?urlpath=lab%2Ftree%2FGY5021%2F1_Introduction_to_Geospatial_Data%2FGY5021_3_Vector_Data.ipynb\" target=\"_parent\"><img src=\"https://mybinder.org/badge_logo.svg\" alt=\"Open in Binder\" /></a>\n",
    "\n",
    "4. Attribute Data <a href=\"https://colab.research.google.com/github/bamacgabhann/GY5021/blob/2024/GY5021/1_Introduction_to_Geospatial_Data/GY5021_4_Attribute_Data.ipynb\" target=\"_parent\"><img src=\"https://colab.research.google.com/assets/colab-badge.svg\" alt=\"Open In Colab\"/></a>     <a href=\"https://mybinder.org/v2/gh/bamacgabhann/GY5021/9a706c8973d5bde0e50593ecc94941b0426f24a6?urlpath=lab%2Ftree%2FGY5021%2F1_Introduction_to_Geospatial_Data%2FGY5021_4_Attribute_Data.ipynb\" target=\"_parent\"><img src=\"https://mybinder.org/badge_logo.svg\" alt=\"Open in Binder\" /></a>\n",
    "\n",
    "5. Coordinate Reference Systems <a href=\"https://colab.research.google.com/github/bamacgabhann/GY5021/blob/2024/GY5021/1_Introduction_to_Geospatial_Data/GY5021_5_Coordinate_Reference_Systems.ipynb\" target=\"_parent\"><img src=\"https://colab.research.google.com/assets/colab-badge.svg\" alt=\"Open In Colab\"/></a>     <a href=\"https://mybinder.org/v2/gh/bamacgabhann/GY5021/9a706c8973d5bde0e50593ecc94941b0426f24a6?urlpath=lab%2Ftree%2FGY5021%2F1_Introduction_to_Geospatial_Data%2FGY5021_5_Coordinate_Reference_Systems.ipynb\" target=\"_parent\"><img src=\"https://mybinder.org/badge_logo.svg\" alt=\"Open in Binder\" /></a>\n",
    "\n",
    "6. Geospatial Data Files <a href=\"https://colab.research.google.com/github/bamacgabhann/GY5021/blob/2024/GY5021/1_Introduction_to_Geospatial_Data/GY5021_6_Geospatial_Data_Files.ipynb\" target=\"_parent\"><img src=\"https://colab.research.google.com/assets/colab-badge.svg\" alt=\"Open In Colab\"/></a>     <a href=\"https://mybinder.org/v2/gh/bamacgabhann/GY5021/9a706c8973d5bde0e50593ecc94941b0426f24a6?urlpath=lab%2Ftree%2FGY5021%2F1_Introduction_to_Geospatial_Data%2FGY5021_6_Geospatial_Data_Files.ipynb\" target=\"_parent\"><img src=\"https://mybinder.org/badge_logo.svg\" alt=\"Open in Binder\" /></a>\n",
    "\n",
    "7. Vector Geoprocessing <a href=\"https://colab.research.google.com/github/bamacgabhann/GY5021/blob/2024/GY5021/1_Introduction_to_Geospatial_Data/GY5021_7_Vector_Geoprocessing.ipynb\" target=\"_parent\"><img src=\"https://colab.research.google.com/assets/colab-badge.svg\" alt=\"Open In Colab\"/></a>     <a href=\"https://mybinder.org/v2/gh/bamacgabhann/GY5021/9a706c8973d5bde0e50593ecc94941b0426f24a6?urlpath=lab%2Ftree%2FGY5021%2F1_Introduction_to_Geospatial_Data%2FGY5021_7_Vector_Geoprocessing.ipynb\" target=\"_parent\"><img src=\"https://mybinder.org/badge_logo.svg\" alt=\"Open in Binder\" /></a>\n",
    "\n",
    "Additional:\n",
    "\n",
    "- The Python Language <a href=\"https://colab.research.google.com/github/bamacgabhann/GY5021/blob/2024/GY5021/1_Introduction_to_Geospatial_Data/GY5021_The_Python_Language.ipynb\" target=\"_parent\"><img src=\"https://colab.research.google.com/assets/colab-badge.svg\" alt=\"Open In Colab\"/></a>     <a href=\"https://mybinder.org/v2/gh/bamacgabhann/GY5021/9a706c8973d5bde0e50593ecc94941b0426f24a6?urlpath=lab%2Ftree%2FGY5021%2F1_Introduction_to_Geospatial_Data%2FGY5021_The_Python_Language.ipynb\" target=\"_parent\"><img src=\"https://mybinder.org/badge_logo.svg\" alt=\"Open in Binder\" /></a>\n",
    "\n",
    "- Getting Started Seriously With Python <a href=\"https://colab.research.google.com/github/bamacgabhann/GY5021/blob/2024/GY5021/1_Introduction_to_Geospatial_Data/GY5021_Getting_Started_Seriously_With_Python.ipynb\" target=\"_parent\"><img src=\"https://colab.research.google.com/assets/colab-badge.svg\" alt=\"Open In Colab\"/></a>     <a href=\"https://mybinder.org/v2/gh/bamacgabhann/GY5021/9a706c8973d5bde0e50593ecc94941b0426f24a6?urlpath=lab%2Ftree%2FGY5021%2F1_Introduction_to_Geospatial_Data%2FGY5021_Getting_Started_Seriously_With_Python.ipynb\" target=\"_parent\"><img src=\"https://mybinder.org/badge_logo.svg\" alt=\"Open in Binder\" /></a>"
   ]
  }
 ],
 "metadata": {
  "colab": {
   "authorship_tag": "ABX9TyN49Tqysg4lswv88aEqrNzD",
   "include_colab_link": true,
   "mount_file_id": "1QwTJa00pleulGz5esKp-9q1djd3CXdvz",
   "provenance": []
  },
  "kernelspec": {
   "display_name": "IEOS2023",
   "language": "python",
   "name": "ieos2023"
  },
  "language_info": {
   "codemirror_mode": {
    "name": "ipython",
    "version": 3
   },
   "file_extension": ".py",
   "mimetype": "text/x-python",
   "name": "python",
   "nbconvert_exporter": "python",
   "pygments_lexer": "ipython3",
   "version": "3.11.6"
  }
 },
 "nbformat": 4,
 "nbformat_minor": 4
}
