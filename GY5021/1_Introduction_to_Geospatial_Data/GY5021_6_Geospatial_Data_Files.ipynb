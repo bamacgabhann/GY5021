{
 "cells": [
  {
   "cell_type": "markdown",
   "id": "446bd4f7-a01c-44b4-a519-5642417dc360",
   "metadata": {
    "colab_type": "text",
    "id": "view-in-github"
   },
   "source": [
    "<a href=\"https://colab.research.google.com/github/bamacgabhann/GY5021/blob/2024/GY5021/1_Introduction_to_Geospatial_Data/GY5021_6_Geospatial_Data_Files.ipynb\" target=\"_parent\"><img src=\"https://colab.research.google.com/assets/colab-badge.svg\" alt=\"Open In Colab\"/></a>     <a href=\"https://mybinder.org/v2/gh/bamacgabhann/GY5021/9a706c8973d5bde0e50593ecc94941b0426f24a6?urlpath=lab%2Ftree%2FGY5021%2F1_Introduction_to_Geospatial_Data%2FGY5021_6_Geospatial_Data_Files.ipynb\" target=\"_parent\"><img src=\"https://mybinder.org/badge_logo.svg\" alt=\"Open in Binder\" /></a>"
   ]
  },
  {
   "cell_type": "markdown",
   "id": "222f2e74-5153-4867-b248-b973c1a3c6f4",
   "metadata": {},
   "source": [
    "<img src=\"https://raw.githubusercontent.com/bamacgabhann/GY5021/2024/PD_logo.png\" align=center alt=\"UL Geography logo\"/>"
   ]
  },
  {
   "cell_type": "markdown",
   "id": "d5d3b3d9-f7e8-474b-ad92-ff4f469c627a",
   "metadata": {
    "id": "j-2xUUAfX0xa"
   },
   "source": [
    "# Creating and Using Geospatial Data Files\n",
    "\n",
    "So now we know that geospatial data can be in the form of dataframes containing coordinates with associated attributes, and we know how to use different kinds of coordinates. We're almost ready to use real geospatial data.\n",
    "\n",
    "But how do we get our real geospatial data into whatever tool we're using? How do we save geospatial data to a file? \n",
    "\n",
    "Word documents use ```.docx``` files, but not all word processors do, OpenOffice uses ```.odx``` files for example. Is geospatial data like that, with different programs having different ways of saving files? Can some software only open certain files?\n",
    "\n",
    "Well, it's both simpler and more complicated than that, but the good news is that most geospatial tools will be able to read most forms of geospatial data files. \n",
    "\n",
    "The less good news is that there's a few different formats you should get familiar with. I'll discuss 5 different vector geospatial formats here in particular."
   ]
  },
  {
   "cell_type": "markdown",
   "id": "5279363f-83af-4664-a461-e4fd4ae62128",
   "metadata": {},
   "source": [
    "## 1. CSV - Comma Separated Values\n",
    "\n",
    "CSV files are very simple. Each row of the data is on a different line, with the values for different columns separated by commas. Let's demonstrate using the air pollution data from the Attribute Data notebook:"
   ]
  },
  {
   "cell_type": "code",
   "execution_count": null,
   "id": "1d77e65b-4d0e-4bf6-bee6-8c454c97ef8e",
   "metadata": {},
   "outputs": [],
   "source": [
    "import pandas as pd\n",
    "import geopandas as gpd\n",
    "from shapely import Point"
   ]
  },
  {
   "cell_type": "code",
   "execution_count": null,
   "id": "ea29991d-8bd2-4029-a121-91fb5311e97e",
   "metadata": {},
   "outputs": [],
   "source": [
    "gdf = gpd.GeoDataFrame(\n",
    "    {\n",
    "        \"Measurement_time\": [\n",
    "            \"2023-11-01 08:00:00\",\n",
    "            \"2023-11-01 08:00:30\",\n",
    "            \"2023-11-01 08:01:00\",\n",
    "            \"2023-11-01 08:01:30\",\n",
    "            \"2023-11-01 08:02:00\",\n",
    "        ],\n",
    "        \"PM2.5\": [3, 4, 6, 2, 3],\n",
    "        \"PM10\": [5, 6, 5, 3, 4],\n",
    "        \"Pressure\": [1012, 1012, 1012, 1013, 1013],\n",
    "        \"Temperature\": [12, 12, 13, 13, 13],\n",
    "        \"Humidity\": [86, 86, 87, 87, 87],\n",
    "        \"geometry\": [Point(555173, 654321), Point(555173, 654321), Point(555173, 654321), Point(555173, 654321), Point(555173, 654321)],\n",
    "    }\n",
    ")\n",
    "gdf['timestamp'] = pd.to_datetime(gdf['Measurement_time'])\n",
    "gdf = gdf.set_index('timestamp')\n",
    "gdf = gdf.drop(columns=\"Measurement_time\")\n",
    "gdf = gdf.set_crs('epsg:2157')\n",
    "gdf"
   ]
  },
  {
   "cell_type": "code",
   "execution_count": null,
   "id": "5a5ef101-d466-4f9d-b128-722bfefd3ad3",
   "metadata": {},
   "outputs": [],
   "source": [
    "print(gdf.crs)"
   ]
  },
  {
   "cell_type": "markdown",
   "id": "fefa1f17-7e67-426c-889d-2b8ddb40fd96",
   "metadata": {},
   "source": [
    "We can save this as a CSV:"
   ]
  },
  {
   "cell_type": "code",
   "execution_count": null,
   "id": "68452b83-a204-4fed-9d39-732a00a24974",
   "metadata": {},
   "outputs": [],
   "source": [
    "gdf.to_csv('sample_data/ap.csv')"
   ]
  },
  {
   "cell_type": "markdown",
   "id": "2f401a21-a790-42d9-9e1d-778142d5659a",
   "metadata": {},
   "source": [
    "and then look at what the contents of the file look like:"
   ]
  },
  {
   "cell_type": "code",
   "execution_count": null,
   "id": "0a751f17-2360-44e5-b621-c507ffe4fb2e",
   "metadata": {},
   "outputs": [],
   "source": [
    "with open('sample_data/ap.csv', 'r') as f:\n",
    "    content = f.read()\n",
    "\n",
    "print (content)"
   ]
  },
  {
   "cell_type": "markdown",
   "id": "22061464-18f0-4dd4-bb9b-bc0c9c085bce",
   "metadata": {},
   "source": [
    "It's very simple and straightforward. Because of this, you'll find a lot of geospatial data saved as CSV files.\n",
    "\n",
    "However - the CSV format wasn't designed for geospatial data, and one thing it doesn't do is save any information about the coordinate reference system. That has to be manually managed if you're using CSVs. Which is often fine - but there are other formats which do save the CRS (and other associated information)."
   ]
  },
  {
   "cell_type": "markdown",
   "id": "c02c17dc-9159-415c-9476-8c03a704fda3",
   "metadata": {},
   "source": [
    "## 2. ESRI Shapefiles\n",
    "\n",
    "Probably the most common geospatial data format is the ESRI shapefile. Let's have a look:"
   ]
  },
  {
   "cell_type": "code",
   "execution_count": null,
   "id": "7dfda5ca-eb7a-4ace-9fe1-96482f5cd49c",
   "metadata": {},
   "outputs": [],
   "source": [
    "gdf.to_file('sample_data/ap.shp')"
   ]
  },
  {
   "cell_type": "markdown",
   "id": "020147d0-797b-48b8-bff7-b70f0d3005fc",
   "metadata": {},
   "source": [
    "Whoops. Okay, well, straight away we can see a disadvantage of the shapefile format. Let's change the datetime data to text, and try that again:"
   ]
  },
  {
   "cell_type": "code",
   "execution_count": null,
   "id": "ee7d130e-face-4827-bb68-cd2e0f9863c1",
   "metadata": {},
   "outputs": [],
   "source": [
    "gdf_shp = gdf.reset_index()\n",
    "gdf_shp['timestamp'] = gdf_shp['timestamp'].dt.strftime('%Y-%m-%d %H:%M:%S')\n",
    "gdf_shp"
   ]
  },
  {
   "cell_type": "code",
   "execution_count": null,
   "id": "9fbc4b04-5298-4e8b-aff6-9c7126ca56d5",
   "metadata": {},
   "outputs": [],
   "source": [
    "gdf_shp.to_file('sample_data/ap.shp')"
   ]
  },
  {
   "cell_type": "markdown",
   "id": "b7e153c8-4ee3-423a-986e-8e871d3bf612",
   "metadata": {},
   "source": [
    "Well, the warning there is giving us another limitation of the format."
   ]
  },
  {
   "cell_type": "code",
   "execution_count": null,
   "id": "b41b76c6-0752-42ae-8cd7-8af4245c3818",
   "metadata": {},
   "outputs": [],
   "source": [
    "gdf_from_shp = gpd.read_file('sample_data/ap.shp')\n",
    "gdf_from_shp"
   ]
  },
  {
   "cell_type": "markdown",
   "id": "5e0b55e4-90e9-48e8-b35a-d891a8857eda",
   "metadata": {},
   "source": [
    "I guess we just lost the 'e' at the end of 'Temperatur', so it could be worse, but that could be very irritating.\n",
    "\n",
    "Now, I can't show you the inside of a shapefile in the same way that I could with a CSV, because there's a fundamental difference here. CSVs are text files - whatever you type in, that's how it's saved. But shapefiles are a *binary* format - the data is saved as the binary representation rather than the straight text representation. I can show you the contents translated from binary:"
   ]
  },
  {
   "cell_type": "code",
   "execution_count": null,
   "id": "5c8f2742-ae5e-4aed-bfe3-1c3bd151278a",
   "metadata": {},
   "outputs": [],
   "source": [
    "with open('sample_data/ap.shp', 'rb') as f:\n",
    "    content = f.read()\n",
    "\n",
    "print (content)"
   ]
  },
  {
   "cell_type": "markdown",
   "id": "7d4fb1ee-b63e-4bbe-ac9a-96932fe9376d",
   "metadata": {},
   "source": [
    "Not really all that informative, to be honest. \n",
    "\n",
    "Now, there is another issue with shapefiles as well. If you look into the ```sample_data``` folder where it was saved, you'll also see files called ```ap.cpg```, ```ap.dbf```, and ```ap.shx```. We didn't ask to create any of those - but they are created with a shapefile.\n",
    "\n",
    "The reason for this is ultimately the same as the 10-character limit for column names, and the lack of support for datetime columns. The shapefile format was created in the 1980s when GIS started. Computers in the 1980s were far less powerful than modern computers, and so, over time as more was possible in GIS, more data was needed to be saved than the original shapefile format allowed. Rather than changing to a new format, the format was simply extended to save the additional information in these *sidecar* files. \n",
    "\n",
    "All of this is very irritating. True, it's just a minor irritation, but every year since I started teaching GIS, I've had an issue where a student comes to me in a panic saying \"my map has stopped working, help!\". And when I go to help them, I see that their data folder has the ```.shp``` file, but none of the additional sidecar files. \"Oh\", will say the student, \"I noticed all those extra files in the folder and I wanted to tidy it up, so I deleted them all\". \n",
    "\n",
    "Every year. Anyway, don't do that. Or even better, just don't use shapefiles.\n",
    "\n",
    "Even all these minor irritations aren't the main reason not to use shapfiles. The main reason not to use the format is that it's horribly slow and memory inefficient. There are formats which take up less space, and are literally hundreds of times faster than shapefiles. The amount of compute time across the world wasted due to reading and writing shapefiles probably accounts for a measurable amount of climate change. \n",
    "\n",
    "But somehow, despite all the limitations, it's still the default geospatial vector file format, so you're going to come across it a lot, unfortunately - especially if you're using ArcGIS Pro, because it's still ESRI's default format."
   ]
  },
  {
   "cell_type": "markdown",
   "id": "6628e332-ced9-465c-8c73-5d2d8334dbac",
   "metadata": {},
   "source": [
    "## 3. GeoPackage and GeoDataBase\n",
    "\n",
    "The default file format in QGIS, geopackage files save geospatial data in a database format, using SQLite. Now, I'm not an expert in databases, but using a database format means the files are optimised for fast retrieval of data.\n",
    "\n",
    "Geopackage files are essentially the standard open source alternative to shapefiles, and are a vast improvement. They don't have a limitation on datetime fields, or the length of column names; and not only are there no sidecar files, you can actually save multiple data layers to a single geopackage file. We can do:"
   ]
  },
  {
   "cell_type": "code",
   "execution_count": null,
   "id": "82c73b67-dcc4-4eeb-ad07-87d49c3e949a",
   "metadata": {},
   "outputs": [],
   "source": [
    "gdf.to_file('sample_data/ap.gpkg')"
   ]
  },
  {
   "cell_type": "markdown",
   "id": "cd32b544-2023-46cb-9198-9987c4b27078",
   "metadata": {},
   "source": [
    "and that works, which the shapefile version didn't until we'd made some changes - but if we also had data from another sensor, or map data for the area around the location, we could save it to the same file, with a different layer name. So, if you have multiple layers, rather than 4-6 files per layer with shapefiles, you could have one file for *all* of your layers. That's tidy.\n",
    "\n",
    "Geopackages are a bit slow though. They're an order of magnitude faster than shapefiles, but there are still faster new formats. \n",
    "\n",
    "GeoDataBase files are ESRI's database-format based files.\n",
    "\n",
    "Both QGIS and ArcGIS Pro can read both GeoPackage and GeoDataBase files, so there's no real concerns over data sharing with users using different formats."
   ]
  },
  {
   "cell_type": "markdown",
   "id": "37ca2b04-414e-4629-9f8e-45a554212c91",
   "metadata": {},
   "source": [
    "## 4. Feather and Parquet\n",
    "\n",
    "Without getting even further into computer science than I already have, it would be difficult to really explain just why these formats are so good. They're based around the Apache Arrow data format, and for now let's just say that it's an incredibly efficient binary format. The files are smaller, and they can be written and read literally hundreds of times faster than other formats. The Open Geospatial Consortium has defined geospatial versions, GeoFeather and GeoParquet, which is what GeoPandas is actually using when we run:"
   ]
  },
  {
   "cell_type": "code",
   "execution_count": null,
   "id": "963ceee1-77f5-4189-b36d-1d15fec6677f",
   "metadata": {},
   "outputs": [],
   "source": [
    "gdf.to_parquet('sample_data/ap.parquet')\n",
    "gdf.to_feather('sample_data/ap.feather')"
   ]
  },
  {
   "cell_type": "markdown",
   "id": "9b0c13f0-73d5-474a-9c5a-117e796f4e2c",
   "metadata": {},
   "source": [
    "So if we read them back in, it doesn't lose geospatial information:"
   ]
  },
  {
   "cell_type": "code",
   "execution_count": null,
   "id": "ea74b252-7391-461f-899d-b4548f2d8d9d",
   "metadata": {},
   "outputs": [],
   "source": [
    "gdf_p = gpd.read_parquet('sample_data/ap.parquet')\n",
    "gdf_p.crs"
   ]
  },
  {
   "cell_type": "code",
   "execution_count": null,
   "id": "367de475-712a-42ea-821c-07899e019ceb",
   "metadata": {},
   "outputs": [],
   "source": [
    "gdf_f = gpd.read_feather('sample_data/ap.feather')\n",
    "gdf_f.crs"
   ]
  },
  {
   "cell_type": "markdown",
   "id": "26997912-b8bd-4d0c-8d9b-f29aefb865f9",
   "metadata": {},
   "source": [
    "These formats are very, very new, so they're not enormously widespread yet, and they are still being developed fully. But if you might do more than occasionally play with geospatial data, it's very worth being aware of them - and expect to see them becoming a lot more common in the future."
   ]
  },
  {
   "cell_type": "markdown",
   "id": "16ecfb87-a7ca-41cb-9b00-227eea21a589",
   "metadata": {},
   "source": [
    "## 5. GeoJSON\n",
    "\n",
    "GeoJSON files are more or less the standard for geospatial data being transmitted over the internet - for example, sensor data. Or, if you've ever used a real-time public transport information app, the app was receiving data as a GeoJSON file to tell you how long you'd be waiting."
   ]
  },
  {
   "cell_type": "code",
   "execution_count": null,
   "id": "b2554785-bc66-44f1-9e4c-12d36d8352b6",
   "metadata": {},
   "outputs": [],
   "source": [
    "gdf.to_file('sample_data/ap.geojson', driver='GeoJSON')"
   ]
  },
  {
   "cell_type": "code",
   "execution_count": null,
   "id": "3f74ca20-5cac-4bf1-a980-0f1cf7928d00",
   "metadata": {},
   "outputs": [],
   "source": [
    "with open('sample_data/ap.geojson', 'r') as f:\n",
    "    content = f.read()\n",
    "\n",
    "print (content)"
   ]
  },
  {
   "cell_type": "markdown",
   "id": "63a91901-5833-4335-b311-4915c81c4c2c",
   "metadata": {},
   "source": [
    "As you can see there, the GeoJSON format is somewhat human readable. You can see each feature separately, and every piece of data for each feature is labelled.\n",
    "\n",
    "Of course, this would be a massive disadvantage in terms of file size. This is essentially like a CSV, but adding the relevant column header before every single piece of data. Even in this short example, you can see how often those are repeated.\n",
    "\n",
    "But this format isn't intended for storage of huge datasets. It's intended for sending short snippets of data in a format that a person can understand. You wouldn't want to be storing 5 million data points in this format - but it has its place."
   ]
  },
  {
   "cell_type": "markdown",
   "id": "e7cb873d-8570-4aeb-970e-f122b2938b2c",
   "metadata": {},
   "source": [
    "## Next\n",
    "\n",
    "Now that we've been introduced to the main geospatial vector data formats, we're ready to start looking at doing some geoprocessing of vector geospatial data. Next Notebook uses some real data."
   ]
  },
  {
   "cell_type": "markdown",
   "id": "804a45bc-064d-4645-a896-efc51965d539",
   "metadata": {},
   "source": [
    "___\n",
    "\n",
    "Week 1 Notebooks: \n",
    "\n",
    "1. Geospatial Software and Programming Languages <a href=\"https://colab.research.google.com/github/bamacgabhann/GY5021/blob/2024/GY5021/1_Introduction_to_Geospatial_Data/GY5021_1_Geospatial_Software_and_Programming_Languages.ipynb\" target=\"_parent\"><img src=\"https://colab.research.google.com/assets/colab-badge.svg\" alt=\"Open In Colab\"/></a>     <a href=\"https://mybinder.org/v2/gh/bamacgabhann/GY5021/9a706c8973d5bde0e50593ecc94941b0426f24a6?urlpath=lab%2Ftree%2FGY5021%2F1_Introduction_to_Geospatial_Data%2FGY5021_1_Geospatial_Software_and_Programming_Languages.ipynb\" target=\"_parent\"><img src=\"https://mybinder.org/badge_logo.svg\" alt=\"Open in Binder\" /></a>\n",
    "\n",
    "2. Data Types <a href=\"https://colab.research.google.com/github/bamacgabhann/GY5021/blob/2024/GY5021/1_Introduction_to_Geospatial_Data/GY5021_2_Data_Types.ipynb\" target=\"_parent\"><img src=\"https://colab.research.google.com/assets/colab-badge.svg\" alt=\"Open In Colab\"/></a>     <a href=\"https://mybinder.org/v2/gh/bamacgabhann/GY5021/9a706c8973d5bde0e50593ecc94941b0426f24a6?urlpath=lab%2Ftree%2FGY5021%2F1_Introduction_to_Geospatial_Data%2FGY5021_2_Data_Types.ipynb\" target=\"_parent\"><img src=\"https://mybinder.org/badge_logo.svg\" alt=\"Open in Binder\" /></a>\n",
    "\n",
    "3. Vector Data <a href=\"https://colab.research.google.com/github/bamacgabhann/GY5021/blob/2024/GY5021/1_Introduction_to_Geospatial_Data/GY5021_3_Vector_Data.ipynb\" target=\"_parent\"><img src=\"https://colab.research.google.com/assets/colab-badge.svg\" alt=\"Open In Colab\"/></a>     <a href=\"https://mybinder.org/v2/gh/bamacgabhann/GY5021/9a706c8973d5bde0e50593ecc94941b0426f24a6?urlpath=lab%2Ftree%2FGY5021%2F1_Introduction_to_Geospatial_Data%2FGY5021_3_Vector_Data.ipynb\" target=\"_parent\"><img src=\"https://mybinder.org/badge_logo.svg\" alt=\"Open in Binder\" /></a>\n",
    "\n",
    "4. Attribute Data <a href=\"https://colab.research.google.com/github/bamacgabhann/GY5021/blob/2024/GY5021/1_Introduction_to_Geospatial_Data/GY5021_4_Attribute_Data.ipynb\" target=\"_parent\"><img src=\"https://colab.research.google.com/assets/colab-badge.svg\" alt=\"Open In Colab\"/></a>     <a href=\"https://mybinder.org/v2/gh/bamacgabhann/GY5021/9a706c8973d5bde0e50593ecc94941b0426f24a6?urlpath=lab%2Ftree%2FGY5021%2F1_Introduction_to_Geospatial_Data%2FGY5021_4_Attribute_Data.ipynb\" target=\"_parent\"><img src=\"https://mybinder.org/badge_logo.svg\" alt=\"Open in Binder\" /></a>\n",
    "\n",
    "5. Coordinate Reference Systems <a href=\"https://colab.research.google.com/github/bamacgabhann/GY5021/blob/2024/GY5021/1_Introduction_to_Geospatial_Data/GY5021_5_Coordinate_Reference_Systems.ipynb\" target=\"_parent\"><img src=\"https://colab.research.google.com/assets/colab-badge.svg\" alt=\"Open In Colab\"/></a>     <a href=\"https://mybinder.org/v2/gh/bamacgabhann/GY5021/9a706c8973d5bde0e50593ecc94941b0426f24a6?urlpath=lab%2Ftree%2FGY5021%2F1_Introduction_to_Geospatial_Data%2FGY5021_5_Coordinate_Reference_Systems.ipynb\" target=\"_parent\"><img src=\"https://mybinder.org/badge_logo.svg\" alt=\"Open in Binder\" /></a>\n",
    "\n",
    "6. Geospatial Data Files <a href=\"https://colab.research.google.com/github/bamacgabhann/GY5021/blob/2024/GY5021/1_Introduction_to_Geospatial_Data/GY5021_6_Geospatial_Data_Files.ipynb\" target=\"_parent\"><img src=\"https://colab.research.google.com/assets/colab-badge.svg\" alt=\"Open In Colab\"/></a>     <a href=\"https://mybinder.org/v2/gh/bamacgabhann/GY5021/9a706c8973d5bde0e50593ecc94941b0426f24a6?urlpath=lab%2Ftree%2FGY5021%2F1_Introduction_to_Geospatial_Data%2FGY5021_6_Geospatial_Data_Files.ipynb\" target=\"_parent\"><img src=\"https://mybinder.org/badge_logo.svg\" alt=\"Open in Binder\" /></a>\n",
    "\n",
    "7. Vector Geoprocessing <a href=\"https://colab.research.google.com/github/bamacgabhann/GY5021/blob/2024/GY5021/1_Introduction_to_Geospatial_Data/GY5021_7_Vector_Geoprocessing.ipynb\" target=\"_parent\"><img src=\"https://colab.research.google.com/assets/colab-badge.svg\" alt=\"Open In Colab\"/></a>     <a href=\"https://mybinder.org/v2/gh/bamacgabhann/GY5021/9a706c8973d5bde0e50593ecc94941b0426f24a6?urlpath=lab%2Ftree%2FGY5021%2F1_Introduction_to_Geospatial_Data%2FGY5021_7_Vector_Geoprocessing.ipynb\" target=\"_parent\"><img src=\"https://mybinder.org/badge_logo.svg\" alt=\"Open in Binder\" /></a>\n",
    "\n",
    "Additional:\n",
    "\n",
    "- The Python Language <a href=\"https://colab.research.google.com/github/bamacgabhann/GY5021/blob/2024/GY5021/1_Introduction_to_Geospatial_Data/GY5021_The_Python_Language.ipynb\" target=\"_parent\"><img src=\"https://colab.research.google.com/assets/colab-badge.svg\" alt=\"Open In Colab\"/></a>     <a href=\"https://mybinder.org/v2/gh/bamacgabhann/GY5021/9a706c8973d5bde0e50593ecc94941b0426f24a6?urlpath=lab%2Ftree%2FGY5021%2F1_Introduction_to_Geospatial_Data%2FGY5021_The_Python_Language.ipynb\" target=\"_parent\"><img src=\"https://mybinder.org/badge_logo.svg\" alt=\"Open in Binder\" /></a>\n",
    "\n",
    "- Getting Started Seriously With Python <a href=\"https://colab.research.google.com/github/bamacgabhann/GY5021/blob/2024/GY5021/1_Introduction_to_Geospatial_Data/GY5021_Getting_Started_Seriously_With_Python.ipynb\" target=\"_parent\"><img src=\"https://colab.research.google.com/assets/colab-badge.svg\" alt=\"Open In Colab\"/></a>     <a href=\"https://mybinder.org/v2/gh/bamacgabhann/GY5021/9a706c8973d5bde0e50593ecc94941b0426f24a6?urlpath=lab%2Ftree%2FGY5021%2F1_Introduction_to_Geospatial_Data%2FGY5021_Getting_Started_Seriously_With_Python.ipynb\" target=\"_parent\"><img src=\"https://mybinder.org/badge_logo.svg\" alt=\"Open in Binder\" /></a>"
   ]
  }
 ],
 "metadata": {
  "kernelspec": {
   "display_name": "GY5021",
   "language": "python",
   "name": "gy5021"
  },
  "language_info": {
   "codemirror_mode": {
    "name": "ipython",
    "version": 3
   },
   "file_extension": ".py",
   "mimetype": "text/x-python",
   "name": "python",
   "nbconvert_exporter": "python",
   "pygments_lexer": "ipython3",
   "version": "3.11.6"
  }
 },
 "nbformat": 4,
 "nbformat_minor": 5
}
