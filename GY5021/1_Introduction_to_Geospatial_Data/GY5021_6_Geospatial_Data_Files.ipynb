{
 "cells": [
  {
   "cell_type": "markdown",
   "id": "446bd4f7-a01c-44b4-a519-5642417dc360",
   "metadata": {
    "colab_type": "text",
    "id": "view-in-github"
   },
   "source": [
    "<a href=\"https://colab.research.google.com/github/bamacgabhann/GY5021/blob/2024/GY5021_6_Geospatial_Data_Files.ipynb\" target=\"_parent\"><img src=\"https://colab.research.google.com/assets/colab-badge.svg\" alt=\"Open In Colab\"/></a>"
   ]
  },
  {
   "cell_type": "markdown",
   "id": "222f2e74-5153-4867-b248-b973c1a3c6f4",
   "metadata": {},
   "source": [
    "<img src=\"https://raw.githubusercontent.com/bamacgabhann/GY5021/2024/PD_logo.png\" align=center alt=\"UL Geography logo\"/>"
   ]
  },
  {
   "cell_type": "markdown",
   "id": "d5d3b3d9-f7e8-474b-ad92-ff4f469c627a",
   "metadata": {
    "id": "j-2xUUAfX0xa"
   },
   "source": [
    "# Creating and Using Geospatial Data Files\n",
    "\n",
    "So now we know that geospatial data can be in the form of dataframes containing coordinates with associated attributes, and we know how to use different kinds of coordinates. We're almost ready to use real geospatial data.\n",
    "\n",
    "But how do we get our real geospatial data into whatever tool we're using? How do we save geospatial data to a file? \n",
    "\n",
    "Word documents use ```.docx``` files, but not all word processors do, OpenOffice uses ```.odx``` files for example. Is geospatial data like that, with different programs having different ways of saving files? Can some software only open certain files?\n",
    "\n",
    "Well, it's both simpler and more complicated than that, but the good news is that most geospatial tools will be able to read most forms of geospatial data files. \n",
    "\n",
    "The less good news is that there's a few different formats you should get familiar with. I'll discuss 5 different vector geospatial formats here in particular."
   ]
  },
  {
   "cell_type": "markdown",
   "id": "5279363f-83af-4664-a461-e4fd4ae62128",
   "metadata": {},
   "source": [
    "## 1. CSV - Comma Separated Values\n",
    "\n",
    "CSV files are very simple. Each row of the data is on a different line, with the values for different columns separated by commas. Let's demonstrate using the air pollution data from the Attribute Data notebook:"
   ]
  },
  {
   "cell_type": "code",
   "execution_count": 8,
   "id": "1d77e65b-4d0e-4bf6-bee6-8c454c97ef8e",
   "metadata": {},
   "outputs": [],
   "source": [
    "import pandas as pd\n",
    "import geopandas as gpd\n",
    "from shapely import Point"
   ]
  },
  {
   "cell_type": "code",
   "execution_count": 55,
   "id": "ea29991d-8bd2-4029-a121-91fb5311e97e",
   "metadata": {},
   "outputs": [
    {
     "data": {
      "text/html": [
       "<div>\n",
       "<style scoped>\n",
       "    .dataframe tbody tr th:only-of-type {\n",
       "        vertical-align: middle;\n",
       "    }\n",
       "\n",
       "    .dataframe tbody tr th {\n",
       "        vertical-align: top;\n",
       "    }\n",
       "\n",
       "    .dataframe thead th {\n",
       "        text-align: right;\n",
       "    }\n",
       "</style>\n",
       "<table border=\"1\" class=\"dataframe\">\n",
       "  <thead>\n",
       "    <tr style=\"text-align: right;\">\n",
       "      <th></th>\n",
       "      <th>PM2.5</th>\n",
       "      <th>PM10</th>\n",
       "      <th>Pressure</th>\n",
       "      <th>Temperature</th>\n",
       "      <th>Humidity</th>\n",
       "      <th>geometry</th>\n",
       "    </tr>\n",
       "    <tr>\n",
       "      <th>timestamp</th>\n",
       "      <th></th>\n",
       "      <th></th>\n",
       "      <th></th>\n",
       "      <th></th>\n",
       "      <th></th>\n",
       "      <th></th>\n",
       "    </tr>\n",
       "  </thead>\n",
       "  <tbody>\n",
       "    <tr>\n",
       "      <th>2023-11-01 08:00:00</th>\n",
       "      <td>3</td>\n",
       "      <td>5</td>\n",
       "      <td>1012</td>\n",
       "      <td>12</td>\n",
       "      <td>86</td>\n",
       "      <td>POINT (555173.000 654321.000)</td>\n",
       "    </tr>\n",
       "    <tr>\n",
       "      <th>2023-11-01 08:00:30</th>\n",
       "      <td>4</td>\n",
       "      <td>6</td>\n",
       "      <td>1012</td>\n",
       "      <td>12</td>\n",
       "      <td>86</td>\n",
       "      <td>POINT (555173.000 654321.000)</td>\n",
       "    </tr>\n",
       "    <tr>\n",
       "      <th>2023-11-01 08:01:00</th>\n",
       "      <td>6</td>\n",
       "      <td>5</td>\n",
       "      <td>1012</td>\n",
       "      <td>13</td>\n",
       "      <td>87</td>\n",
       "      <td>POINT (555173.000 654321.000)</td>\n",
       "    </tr>\n",
       "    <tr>\n",
       "      <th>2023-11-01 08:01:30</th>\n",
       "      <td>2</td>\n",
       "      <td>3</td>\n",
       "      <td>1013</td>\n",
       "      <td>13</td>\n",
       "      <td>87</td>\n",
       "      <td>POINT (555173.000 654321.000)</td>\n",
       "    </tr>\n",
       "    <tr>\n",
       "      <th>2023-11-01 08:02:00</th>\n",
       "      <td>3</td>\n",
       "      <td>4</td>\n",
       "      <td>1013</td>\n",
       "      <td>13</td>\n",
       "      <td>87</td>\n",
       "      <td>POINT (555173.000 654321.000)</td>\n",
       "    </tr>\n",
       "  </tbody>\n",
       "</table>\n",
       "</div>"
      ],
      "text/plain": [
       "                     PM2.5  PM10  Pressure  Temperature  Humidity  \\\n",
       "timestamp                                                           \n",
       "2023-11-01 08:00:00      3     5      1012           12        86   \n",
       "2023-11-01 08:00:30      4     6      1012           12        86   \n",
       "2023-11-01 08:01:00      6     5      1012           13        87   \n",
       "2023-11-01 08:01:30      2     3      1013           13        87   \n",
       "2023-11-01 08:02:00      3     4      1013           13        87   \n",
       "\n",
       "                                          geometry  \n",
       "timestamp                                           \n",
       "2023-11-01 08:00:00  POINT (555173.000 654321.000)  \n",
       "2023-11-01 08:00:30  POINT (555173.000 654321.000)  \n",
       "2023-11-01 08:01:00  POINT (555173.000 654321.000)  \n",
       "2023-11-01 08:01:30  POINT (555173.000 654321.000)  \n",
       "2023-11-01 08:02:00  POINT (555173.000 654321.000)  "
      ]
     },
     "execution_count": 55,
     "metadata": {},
     "output_type": "execute_result"
    }
   ],
   "source": [
    "gdf = gpd.GeoDataFrame(\n",
    "    {\n",
    "        \"Measurement_time\": [\n",
    "            \"2023-11-01 08:00:00\",\n",
    "            \"2023-11-01 08:00:30\",\n",
    "            \"2023-11-01 08:01:00\",\n",
    "            \"2023-11-01 08:01:30\",\n",
    "            \"2023-11-01 08:02:00\",\n",
    "        ],\n",
    "        \"PM2.5\": [3, 4, 6, 2, 3],\n",
    "        \"PM10\": [5, 6, 5, 3, 4],\n",
    "        \"Pressure\": [1012, 1012, 1012, 1013, 1013],\n",
    "        \"Temperature\": [12, 12, 13, 13, 13],\n",
    "        \"Humidity\": [86, 86, 87, 87, 87],\n",
    "        \"geometry\": [Point(555173, 654321), Point(555173, 654321), Point(555173, 654321), Point(555173, 654321), Point(555173, 654321)],\n",
    "    }\n",
    ")\n",
    "gdf['timestamp'] = pd.to_datetime(gdf['Measurement_time'])\n",
    "gdf = gdf.set_index('timestamp')\n",
    "gdf = gdf.drop(columns=\"Measurement_time\")\n",
    "gdf = gdf.set_crs('epsg:2157')\n",
    "gdf"
   ]
  },
  {
   "cell_type": "code",
   "execution_count": 56,
   "id": "5a5ef101-d466-4f9d-b128-722bfefd3ad3",
   "metadata": {},
   "outputs": [
    {
     "name": "stdout",
     "output_type": "stream",
     "text": [
      "epsg:2157\n"
     ]
    }
   ],
   "source": [
    "print(gdf.crs)"
   ]
  },
  {
   "cell_type": "markdown",
   "id": "fefa1f17-7e67-426c-889d-2b8ddb40fd96",
   "metadata": {},
   "source": [
    "We can save this as a CSV:"
   ]
  },
  {
   "cell_type": "code",
   "execution_count": 11,
   "id": "68452b83-a204-4fed-9d39-732a00a24974",
   "metadata": {},
   "outputs": [],
   "source": [
    "gdf.to_csv('sample_data/ap.csv')"
   ]
  },
  {
   "cell_type": "markdown",
   "id": "2f401a21-a790-42d9-9e1d-778142d5659a",
   "metadata": {},
   "source": [
    "and then look at what the contents of the file look like:"
   ]
  },
  {
   "cell_type": "code",
   "execution_count": 12,
   "id": "0a751f17-2360-44e5-b621-c507ffe4fb2e",
   "metadata": {},
   "outputs": [
    {
     "name": "stdout",
     "output_type": "stream",
     "text": [
      "timestamp,PM2.5,PM10,Pressure,Temperature,Humidity,geometry\n",
      "2023-11-01 08:00:00,3,5,1012,12,86,POINT (555173 654321)\n",
      "2023-11-01 08:00:30,4,6,1012,12,86,POINT (555173 654321)\n",
      "2023-11-01 08:01:00,6,5,1012,13,87,POINT (555173 654321)\n",
      "2023-11-01 08:01:30,2,3,1013,13,87,POINT (555173 654321)\n",
      "2023-11-01 08:02:00,3,4,1013,13,87,POINT (555173 654321)\n",
      "\n"
     ]
    }
   ],
   "source": [
    "with open('sample_data/ap.csv', 'r') as f:\n",
    "    content = f.read()\n",
    "\n",
    "print (content)"
   ]
  },
  {
   "cell_type": "markdown",
   "id": "22061464-18f0-4dd4-bb9b-bc0c9c085bce",
   "metadata": {},
   "source": [
    "It's very simple and straightforward. Because of this, you'll find a lot of geospatial data saved as CSV files.\n",
    "\n",
    "However - the CSV format wasn't designed for geospatial data, and one thing it doesn't do is save any information about the coordinate reference system. That has to be manually managed if you're using CSVs. Which is often fine - but there are other formats which do save the CRS (and other associated information)."
   ]
  },
  {
   "cell_type": "markdown",
   "id": "c02c17dc-9159-415c-9476-8c03a704fda3",
   "metadata": {},
   "source": [
    "## 2. ESRI Shapefiles\n",
    "\n",
    "Probably the most common geospatial data format is the ESRI shapefile. Let's have a look:"
   ]
  },
  {
   "cell_type": "code",
   "execution_count": 14,
   "id": "7dfda5ca-eb7a-4ace-9fe1-96482f5cd49c",
   "metadata": {},
   "outputs": [
    {
     "name": "stderr",
     "output_type": "stream",
     "text": [
      "/tmp/ipykernel_11168/269804597.py:1: UserWarning: Column names longer than 10 characters will be truncated when saved to ESRI Shapefile.\n",
      "  gdf.to_file('sample_data/ap.shp')\n"
     ]
    },
    {
     "ename": "DriverSupportError",
     "evalue": "ESRI Shapefile does not support datetime fields",
     "output_type": "error",
     "traceback": [
      "\u001b[0;31m---------------------------------------------------------------------------\u001b[0m",
      "\u001b[0;31mDriverSupportError\u001b[0m                        Traceback (most recent call last)",
      "Cell \u001b[0;32mIn[14], line 1\u001b[0m\n\u001b[0;32m----> 1\u001b[0m \u001b[43mgdf\u001b[49m\u001b[38;5;241;43m.\u001b[39;49m\u001b[43mto_file\u001b[49m\u001b[43m(\u001b[49m\u001b[38;5;124;43m'\u001b[39;49m\u001b[38;5;124;43msample_data/ap.shp\u001b[39;49m\u001b[38;5;124;43m'\u001b[39;49m\u001b[43m)\u001b[49m\n\u001b[1;32m      2\u001b[0m \u001b[38;5;28;01mwith\u001b[39;00m \u001b[38;5;28mopen\u001b[39m(\u001b[38;5;124m'\u001b[39m\u001b[38;5;124msample_data/ap.shp\u001b[39m\u001b[38;5;124m'\u001b[39m, \u001b[38;5;124m'\u001b[39m\u001b[38;5;124mr\u001b[39m\u001b[38;5;124m'\u001b[39m) \u001b[38;5;28;01mas\u001b[39;00m f:\n\u001b[1;32m      3\u001b[0m     content \u001b[38;5;241m=\u001b[39m f\u001b[38;5;241m.\u001b[39mread()\n",
      "File \u001b[0;32m~/.pyenv/versions/GY5021/lib/python3.11/site-packages/geopandas/geodataframe.py:1264\u001b[0m, in \u001b[0;36mGeoDataFrame.to_file\u001b[0;34m(self, filename, driver, schema, index, **kwargs)\u001b[0m\n\u001b[1;32m   1173\u001b[0m \u001b[38;5;250m\u001b[39m\u001b[38;5;124;03m\"\"\"Write the ``GeoDataFrame`` to a file.\u001b[39;00m\n\u001b[1;32m   1174\u001b[0m \n\u001b[1;32m   1175\u001b[0m \u001b[38;5;124;03mBy default, an ESRI shapefile is written, but any OGR data source\u001b[39;00m\n\u001b[0;32m   (...)\u001b[0m\n\u001b[1;32m   1260\u001b[0m \n\u001b[1;32m   1261\u001b[0m \u001b[38;5;124;03m\"\"\"\u001b[39;00m\n\u001b[1;32m   1262\u001b[0m \u001b[38;5;28;01mfrom\u001b[39;00m \u001b[38;5;21;01mgeopandas\u001b[39;00m\u001b[38;5;21;01m.\u001b[39;00m\u001b[38;5;21;01mio\u001b[39;00m\u001b[38;5;21;01m.\u001b[39;00m\u001b[38;5;21;01mfile\u001b[39;00m \u001b[38;5;28;01mimport\u001b[39;00m _to_file\n\u001b[0;32m-> 1264\u001b[0m \u001b[43m_to_file\u001b[49m\u001b[43m(\u001b[49m\u001b[38;5;28;43mself\u001b[39;49m\u001b[43m,\u001b[49m\u001b[43m \u001b[49m\u001b[43mfilename\u001b[49m\u001b[43m,\u001b[49m\u001b[43m \u001b[49m\u001b[43mdriver\u001b[49m\u001b[43m,\u001b[49m\u001b[43m \u001b[49m\u001b[43mschema\u001b[49m\u001b[43m,\u001b[49m\u001b[43m \u001b[49m\u001b[43mindex\u001b[49m\u001b[43m,\u001b[49m\u001b[43m \u001b[49m\u001b[38;5;241;43m*\u001b[39;49m\u001b[38;5;241;43m*\u001b[39;49m\u001b[43mkwargs\u001b[49m\u001b[43m)\u001b[49m\n",
      "File \u001b[0;32m~/.pyenv/versions/GY5021/lib/python3.11/site-packages/geopandas/io/file.py:612\u001b[0m, in \u001b[0;36m_to_file\u001b[0;34m(df, filename, driver, schema, index, mode, crs, engine, **kwargs)\u001b[0m\n\u001b[1;32m    609\u001b[0m     \u001b[38;5;28;01mraise\u001b[39;00m \u001b[38;5;167;01mValueError\u001b[39;00m(\u001b[38;5;124mf\u001b[39m\u001b[38;5;124m\"\u001b[39m\u001b[38;5;124m'\u001b[39m\u001b[38;5;124mmode\u001b[39m\u001b[38;5;124m'\u001b[39m\u001b[38;5;124m should be one of \u001b[39m\u001b[38;5;124m'\u001b[39m\u001b[38;5;124mw\u001b[39m\u001b[38;5;124m'\u001b[39m\u001b[38;5;124m or \u001b[39m\u001b[38;5;124m'\u001b[39m\u001b[38;5;124ma\u001b[39m\u001b[38;5;124m'\u001b[39m\u001b[38;5;124m, got \u001b[39m\u001b[38;5;124m'\u001b[39m\u001b[38;5;132;01m{\u001b[39;00mmode\u001b[38;5;132;01m}\u001b[39;00m\u001b[38;5;124m'\u001b[39m\u001b[38;5;124m instead\u001b[39m\u001b[38;5;124m\"\u001b[39m)\n\u001b[1;32m    611\u001b[0m \u001b[38;5;28;01mif\u001b[39;00m engine \u001b[38;5;241m==\u001b[39m \u001b[38;5;124m\"\u001b[39m\u001b[38;5;124mfiona\u001b[39m\u001b[38;5;124m\"\u001b[39m:\n\u001b[0;32m--> 612\u001b[0m     \u001b[43m_to_file_fiona\u001b[49m\u001b[43m(\u001b[49m\u001b[43mdf\u001b[49m\u001b[43m,\u001b[49m\u001b[43m \u001b[49m\u001b[43mfilename\u001b[49m\u001b[43m,\u001b[49m\u001b[43m \u001b[49m\u001b[43mdriver\u001b[49m\u001b[43m,\u001b[49m\u001b[43m \u001b[49m\u001b[43mschema\u001b[49m\u001b[43m,\u001b[49m\u001b[43m \u001b[49m\u001b[43mcrs\u001b[49m\u001b[43m,\u001b[49m\u001b[43m \u001b[49m\u001b[43mmode\u001b[49m\u001b[43m,\u001b[49m\u001b[43m \u001b[49m\u001b[38;5;241;43m*\u001b[39;49m\u001b[38;5;241;43m*\u001b[39;49m\u001b[43mkwargs\u001b[49m\u001b[43m)\u001b[49m\n\u001b[1;32m    613\u001b[0m \u001b[38;5;28;01melif\u001b[39;00m engine \u001b[38;5;241m==\u001b[39m \u001b[38;5;124m\"\u001b[39m\u001b[38;5;124mpyogrio\u001b[39m\u001b[38;5;124m\"\u001b[39m:\n\u001b[1;32m    614\u001b[0m     _to_file_pyogrio(df, filename, driver, schema, crs, mode, \u001b[38;5;241m*\u001b[39m\u001b[38;5;241m*\u001b[39mkwargs)\n",
      "File \u001b[0;32m~/.pyenv/versions/GY5021/lib/python3.11/site-packages/geopandas/io/file.py:638\u001b[0m, in \u001b[0;36m_to_file_fiona\u001b[0;34m(df, filename, driver, schema, crs, mode, **kwargs)\u001b[0m\n\u001b[1;32m    636\u001b[0m \u001b[38;5;28;01melif\u001b[39;00m crs:\n\u001b[1;32m    637\u001b[0m     crs_wkt \u001b[38;5;241m=\u001b[39m crs\u001b[38;5;241m.\u001b[39mto_wkt(\u001b[38;5;124m\"\u001b[39m\u001b[38;5;124mWKT1_GDAL\u001b[39m\u001b[38;5;124m\"\u001b[39m)\n\u001b[0;32m--> 638\u001b[0m \u001b[38;5;28;01mwith\u001b[39;00m \u001b[43mfiona\u001b[49m\u001b[38;5;241;43m.\u001b[39;49m\u001b[43mopen\u001b[49m\u001b[43m(\u001b[49m\n\u001b[1;32m    639\u001b[0m \u001b[43m    \u001b[49m\u001b[43mfilename\u001b[49m\u001b[43m,\u001b[49m\u001b[43m \u001b[49m\u001b[43mmode\u001b[49m\u001b[38;5;241;43m=\u001b[39;49m\u001b[43mmode\u001b[49m\u001b[43m,\u001b[49m\u001b[43m \u001b[49m\u001b[43mdriver\u001b[49m\u001b[38;5;241;43m=\u001b[39;49m\u001b[43mdriver\u001b[49m\u001b[43m,\u001b[49m\u001b[43m \u001b[49m\u001b[43mcrs_wkt\u001b[49m\u001b[38;5;241;43m=\u001b[39;49m\u001b[43mcrs_wkt\u001b[49m\u001b[43m,\u001b[49m\u001b[43m \u001b[49m\u001b[43mschema\u001b[49m\u001b[38;5;241;43m=\u001b[39;49m\u001b[43mschema\u001b[49m\u001b[43m,\u001b[49m\u001b[43m \u001b[49m\u001b[38;5;241;43m*\u001b[39;49m\u001b[38;5;241;43m*\u001b[39;49m\u001b[43mkwargs\u001b[49m\n\u001b[1;32m    640\u001b[0m \u001b[43m\u001b[49m\u001b[43m)\u001b[49m \u001b[38;5;28;01mas\u001b[39;00m colxn:\n\u001b[1;32m    641\u001b[0m     colxn\u001b[38;5;241m.\u001b[39mwriterecords(df\u001b[38;5;241m.\u001b[39miterfeatures())\n",
      "File \u001b[0;32m~/.pyenv/versions/GY5021/lib/python3.11/site-packages/fiona/env.py:457\u001b[0m, in \u001b[0;36mensure_env_with_credentials.<locals>.wrapper\u001b[0;34m(*args, **kwds)\u001b[0m\n\u001b[1;32m    454\u001b[0m     session \u001b[38;5;241m=\u001b[39m DummySession()\n\u001b[1;32m    456\u001b[0m \u001b[38;5;28;01mwith\u001b[39;00m env_ctor(session\u001b[38;5;241m=\u001b[39msession):\n\u001b[0;32m--> 457\u001b[0m     \u001b[38;5;28;01mreturn\u001b[39;00m \u001b[43mf\u001b[49m\u001b[43m(\u001b[49m\u001b[38;5;241;43m*\u001b[39;49m\u001b[43margs\u001b[49m\u001b[43m,\u001b[49m\u001b[43m \u001b[49m\u001b[38;5;241;43m*\u001b[39;49m\u001b[38;5;241;43m*\u001b[39;49m\u001b[43mkwds\u001b[49m\u001b[43m)\u001b[49m\n",
      "File \u001b[0;32m~/.pyenv/versions/GY5021/lib/python3.11/site-packages/fiona/__init__.py:303\u001b[0m, in \u001b[0;36mopen\u001b[0;34m(fp, mode, driver, schema, crs, encoding, layer, vfs, enabled_drivers, crs_wkt, allow_unsupported_drivers, **kwargs)\u001b[0m\n\u001b[1;32m    292\u001b[0m     colxn \u001b[38;5;241m=\u001b[39m Collection(\n\u001b[1;32m    293\u001b[0m         path,\n\u001b[1;32m    294\u001b[0m         mode,\n\u001b[0;32m   (...)\u001b[0m\n\u001b[1;32m    300\u001b[0m         \u001b[38;5;241m*\u001b[39m\u001b[38;5;241m*\u001b[39mkwargs\n\u001b[1;32m    301\u001b[0m     )\n\u001b[1;32m    302\u001b[0m \u001b[38;5;28;01melif\u001b[39;00m mode \u001b[38;5;241m==\u001b[39m \u001b[38;5;124m\"\u001b[39m\u001b[38;5;124mw\u001b[39m\u001b[38;5;124m\"\u001b[39m:\n\u001b[0;32m--> 303\u001b[0m     colxn \u001b[38;5;241m=\u001b[39m \u001b[43mCollection\u001b[49m\u001b[43m(\u001b[49m\n\u001b[1;32m    304\u001b[0m \u001b[43m        \u001b[49m\u001b[43mpath\u001b[49m\u001b[43m,\u001b[49m\n\u001b[1;32m    305\u001b[0m \u001b[43m        \u001b[49m\u001b[43mmode\u001b[49m\u001b[43m,\u001b[49m\n\u001b[1;32m    306\u001b[0m \u001b[43m        \u001b[49m\u001b[43mcrs\u001b[49m\u001b[38;5;241;43m=\u001b[39;49m\u001b[43mcrs\u001b[49m\u001b[43m,\u001b[49m\n\u001b[1;32m    307\u001b[0m \u001b[43m        \u001b[49m\u001b[43mdriver\u001b[49m\u001b[38;5;241;43m=\u001b[39;49m\u001b[43mdriver\u001b[49m\u001b[43m,\u001b[49m\n\u001b[1;32m    308\u001b[0m \u001b[43m        \u001b[49m\u001b[43mschema\u001b[49m\u001b[38;5;241;43m=\u001b[39;49m\u001b[43mschema\u001b[49m\u001b[43m,\u001b[49m\n\u001b[1;32m    309\u001b[0m \u001b[43m        \u001b[49m\u001b[43mencoding\u001b[49m\u001b[38;5;241;43m=\u001b[39;49m\u001b[43mencoding\u001b[49m\u001b[43m,\u001b[49m\n\u001b[1;32m    310\u001b[0m \u001b[43m        \u001b[49m\u001b[43mlayer\u001b[49m\u001b[38;5;241;43m=\u001b[39;49m\u001b[43mlayer\u001b[49m\u001b[43m,\u001b[49m\n\u001b[1;32m    311\u001b[0m \u001b[43m        \u001b[49m\u001b[43menabled_drivers\u001b[49m\u001b[38;5;241;43m=\u001b[39;49m\u001b[43menabled_drivers\u001b[49m\u001b[43m,\u001b[49m\n\u001b[1;32m    312\u001b[0m \u001b[43m        \u001b[49m\u001b[43mcrs_wkt\u001b[49m\u001b[38;5;241;43m=\u001b[39;49m\u001b[43mcrs_wkt\u001b[49m\u001b[43m,\u001b[49m\n\u001b[1;32m    313\u001b[0m \u001b[43m        \u001b[49m\u001b[43mallow_unsupported_drivers\u001b[49m\u001b[38;5;241;43m=\u001b[39;49m\u001b[43mallow_unsupported_drivers\u001b[49m\u001b[43m,\u001b[49m\n\u001b[1;32m    314\u001b[0m \u001b[43m        \u001b[49m\u001b[38;5;241;43m*\u001b[39;49m\u001b[38;5;241;43m*\u001b[39;49m\u001b[43mkwargs\u001b[49m\n\u001b[1;32m    315\u001b[0m \u001b[43m    \u001b[49m\u001b[43m)\u001b[49m\n\u001b[1;32m    316\u001b[0m \u001b[38;5;28;01melse\u001b[39;00m:\n\u001b[1;32m    317\u001b[0m     \u001b[38;5;28;01mraise\u001b[39;00m \u001b[38;5;167;01mValueError\u001b[39;00m(\u001b[38;5;124m\"\u001b[39m\u001b[38;5;124mmode string must be one of \u001b[39m\u001b[38;5;124m{\u001b[39m\u001b[38;5;124m'\u001b[39m\u001b[38;5;124mr\u001b[39m\u001b[38;5;124m'\u001b[39m\u001b[38;5;124m, \u001b[39m\u001b[38;5;124m'\u001b[39m\u001b[38;5;124mw\u001b[39m\u001b[38;5;124m'\u001b[39m\u001b[38;5;124m, \u001b[39m\u001b[38;5;124m'\u001b[39m\u001b[38;5;124ma\u001b[39m\u001b[38;5;124m'\u001b[39m\u001b[38;5;124m}\u001b[39m\u001b[38;5;124m\"\u001b[39m)\n",
      "File \u001b[0;32m~/.pyenv/versions/GY5021/lib/python3.11/site-packages/fiona/collection.py:229\u001b[0m, in \u001b[0;36mCollection.__init__\u001b[0;34m(self, path, mode, driver, schema, crs, encoding, layer, vsi, archive, enabled_drivers, crs_wkt, ignore_fields, ignore_geometry, include_fields, wkt_version, allow_unsupported_drivers, **kwargs)\u001b[0m\n\u001b[1;32m    226\u001b[0m     schema[\u001b[38;5;124m\"\u001b[39m\u001b[38;5;124mgeometry\u001b[39m\u001b[38;5;124m\"\u001b[39m] \u001b[38;5;241m=\u001b[39m \u001b[38;5;28;01mNone\u001b[39;00m\n\u001b[1;32m    227\u001b[0m \u001b[38;5;28mself\u001b[39m\u001b[38;5;241m.\u001b[39m_schema \u001b[38;5;241m=\u001b[39m schema\n\u001b[0;32m--> 229\u001b[0m \u001b[38;5;28;43mself\u001b[39;49m\u001b[38;5;241;43m.\u001b[39;49m\u001b[43m_check_schema_driver_support\u001b[49m\u001b[43m(\u001b[49m\u001b[43m)\u001b[49m\n\u001b[1;32m    231\u001b[0m \u001b[38;5;28;01mif\u001b[39;00m crs_wkt \u001b[38;5;129;01mor\u001b[39;00m crs:\n\u001b[1;32m    232\u001b[0m     \u001b[38;5;28mself\u001b[39m\u001b[38;5;241m.\u001b[39m_crs_wkt \u001b[38;5;241m=\u001b[39m CRS\u001b[38;5;241m.\u001b[39mfrom_user_input(crs_wkt \u001b[38;5;129;01mor\u001b[39;00m crs)\u001b[38;5;241m.\u001b[39mto_wkt(\n\u001b[1;32m    233\u001b[0m         version\u001b[38;5;241m=\u001b[39mwkt_version\n\u001b[1;32m    234\u001b[0m     )\n",
      "File \u001b[0;32m~/.pyenv/versions/GY5021/lib/python3.11/site-packages/fiona/collection.py:636\u001b[0m, in \u001b[0;36mCollection._check_schema_driver_support\u001b[0;34m(self)\u001b[0m\n\u001b[1;32m    632\u001b[0m         \u001b[38;5;28;01mraise\u001b[39;00m DriverSupportError(\n\u001b[1;32m    633\u001b[0m             \u001b[38;5;124m\"\u001b[39m\u001b[38;5;124mGDAL 1.x GPKG driver does not support datetime fields\u001b[39m\u001b[38;5;124m\"\u001b[39m\n\u001b[1;32m    634\u001b[0m         )\n\u001b[1;32m    635\u001b[0m     \u001b[38;5;28;01melse\u001b[39;00m:\n\u001b[0;32m--> 636\u001b[0m         \u001b[38;5;28;01mraise\u001b[39;00m DriverSupportError(\n\u001b[1;32m    637\u001b[0m             \u001b[38;5;124m\"\u001b[39m\u001b[38;5;132;01m{driver}\u001b[39;00m\u001b[38;5;124m does not support \u001b[39m\u001b[38;5;132;01m{field_type}\u001b[39;00m\u001b[38;5;124m \u001b[39m\u001b[38;5;124m\"\u001b[39m\n\u001b[1;32m    638\u001b[0m             \u001b[38;5;124m\"\u001b[39m\u001b[38;5;124mfields\u001b[39m\u001b[38;5;124m\"\u001b[39m\u001b[38;5;241m.\u001b[39mformat(driver\u001b[38;5;241m=\u001b[39m\u001b[38;5;28mself\u001b[39m\u001b[38;5;241m.\u001b[39mdriver, field_type\u001b[38;5;241m=\u001b[39mfield_type)\n\u001b[1;32m    639\u001b[0m         )\n\u001b[1;32m    640\u001b[0m \u001b[38;5;28;01melif\u001b[39;00m (\n\u001b[1;32m    641\u001b[0m     field_type\n\u001b[1;32m    642\u001b[0m     \u001b[38;5;129;01min\u001b[39;00m {\n\u001b[0;32m   (...)\u001b[0m\n\u001b[1;32m    647\u001b[0m     \u001b[38;5;129;01mand\u001b[39;00m _driver_converts_field_type_silently_to_str(\u001b[38;5;28mself\u001b[39m\u001b[38;5;241m.\u001b[39mdriver, field_type)\n\u001b[1;32m    648\u001b[0m ):\n\u001b[1;32m    649\u001b[0m     \u001b[38;5;28;01mif\u001b[39;00m (\n\u001b[1;32m    650\u001b[0m         \u001b[38;5;28mself\u001b[39m\u001b[38;5;241m.\u001b[39m_driver \u001b[38;5;241m==\u001b[39m \u001b[38;5;124m\"\u001b[39m\u001b[38;5;124mGeoJSON\u001b[39m\u001b[38;5;124m\"\u001b[39m\n\u001b[1;32m    651\u001b[0m         \u001b[38;5;129;01mand\u001b[39;00m gdal_version_major \u001b[38;5;241m<\u001b[39m \u001b[38;5;241m2\u001b[39m\n\u001b[1;32m    652\u001b[0m         \u001b[38;5;129;01mand\u001b[39;00m field_type \u001b[38;5;129;01min\u001b[39;00m {\u001b[38;5;124m\"\u001b[39m\u001b[38;5;124mdatetime\u001b[39m\u001b[38;5;124m\"\u001b[39m, \u001b[38;5;124m\"\u001b[39m\u001b[38;5;124mdate\u001b[39m\u001b[38;5;124m\"\u001b[39m}\n\u001b[1;32m    653\u001b[0m     ):\n",
      "\u001b[0;31mDriverSupportError\u001b[0m: ESRI Shapefile does not support datetime fields"
     ]
    }
   ],
   "source": [
    "gdf.to_file('sample_data/ap.shp')"
   ]
  },
  {
   "cell_type": "markdown",
   "id": "020147d0-797b-48b8-bff7-b70f0d3005fc",
   "metadata": {},
   "source": [
    "Whoops. Okay, well, straight away we can see a disadvantage of the shapefile format. Let's change the datetime data to text, and try that again:"
   ]
  },
  {
   "cell_type": "code",
   "execution_count": 21,
   "id": "ee7d130e-face-4827-bb68-cd2e0f9863c1",
   "metadata": {},
   "outputs": [
    {
     "data": {
      "text/html": [
       "<div>\n",
       "<style scoped>\n",
       "    .dataframe tbody tr th:only-of-type {\n",
       "        vertical-align: middle;\n",
       "    }\n",
       "\n",
       "    .dataframe tbody tr th {\n",
       "        vertical-align: top;\n",
       "    }\n",
       "\n",
       "    .dataframe thead th {\n",
       "        text-align: right;\n",
       "    }\n",
       "</style>\n",
       "<table border=\"1\" class=\"dataframe\">\n",
       "  <thead>\n",
       "    <tr style=\"text-align: right;\">\n",
       "      <th></th>\n",
       "      <th>timestamp</th>\n",
       "      <th>PM2.5</th>\n",
       "      <th>PM10</th>\n",
       "      <th>Pressure</th>\n",
       "      <th>Temperature</th>\n",
       "      <th>Humidity</th>\n",
       "      <th>geometry</th>\n",
       "    </tr>\n",
       "  </thead>\n",
       "  <tbody>\n",
       "    <tr>\n",
       "      <th>0</th>\n",
       "      <td>2023-11-01 08:00:00</td>\n",
       "      <td>3</td>\n",
       "      <td>5</td>\n",
       "      <td>1012</td>\n",
       "      <td>12</td>\n",
       "      <td>86</td>\n",
       "      <td>POINT (555173.000 654321.000)</td>\n",
       "    </tr>\n",
       "    <tr>\n",
       "      <th>1</th>\n",
       "      <td>2023-11-01 08:00:30</td>\n",
       "      <td>4</td>\n",
       "      <td>6</td>\n",
       "      <td>1012</td>\n",
       "      <td>12</td>\n",
       "      <td>86</td>\n",
       "      <td>POINT (555173.000 654321.000)</td>\n",
       "    </tr>\n",
       "    <tr>\n",
       "      <th>2</th>\n",
       "      <td>2023-11-01 08:01:00</td>\n",
       "      <td>6</td>\n",
       "      <td>5</td>\n",
       "      <td>1012</td>\n",
       "      <td>13</td>\n",
       "      <td>87</td>\n",
       "      <td>POINT (555173.000 654321.000)</td>\n",
       "    </tr>\n",
       "    <tr>\n",
       "      <th>3</th>\n",
       "      <td>2023-11-01 08:01:30</td>\n",
       "      <td>2</td>\n",
       "      <td>3</td>\n",
       "      <td>1013</td>\n",
       "      <td>13</td>\n",
       "      <td>87</td>\n",
       "      <td>POINT (555173.000 654321.000)</td>\n",
       "    </tr>\n",
       "    <tr>\n",
       "      <th>4</th>\n",
       "      <td>2023-11-01 08:02:00</td>\n",
       "      <td>3</td>\n",
       "      <td>4</td>\n",
       "      <td>1013</td>\n",
       "      <td>13</td>\n",
       "      <td>87</td>\n",
       "      <td>POINT (555173.000 654321.000)</td>\n",
       "    </tr>\n",
       "  </tbody>\n",
       "</table>\n",
       "</div>"
      ],
      "text/plain": [
       "             timestamp  PM2.5  PM10  Pressure  Temperature  Humidity  \\\n",
       "0  2023-11-01 08:00:00      3     5      1012           12        86   \n",
       "1  2023-11-01 08:00:30      4     6      1012           12        86   \n",
       "2  2023-11-01 08:01:00      6     5      1012           13        87   \n",
       "3  2023-11-01 08:01:30      2     3      1013           13        87   \n",
       "4  2023-11-01 08:02:00      3     4      1013           13        87   \n",
       "\n",
       "                        geometry  \n",
       "0  POINT (555173.000 654321.000)  \n",
       "1  POINT (555173.000 654321.000)  \n",
       "2  POINT (555173.000 654321.000)  \n",
       "3  POINT (555173.000 654321.000)  \n",
       "4  POINT (555173.000 654321.000)  "
      ]
     },
     "execution_count": 21,
     "metadata": {},
     "output_type": "execute_result"
    }
   ],
   "source": [
    "gdf_shp = gdf.reset_index()\n",
    "gdf_shp['timestamp'] = gdf_shp['timestamp'].dt.strftime('%Y-%m-%d %H:%M:%S')\n",
    "gdf_shp"
   ]
  },
  {
   "cell_type": "code",
   "execution_count": 23,
   "id": "9fbc4b04-5298-4e8b-aff6-9c7126ca56d5",
   "metadata": {},
   "outputs": [
    {
     "name": "stderr",
     "output_type": "stream",
     "text": [
      "/tmp/ipykernel_11168/3679664730.py:1: UserWarning: Column names longer than 10 characters will be truncated when saved to ESRI Shapefile.\n",
      "  gdf_shp.to_file('sample_data/ap.shp')\n"
     ]
    }
   ],
   "source": [
    "gdf_shp.to_file('sample_data/ap.shp')"
   ]
  },
  {
   "cell_type": "markdown",
   "id": "b7e153c8-4ee3-423a-986e-8e871d3bf612",
   "metadata": {},
   "source": [
    "Well, the warning there is giving us another limitation of the format."
   ]
  },
  {
   "cell_type": "code",
   "execution_count": 24,
   "id": "b41b76c6-0752-42ae-8cd7-8af4245c3818",
   "metadata": {},
   "outputs": [
    {
     "data": {
      "text/html": [
       "<div>\n",
       "<style scoped>\n",
       "    .dataframe tbody tr th:only-of-type {\n",
       "        vertical-align: middle;\n",
       "    }\n",
       "\n",
       "    .dataframe tbody tr th {\n",
       "        vertical-align: top;\n",
       "    }\n",
       "\n",
       "    .dataframe thead th {\n",
       "        text-align: right;\n",
       "    }\n",
       "</style>\n",
       "<table border=\"1\" class=\"dataframe\">\n",
       "  <thead>\n",
       "    <tr style=\"text-align: right;\">\n",
       "      <th></th>\n",
       "      <th>timestamp</th>\n",
       "      <th>PM2.5</th>\n",
       "      <th>PM10</th>\n",
       "      <th>Pressure</th>\n",
       "      <th>Temperatur</th>\n",
       "      <th>Humidity</th>\n",
       "      <th>geometry</th>\n",
       "    </tr>\n",
       "  </thead>\n",
       "  <tbody>\n",
       "    <tr>\n",
       "      <th>0</th>\n",
       "      <td>2023-11-01 08:00:00</td>\n",
       "      <td>3</td>\n",
       "      <td>5</td>\n",
       "      <td>1012</td>\n",
       "      <td>12</td>\n",
       "      <td>86</td>\n",
       "      <td>POINT (555173.000 654321.000)</td>\n",
       "    </tr>\n",
       "    <tr>\n",
       "      <th>1</th>\n",
       "      <td>2023-11-01 08:00:30</td>\n",
       "      <td>4</td>\n",
       "      <td>6</td>\n",
       "      <td>1012</td>\n",
       "      <td>12</td>\n",
       "      <td>86</td>\n",
       "      <td>POINT (555173.000 654321.000)</td>\n",
       "    </tr>\n",
       "    <tr>\n",
       "      <th>2</th>\n",
       "      <td>2023-11-01 08:01:00</td>\n",
       "      <td>6</td>\n",
       "      <td>5</td>\n",
       "      <td>1012</td>\n",
       "      <td>13</td>\n",
       "      <td>87</td>\n",
       "      <td>POINT (555173.000 654321.000)</td>\n",
       "    </tr>\n",
       "    <tr>\n",
       "      <th>3</th>\n",
       "      <td>2023-11-01 08:01:30</td>\n",
       "      <td>2</td>\n",
       "      <td>3</td>\n",
       "      <td>1013</td>\n",
       "      <td>13</td>\n",
       "      <td>87</td>\n",
       "      <td>POINT (555173.000 654321.000)</td>\n",
       "    </tr>\n",
       "    <tr>\n",
       "      <th>4</th>\n",
       "      <td>2023-11-01 08:02:00</td>\n",
       "      <td>3</td>\n",
       "      <td>4</td>\n",
       "      <td>1013</td>\n",
       "      <td>13</td>\n",
       "      <td>87</td>\n",
       "      <td>POINT (555173.000 654321.000)</td>\n",
       "    </tr>\n",
       "  </tbody>\n",
       "</table>\n",
       "</div>"
      ],
      "text/plain": [
       "             timestamp  PM2.5  PM10  Pressure  Temperatur  Humidity  \\\n",
       "0  2023-11-01 08:00:00      3     5      1012          12        86   \n",
       "1  2023-11-01 08:00:30      4     6      1012          12        86   \n",
       "2  2023-11-01 08:01:00      6     5      1012          13        87   \n",
       "3  2023-11-01 08:01:30      2     3      1013          13        87   \n",
       "4  2023-11-01 08:02:00      3     4      1013          13        87   \n",
       "\n",
       "                        geometry  \n",
       "0  POINT (555173.000 654321.000)  \n",
       "1  POINT (555173.000 654321.000)  \n",
       "2  POINT (555173.000 654321.000)  \n",
       "3  POINT (555173.000 654321.000)  \n",
       "4  POINT (555173.000 654321.000)  "
      ]
     },
     "execution_count": 24,
     "metadata": {},
     "output_type": "execute_result"
    }
   ],
   "source": [
    "gdf_from_shp = gpd.read_file('sample_data/ap.shp')\n",
    "gdf_from_shp"
   ]
  },
  {
   "cell_type": "markdown",
   "id": "5e0b55e4-90e9-48e8-b35a-d891a8857eda",
   "metadata": {},
   "source": [
    "I guess we just lost the 'e' at the end of 'Temperatur', so it could be worse, but that could be very irritating.\n",
    "\n",
    "Now, I can't show you the inside of a shapefile in the same way that I could with a CSV, because there's a fundamental difference here. CSVs are text files - whatever you type in, that's how it's saved. But shapefiles are a *binary* format - the data is saved as the binary representation rather than the straight text representation. I can show you the contents translated from binary:"
   ]
  },
  {
   "cell_type": "code",
   "execution_count": 25,
   "id": "5c8f2742-ae5e-4aed-bfe3-1c3bd151278a",
   "metadata": {},
   "outputs": [
    {
     "name": "stdout",
     "output_type": "stream",
     "text": [
      "b\"\\x00\\x00'\\n\\x00\\x00\\x00\\x00\\x00\\x00\\x00\\x00\\x00\\x00\\x00\\x00\\x00\\x00\\x00\\x00\\x00\\x00\\x00\\x00\\x00\\x00\\x00x\\xe8\\x03\\x00\\x00\\x01\\x00\\x00\\x00\\x00\\x00\\x00\\x00J\\xf1 A\\x00\\x00\\x00\\x00\\xe2\\xf7#A\\x00\\x00\\x00\\x00J\\xf1 A\\x00\\x00\\x00\\x00\\xe2\\xf7#A\\x00\\x00\\x00\\x00\\x00\\x00\\x00\\x00\\x00\\x00\\x00\\x00\\x00\\x00\\x00\\x00\\x00\\x00\\x00\\x00\\x00\\x00\\x00\\x00\\x00\\x00\\x00\\x00\\x00\\x00\\x00\\x00\\x00\\x00\\x00\\x01\\x00\\x00\\x00\\n\\x01\\x00\\x00\\x00\\x00\\x00\\x00\\x00J\\xf1 A\\x00\\x00\\x00\\x00\\xe2\\xf7#A\\x00\\x00\\x00\\x02\\x00\\x00\\x00\\n\\x01\\x00\\x00\\x00\\x00\\x00\\x00\\x00J\\xf1 A\\x00\\x00\\x00\\x00\\xe2\\xf7#A\\x00\\x00\\x00\\x03\\x00\\x00\\x00\\n\\x01\\x00\\x00\\x00\\x00\\x00\\x00\\x00J\\xf1 A\\x00\\x00\\x00\\x00\\xe2\\xf7#A\\x00\\x00\\x00\\x04\\x00\\x00\\x00\\n\\x01\\x00\\x00\\x00\\x00\\x00\\x00\\x00J\\xf1 A\\x00\\x00\\x00\\x00\\xe2\\xf7#A\\x00\\x00\\x00\\x05\\x00\\x00\\x00\\n\\x01\\x00\\x00\\x00\\x00\\x00\\x00\\x00J\\xf1 A\\x00\\x00\\x00\\x00\\xe2\\xf7#A\"\n"
     ]
    }
   ],
   "source": [
    "with open('sample_data/ap.shp', 'rb') as f:\n",
    "    content = f.read()\n",
    "\n",
    "print (content)"
   ]
  },
  {
   "cell_type": "markdown",
   "id": "7d4fb1ee-b63e-4bbe-ac9a-96932fe9376d",
   "metadata": {},
   "source": [
    "Not really all that informative, to be honest. \n",
    "\n",
    "Now, there is another issue with shapefiles as well. If you look into the ```sample_data``` folder where it was saved, you'll also see files called ```ap.cpg```, ```ap.dbf```, and ```ap.shx```. We didn't ask to create any of those - but they are created with a shapefile.\n",
    "\n",
    "The reason for this is ultimately the same as the 10-character limit for column names, and the lack of support for datetime columns. The shapefile format was created in the 1980s when GIS started. Computers in the 1980s were far less powerful than modern computers, and so, over time as more was possible in GIS, more data was needed to be saved than the original shapefile format allowed. Rather than changing to a new format, the format was simply extended to save the additional information in these *sidecar* files. \n",
    "\n",
    "All of this is very irritating. True, it's just a minor irritation, but every year since I started teaching GIS, I've had an issue where a student comes to me in a panic saying \"my map has stopped working, help!\". And when I go to help them, I see that their data folder has the ```.shp``` file, but none of the additional sidecar files. \"Oh\", will say the student, \"I noticed all those extra files in the folder and I wanted to tidy it up, so I deleted them all\". \n",
    "\n",
    "Every year. Anyway, don't do that. Or even better, just don't use shapefiles.\n",
    "\n",
    "Even all these minor irritations aren't the main reason not to use shapfiles. The main reason not to use the format is that it's horribly slow and memory inefficient. There are formats which take up less space, and are literally hundreds of times faster than shapefiles. The amount of compute time across the world wasted due to reading and writing shapefiles probably accounts for a measurable amount of climate change. \n",
    "\n",
    "But somehow, despite all the limitations, it's still the default geospatial vector file format, so you're going to come across it a lot, unfortunately - especially if you're using ArcGIS Pro, because it's still ESRI's default format."
   ]
  },
  {
   "cell_type": "markdown",
   "id": "6628e332-ced9-465c-8c73-5d2d8334dbac",
   "metadata": {},
   "source": [
    "## 3. GeoPackage and GeoDataBase\n",
    "\n",
    "The default file format in QGIS, geopackage files save geospatial data in a database format, using SQLite. Now, I'm not an expert in databases, but using a database format means the files are optimised for fast retrieval of data.\n",
    "\n",
    "Geopackage files are essentially the standard open source alternative to shapefiles, and are a vast improvement. They don't have a limitation on datetime fields, or the length of column names; and not only are there no sidecar files, you can actually save multiple data layers to a single geopackage file. We can do:"
   ]
  },
  {
   "cell_type": "code",
   "execution_count": 31,
   "id": "82c73b67-dcc4-4eeb-ad07-87d49c3e949a",
   "metadata": {},
   "outputs": [],
   "source": [
    "gdf.to_file('sample_data/ap.gpkg')"
   ]
  },
  {
   "cell_type": "markdown",
   "id": "cd32b544-2023-46cb-9198-9987c4b27078",
   "metadata": {},
   "source": [
    "and that works, which the shapefile version didn't until we'd made some changes - but if we also had data from another sensor, or map data for the area around the location, we could save it to the same file, with a different layer name. So, if you have multiple layers, rather than 4-6 files per layer with shapefiles, you could have one file for *all* of your layers. That's tidy.\n",
    "\n",
    "Geopackages are a bit slow though. They're an order of magnitude faster than shapefiles, but there are still faster new formats. \n",
    "\n",
    "GeoDataBase files are ESRI's database-format based files.\n",
    "\n",
    "Both QGIS and ArcGIS Pro can read both GeoPackage and GeoDataBase files, so there's no real concerns over data sharing with users using different formats."
   ]
  },
  {
   "cell_type": "markdown",
   "id": "37ca2b04-414e-4629-9f8e-45a554212c91",
   "metadata": {},
   "source": [
    "## 4. Feather and Parquet\n",
    "\n",
    "Without getting even further into computer science than I already have, it would be difficult to really explain just why these formats are so good. They're based around the Apache Arrow data format, and for now let's just say that it's an incredibly efficient binary format. The files are smaller, and they can be written and read literally hundreds of times faster than other formats. The Open Geospatial Consortium has defined geospatial versions, GeoFeather and GeoParquet, which is what GeoPandas is actually using when we run:"
   ]
  },
  {
   "cell_type": "code",
   "execution_count": 57,
   "id": "963ceee1-77f5-4189-b36d-1d15fec6677f",
   "metadata": {},
   "outputs": [],
   "source": [
    "gdf.to_parquet('sample_data/ap.parquet')\n",
    "gdf.to_feather('sample_data/ap.feather')"
   ]
  },
  {
   "cell_type": "markdown",
   "id": "9b0c13f0-73d5-474a-9c5a-117e796f4e2c",
   "metadata": {},
   "source": [
    "So if we read them back in, it doesn't lose geospatial information:"
   ]
  },
  {
   "cell_type": "code",
   "execution_count": 58,
   "id": "ea74b252-7391-461f-899d-b4548f2d8d9d",
   "metadata": {},
   "outputs": [
    {
     "data": {
      "text/plain": [
       "<Projected CRS: EPSG:2157>\n",
       "Name: IRENET95 / Irish Transverse Mercator\n",
       "Axis Info [cartesian]:\n",
       "- E[east]: Easting (metre)\n",
       "- N[north]: Northing (metre)\n",
       "Area of Use:\n",
       "- name: Ireland - onshore. United Kingdom (UK) - Northern Ireland (Ulster) - onshore.\n",
       "- bounds: (-10.56, 51.39, -5.34, 55.43)\n",
       "Coordinate Operation:\n",
       "- name: Irish Transverse Mercator\n",
       "- method: Transverse Mercator\n",
       "Datum: IRENET95\n",
       "- Ellipsoid: GRS 1980\n",
       "- Prime Meridian: Greenwich"
      ]
     },
     "execution_count": 58,
     "metadata": {},
     "output_type": "execute_result"
    }
   ],
   "source": [
    "gdf_p = gpd.read_parquet('sample_data/ap.parquet')\n",
    "gdf_p.crs"
   ]
  },
  {
   "cell_type": "code",
   "execution_count": 59,
   "id": "367de475-712a-42ea-821c-07899e019ceb",
   "metadata": {},
   "outputs": [
    {
     "data": {
      "text/plain": [
       "<Projected CRS: EPSG:2157>\n",
       "Name: IRENET95 / Irish Transverse Mercator\n",
       "Axis Info [cartesian]:\n",
       "- E[east]: Easting (metre)\n",
       "- N[north]: Northing (metre)\n",
       "Area of Use:\n",
       "- name: Ireland - onshore. United Kingdom (UK) - Northern Ireland (Ulster) - onshore.\n",
       "- bounds: (-10.56, 51.39, -5.34, 55.43)\n",
       "Coordinate Operation:\n",
       "- name: Irish Transverse Mercator\n",
       "- method: Transverse Mercator\n",
       "Datum: IRENET95\n",
       "- Ellipsoid: GRS 1980\n",
       "- Prime Meridian: Greenwich"
      ]
     },
     "execution_count": 59,
     "metadata": {},
     "output_type": "execute_result"
    }
   ],
   "source": [
    "gdf_f = gpd.read_feather('sample_data/ap.feather')\n",
    "gdf_f.crs"
   ]
  },
  {
   "cell_type": "markdown",
   "id": "26997912-b8bd-4d0c-8d9b-f29aefb865f9",
   "metadata": {},
   "source": [
    "These formats are very, very new, so they're not enormously widespread yet, and they are still being developed fully. But if you might do more than occasionally play with geospatial data, it's very worth being aware of them - and expect to see them becoming a lot more common in the future."
   ]
  },
  {
   "cell_type": "markdown",
   "id": "16ecfb87-a7ca-41cb-9b00-227eea21a589",
   "metadata": {},
   "source": [
    "## 5. GeoJSON\n",
    "\n",
    "GeoJSON files are more or less the standard for geospatial data being transmitted over the internet - for example, sensor data. Or, if you've ever used a real-time public transport information app, the app was receiving data as a GeoJSON file to tell you how long you'd be waiting."
   ]
  },
  {
   "cell_type": "code",
   "execution_count": 63,
   "id": "b2554785-bc66-44f1-9e4c-12d36d8352b6",
   "metadata": {},
   "outputs": [],
   "source": [
    "gdf.to_file('sample_data/ap.geojson', driver='GeoJSON')"
   ]
  },
  {
   "cell_type": "code",
   "execution_count": 64,
   "id": "3f74ca20-5cac-4bf1-a980-0f1cf7928d00",
   "metadata": {},
   "outputs": [
    {
     "name": "stdout",
     "output_type": "stream",
     "text": [
      "{\n",
      "\"type\": \"FeatureCollection\",\n",
      "\"crs\": { \"type\": \"name\", \"properties\": { \"name\": \"urn:ogc:def:crs:EPSG::2157\" } },\n",
      "\"features\": [\n",
      "{ \"type\": \"Feature\", \"properties\": { \"timestamp\": \"2023-11-01T08:00:00\", \"PM2.5\": 3, \"PM10\": 5, \"Pressure\": 1012, \"Temperature\": 12, \"Humidity\": 86 }, \"geometry\": { \"type\": \"Point\", \"coordinates\": [ 555173.0, 654321.0 ] } },\n",
      "{ \"type\": \"Feature\", \"properties\": { \"timestamp\": \"2023-11-01T08:00:30\", \"PM2.5\": 4, \"PM10\": 6, \"Pressure\": 1012, \"Temperature\": 12, \"Humidity\": 86 }, \"geometry\": { \"type\": \"Point\", \"coordinates\": [ 555173.0, 654321.0 ] } },\n",
      "{ \"type\": \"Feature\", \"properties\": { \"timestamp\": \"2023-11-01T08:01:00\", \"PM2.5\": 6, \"PM10\": 5, \"Pressure\": 1012, \"Temperature\": 13, \"Humidity\": 87 }, \"geometry\": { \"type\": \"Point\", \"coordinates\": [ 555173.0, 654321.0 ] } },\n",
      "{ \"type\": \"Feature\", \"properties\": { \"timestamp\": \"2023-11-01T08:01:30\", \"PM2.5\": 2, \"PM10\": 3, \"Pressure\": 1013, \"Temperature\": 13, \"Humidity\": 87 }, \"geometry\": { \"type\": \"Point\", \"coordinates\": [ 555173.0, 654321.0 ] } },\n",
      "{ \"type\": \"Feature\", \"properties\": { \"timestamp\": \"2023-11-01T08:02:00\", \"PM2.5\": 3, \"PM10\": 4, \"Pressure\": 1013, \"Temperature\": 13, \"Humidity\": 87 }, \"geometry\": { \"type\": \"Point\", \"coordinates\": [ 555173.0, 654321.0 ] } }\n",
      "]\n",
      "}\n",
      "\n"
     ]
    }
   ],
   "source": [
    "with open('sample_data/ap.geojson', 'r') as f:\n",
    "    content = f.read()\n",
    "\n",
    "print (content)"
   ]
  },
  {
   "cell_type": "markdown",
   "id": "63a91901-5833-4335-b311-4915c81c4c2c",
   "metadata": {},
   "source": [
    "As you can see there, the GeoJSON format is somewhat human readable. You can see each feature separately, and every piece of data for each feature is labelled.\n",
    "\n",
    "Of course, this would be a massive disadvantage in terms of file size. This is essentially like a CSV, but adding the relevant column header before every single piece of data. Even in this short example, you can see how often those are repeated.\n",
    "\n",
    "But this format isn't intended for storage of huge datasets. It's intended for sending short snippets of data in a format that a person can understand. You wouldn't want to be storing 5 million data points in this format - but it has its place."
   ]
  },
  {
   "cell_type": "markdown",
   "id": "e7cb873d-8570-4aeb-970e-f122b2938b2c",
   "metadata": {},
   "source": [
    "## Next\n",
    "\n",
    "Now that we've been introduced to the main geospatial vector data formats, we're ready to start looking at doing some geoprocessing of vector geospatial data. Next Notebook uses some real data."
   ]
  }
 ],
 "metadata": {
  "kernelspec": {
   "display_name": "GY5021",
   "language": "python",
   "name": "gy5021"
  },
  "language_info": {
   "codemirror_mode": {
    "name": "ipython",
    "version": 3
   },
   "file_extension": ".py",
   "mimetype": "text/x-python",
   "name": "python",
   "nbconvert_exporter": "python",
   "pygments_lexer": "ipython3",
   "version": "3.11.6"
  }
 },
 "nbformat": 4,
 "nbformat_minor": 5
}
