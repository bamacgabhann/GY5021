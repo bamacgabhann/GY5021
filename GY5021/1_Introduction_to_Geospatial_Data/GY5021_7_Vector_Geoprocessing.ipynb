{
 "cells": [
  {
   "cell_type": "markdown",
   "id": "b53d2621-20a0-4323-b315-35b53e42b144",
   "metadata": {
    "colab_type": "text",
    "id": "view-in-github"
   },
   "source": [
    "<a href=\"https://colab.research.google.com/github/bamacgabhann/GY5021/blob/2024/GY5021/1_Introduction_to_Geospatial_Data/GY5021_7_Vector_Geoprocessing.ipynb\" target=\"_parent\"><img src=\"https://colab.research.google.com/assets/colab-badge.svg\" alt=\"Open In Colab\"/></a>     <a href=\"https://mybinder.org/v2/gh/bamacgabhann/GY5021/9a706c8973d5bde0e50593ecc94941b0426f24a6?urlpath=lab%2Ftree%2FGY5021%2F1_Introduction_to_Geospatial_Data%2FGY5021_7_Vector_Geoprocessing.ipynb\" target=\"_parent\"><img src=\"https://mybinder.org/badge_logo.svg\" alt=\"Open in Binder\" /></a>"
   ]
  },
  {
   "cell_type": "markdown",
   "id": "5badd95a-245c-4880-bc09-140b364eca32",
   "metadata": {},
   "source": [
    "<img src=\"https://raw.githubusercontent.com/bamacgabhann/GY5021/2024/PD_logo.png\" align=center alt=\"UL Geography logo\"/>"
   ]
  },
  {
   "cell_type": "markdown",
   "id": "0d4c6ad0-2121-4ee2-9cf2-fcadc05582b2",
   "metadata": {
    "id": "j-2xUUAfX0xa"
   },
   "source": [
    "# Vector Geoprocessing\n",
    "\n",
    "So far, we've looked at different types of data, how geospatial data can be stored as vector coordinates with attributes, making sure we use a relevant coordinate reference system; and the file types used to store data in this format.\n",
    "\n",
    "This brings us to a point where we can start doing geoprocessing, or analysis, of real geospatial data.\n",
    "\n",
    "Of course, in order to actually work on real geospatial data, we need to know where to get some! So let's start by looking at some sources of vector geospatial data."
   ]
  },
  {
   "cell_type": "markdown",
   "id": "212042e3-0959-42b2-9221-78e0b9ab1e5e",
   "metadata": {},
   "source": [
    "## 1. Sources of Vector Geospatial Data\n",
    "\n",
    "There is no way we could list all sources here - there's just far, far too many. But we'll try to give a few sources of data for Ireland that might be particularly useful or relevant. If you are interested in something which isn't here, or for somewhere else, ask! And we'll see what we can find for you."
   ]
  },
  {
   "cell_type": "markdown",
   "id": "80e57546-66da-4130-a61b-007f9d7ed166",
   "metadata": {},
   "source": [
    "A lot of the geospatial data for Ireland is available from a single source:\n",
    "\n",
    "- [data.gov.ie](https://data.gov.ie/) and [GeoHive](https://webapps.geohive.ie/mapviewer/index.html)\n",
    "\n",
    "    The Irish Government's Open Data portal currently lists 18,439 open datasets from 146 publishers, covering almost all areas of Government. Topics relevant to the environment include *Agriculture, Fisheries, Forestry, & Food*; *Energy*; *Environment*; *Health*; *Housing and Zoning*; *Population and Society*; *Regions and Cities*; and *Transport*. Data can also be viewed and downloaded through the GeoHive online mapviewer.\n",
    "\n",
    "- [data.europa.eu](https://data.europa.eu/en)\n",
    "\n",
    "    The European Union's official data portal also facilitates access to the data from the data.gov.ie portal, as well as data for other European countries and multinational data.\n",
    "\n",
    "There are some datasets not available through these portals, or more easily available from other sources:\n",
    "    \n",
    "- [CSO Census 2022 Small Area Population Statistics](https://www.cso.ie/en/census/census2022/census2022smallareapopulationstatistics/)\n",
    "\n",
    "    The census of population is taken every 5 years normally - with the pandemic delaying the most recent version slightly. The data is available from the Central Statistics Office at a range of geospatial data levels - including province, administrative county, Local Electoral Areas, Electoral Divisions, and Small Areas. Data and maps are provided separately, and must be combined to use as geospatial data.\n",
    "\n",
    "- Environmental Protection Agency (EPA): [data downloads](https://gis.epa.ie/GetData/Download) and [web mapping services](https://gis.epa.ie/GetData/Connect)\n",
    "\n",
    "    The EPA is responsible for most environmental monitoring and management, including compliance with EU directives such as the Water Framework Directive, air quality monitoring, noise monitoring, and radiological protection.\n",
    "\n",
    "- [Met Éireann](https://www.met.ie/climate/available-data)\n",
    "\n",
    "    Met Éireann publishes current and historic data from weather stations around the country.\n",
    "\n",
    "- OPW: [waterlevel.ie](https://waterlevel.ie/hydro-data/) \n",
    "\n",
    "    The Office of Public Works (OPW) has responsibility for flood risk management, and monitors water levels for rivers throughout the country. \n",
    "\n",
    "Some data is best available from non-government sources. In particular, Tailte Éireann - formerly the Ordnance Survey Ireland - is responsible for mapping, but the high resolution data is only available at cost. Of course you can look at detailed mapping from other sources like Google Maps - but similarly, you can't download individual feature sets like the roads, or the buildings, from Google Maps - you can only look at the overall map. There is one incomplete, but useful, source of this data, however.\n",
    "\n",
    "- OpenStreetMap [openstreetmap.org](https://www.openstreetmap.org/); download from [geofabrik.de](https://download.geofabrik.de/)\n",
    "\n",
    "    If you're not familiar with OpenStreetMap, you can think of it as being the open source version of Google Maps. With OpenStreetMap, anyone can contribute data - and anyone can download and use the data.\n",
    "\n"
   ]
  },
  {
   "cell_type": "markdown",
   "id": "20a90a27-22a3-42dd-8bf3-5bf06cc00aaf",
   "metadata": {},
   "source": [
    "## 2. Joining Vector and Attribute Data\n",
    "\n",
    "Sometimes, you'll have one file containing the geometry of particular features, and a second file containing attribute data for those features. Can you use them together? \n",
    "\n",
    "Yes, easily. \n",
    "\n",
    "Let's demonstrate using data from the most recent Census of Population in Ireland. The most detailed data from this is published at *small area* level. Small areas are defined to be comparable in size and population, with each typically having 50-200 dwellings, and ideally comprising complete townlands or neighbourhoods. \n",
    "\n",
    "The data at small areas level is published by the CSO, separately from the map of the small areas. However, the data does contain references indicating which small area each row of data is for. We can use this to join the data to the map. Let's start by reading in the map of the small areas. We can do this directly from the Government's Open Data portal:"
   ]
  },
  {
   "cell_type": "code",
   "execution_count": null,
   "id": "081602d8-f6bf-4083-b09c-f38e8d36ab77",
   "metadata": {},
   "outputs": [],
   "source": [
    "import pandas as pd\n",
    "import geopandas as gpd"
   ]
  },
  {
   "cell_type": "code",
   "execution_count": null,
   "id": "aba7289e-9257-46c1-99b4-dc33c8fc2c0c",
   "metadata": {},
   "outputs": [],
   "source": [
    "small_areas = gpd.read_file('https://opendata.arcgis.com/api/v3/datasets/70a33cbb8bd7406da0d571be28624721_0/downloads/data?format=geojson&spatialRefId=4326&where=1%3D1')\n",
    "small_areas.head()"
   ]
  },
  {
   "cell_type": "markdown",
   "id": "5330c97b-813d-41c3-bf5c-d1827a4c3384",
   "metadata": {},
   "source": [
    "This is a relatively big dataset, and will take a little time to download, so don't panic if it doesn't run quickly. We're downloading it in GeoJSON format, even though it's also available as a smaller shapefile, because some of the column names are more than 10 characters long, and cutting them off at 10 characters - as the shapefile format does - will leave some columns where we don't know which is which. Most importantly, some small areas were redefined between 2016 and 2022, and so there's columns with the IDs for both years; SA_GUID_2016 and SA_GUID_2022 truncated to 10 characters are both SA_GUID_20. Really not the two columns you want to be confusing."
   ]
  },
  {
   "cell_type": "markdown",
   "id": "9b9c5976-da43-4d77-b1cb-a2107df36b80",
   "metadata": {},
   "source": [
    "And now let's get the census data tables at Small Areas level from the CSO:"
   ]
  },
  {
   "cell_type": "code",
   "execution_count": null,
   "id": "8c78f1ad-ee5d-4dba-86bf-67b2687fcd2f",
   "metadata": {},
   "outputs": [],
   "source": [
    "small_areas_data = pd.read_csv('https://www.cso.ie/en/media/csoie/census/census2022/SAPS_2022_Small_Area_270923.csv')\n",
    "small_areas_data.head()"
   ]
  },
  {
   "cell_type": "markdown",
   "id": "3ce033b7-6a75-4da5-9ecf-cd40ce6d015d",
   "metadata": {},
   "source": [
    "Now, we can see that in the small areas maps, the column with the ID for each area is ```SA_GUID_2022```, whereas in the data tables, it's just ```GUID```. We would prefer these to be the same name, so we can easily link them, so let's rename the column in the data tables:"
   ]
  },
  {
   "cell_type": "code",
   "execution_count": null,
   "id": "5fd720e7-b537-4ffa-9d23-96cd7f7b4790",
   "metadata": {},
   "outputs": [],
   "source": [
    "small_areas_data = small_areas_data.rename(columns = {'GUID':'SA_GUID_2022'})\n",
    "small_areas_data.head()"
   ]
  },
  {
   "cell_type": "markdown",
   "id": "e175b94a-84f3-4d3b-a2e8-0cfe847dd045",
   "metadata": {},
   "source": [
    "Combining these takes just one simple line of code, asking to merge the small areas map file with the data, specifying that they should be merged based on the ```SA_GUID_2022``` columns in each file - the columns containing the reference ID for each small area."
   ]
  },
  {
   "cell_type": "code",
   "execution_count": null,
   "id": "c661a381-c73d-45dc-99ff-ca0c355a4535",
   "metadata": {},
   "outputs": [],
   "source": [
    "small_areas = small_areas.merge(small_areas_data, on='SA_GUID_2022')\n",
    "small_areas.head()"
   ]
  },
  {
   "cell_type": "markdown",
   "id": "fe15b3fc-14b3-42ad-b0ff-39908fe9cbeb",
   "metadata": {},
   "source": [
    "Done. I know it doesn't look any different to the ```small_areas.head()``` result above - but check the size. Here it's showing 5 rows by 821 columns; earlier it was 5 rows x 29 columns. It's now added the 793 columns from the ```small_areas_data``` layer. \n",
    "\n",
    "Before we move on to mapping any of this data, though, let's check what map projection it's in."
   ]
  },
  {
   "cell_type": "code",
   "execution_count": null,
   "id": "09fc6d03-b27f-4650-8c59-62946349b57f",
   "metadata": {},
   "outputs": [],
   "source": [
    "small_areas.crs"
   ]
  },
  {
   "cell_type": "markdown",
   "id": "e009c3c6-ac6d-45ec-987c-6b6387aa91f7",
   "metadata": {},
   "source": [
    "Better to have it in the Irish Transverse Mercator projection, so let's reproject it:"
   ]
  },
  {
   "cell_type": "code",
   "execution_count": null,
   "id": "1f082326-c08e-4ce5-beb7-2d15cf85bd80",
   "metadata": {},
   "outputs": [],
   "source": [
    "small_areas = small_areas.to_crs(2157)\n",
    "small_areas.crs"
   ]
  },
  {
   "cell_type": "markdown",
   "id": "837bad86-1212-40af-8164-f52c290a9af9",
   "metadata": {},
   "source": [
    "Done. We can now plot the CSO data on a map - though we have to choose which column we want to plot. Here's a plot based on the column ```T1_1AGETT```, which, if you check the [census data glossary](https://www.cso.ie/en/media/csoie/census/census2022/Glossary_Saps_2022_270923.xlsx), contains the total population of all ages in each small area."
   ]
  },
  {
   "cell_type": "code",
   "execution_count": null,
   "id": "b68be98c-a30a-426e-9636-20618ff7a04b",
   "metadata": {},
   "outputs": [],
   "source": [
    "small_areas.plot(column='T1_1AGETT')"
   ]
  },
  {
   "cell_type": "markdown",
   "id": "761afa1b-5f0d-47a9-bfc8-3a276fc93f7b",
   "metadata": {},
   "source": [
    "Of course this is just the absolute most basic possible plot - we didn't specify anything other than what data to show. We can, of course, exercise more control over the map, for example:"
   ]
  },
  {
   "cell_type": "code",
   "execution_count": null,
   "id": "b15d108e-c95c-4770-b157-34870a7c6914",
   "metadata": {},
   "outputs": [],
   "source": [
    "small_areas.plot(column='T1_1AGETT', cmap='YlGnBu', legend=True)"
   ]
  },
  {
   "cell_type": "markdown",
   "id": "9bf44d04-ff06-4413-8672-521d060e9005",
   "metadata": {},
   "source": [
    "Actually, this isn't the most useful column to plot, because the small areas are literally drawn to be more or less even in terms of population. So there's not much variation. But there's plenty of other data in there. Let's look at how many people in each area commute to work by bus - that's column ```T11_1_BUW```."
   ]
  },
  {
   "cell_type": "code",
   "execution_count": null,
   "id": "98129840-8d26-47bb-b76c-f8797c0240b6",
   "metadata": {},
   "outputs": [],
   "source": [
    "small_areas.plot(column='T11_1_BUW', cmap='YlGn', legend=True)"
   ]
  },
  {
   "cell_type": "markdown",
   "id": "725d5f28-37c2-497b-b049-c4625387878e",
   "metadata": {},
   "source": [
    "Yikes, that doesn't look like very many."
   ]
  },
  {
   "cell_type": "markdown",
   "id": "09c54bef-4e0d-4a1e-b009-b8430527eb1e",
   "metadata": {},
   "source": [
    "## 3. Attribute Calculations\r\n",
    "\r\n",
    "The thing is though, with only small numbers in each area, it's always going to be a fairly small number for this. It's also perhaps a bit misleading to look at only commuting by bus - if we are interested in buses specifically, great, but what if we're interested in sustainable transport options in general? What about trains, cycling, and walking? Plus, this is only the numbers for work - what about commuting to school or college?\r\n",
    "\r\n",
    "The broader point I'm making here is that raw numbers can be useful, but often it's much more useful to combine them. We can calculate new attribute columns based on the data we have. So, let's do that by looking at sustainable transport in general. For this, we'll need 8 columns of transport data:\r\n",
    "\r\n",
    "- ```T11_1_FW``` On foot - Work\r\n",
    "- ```T11_1_BIW``` Bicycle - Work\r\n",
    "- ```T11_1_BUW``` Bus, minibus or coach - Work\r\n",
    "- ```T11_1_TDLW``` Train, DART or LUAS - Work\r\n",
    "- ```T11_1_FSCCC``` On foot - School, college or childcare\r\n",
    "- ```T11_1_BISCCC``` Bicycle - School, college or childcare\r\n",
    "- ```T11_1_BUSCCC``` Bus, minibus or coach - School, college or childcare\r\n",
    "- ```T11_1_TDLSCCC``` Train, DART or LUAS - School, college or childcare\r\n",
    "\r\n",
    "And rather than using raw numbers, let's look at the *percentage* of people in each area who use sustainable transport options for commuting. For this, we need a column for population: that would be ```T11_1_TT```.\r\n",
    "\r\n",
    "The maths here is simple - we want to add the sustainable transport options, divide by the total, and multiply the result by 100 to make it a percentage - and we want to do that for every row, putting the result in a new column."
   ]
  },
  {
   "cell_type": "code",
   "execution_count": null,
   "id": "9d0be0d5-c2fb-48c4-a429-8eea62aedb90",
   "metadata": {},
   "outputs": [],
   "source": [
    "small_areas['sustainable_transport'] = ((\n",
    "    small_areas['T11_1_FW'] + \n",
    "    small_areas['T11_1_BIW'] + \n",
    "    small_areas['T11_1_BUW'] + \n",
    "    small_areas['T11_1_TDLW'] + \n",
    "    small_areas['T11_1_FSCCC'] + \n",
    "    small_areas['T11_1_BISCCC'] + \n",
    "    small_areas['T11_1_BUSCCC'] + \n",
    "    small_areas['T11_1_TDLSCCC']\n",
    ")/small_areas['T11_1_TT'])*100\n",
    "\n",
    "small_areas.plot(column='sustainable_transport', cmap='BuGn', legend=True)"
   ]
  },
  {
   "cell_type": "markdown",
   "id": "1fd6376e-9f96-4ee0-abbd-339ab4fce353",
   "metadata": {},
   "source": [
    "Doing this kind of geospatial analysis is really very straightforward - the mapping or processing isn't tricky. The tricky part is deciding what you want to do, and figuring out if you have the right data to do it."
   ]
  },
  {
   "cell_type": "markdown",
   "id": "688aea4d-c65d-4bf4-b515-8813afd4b974",
   "metadata": {},
   "source": [
    "## 4. Aggregating\n",
    "\n",
    "I'm not entirely convinced that map is hugely useful either. Not on a national scale, anyway. If we were looking at, say, Dublin, or Limerick, in isolation, trying to see if bus routes were working in certain places, then yes, doing this would be appropriate. But on a national scale, it's probably more useful to just see the average numbers for particular places.\n",
    "\n",
    "Again, this isn't just about that map specifically, I'm using this as an example of a broader point that sometimes, we're not necessarily interested in the full level of detail of a dataset, but rather want to aggregate the data for particular questions. \n",
    "\n",
    "In this example, what we'd probably be most interested in, at a national level, is the proportion of people using sustainable transport options in urban areas - because of course, as we can see on the map above, rural areas really aren't - there just aren't any practical sustainable options right now for most rural areas.\n",
    "\n",
    "We can do this by what's called *dissolving* the data - meaning merging all features which share some attribute in common. To look at the sustainable transport options in each urban area, we will dissolve the data by the ```SA_URBAN_AREA_NAME``` column, which contains the names of the urban area each small area is part of - if they are part of one. \n",
    "\n",
    "You can see in the ```head``` table above that the first couple of small areas in the list are part of Carlow town. The dissolve method will merge these all to a single feature - combining the polygon shapes for each small area in Carlow town. There will be a separate feature combining all the small areas in Limerick, and one for Galway, and one for Sligo...and so on. Each urban area named will get a single row combining all the data from all rows where that urban area was previously named.\n",
    "\n",
    "Of course, that means there'll only be one cell to contain population data, rather than one cell for each small area - and the same for every other column. So we also have to specify how this will be handled. Since we want the average for each urban area, we could take the mean of all the values for each urban area, and save the total in the relevant new row. \n",
    "\n",
    "However, that would also take the mean for all the other data columns, which isn't appropriate. But we also don't *need* all of those other columns for this.\n",
    "\n",
    "So, let's create a separate GeoDataFrame with only the geometry polygons, urban area name, and sustainable transport percentages."
   ]
  },
  {
   "cell_type": "code",
   "execution_count": null,
   "id": "1f2e3fbc-6465-4e02-82e6-efc3d9d281bb",
   "metadata": {},
   "outputs": [],
   "source": [
    "sa_sustrans = small_areas[['geometry', 'SA_URBAN_AREA_NAME', 'sustainable_transport']]\n",
    "sa_sustrans.head()"
   ]
  },
  {
   "cell_type": "markdown",
   "id": "5d8eb92b-0f48-49da-a7c4-847cdaef0dd6",
   "metadata": {},
   "source": [
    "In a more real example, we'd probably keep a few more columns, but this is fine to demonstrate the principle. \n",
    "\n",
    "Now we can run the dissolve, and specify ```mean``` as the ```aggfunc``` - the aggregate function determining how to merge the data.\n",
    "\n",
    "```mean``` is only one option for ```aggfunc``` - you can also specify first, last, min, max, median, sum, or a custom function. But mean is what we need in this case."
   ]
  },
  {
   "cell_type": "code",
   "execution_count": null,
   "id": "69518f7c-70dc-4049-933a-fd46306093d1",
   "metadata": {},
   "outputs": [],
   "source": [
    "sa_sustrans_urb = sa_sustrans.dissolve(by='SA_URBAN_AREA_NAME', aggfunc='mean')\n",
    "sa_sustrans_urb"
   ]
  },
  {
   "cell_type": "code",
   "execution_count": null,
   "id": "d4c5410b-6b7b-4f83-b0ac-dbbf143b066f",
   "metadata": {},
   "outputs": [],
   "source": [
    "sa_sustrans_urb.plot(column='sustainable_transport', cmap='brg', legend=True)"
   ]
  },
  {
   "cell_type": "markdown",
   "id": "353f165b-3fdb-429f-a923-231c19a2de0c",
   "metadata": {},
   "source": [
    "We could probably do better, especially if we start playing with the colour scale, but you can see the urban areas and variations between them. Dublin's doing well - it should, it has the Luas and Dart as well as Dublin Bus. Everywhere else is, well, not great. Room for improvement. \n",
    "\n",
    "In any case, this is not so much about this one map in particular, but more to demonstrate the general point of aggregating data - and that worked just fine, so hopefully you get that concept now."
   ]
  },
  {
   "cell_type": "markdown",
   "id": "369f1e3a-f4bb-480f-988f-7418e386853f",
   "metadata": {},
   "source": [
    "## 5. Clipping\n",
    "\n",
    "Now, the maps above are showing data for the entire State, but what if you just want to look at one place? It's kinda hard to make out Limerick there. We could just zoom the map in on Limerick, but that seems a bit wasteful, since we'd still be processing all the data for everywhere else behind the scenes.\n",
    "\n",
    "In the last example, we created a new dataframe which had only the columns we are interested in. Can we also do the same with rows?\n",
    "\n",
    "Yes, absolutely. In fact, we did - dissolving by the urban area names column dropped all rows which aren't named as part of an urban area.\n",
    "\n",
    "Could we isolate all the rows for Limerick? Yes, we can. In fact, there's two ways to do this. One would be simply extracting the rows which have Limerick as the urban area name."
   ]
  },
  {
   "cell_type": "code",
   "execution_count": null,
   "id": "2ad427a7-fe61-45a6-8b68-caa9d09d6048",
   "metadata": {},
   "outputs": [],
   "source": [
    "sa_limerick = small_areas[small_areas['SA_URBAN_AREA_NAME']=='Limerick city and suburbs']\n",
    "sa_limerick.head()"
   ]
  },
  {
   "cell_type": "code",
   "execution_count": null,
   "id": "16777fa3-7961-4b2d-a737-5a568975786d",
   "metadata": {},
   "outputs": [],
   "source": [
    "sa_limerick.plot(column='sustainable_transport', cmap='BuGn', legend=True)"
   ]
  },
  {
   "cell_type": "markdown",
   "id": "3bb761ff-aafd-4e2a-a4ed-12bb8a0e30d7",
   "metadata": {},
   "source": [
    "I did say above that plotting the data this way would be more useful looking at local areas - and yes, it is, isn't it?\n",
    "\n",
    "There is another way to isolate the data for Limerick, and that's to *clip* it using a second layer with geometry.\n",
    "\n",
    "Luckily, I happen to have a file which contains the geometry of the Limerick Metropolitan area - and we can use that to clip the small areas data."
   ]
  },
  {
   "cell_type": "code",
   "execution_count": null,
   "id": "58a1d5a9-7f35-4f1e-a90d-d9d023b02b62",
   "metadata": {},
   "outputs": [],
   "source": [
    "limerick_metropolitan = gpd.read_file('https://github.com/bamacgabhann/GY5021/raw/2024/GY5021/1_Introduction_to_Geospatial_Data/sample_data/LimerickMetropolitan.gpkg')\n",
    "limerick_metropolitan.plot()"
   ]
  },
  {
   "cell_type": "code",
   "execution_count": null,
   "id": "5c9cbea6-4885-49a0-a12b-0d842e27111d",
   "metadata": {},
   "outputs": [],
   "source": [
    "sa_clip_limerick = gpd.clip(small_areas, limerick_metropolitan)\n",
    "sa_clip_limerick.plot(column='sustainable_transport', cmap='BuGn', legend=True)"
   ]
  },
  {
   "cell_type": "markdown",
   "id": "b7721315-f5a1-4792-a041-5042773b350f",
   "metadata": {},
   "source": [
    "This covers more area than the previous - that's because the Limerick Metropolitan area - the area covered by the Limerick City North, Limerick City West, and Limerick City East electoral areas - also includes a lot of more rural areas surrounding the city itself. \n",
    "\n",
    "That's not really the important point though - the takeaway here is that you can use the extent of one file to *clip* the contents of another, so that they both cover only the same area."
   ]
  },
  {
   "cell_type": "markdown",
   "id": "a29ac465-4fbd-43fa-bd25-843cf6112233",
   "metadata": {},
   "source": [
    "## 6. Buffering\n",
    "\n",
    "Buffering means defining an area within a certain distance of a feature. For example, you might want to look at how many people live within 500m of a bus stop - in which case you could create a 500m buffer around the bus stop. Or around multiple bus stops.\n",
    "\n",
    "Why yes, I do happen to have maps of the bus stops in Limerick."
   ]
  },
  {
   "cell_type": "code",
   "execution_count": null,
   "id": "52d15112-f3fc-4050-affb-960cbaa33845",
   "metadata": {},
   "outputs": [],
   "source": [
    "limerick_stops_301_to_raheen = gpd.read_file('https://github.com/bamacgabhann/GY5021/raw/2024/GY5021/1_Introduction_to_Geospatial_Data/sample_data/Limerick_Bus_Stops.gpkg', layer='301_to_raheen')\n",
    "limerick_stops_301_to_westbury = gpd.read_file('https://github.com/bamacgabhann/GY5021/raw/2024/GY5021/1_Introduction_to_Geospatial_Data/sample_data/Limerick_Bus_Stops.gpkg', layer='301_to_westbury')\n",
    "limerick_stops_302 = gpd.read_file('https://github.com/bamacgabhann/GY5021/raw/2024/GY5021/1_Introduction_to_Geospatial_Data/sample_data/Limerick_Bus_Stops.gpkg', layer='302')\n",
    "limerick_stops_303_to_omalley_park = gpd.read_file('https://github.com/bamacgabhann/GY5021/raw/2024/GY5021/1_Introduction_to_Geospatial_Data/sample_data/Limerick_Bus_Stops.gpkg', layer='303_to_omalley_park')\n",
    "limerick_stops_303_to_pineview = gpd.read_file('https://github.com/bamacgabhann/GY5021/raw/2024/GY5021/1_Introduction_to_Geospatial_Data/sample_data/Limerick_Bus_Stops.gpkg', layer='303_to_pineview')\n",
    "limerick_stops_304_to_raheen = gpd.read_file('https://github.com/bamacgabhann/GY5021/raw/2024/GY5021/1_Introduction_to_Geospatial_Data/sample_data/Limerick_Bus_Stops.gpkg', layer='304_to_raheen')\n",
    "limerick_stops_304_to_ul = gpd.read_file('https://github.com/bamacgabhann/GY5021/raw/2024/GY5021/1_Introduction_to_Geospatial_Data/sample_data/Limerick_Bus_Stops.gpkg', layer='304_to_ul')\n",
    "limerick_stops_304a_to_raheen = gpd.read_file('https://github.com/bamacgabhann/GY5021/raw/2024/GY5021/1_Introduction_to_Geospatial_Data/sample_data/Limerick_Bus_Stops.gpkg', layer='304a_to_raheen')\n",
    "limerick_stops_304a_to_ul = gpd.read_file('https://github.com/bamacgabhann/GY5021/raw/2024/GY5021/1_Introduction_to_Geospatial_Data/sample_data/Limerick_Bus_Stops.gpkg', layer='304a_to_ul')\n",
    "limerick_stops_305_to_liddy_st = gpd.read_file('https://github.com/bamacgabhann/GY5021/raw/2024/GY5021/1_Introduction_to_Geospatial_Data/sample_data/Limerick_Bus_Stops.gpkg', layer='305_to_liddy_st')\n",
    "limerick_stops_305_to_william_st = gpd.read_file('https://github.com/bamacgabhann/GY5021/raw/2024/GY5021/1_Introduction_to_Geospatial_Data/sample_data/Limerick_Bus_Stops.gpkg', layer='305_to_william_st')"
   ]
  },
  {
   "cell_type": "markdown",
   "id": "40ae28d5-9a95-4051-843b-25fe31f567db",
   "metadata": {},
   "source": [
    "Separate map for each route - but we can plot all of these on one map. "
   ]
  },
  {
   "cell_type": "code",
   "execution_count": null,
   "id": "d9bb7f5d-288d-4efb-ac1f-367bf78bebe7",
   "metadata": {},
   "outputs": [],
   "source": [
    "import matplotlib.pyplot as plt"
   ]
  },
  {
   "cell_type": "code",
   "execution_count": null,
   "id": "d827facc-d4b2-4487-a5c8-c4ab89e92640",
   "metadata": {},
   "outputs": [],
   "source": [
    "fig, ax = plt.subplots()\n",
    "sa_limerick.plot(ax=ax, column='sustainable_transport', cmap='BuGn', legend=True)\n",
    "limerick_stops_301_to_raheen.plot(ax=ax, marker='>', color='red', markersize=5)\n",
    "limerick_stops_301_to_westbury.plot(ax=ax, marker='<', color='tomato', markersize=5)\n",
    "limerick_stops_302.plot(ax=ax, marker='D', color='darkorange', markersize=5)\n",
    "limerick_stops_303_to_omalley_park.plot(ax=ax, marker='>', color='sienna', markersize=5)\n",
    "limerick_stops_303_to_pineview.plot(ax=ax, marker='<', color='gold', markersize=5)\n",
    "limerick_stops_304_to_raheen.plot(ax=ax, marker='>', color='skyblue', markersize=5)\n",
    "limerick_stops_304_to_ul.plot(ax=ax, marker='<', color='royalblue', markersize=5)\n",
    "limerick_stops_304a_to_raheen.plot(ax=ax, marker='>', color='dodgerblue', markersize=5)\n",
    "limerick_stops_304a_to_ul.plot(ax=ax, marker='<', color='blue', markersize=5)\n",
    "limerick_stops_305_to_liddy_st.plot(ax=ax, marker='>', color='fuchsia', markersize=5)\n",
    "limerick_stops_305_to_william_st.plot(ax=ax, marker='<', color='violet', markersize=5)\n",
    "plt.show()"
   ]
  },
  {
   "cell_type": "markdown",
   "id": "4164943d-9e2b-41f0-b5db-23df7b2d8cae",
   "metadata": {},
   "source": [
    "This is the first time we've put multiple layers on the same map - reasonably straightforward, I hope. Now, we can buffer the bus stop layers:"
   ]
  },
  {
   "cell_type": "code",
   "execution_count": null,
   "id": "8e28dbf2-2476-4c24-97ca-e0b9b9d76106",
   "metadata": {},
   "outputs": [],
   "source": [
    "fig, ax = plt.subplots()\n",
    "sa_limerick.plot(ax=ax, column='sustainable_transport', cmap='BuGn', legend=True)\n",
    "limerick_stops_301_to_raheen.buffer(500).boundary.plot(ax=ax)\n",
    "limerick_stops_301_to_westbury.buffer(500).boundary.plot(ax=ax)\n",
    "limerick_stops_302.buffer(500).boundary.plot(ax=ax)\n",
    "limerick_stops_303_to_omalley_park.buffer(500).boundary.plot(ax=ax)\n",
    "limerick_stops_303_to_pineview.buffer(500).boundary.plot(ax=ax)\n",
    "limerick_stops_304_to_raheen.buffer(500).boundary.plot(ax=ax)\n",
    "limerick_stops_304_to_ul.buffer(500).boundary.plot(ax=ax)\n",
    "limerick_stops_304a_to_raheen.buffer(500).boundary.plot(ax=ax)\n",
    "limerick_stops_304a_to_ul.buffer(500).boundary.plot(ax=ax)\n",
    "limerick_stops_305_to_liddy_st.buffer(500).boundary.plot(ax=ax)\n",
    "limerick_stops_305_to_william_st.buffer(500).boundary.plot(ax=ax)\n",
    "limerick_stops_301_to_raheen.plot(ax=ax, marker='>', color='red', markersize=5)\n",
    "limerick_stops_301_to_westbury.plot(ax=ax, marker='<', color='tomato', markersize=5)\n",
    "limerick_stops_302.plot(ax=ax, marker='D', color='darkorange', markersize=5)\n",
    "limerick_stops_303_to_omalley_park.plot(ax=ax, marker='>', color='sienna', markersize=5)\n",
    "limerick_stops_303_to_pineview.plot(ax=ax, marker='<', color='gold', markersize=5)\n",
    "limerick_stops_304_to_raheen.plot(ax=ax, marker='>', color='skyblue', markersize=5)\n",
    "limerick_stops_304_to_ul.plot(ax=ax, marker='<', color='royalblue', markersize=5)\n",
    "limerick_stops_304a_to_raheen.plot(ax=ax, marker='>', color='dodgerblue', markersize=5)\n",
    "limerick_stops_304a_to_ul.plot(ax=ax, marker='<', color='blue', markersize=5)\n",
    "limerick_stops_305_to_liddy_st.plot(ax=ax, marker='>', color='fuchsia', markersize=5)\n",
    "limerick_stops_305_to_william_st.plot(ax=ax, marker='<', color='violet', markersize=5)\n",
    "plt.show()"
   ]
  },
  {
   "cell_type": "markdown",
   "id": "f0e3c2fe-2fb3-499d-a074-d9f0866d1dde",
   "metadata": {},
   "source": [
    "Getting a bit messy in some places, but you can clearly see where *isn't* within 500m of a bus stop. \n",
    "\n",
    "Anyway, once again the real takaway isn't this dataset in particular, it's the concept of drawing buffers. "
   ]
  },
  {
   "cell_type": "markdown",
   "id": "8107a3cc-b0b5-42a6-bf3f-b7eaa6f21586",
   "metadata": {},
   "source": [
    "## 7. Intersecting\n",
    "\n",
    "When we used the Limerick Metropolitan map to clip the small_areas map, that's one way of using two datasets together. But what if we want to combine two datasets where they're overlapping, and keep all the data from both datasets in the new combined layer?\n",
    "\n",
    "This is called intersecting, and to demonstrate, let's get a map of all the buildings in Limerick.\n",
    "\n",
    "We'll get it from OpenStreetMap. Buildings are fiddly, so in many places, this dataset wouldn't be complete. I know it's complete for Limerick, though, because I completed it.\n",
    "\n",
    "For OpenStreetMap, in the data sources Notebook, I gave a link to GeoFabrik. I did that because if you're using QGIS or ArcGIS Pro, that's most likely what you'd use. However, in Python, we can use the package osmnx to get only the data we want from OpenStreetMap - instead of having to download all the data for the whole country."
   ]
  },
  {
   "cell_type": "markdown",
   "id": "a4d61ef8-5410-4877-82a1-8d698a637536",
   "metadata": {},
   "source": [
    "*Only run this next cell if you are working in Colab: in Binder, skip to import osmnx*"
   ]
  },
  {
   "cell_type": "code",
   "execution_count": null,
   "id": "c73a7da3-d655-415d-9dbc-f4ff72f6ce73",
   "metadata": {},
   "outputs": [],
   "source": [
    "!pip install osmnx"
   ]
  },
  {
   "cell_type": "code",
   "execution_count": null,
   "id": "e6049aca-7358-4235-a8fd-37ac27092be4",
   "metadata": {},
   "outputs": [],
   "source": [
    "import osmnx as ox"
   ]
  },
  {
   "cell_type": "code",
   "execution_count": null,
   "id": "85546848-87b5-4eec-a974-b0b60575cdda",
   "metadata": {},
   "outputs": [],
   "source": [
    "place = \"Limerick, Ireland\"\n",
    "tags = {\"building\": True}\n",
    "lk_buildings = ox.features_from_place(place, tags)\n",
    "lk_buildings = lk_buildings[lk_buildings.geom_type == 'Polygon']\n",
    "lk_buildings = lk_buildings.to_crs(2157)\n",
    "lk_buildings.plot()"
   ]
  },
  {
   "cell_type": "markdown",
   "id": "225a5322-22e1-4393-aebe-14ab06df07d0",
   "metadata": {},
   "source": [
    "That's all the buildings in Limerick, pulled from OpenStreetMap by the library <a href='https://geoffboeing.com/2016/11/osmnx-python-street-networks/'>osmnx</a>. There's <a href='https://github.com/gboeing/osmnx-examples/tree/main/notebooks'>some great examples</a> of how to use osmnx by the package author Geoff Boeing.\n",
    "\n",
    "Let's intersect this with the small areas layer."
   ]
  },
  {
   "cell_type": "code",
   "execution_count": null,
   "id": "78c9ba5c-b575-41bb-851b-dd3a9262a2e3",
   "metadata": {},
   "outputs": [],
   "source": [
    "lk_buildings_sa = lk_buildings.overlay(small_areas, how='intersection')\n",
    "lk_buildings_sa.plot(column=\"SA_GUID_2022\")"
   ]
  },
  {
   "cell_type": "markdown",
   "id": "3cd66029-a87c-4b34-80a4-fd4fcea73d59",
   "metadata": {},
   "source": [
    "That's all the buildings in Limerick, plotted by colour according to which small area they're in.\n",
    "\n",
    "They key point here is that what's plotted on the map, i.e. the shapes of the buildings, is no different than the shapes of the buildings when we plotted straight from osmnx. But here, they have now inhereted the attributes of the small area that they're in. That's the power of intersection."
   ]
  },
  {
   "cell_type": "markdown",
   "id": "d670d33e-2fb2-4ca2-86a2-4a59f18003f3",
   "metadata": {},
   "source": [
    "I think that is more than enough to get started with for Week 1, so that's the end of the Notebooks for this week - though there will be additional video walk-throughs of doing some of this in QGIS as well.\n",
    "\n",
    "Getting all the way to this point is a *huge* amount to cover in a short time, and please, don't expect to have learned it all. This is just an introduction, so that you've seen something once. You can refer back to any of the Notebooks at any time, you don't have to remember everything. I'm constantly looking up documentation to check how to do things again - I guarantee you I didn't write all this straight from memory. \n",
    "\n",
    "Much of this will take time to sink in - time, and using it. Your assignment is making one map - that will show that you *can* do this. It doesn't matter in the slightest if it's doing it while constantly referring back to guides. If you go on to make more maps, and analyse more data - well, then you'll get used to some of the tools for doing the particular things you use frequently. And if you're not doing it frequently, well, being able to find the right guides and information to let you do what you want to do is all the matters.\n",
    "\n",
    "There will be a short survey on Brightspace just to ask about what kinds of things you'd be interested to look at, and I'll use the responses to that to give some more suggestions."
   ]
  },
  {
   "cell_type": "markdown",
   "id": "45fa10ae-4e0a-40fe-a30f-b55c0106d793",
   "metadata": {},
   "source": [
    "___\n",
    "\n",
    "Week 1 Notebooks: \n",
    "\n",
    "1. Geospatial Software and Programming Languages <a href=\"https://colab.research.google.com/github/bamacgabhann/GY5021/blob/2024/GY5021/1_Introduction_to_Geospatial_Data/GY5021_1_Geospatial_Software_and_Programming_Languages.ipynb\" target=\"_parent\"><img src=\"https://colab.research.google.com/assets/colab-badge.svg\" alt=\"Open In Colab\"/></a>     <a href=\"https://mybinder.org/v2/gh/bamacgabhann/GY5021/9a706c8973d5bde0e50593ecc94941b0426f24a6?urlpath=lab%2Ftree%2FGY5021%2F1_Introduction_to_Geospatial_Data%2FGY5021_1_Geospatial_Software_and_Programming_Languages.ipynb\" target=\"_parent\"><img src=\"https://mybinder.org/badge_logo.svg\" alt=\"Open in Binder\" /></a>\n",
    "\n",
    "2. Data Types <a href=\"https://colab.research.google.com/github/bamacgabhann/GY5021/blob/2024/GY5021/1_Introduction_to_Geospatial_Data/GY5021_2_Data_Types.ipynb\" target=\"_parent\"><img src=\"https://colab.research.google.com/assets/colab-badge.svg\" alt=\"Open In Colab\"/></a>     <a href=\"https://mybinder.org/v2/gh/bamacgabhann/GY5021/9a706c8973d5bde0e50593ecc94941b0426f24a6?urlpath=lab%2Ftree%2FGY5021%2F1_Introduction_to_Geospatial_Data%2FGY5021_2_Data_Types.ipynb\" target=\"_parent\"><img src=\"https://mybinder.org/badge_logo.svg\" alt=\"Open in Binder\" /></a>\n",
    "\n",
    "3. Vector Data <a href=\"https://colab.research.google.com/github/bamacgabhann/GY5021/blob/2024/GY5021/1_Introduction_to_Geospatial_Data/GY5021_3_Vector_Data.ipynb\" target=\"_parent\"><img src=\"https://colab.research.google.com/assets/colab-badge.svg\" alt=\"Open In Colab\"/></a>     <a href=\"https://mybinder.org/v2/gh/bamacgabhann/GY5021/9a706c8973d5bde0e50593ecc94941b0426f24a6?urlpath=lab%2Ftree%2FGY5021%2F1_Introduction_to_Geospatial_Data%2FGY5021_3_Vector_Data.ipynb\" target=\"_parent\"><img src=\"https://mybinder.org/badge_logo.svg\" alt=\"Open in Binder\" /></a>\n",
    "\n",
    "4. Attribute Data <a href=\"https://colab.research.google.com/github/bamacgabhann/GY5021/blob/2024/GY5021/1_Introduction_to_Geospatial_Data/GY5021_4_Attribute_Data.ipynb\" target=\"_parent\"><img src=\"https://colab.research.google.com/assets/colab-badge.svg\" alt=\"Open In Colab\"/></a>     <a href=\"https://mybinder.org/v2/gh/bamacgabhann/GY5021/9a706c8973d5bde0e50593ecc94941b0426f24a6?urlpath=lab%2Ftree%2FGY5021%2F1_Introduction_to_Geospatial_Data%2FGY5021_4_Attribute_Data.ipynb\" target=\"_parent\"><img src=\"https://mybinder.org/badge_logo.svg\" alt=\"Open in Binder\" /></a>\n",
    "\n",
    "5. Coordinate Reference Systems <a href=\"https://colab.research.google.com/github/bamacgabhann/GY5021/blob/2024/GY5021/1_Introduction_to_Geospatial_Data/GY5021_5_Coordinate_Reference_Systems.ipynb\" target=\"_parent\"><img src=\"https://colab.research.google.com/assets/colab-badge.svg\" alt=\"Open In Colab\"/></a>     <a href=\"https://mybinder.org/v2/gh/bamacgabhann/GY5021/9a706c8973d5bde0e50593ecc94941b0426f24a6?urlpath=lab%2Ftree%2FGY5021%2F1_Introduction_to_Geospatial_Data%2FGY5021_5_Coordinate_Reference_Systems.ipynb\" target=\"_parent\"><img src=\"https://mybinder.org/badge_logo.svg\" alt=\"Open in Binder\" /></a>\n",
    "\n",
    "6. Geospatial Data Files <a href=\"https://colab.research.google.com/github/bamacgabhann/GY5021/blob/2024/GY5021/1_Introduction_to_Geospatial_Data/GY5021_6_Geospatial_Data_Files.ipynb\" target=\"_parent\"><img src=\"https://colab.research.google.com/assets/colab-badge.svg\" alt=\"Open In Colab\"/></a>     <a href=\"https://mybinder.org/v2/gh/bamacgabhann/GY5021/9a706c8973d5bde0e50593ecc94941b0426f24a6?urlpath=lab%2Ftree%2FGY5021%2F1_Introduction_to_Geospatial_Data%2FGY5021_6_Geospatial_Data_Files.ipynb\" target=\"_parent\"><img src=\"https://mybinder.org/badge_logo.svg\" alt=\"Open in Binder\" /></a>\n",
    "\n",
    "7. Vector Geoprocessing <a href=\"https://colab.research.google.com/github/bamacgabhann/GY5021/blob/2024/GY5021/1_Introduction_to_Geospatial_Data/GY5021_7_Vector_Geoprocessing.ipynb\" target=\"_parent\"><img src=\"https://colab.research.google.com/assets/colab-badge.svg\" alt=\"Open In Colab\"/></a>     <a href=\"https://mybinder.org/v2/gh/bamacgabhann/GY5021/9a706c8973d5bde0e50593ecc94941b0426f24a6?urlpath=lab%2Ftree%2FGY5021%2F1_Introduction_to_Geospatial_Data%2FGY5021_7_Vector_Geoprocessing.ipynb\" target=\"_parent\"><img src=\"https://mybinder.org/badge_logo.svg\" alt=\"Open in Binder\" /></a>\n",
    "\n",
    "Additional:\n",
    "\n",
    "- The Python Language <a href=\"https://colab.research.google.com/github/bamacgabhann/GY5021/blob/2024/GY5021/1_Introduction_to_Geospatial_Data/GY5021_The_Python_Language.ipynb\" target=\"_parent\"><img src=\"https://colab.research.google.com/assets/colab-badge.svg\" alt=\"Open In Colab\"/></a>     <a href=\"https://mybinder.org/v2/gh/bamacgabhann/GY5021/9a706c8973d5bde0e50593ecc94941b0426f24a6?urlpath=lab%2Ftree%2FGY5021%2F1_Introduction_to_Geospatial_Data%2FGY5021_The_Python_Language.ipynb\" target=\"_parent\"><img src=\"https://mybinder.org/badge_logo.svg\" alt=\"Open in Binder\" /></a>\n",
    "\n",
    "- Getting Started Seriously With Python <a href=\"https://colab.research.google.com/github/bamacgabhann/GY5021/blob/2024/GY5021/1_Introduction_to_Geospatial_Data/GY5021_Getting_Started_Seriously_With_Python.ipynb\" target=\"_parent\"><img src=\"https://colab.research.google.com/assets/colab-badge.svg\" alt=\"Open In Colab\"/></a>     <a href=\"https://mybinder.org/v2/gh/bamacgabhann/GY5021/9a706c8973d5bde0e50593ecc94941b0426f24a6?urlpath=lab%2Ftree%2FGY5021%2F1_Introduction_to_Geospatial_Data%2FGY5021_Getting_Started_Seriously_With_Python.ipynb\" target=\"_parent\"><img src=\"https://mybinder.org/badge_logo.svg\" alt=\"Open in Binder\" /></a>"
   ]
  }
 ],
 "metadata": {
  "kernelspec": {
   "display_name": "GY5021",
   "language": "python",
   "name": "gy5021"
  },
  "language_info": {
   "codemirror_mode": {
    "name": "ipython",
    "version": 3
   },
   "file_extension": ".py",
   "mimetype": "text/x-python",
   "name": "python",
   "nbconvert_exporter": "python",
   "pygments_lexer": "ipython3",
   "version": "3.11.6"
  }
 },
 "nbformat": 4,
 "nbformat_minor": 5
}
