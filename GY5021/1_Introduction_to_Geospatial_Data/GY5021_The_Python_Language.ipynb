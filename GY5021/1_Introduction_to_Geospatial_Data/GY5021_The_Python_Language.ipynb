{
 "cells": [
  {
   "cell_type": "markdown",
   "id": "e1a91d01-9ac8-41d7-8c6c-6b76f041ddfe",
   "metadata": {
    "colab_type": "text",
    "id": "view-in-github"
   },
   "source": [
    "<a href=\"https://colab.research.google.com/github/bamacgabhann/GY5021/blob/2024/GY5021/1_Introduction_to_Geospatial_Data/GY5021_The_Python_Language.ipynb\" target=\"_parent\"><img src=\"https://colab.research.google.com/assets/colab-badge.svg\" alt=\"Open In Colab\"/></a>     <a href=\"https://mybinder.org/v2/gh/bamacgabhann/GY5021/9a706c8973d5bde0e50593ecc94941b0426f24a6?urlpath=lab%2Ftree%2FGY5021%2F1_Introduction_to_Geospatial_Data%2FGY5021_The_Python_Language.ipynb\" target=\"_parent\"><img src=\"https://mybinder.org/badge_logo.svg\" alt=\"Open in Binder\" /></a>"
   ]
  },
  {
   "cell_type": "markdown",
   "id": "af82f285-1654-4ce4-9f20-7721d4e94221",
   "metadata": {},
   "source": [
    "<img src=\"https://raw.githubusercontent.com/bamacgabhann/GY5021/2024/PD_logo.png\" align=center alt=\"UL Geography logo\"/>"
   ]
  },
  {
   "cell_type": "markdown",
   "id": "e847d47a-57cf-4245-a35a-c0f9b1accb48",
   "metadata": {},
   "source": [
    "# The Python language\n",
    "\n",
    "This Notebook is going to throw a *lot* at you all at once. Don't expect, or even *try*, to fully understand and remember all of this in one go. My purpose in writing this for you is to give you an introduction, so that when you see certain things next, they won't be brand new to you - and you'll be able to refer back to this for reference. Some of these concepts will only really make sense once you've used them for yourself, or at least until you've seen them in real action a few times. If you want to, you'll get there. \n",
    "\n",
    "When you install python, you're installing what's called the Standard Library - the basic set of tools which comprises the python language (https://docs.python.org/3/library/index.html).\n",
    "\n",
    "But that's not where the power of python lies. Rather, the power lies in the numerous packages - 509,528 currently listed on PyPI, the Python Packaging Index - which have already been written for python, for everything from the simplest operations all the way to machine learning and AI.\n",
    "\n",
    "A Python package is a collection of modules which have been written for a common purpose - to do something specific. In this course, we'll use a few different Python packages, such as pandas for working with tables of data, and matplotlib for drawing graphs. \n",
    "\n",
    "A Python module is a file containing Python code, which defines classes of data, and methods for working with that data. For example, the ```datetime``` module includes classes of date and time data, and methods for working with these dates and times. Some Python packages will just have a single module, but others will have several different modules for different aspects of what the package is for.\n",
    "\n",
    "A Python script is a single Python file with code for a specific purpose. You run the script to do something. If you run a module or a package, all that happens is that the different classes of data and methods for working with that data in that module or package are loaded by Python. There won't be anything produced. But a script might use some methods defined in a module or package to work with some particular data, and produce an output, like a graph, or saving a file containing processed data.\n",
    "\n",
    "If you want your Python script to be able to use classes of data or methods from a particular package or module, you have to install the package, and then you have to import it."
   ]
  },
  {
   "cell_type": "markdown",
   "id": "81f187dd-8c3c-4422-8d98-b92b5f7ed22a",
   "metadata": {},
   "source": [
    "## 1. Import Statements\n",
    "\n",
    "When you open a python file or a Jupyter Notebook, you can write some simple code to do something. But even most of the Standard Library isn't loaded by default - only the subset referred to as the built-in functions (https://docs.python.org/3/library/functions.html). Loading elements requires memory, so to keep memory use low, you only bring in what's needed. So the first part of virtually every python file is doing just that, via import statements.\n",
    "\n",
    "For example, to work with dates and times, we need the datetime module."
   ]
  },
  {
   "cell_type": "code",
   "execution_count": 1,
   "id": "af5f1b2a-337f-413a-a4ef-d417bfd6447c",
   "metadata": {},
   "outputs": [
    {
     "data": {
      "text/plain": [
       "datetime.datetime(2024, 1, 29, 12, 33, 56, 145305)"
      ]
     },
     "execution_count": 1,
     "metadata": {},
     "output_type": "execute_result"
    }
   ],
   "source": [
    "import datetime\n",
    "datetime.datetime.now()"
   ]
  },
  {
   "cell_type": "markdown",
   "id": "582bfbc6-d2cb-4a14-947a-4658a8aaeb29",
   "metadata": {},
   "source": [
    "When we run ```import datetime```, what we're doing is importing the datetime *module*.\n",
    "\n",
    "The Python Standard Library includes several modules like this, containing classes of data and methods which are broadly useful enough to be worth being a default part of the language, but not essential enough to be a default part of every project - hence we only import what we need.\n",
    "\n",
    "We can go a little further, actually. If we only need that one method to get the current date and time, it's even inefficient to import the entire datetime module. So we can import only what we need:"
   ]
  },
  {
   "cell_type": "code",
   "execution_count": 2,
   "id": "8791d073-3ed7-4e77-991c-376210ffc5e9",
   "metadata": {},
   "outputs": [
    {
     "data": {
      "text/plain": [
       "datetime.datetime(2024, 1, 29, 12, 33, 56, 166211)"
      ]
     },
     "execution_count": 2,
     "metadata": {},
     "output_type": "execute_result"
    }
   ],
   "source": [
    "from datetime import datetime\n",
    "datetime.now()"
   ]
  },
  {
   "cell_type": "markdown",
   "id": "4f7099ca-2873-4fed-9321-402e0385ffc7",
   "metadata": {},
   "source": [
    "This simply imports the class of data for combined dates and times, which comes with the method to get the current date and time. \n",
    "\n",
    "We can also alias imports, to save writing out full names all the time."
   ]
  },
  {
   "cell_type": "code",
   "execution_count": 3,
   "id": "da7dd42a-5b97-48ed-a136-fd5bf8f5b2f4",
   "metadata": {},
   "outputs": [
    {
     "data": {
      "text/plain": [
       "datetime.datetime(2024, 1, 29, 12, 33, 56, 173734)"
      ]
     },
     "execution_count": 3,
     "metadata": {},
     "output_type": "execute_result"
    }
   ],
   "source": [
    "from datetime import datetime as dt\n",
    "dt.now()"
   ]
  },
  {
   "cell_type": "markdown",
   "id": "043237c9-a05e-4ead-96aa-7fbb2bf143e7",
   "metadata": {},
   "source": [
    "## 2. Variables\n",
    "\n",
    "To understand why Python is such a powerful language, you have to understand something of programming languages. \n",
    "\n",
    "Classic, old-school languages like FORTRAN - which my mother used in the 1970s - are _compiled_ languages. There's still a lot of these around - FORTRAN is still there, albeit rare, as is PASCAL; C is the basis of much of modern computer architecture, with the C++ and C# variants; there's even new compiled languages, for example Rust, which will probably be my next language. \n",
    "\n",
    "Compiled languages take the code you have written and translate it to machine-readable byte code before you can run it. This compilation is heavily dependant on machine architecture and operating system - which is why you have different versions of software for PC, Mac, and Linux. \n",
    "\n",
    "The benefit of compiling code is that it's fast.\n",
    "\n",
    "The disadvantage is that you have to be very specific about everything: for example, if you want a variable, you have to specify what kind of data it will hold, and how much memory it will take up. This means compiled languages are generally not particularly user-friendly.\n",
    "\n",
    "Python is a _dynamic_ language - it's not compiled. Instead, when you run a python script, it is passed to the Python Interpreter (which is written and compiled in C), which translates the code and runs it. This intermediate step means you have a lot more latitude. You can assign variables, change their type, change their size - and the interpreter will deal with all the management.\n",
    "\n",
    "You can assign variables with the ```=``` sign:"
   ]
  },
  {
   "cell_type": "code",
   "execution_count": 4,
   "id": "cbe22901-31fb-44ef-9f44-e0f3a46d59bd",
   "metadata": {},
   "outputs": [
    {
     "name": "stdout",
     "output_type": "stream",
     "text": [
      "5\n"
     ]
    }
   ],
   "source": [
    "a = 5\n",
    "print(a)"
   ]
  },
  {
   "cell_type": "markdown",
   "id": "55f1cae3-235e-4729-8ff4-c00abfe9464f",
   "metadata": {},
   "source": [
    "and change them, if you want:"
   ]
  },
  {
   "cell_type": "code",
   "execution_count": 5,
   "id": "4a51125c-5475-4fa6-a474-da9708288be0",
   "metadata": {},
   "outputs": [
    {
     "name": "stdout",
     "output_type": "stream",
     "text": [
      "2024-01-29 12:33:56.189718\n"
     ]
    }
   ],
   "source": [
    "a = dt.now()\n",
    "print(a)"
   ]
  },
  {
   "cell_type": "markdown",
   "id": "8c47fac0-abc7-4824-8241-3a00479a5295",
   "metadata": {},
   "source": [
    "## 3. Functions\n",
    "\n",
    "Functions are code that takes a piece of data and does something to it. ```dt.now()```, for example, is a function that takes the current date and time from the system, and returns it. We can also define functions:"
   ]
  },
  {
   "cell_type": "code",
   "execution_count": 6,
   "id": "5f85888a-9305-4548-bb71-716984d9649d",
   "metadata": {},
   "outputs": [
    {
     "name": "stdout",
     "output_type": "stream",
     "text": [
      "10\n"
     ]
    }
   ],
   "source": [
    "def add_5(x):\n",
    "    x = x + 5\n",
    "    return x\n",
    "\n",
    "a = 5\n",
    "\n",
    "b = add_5(a)\n",
    "\n",
    "print(b)"
   ]
  },
  {
   "cell_type": "markdown",
   "id": "0bf6edb8-4af8-455b-96d2-98c568d5c10a",
   "metadata": {},
   "source": [
    "This funtion _returns_ a value - note that it does not modify the value of the variable a"
   ]
  },
  {
   "cell_type": "code",
   "execution_count": 7,
   "id": "bb4f337d-0073-4bc6-ae55-8c29e5a46d82",
   "metadata": {},
   "outputs": [
    {
     "name": "stdout",
     "output_type": "stream",
     "text": [
      "5\n"
     ]
    }
   ],
   "source": [
    "print(a)"
   ]
  },
  {
   "cell_type": "markdown",
   "id": "a55b717a-0b29-44d0-9343-fe2d6a22f1fb",
   "metadata": {},
   "source": [
    "## 4. Scope\n",
    "\n",
    "It's possible to write a function which _does_ modify an existing variable, but only in some specific cases. Usually, even specifically referencing a variable inside a function doesn't make a difference:"
   ]
  },
  {
   "cell_type": "code",
   "execution_count": 8,
   "id": "5209abd2-806d-470e-858a-3a85a63e5eaa",
   "metadata": {},
   "outputs": [
    {
     "name": "stdout",
     "output_type": "stream",
     "text": [
      "5\n"
     ]
    }
   ],
   "source": [
    "def change_a():\n",
    "    a = 7\n",
    "\n",
    "change_a()\n",
    "\n",
    "print(a)"
   ]
  },
  {
   "cell_type": "markdown",
   "id": "0a8bdac5-c5d3-4ef4-824b-8a23733da2ae",
   "metadata": {},
   "source": [
    "This is because of a concept called _scope_. Variables all have a scope. Global variables are known throughout a program. Local variables might be confined to a single module. Function variables exist only within the scope of a function. In the example above, the assignment ```a = 7``` creates a variable a which exists only within the function itself - it does not exist outside the function, so it does not affect the global variable a, even though they appear to have the same name."
   ]
  },
  {
   "cell_type": "markdown",
   "id": "a9a0597b-0bf5-4fc9-876e-ce601f098621",
   "metadata": {},
   "source": [
    "## 5. Classes\n",
    "\n",
    "In our example above, our first import was ```import datetime```.\n",
    "\n",
    "This imports the module called ```datetime```, which is part of the standard library.\n",
    "\n",
    "As part of the import, this imports a class, which is also called datetime. In our second example, ```from datetime import datetime```, we imported only this class.\n",
    "\n",
    "You can think of classes as templates for objects, which have properties stored as variables, and actions which are functions or methods. \n",
    "\n",
    "For example, we could define a class for rectangles. When defining a class, you can pass values to it, and define a special method called ```__init__()``` which runs automatically when the class is used to create an object."
   ]
  },
  {
   "cell_type": "code",
   "execution_count": 9,
   "id": "7c6e6352-57a0-4b20-bc36-7655fddd2d09",
   "metadata": {},
   "outputs": [],
   "source": [
    "class Rectangle:\n",
    "    def __init__(self, a, b):\n",
    "        self.length = max(a,b)\n",
    "        self.width = min(a,b)"
   ]
  },
  {
   "cell_type": "code",
   "execution_count": 10,
   "id": "31800076-7def-4fe8-9d4b-e0c89311dc42",
   "metadata": {},
   "outputs": [
    {
     "name": "stdout",
     "output_type": "stream",
     "text": [
      "5\n"
     ]
    }
   ],
   "source": [
    "shape1 = Rectangle(4, 5)\n",
    "print(shape1.length)"
   ]
  },
  {
   "cell_type": "markdown",
   "id": "733dd9b4-63d1-4ed3-9bf4-44e7e81294a4",
   "metadata": {},
   "source": [
    "The class itself is ```Rectangle```. The object ```shape1``` is an _instance_ of this class. We could add other instances:"
   ]
  },
  {
   "cell_type": "code",
   "execution_count": 11,
   "id": "9d982019-de55-4964-93df-6f5ef28fc36e",
   "metadata": {},
   "outputs": [
    {
     "name": "stdout",
     "output_type": "stream",
     "text": [
      "9\n"
     ]
    }
   ],
   "source": [
    "shape2 = Rectangle(7,9)\n",
    "print(shape2.length)"
   ]
  },
  {
   "cell_type": "markdown",
   "id": "b2522768-cfb5-47e0-81f4-bfe3f0358eab",
   "metadata": {},
   "source": [
    "This class just stores the length and width, after figuring out which of the sides is the larger, but say we want to store the area as a property. We can define a function to do this. A quirk of the language: inside a class, functions are referred to as class _methods_."
   ]
  },
  {
   "cell_type": "code",
   "execution_count": 12,
   "id": "304de8ce-4cb4-46a2-b302-97a952427f5e",
   "metadata": {},
   "outputs": [
    {
     "name": "stdout",
     "output_type": "stream",
     "text": [
      "20\n"
     ]
    }
   ],
   "source": [
    "class Rectangle:\n",
    "    def __init__(self, a, b):\n",
    "        self.length = max(a,b)\n",
    "        self.width = min(a,b)\n",
    "\n",
    "    def calc_area(self):\n",
    "        self.area = self.length * self.width\n",
    "\n",
    "shape1 = Rectangle(4, 5)\n",
    "shape1.calc_area()\n",
    "print(shape1.area)"
   ]
  },
  {
   "cell_type": "markdown",
   "id": "ed05b26b-23ca-4ddd-8894-73a1dc2c70e2",
   "metadata": {},
   "source": [
    "Notice that here, we didn't pass any arguments to the method, nor did it return a value. Instead, it modified the variable ```shape1.area``` _in place_ - because the definition of the method took ```self``` as an argument - in other words, it applies that method to the class instance itself."
   ]
  },
  {
   "cell_type": "markdown",
   "id": "2f16d723-6960-4cef-b23e-966fccc1cbf8",
   "metadata": {},
   "source": [
    "We can also define _subclasses_, which are just classes, but which inheret properties from the parent class. For example:"
   ]
  },
  {
   "cell_type": "code",
   "execution_count": 13,
   "id": "717703e3-7964-4451-ab12-906d5eda71af",
   "metadata": {},
   "outputs": [],
   "source": [
    "class Square(Rectangle):\n",
    "    def __init__(self, a):\n",
    "        super().__init__(a, a)"
   ]
  },
  {
   "cell_type": "code",
   "execution_count": 14,
   "id": "46ba3a3b-86ba-48ca-8cd0-9856534d379a",
   "metadata": {},
   "outputs": [
    {
     "name": "stdout",
     "output_type": "stream",
     "text": [
      "16\n"
     ]
    }
   ],
   "source": [
    "shape3 = Square(4)\n",
    "\n",
    "shape3.calc_area()\n",
    "print(shape3.area)"
   ]
  },
  {
   "cell_type": "markdown",
   "id": "fbe48d3f-cb30-4634-9102-d1a9625032ba",
   "metadata": {},
   "source": [
    "Note how I only declared one length while creating shape3, rather than two: because the super().__init__() inheritance function used a twice, instead of taking a and a different b. But I also didn't have to define ```calc_area``` again - I was able to simply use the method from the Rectangle class, because my Square class is just a variant of my Rectangle class."
   ]
  },
  {
   "cell_type": "markdown",
   "id": "49f6f01d-6d5b-46d3-b3c6-bcc959d49db8",
   "metadata": {},
   "source": [
    "## 6. Flow\n",
    "\n",
    "Once we have variables, we can do things with them. For example, we can compare values:"
   ]
  },
  {
   "cell_type": "code",
   "execution_count": 15,
   "id": "b0b71c5b-4002-49a9-9197-16e70294bda6",
   "metadata": {},
   "outputs": [
    {
     "data": {
      "text/plain": [
       "False"
      ]
     },
     "execution_count": 15,
     "metadata": {},
     "output_type": "execute_result"
    }
   ],
   "source": [
    "shape3.area > shape1.area"
   ]
  },
  {
   "cell_type": "markdown",
   "id": "c291db64-c359-453a-a3c9-86ef77304462",
   "metadata": {},
   "source": [
    "Because this is a straight comparison, it returns a boolean: true or false. We can also use this in a conditional:"
   ]
  },
  {
   "cell_type": "code",
   "execution_count": 16,
   "id": "1c8edcbc-6291-41ff-b22b-7774a5a2e4af",
   "metadata": {},
   "outputs": [],
   "source": [
    "if shape3.area > shape1.area:\n",
    "    print(\"shape 3 is bigger\")"
   ]
  },
  {
   "cell_type": "markdown",
   "id": "b55a06ae-6551-45e1-ade4-e5379c750bf5",
   "metadata": {},
   "source": [
    "Nothing happened there because shape 3 _isn't_ bigger. We can account for that:"
   ]
  },
  {
   "cell_type": "code",
   "execution_count": 17,
   "id": "820fae39-104d-43d4-af4e-b2232126f0bb",
   "metadata": {},
   "outputs": [
    {
     "name": "stdout",
     "output_type": "stream",
     "text": [
      "shape 1 is bigger\n"
     ]
    }
   ],
   "source": [
    "if shape3.area > shape1.area:\n",
    "    print(\"shape 3 is bigger\")\n",
    "\n",
    "else:\n",
    "    print(\"shape 1 is bigger\")"
   ]
  },
  {
   "cell_type": "markdown",
   "id": "d5b7a50a-a746-45a3-825b-08acb9bc9688",
   "metadata": {},
   "source": [
    "```If``` statements are one example of flow control. Another is while loops. For example, we can repeat calculations until a certain variable reaches a particular value:"
   ]
  },
  {
   "cell_type": "code",
   "execution_count": 18,
   "id": "92d36f84-9f2e-4266-9039-dd701ec5bd49",
   "metadata": {},
   "outputs": [
    {
     "name": "stdout",
     "output_type": "stream",
     "text": [
      "36\n"
     ]
    }
   ],
   "source": [
    "area = 0\n",
    "n = 0\n",
    "while area<30:\n",
    "    square = Square(n)\n",
    "    square.calc_area()\n",
    "    area = square.area\n",
    "    n = n+1\n",
    "\n",
    "print(area)"
   ]
  },
  {
   "cell_type": "markdown",
   "id": "b99da607-e6d2-40d4-b6e6-846e0eec322d",
   "metadata": {},
   "source": [
    "There's also ```for```, which is particularly useful combined with the range function:"
   ]
  },
  {
   "cell_type": "code",
   "execution_count": 19,
   "id": "c0a34917-17ff-4aa1-9ab8-6b095773ce9a",
   "metadata": {},
   "outputs": [
    {
     "name": "stdout",
     "output_type": "stream",
     "text": [
      "The area of a square side length 0 is 0\n",
      "The area of a square side length 1 is 1\n",
      "The area of a square side length 2 is 4\n",
      "The area of a square side length 3 is 9\n",
      "The area of a square side length 4 is 16\n",
      "The area of a square side length 5 is 25\n",
      "The area of a square side length 6 is 36\n",
      "The area of a square side length 7 is 49\n",
      "The area of a square side length 8 is 64\n",
      "The area of a square side length 9 is 81\n",
      "The area of a square side length 10 is 100\n",
      "The area of a square side length 11 is 121\n",
      "The area of a square side length 12 is 144\n",
      "The area of a square side length 13 is 169\n",
      "The area of a square side length 14 is 196\n",
      "The area of a square side length 15 is 225\n",
      "The area of a square side length 16 is 256\n",
      "The area of a square side length 17 is 289\n",
      "The area of a square side length 18 is 324\n",
      "The area of a square side length 19 is 361\n",
      "The area of a square side length 20 is 400\n",
      "The area of a square side length 21 is 441\n",
      "The area of a square side length 22 is 484\n",
      "The area of a square side length 23 is 529\n",
      "The area of a square side length 24 is 576\n",
      "The area of a square side length 25 is 625\n",
      "The area of a square side length 26 is 676\n",
      "The area of a square side length 27 is 729\n",
      "The area of a square side length 28 is 784\n",
      "The area of a square side length 29 is 841\n"
     ]
    }
   ],
   "source": [
    "for i in range(30):\n",
    "    square = Square(i)\n",
    "    square.calc_area()\n",
    "    print(f\"The area of a square side length {i} is {square.area}\")"
   ]
  },
  {
   "cell_type": "markdown",
   "id": "f7e1665a-934a-4c67-b8b6-03fb1169b82a",
   "metadata": {},
   "source": [
    "Now, note two things here. First, range(30) started at 0 and went up to 29. This is how numbers work in many aspects of python - indexes start at 0, not 1, and usually go up to n-1 for the number you type in. So list[4] is the _fifth_ item of a list, not the fourth, because there's also list[0], list[1], list[2], and list[3]. \n",
    "\n",
    "Second, I did something fancy in the print() statement. I've used print() a few times, to output a result, but this is the first time I've used an f-string. This formatting allows you to insert variables into a text string. This isn't just for print statements - anywhere you have a text string, you can use this formatting. Simply open with f\" rather than just \", and you can put variables in braces within the string: {}.\n",
    "\n",
    "This is just a very brief introduction to the Python language, and went very quickly through some really fundamental concepts. As I said at the top, don't expect to have understood all of this, and remember it perfectly - but you've seen some of the core basics now, so they'll be less new when they come up next, and you can refer back to this at any time. You'll very likely want to refer back to it a lot."
   ]
  },
  {
   "cell_type": "markdown",
   "id": "004c72ce-a735-4cbb-a071-cd3a40e7636c",
   "metadata": {},
   "source": [
    "___\n",
    "\n",
    "Week 1 Notebooks: \n",
    "\n",
    "1. Geospatial Software and Programming Languages <a href=\"https://colab.research.google.com/github/bamacgabhann/GY5021/blob/2024/GY5021/1_Introduction_to_Geospatial_Data/GY5021_1_Geospatial_Software_and_Programming_Languages.ipynb\" target=\"_parent\"><img src=\"https://colab.research.google.com/assets/colab-badge.svg\" alt=\"Open In Colab\"/></a>     <a href=\"https://mybinder.org/v2/gh/bamacgabhann/GY5021/9a706c8973d5bde0e50593ecc94941b0426f24a6?urlpath=lab%2Ftree%2FGY5021%2F1_Introduction_to_Geospatial_Data%2FGY5021_1_Geospatial_Software_and_Programming_Languages.ipynb\" target=\"_parent\"><img src=\"https://mybinder.org/badge_logo.svg\" alt=\"Open in Binder\" /></a>\n",
    "\n",
    "2. Data Types <a href=\"https://colab.research.google.com/github/bamacgabhann/GY5021/blob/2024/GY5021/1_Introduction_to_Geospatial_Data/GY5021_2_Data_Types.ipynb\" target=\"_parent\"><img src=\"https://colab.research.google.com/assets/colab-badge.svg\" alt=\"Open In Colab\"/></a>     <a href=\"https://mybinder.org/v2/gh/bamacgabhann/GY5021/9a706c8973d5bde0e50593ecc94941b0426f24a6?urlpath=lab%2Ftree%2FGY5021%2F1_Introduction_to_Geospatial_Data%2FGY5021_2_Data_Types.ipynb\" target=\"_parent\"><img src=\"https://mybinder.org/badge_logo.svg\" alt=\"Open in Binder\" /></a>\n",
    "\n",
    "3. Vector Data <a href=\"https://colab.research.google.com/github/bamacgabhann/GY5021/blob/2024/GY5021/1_Introduction_to_Geospatial_Data/GY5021_3_Vector_Data.ipynb\" target=\"_parent\"><img src=\"https://colab.research.google.com/assets/colab-badge.svg\" alt=\"Open In Colab\"/></a>     <a href=\"https://mybinder.org/v2/gh/bamacgabhann/GY5021/9a706c8973d5bde0e50593ecc94941b0426f24a6?urlpath=lab%2Ftree%2FGY5021%2F1_Introduction_to_Geospatial_Data%2FGY5021_3_Vector_Data.ipynb\" target=\"_parent\"><img src=\"https://mybinder.org/badge_logo.svg\" alt=\"Open in Binder\" /></a>\n",
    "\n",
    "4. Attribute Data <a href=\"https://colab.research.google.com/github/bamacgabhann/GY5021/blob/2024/GY5021/1_Introduction_to_Geospatial_Data/GY5021_4_Attribute_Data.ipynb\" target=\"_parent\"><img src=\"https://colab.research.google.com/assets/colab-badge.svg\" alt=\"Open In Colab\"/></a>     <a href=\"https://mybinder.org/v2/gh/bamacgabhann/GY5021/9a706c8973d5bde0e50593ecc94941b0426f24a6?urlpath=lab%2Ftree%2FGY5021%2F1_Introduction_to_Geospatial_Data%2FGY5021_4_Attribute_Data.ipynb\" target=\"_parent\"><img src=\"https://mybinder.org/badge_logo.svg\" alt=\"Open in Binder\" /></a>\n",
    "\n",
    "5. Coordinate Reference Systems <a href=\"https://colab.research.google.com/github/bamacgabhann/GY5021/blob/2024/GY5021/1_Introduction_to_Geospatial_Data/GY5021_5_Coordinate_Reference_Systems.ipynb\" target=\"_parent\"><img src=\"https://colab.research.google.com/assets/colab-badge.svg\" alt=\"Open In Colab\"/></a>     <a href=\"https://mybinder.org/v2/gh/bamacgabhann/GY5021/9a706c8973d5bde0e50593ecc94941b0426f24a6?urlpath=lab%2Ftree%2FGY5021%2F1_Introduction_to_Geospatial_Data%2FGY5021_5_Coordinate_Reference_Systems.ipynb\" target=\"_parent\"><img src=\"https://mybinder.org/badge_logo.svg\" alt=\"Open in Binder\" /></a>\n",
    "\n",
    "6. Geospatial Data Files <a href=\"https://colab.research.google.com/github/bamacgabhann/GY5021/blob/2024/GY5021/1_Introduction_to_Geospatial_Data/GY5021_6_Geospatial_Data_Files.ipynb\" target=\"_parent\"><img src=\"https://colab.research.google.com/assets/colab-badge.svg\" alt=\"Open In Colab\"/></a>     <a href=\"https://mybinder.org/v2/gh/bamacgabhann/GY5021/9a706c8973d5bde0e50593ecc94941b0426f24a6?urlpath=lab%2Ftree%2FGY5021%2F1_Introduction_to_Geospatial_Data%2FGY5021_6_Geospatial_Data_Files.ipynb\" target=\"_parent\"><img src=\"https://mybinder.org/badge_logo.svg\" alt=\"Open in Binder\" /></a>\n",
    "\n",
    "7. Vector Geoprocessing <a href=\"https://colab.research.google.com/github/bamacgabhann/GY5021/blob/2024/GY5021/1_Introduction_to_Geospatial_Data/GY5021_7_Vector_Geoprocessing.ipynb\" target=\"_parent\"><img src=\"https://colab.research.google.com/assets/colab-badge.svg\" alt=\"Open In Colab\"/></a>     <a href=\"https://mybinder.org/v2/gh/bamacgabhann/GY5021/9a706c8973d5bde0e50593ecc94941b0426f24a6?urlpath=lab%2Ftree%2FGY5021%2F1_Introduction_to_Geospatial_Data%2FGY5021_7_Vector_Geoprocessing.ipynb\" target=\"_parent\"><img src=\"https://mybinder.org/badge_logo.svg\" alt=\"Open in Binder\" /></a>\n",
    "\n",
    "Additional:\n",
    "\n",
    "- The Python Language <a href=\"https://colab.research.google.com/github/bamacgabhann/GY5021/blob/2024/GY5021/1_Introduction_to_Geospatial_Data/GY5021_The_Python_Language.ipynb\" target=\"_parent\"><img src=\"https://colab.research.google.com/assets/colab-badge.svg\" alt=\"Open In Colab\"/></a>     <a href=\"https://mybinder.org/v2/gh/bamacgabhann/GY5021/9a706c8973d5bde0e50593ecc94941b0426f24a6?urlpath=lab%2Ftree%2FGY5021%2F1_Introduction_to_Geospatial_Data%2FGY5021_The_Python_Language.ipynb\" target=\"_parent\"><img src=\"https://mybinder.org/badge_logo.svg\" alt=\"Open in Binder\" /></a>\n",
    "\n",
    "- Getting Started Seriously With Python <a href=\"https://colab.research.google.com/github/bamacgabhann/GY5021/blob/2024/GY5021/1_Introduction_to_Geospatial_Data/GY5021_Getting_Started_Seriously_With_Python.ipynb\" target=\"_parent\"><img src=\"https://colab.research.google.com/assets/colab-badge.svg\" alt=\"Open In Colab\"/></a>     <a href=\"https://mybinder.org/v2/gh/bamacgabhann/GY5021/9a706c8973d5bde0e50593ecc94941b0426f24a6?urlpath=lab%2Ftree%2FGY5021%2F1_Introduction_to_Geospatial_Data%2FGY5021_Getting_Started_Seriously_With_Python.ipynb\" target=\"_parent\"><img src=\"https://mybinder.org/badge_logo.svg\" alt=\"Open in Binder\" /></a>"
   ]
  }
 ],
 "metadata": {
  "kernelspec": {
   "display_name": "GY5021",
   "language": "python",
   "name": "gy5021"
  },
  "language_info": {
   "codemirror_mode": {
    "name": "ipython",
    "version": 3
   },
   "file_extension": ".py",
   "mimetype": "text/x-python",
   "name": "python",
   "nbconvert_exporter": "python",
   "pygments_lexer": "ipython3",
   "version": "3.11.6"
  }
 },
 "nbformat": 4,
 "nbformat_minor": 5
}
