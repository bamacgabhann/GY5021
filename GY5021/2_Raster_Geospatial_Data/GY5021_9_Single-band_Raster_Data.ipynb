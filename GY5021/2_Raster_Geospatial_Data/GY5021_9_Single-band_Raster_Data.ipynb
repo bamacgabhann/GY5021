{
 "cells": [
  {
   "cell_type": "markdown",
   "id": "96a59eed-5652-4da0-9d22-15090ad03005",
   "metadata": {},
   "source": [
    "<a href=\"https://colab.research.google.com/github/bamacgabhann/GY5021/blob/2024/GY5021/2_Raster_Geospatial_Data/GY5021_9_Single-band_Raster_Data.ipynb\" target=\"_parent\"><img src=\"https://colab.research.google.com/assets/colab-badge.svg\" alt=\"Open In Colab\"/></a>     <a href=\"https://mybinder.org/v2/gh/bamacgabhann/GY5021/9a706c8973d5bde0e50593ecc94941b0426f24a6?urlpath=lab%2Ftree%2FGY5021%2F2_Raster_Geospatial_Data%2FGY5021_9_Single-band_Raster_Data.ipynb\" target=\"_parent\"><img src=\"https://mybinder.org/badge_logo.svg\" alt=\"Open in Binder\" /></a>"
   ]
  },
  {
   "cell_type": "markdown",
   "id": "c11a09ef-8888-454f-892b-f9d252e894b1",
   "metadata": {},
   "source": [
    "<img src=\"https://raw.githubusercontent.com/bamacgabhann/GY5021/2024/PD_logo.png\" align=center alt=\"UL Geography logo\"/>"
   ]
  },
  {
   "cell_type": "markdown",
   "id": "2d32bacd-ad37-4d3a-b5a0-d9bf0c7e2fa0",
   "metadata": {},
   "source": [
    "# Single-band Raster Data\n",
    "\n",
    "In the Introduction to Raster Data Notebook, we used the example of a photograph to introduce raster data stored as pixels.\n",
    "\n",
    "However, photographs are not the only form of data which is best used in raster format. A photograph of the land surface can hold colour values in each pixel, but pixels aren't restricted to colours. Instead of colours, the value of each pixel can represent any data which varies discontinuously across an area. Examples include temperature data, rainfall, and the elevation of the land surface. Let's look at some examples.\n",
    "\n",
    "**Important note**: unless you really want to learn the Python code, don't focus on trying to understand it - a lot of the plotting code tends to be quite fiddly. The concepts are what is important here, not how to do everything in Python. The same concepts apply to all GIS software."
   ]
  },
  {
   "cell_type": "markdown",
   "id": "d779b546-0819-4e61-9e56-5bf6b04e951e",
   "metadata": {},
   "source": [
    "## 1. Digital Elevation Models\n",
    "\n",
    "In a digital elevation model (DEM), each pixel holds a value which represents the elevation of the ground surface.\n",
    "\n",
    "A couple of important things to note. First of all, pixels are not points. Each pixel covers an *area* of the ground surface. The value is best thought of as the average elevation of the ground area covered by the pixel. As we saw in the Introduction to Raster Data notebook, the spatial resolution of raster data can vary considerably, and it's really important to ensure that you know the resolution of the source data. It's entirely possible to process the data such that the actual pixels cover smaller areas than the original data, but analyses which need higher resolution data won't become valid if you simply increase the number of pixels in low spatial resolution data.\n",
    "\n",
    "Second, what do I mean by the ground surface? At first glance that seems obvious, but - say I have elevation data for an area which includes a forest. Is my elevation data measuring the top of the forest canopy, or the land underneath the trees? What about an area with buildings on it - are we including the tops of buildings, or are they removed from the dataset to show the surface as it would be without them?\n",
    "\n",
    "The answer to this is that it varies. You can find all of these. In fact, digital elevation models are a key tool in forestry monitoring, where they'll want the top surface, but if you're doing geology the trees are just getting in your way and you don't need them. Similarly, urban geography often uses elevation models e.g. to track urban growth, but again if you want the natural surface, you don't want the buildings.\n",
    "\n",
    "So, there are generally two categories of DEM. \n",
    "\n",
    "A *Digital Surface Model* or DSM will hold data on the elevation of whatever is the first surface to return data to the sensor. This will include forest canopies, buildings, bridges, and anything else present in the area big enough to return a value.\n",
    "\n",
    "A *Digital Terrain Model* or DTM, on the other hand, will only have data for the underlying terrain, as the name suggests. \n",
    "\n",
    "It's worth taking a moment here to think about how DEM models, whether DSM or DTM, are constructed. It's possible to make a DEM by manually measuring elevation at a bunch of points and making what's called an *interpolation* between them. This basically means estimating what's in between known points. Although early topographic maps were essentially constructed in this way, it's really not practical for high resolution data.\n",
    "\n",
    "Instead, high-resolution DEMs are constructed by collecting data from overhead surveys - by aircraft, by unmanned aerial vehicles (UAVs, commonly known as drones), or by satellite. The aircraft, UAV, or satellite will have a sensor which sends a signal to the ground, and measures the time taken for that signal to be reflected back to the sensor from different locations.\n",
    "\n",
    "Two different kinds of sensor are used for DEMs. \n",
    "\n",
    "1. *RADAR*\n",
    "    We're generally familiar with aircraft and ground stations using RADAR (Radio Detection And Ranging) to detect other aircraft by transmitting radio waves horizontally, and measure the time taken for the reflected signals to return. It's also possible to point a RADAR transmitter vertically, at the ground, and produce a DEM by measuring the signal which comes back. This can be done by any of aircraft, UAV, or satellite, but works best from satellite. (We'll come back to RADAR again, because it's useful for other things as well as DEMs.)\n",
    "\n",
    "2. *LiDAR*\n",
    "    Instead of radio waves, we can also point a laser at the ground and measure the reflection. LiDAR (*Light Detection and Ranging*) is not so possible from satellites due to the distance, how the signals spread out and weaken, and how light can be affected by travelling through the atmosphere, but from aircraft and UAVs it can produce very high resolution data. UL Geography has just acquired a UAV with a LiDAR camera for use in research projects.\n",
    "\n",
    "The wavelength of radio waves is much longer than that of light - if you're not familiar with wavelength, it's not crucial to understand right now, just think of it as the size of the signal pulse. There's a few different wavelengths used, which are generally referred to as lettered bands. Many are just used for cilivian and/or military aviation and similar purposes and we don't need to explain them, but in geospatial research three bands are commonly used. C-band RADAR has a wavelength around 6cm; there's also the shorter wavelength X-band, around 3cm, and the longer wavelenth L-band, around 24cm. Even longer P-band (up to 1m) wavelengths are sometimes used, but much rarer.\n",
    "\n",
    "Why I'm explaining this is that the shorter wavelength X-band RADAR signals are reflected by the tops of trees, while the longer wavelength L-band RADAR signals are too big to be reflected by individual leaves and branches, and so pass through forest canopies.\n",
    "\n",
    "<img src=\"https://detektia.com/en/wp-content/uploads/sites/3/what-is-sar-synthetic-aperture-radar.jpeg\" align=center alt=\"RADAR bands\"/>\n",
    "\n",
    "This is not something that's really crucial to consider most of the time, but it does mean that some RADAR DEMs will measure the terrain, while others will include the height of vegetation. \n",
    "\n",
    "LiDar, on the other hand, has a wavelength small enough to be reflected from leaves and branches. So, not only will it measure the top of the forest canopy, it will map details of that top surface.\n",
    "\n",
    "Both LiDAR and RADAR will include buildings - so if you want a true DSM without any anthropogenic (human-made) structures, they have to be removed from the dataset. This is rarely perfect, and you'll commonly see remnants of buildings as artefacts in DSM models.\n",
    "\n",
    "Publicly available global DEMs reach a resolution of down to around 30m per pixel. Data with higher spatial resolution is generally only available for specific smaller areas. \n",
    "\n",
    "LiDAR data for parts of Ireland can be found on the <a href=\"https://dcenr.maps.arcgis.com/apps/webappviewer/index.html?id=b7c4b0e763964070ad69bf8c1572c9f5\">Open Topographic Data Viewer</a>, most of which has been collected by the OPW for flood risk and coastal monitoring purposes, and by TII (Transport Infrastructure Ireland) for road projects. \n",
    "\n",
    "RADAR DEMs covering Ireland are available from Copernicus (the EU's Earth Observation programme), specifically the <a href=\"https://sentinels.copernicus.eu/web/sentinel/-/copernicus-dem-new-direct-data-download-access\">COP30 DEM</a>; the SRTM (Shuttle Radar Topography Mission) DEM available from the <a href=\"https://earthexplorer.usgs.gov/\">USGS Earth Explorer</a>; and ALOS World 3D DEM, available from <a href=\"https://www.eorc.jaxa.jp/ALOS/en/dataset/aw3d30/aw3d30_e.htm\">the Japanese space agency</a>. All have a spatial resolution of approximately 30m per pixel.\n",
    "\n",
    "The example below uses the Digital Surface Model (DSM) of the COP30 DEM."
   ]
  },
  {
   "cell_type": "code",
   "execution_count": null,
   "id": "74e208ff-97e4-4a2e-a71e-1db60140ce94",
   "metadata": {},
   "outputs": [],
   "source": [
    "# RUN THIS CELL FIRST IF ON COLAB:\n",
    "!pip install osmnx\n",
    "!pip install earthpy\n",
    "!pip install rasterio"
   ]
  },
  {
   "cell_type": "code",
   "execution_count": null,
   "id": "5c658e8e-782c-47a8-8434-af27d7d85a69",
   "metadata": {},
   "outputs": [],
   "source": [
    "import matplotlib.pyplot as plt\n",
    "import numpy as np\n",
    "import geopandas as gpd\n",
    "from shapely.geometry import box\n",
    "import osmnx as ox\n",
    "import earthpy.spatial as es\n",
    "import rasterio as rio\n",
    "from rasterio.plot import show\n",
    "from rasterio import features\n",
    "from rasterio.warp import calculate_default_transform, reproject, Resampling"
   ]
  },
  {
   "cell_type": "markdown",
   "id": "83a34661-d1d9-4906-8903-194e7c0e9bf6",
   "metadata": {},
   "source": [
    "First, we'll use ```rasterio``` to read in the DEM:"
   ]
  },
  {
   "cell_type": "code",
   "execution_count": null,
   "id": "a9f8bfc7-3003-4a9f-9da8-05e002d5f04f",
   "metadata": {},
   "outputs": [],
   "source": [
    "dem = rio.open(\n",
    "    'https://raw.githubusercontent.com/bamacgabhann/GY5021/2024/GY5021/2_Raster_Geospatial_Data/sample_data/Killarney/DEM_COPERNICUS_30.tiff'\n",
    ")"
   ]
  },
  {
   "cell_type": "markdown",
   "id": "ee2c1430-d4fe-4dda-b545-30fbcc9cf726",
   "metadata": {},
   "source": [
    "and let's have a look at how it's stored:"
   ]
  },
  {
   "cell_type": "code",
   "execution_count": null,
   "id": "cd30aa23-5b21-4db1-8dc3-8395d709d270",
   "metadata": {},
   "outputs": [],
   "source": [
    "dem.read()"
   ]
  },
  {
   "cell_type": "markdown",
   "id": "4ce6f14e-589e-4c31-8eee-2c0434f27f41",
   "metadata": {},
   "source": [
    "So, this file holds elevation values in each pixel, and those values are stored as ```float32``` numbers. We can also see there's some pixels which don't have values - those are listed as ```nan```, which stands for ```Not A Number```. This is how the ```numpy``` library represents missing or non-numerical values."
   ]
  },
  {
   "cell_type": "code",
   "execution_count": null,
   "id": "024ee559-cfab-4676-b41c-e274671c1896",
   "metadata": {},
   "outputs": [],
   "source": [
    "dem.meta"
   ]
  },
  {
   "cell_type": "markdown",
   "id": "5528e1da-4dd0-46a3-92b3-7a1f13d91cfd",
   "metadata": {},
   "source": [
    "OK, now let's plot it and see what it looks like:"
   ]
  },
  {
   "cell_type": "code",
   "execution_count": null,
   "id": "a17125eb-77e3-4b02-abbe-41501569998e",
   "metadata": {},
   "outputs": [],
   "source": [
    "show(dem)"
   ]
  },
  {
   "cell_type": "markdown",
   "id": "75b6df40-b5c5-41f7-8d26-4830a1e5b063",
   "metadata": {},
   "source": [
    "In the previous notebook, ```rasterio``` was able to automatically detect that the satellite photographs were photographs, but here, it only has a single band of data, and so it uses a different colour scheme. We can specify what colour scheme to use.\n",
    "\n",
    "Both QGIS and ArcGIS Pro will also allow specifying different colour schemes:"
   ]
  },
  {
   "cell_type": "code",
   "execution_count": null,
   "id": "913b1d00-32f1-4c13-b185-02dd6ef71552",
   "metadata": {},
   "outputs": [],
   "source": [
    "show(dem, cmap='Greens')"
   ]
  },
  {
   "cell_type": "markdown",
   "id": "e5e6f7f7-b8a9-478a-b90b-73dcfc178b7f",
   "metadata": {},
   "source": [
    "Like GeoPandas, ```rasterio``` uses ```matplotlib``` to do the plotting of the map, so any colour map in matplotlib can be used. You can find the list here: https://matplotlib.org/stable/users/explain/colors/colormaps.html\n",
    "\n",
    "Some are quite specific:"
   ]
  },
  {
   "cell_type": "code",
   "execution_count": null,
   "id": "8b0b31c6-f697-4d33-a212-a8a84cf05512",
   "metadata": {},
   "outputs": [],
   "source": [
    "show(dem, cmap='terrain')"
   ]
  },
  {
   "cell_type": "markdown",
   "id": "b515cd2d-1c7c-4e2f-b80e-ecbd05db21ce",
   "metadata": {},
   "source": [
    "This is the right colour scheme, but it's showing land in blue - which is normally for oceans, of course. We can use some slightly more complex code to split the colour scheme:\n",
    "\n",
    "(again, QGIS and ArcGIS will also allow getting more specific with the colour scheme)"
   ]
  },
  {
   "cell_type": "code",
   "execution_count": null,
   "id": "764214b9-4c45-4272-9653-40e25f73ba7b",
   "metadata": {},
   "outputs": [],
   "source": [
    "import matplotlib.colors as colors\n",
    "colors_undersea = plt.cm.terrain(np.linspace(0, 0.17, 256))\n",
    "colors_land = plt.cm.terrain(np.linspace(0.25, 1, 256))\n",
    "all_colors = np.vstack((colors_undersea, colors_land))\n",
    "terrain_map = colors.LinearSegmentedColormap.from_list(\n",
    "    'terrain_map', all_colors)\n",
    "divnorm = colors.TwoSlopeNorm(vmin=0., vcenter=19, vmax=1000)"
   ]
  },
  {
   "cell_type": "markdown",
   "id": "808d295e-92a3-411d-a12c-b8537d57d294",
   "metadata": {},
   "source": [
    "and use the new split *terrain_map* colour scheme to show the DEM. I split the two colour schemes at 19m, because the lake water level is 17-18m, so this will show the lake in blue:"
   ]
  },
  {
   "cell_type": "code",
   "execution_count": null,
   "id": "b93f49f8-0c07-483d-8393-7d2adbebc43a",
   "metadata": {},
   "outputs": [],
   "source": [
    "fig, ax = plt.subplots(figsize=(10, 6))\n",
    "terrain = show(dem, ax=ax, cmap=terrain_map, norm=divnorm)\n",
    "ax.ticklabel_format(style='plain')\n",
    "plt.show()"
   ]
  },
  {
   "cell_type": "markdown",
   "id": "a29bfcbf-5bad-416d-a894-a50e5ee2d342",
   "metadata": {},
   "source": [
    "Looking better. It would be better with a scalebar:"
   ]
  },
  {
   "cell_type": "code",
   "execution_count": null,
   "id": "63120265-622c-4103-ba5b-0480744b483d",
   "metadata": {},
   "outputs": [],
   "source": [
    "fig, ax = plt.subplots(figsize=(10, 6))\n",
    "\n",
    "scale_setup = ax.imshow(dem.read()[0], cmap=terrain_map, norm=divnorm)\n",
    "cb = fig.colorbar(scale_setup, ax=ax, extend='both', label=\"Elevation (m)\")\n",
    "cb.set_ticks([19, 0, 200, 400, 600, 800, 1000])\n",
    "\n",
    "ax.ticklabel_format(style='plain')\n",
    "show(dem, ax=ax, cmap=terrain_map, norm=divnorm)\n",
    "plt.show()"
   ]
  },
  {
   "cell_type": "markdown",
   "id": "701dffa8-df2f-4c33-a7f4-97b287e3e61a",
   "metadata": {},
   "source": [
    "## 2. DEM Hillshading\n",
    "\n",
    "We can make the DEM look even more like topography by creating a hillshade - this simulates light from the sun coming from a certain direction and height to show lit areas and shadows, giving a 3D effect. To do this in Python, we'll use the library ```earthpy```. You can specify the azimuth (i.e. direction) and altitude (height) of the sun, both in degrees.\n",
    "\n",
    "(Feel free to tweak these numbers and see how it changes the look of the map below. For reference if you do change them, my version has ```azimuth=270, altitude=30```.)\n",
    "\n",
    "QGIS and ArcGIS also have hillshade options allowing you to adjust the azimuth and altitude for DEM data."
   ]
  },
  {
   "cell_type": "code",
   "execution_count": null,
   "id": "469852b7-023c-41c3-b9b0-ec7af7d98bbb",
   "metadata": {},
   "outputs": [],
   "source": [
    "shade = es.hillshade(dem.read(1), azimuth=270, altitude=30)"
   ]
  },
  {
   "cell_type": "code",
   "execution_count": null,
   "id": "24692205-872f-45b9-bed2-6d6ed8b4498c",
   "metadata": {},
   "outputs": [],
   "source": [
    "fig, ax = plt.subplots(figsize=(10, 6))\n",
    "#scale_setup = ax.imshow(dem.read()[0], cmap=terrain_map, norm=divnorm)\n",
    "#cb = fig.colorbar(scale_setup, ax=ax, extend='both', label=\"Elevation (m)\")\n",
    "#cb.set_ticks([19, 0, 200, 400, 600, 800, 1000])\n",
    "ax.ticklabel_format(style='plain')\n",
    "show(shade, transform=dem.transform, ax=ax, cmap=\"Greys\")\n",
    "plt.show()"
   ]
  },
  {
   "cell_type": "markdown",
   "id": "8db5526e-55d7-45a7-92d6-3e4b112a55fd",
   "metadata": {},
   "source": [
    "And we can even layer the coloured version on top of the hillshaded version, by drawing the hillshade layer on top with 30% transparency (alpha=0.3).\n",
    "\n",
    "Again, QGIS and ArcGIS can do this, and even have additional colour blending modes."
   ]
  },
  {
   "cell_type": "code",
   "execution_count": null,
   "id": "482ee5b8-db94-4587-833f-9bcbae8fa80a",
   "metadata": {},
   "outputs": [],
   "source": [
    "fig, ax = plt.subplots(figsize=(10, 6))\n",
    "scale_setup = ax.imshow(dem.read()[0], cmap=terrain_map, norm=divnorm)\n",
    "cb = fig.colorbar(scale_setup, ax=ax, extend='both', label=\"Elevation (m)\")\n",
    "cb.set_ticks([19, 0, 200, 400, 600, 800, 1000])\n",
    "ax.ticklabel_format(style='plain')\n",
    "show(dem, ax=ax, cmap=terrain_map, norm=divnorm)\n",
    "show(shade, transform=dem.transform, ax=ax, cmap=\"Greys\", alpha=0.3)\n",
    "plt.show()"
   ]
  },
  {
   "cell_type": "markdown",
   "id": "c5e18829-6a0f-4837-9712-73655c17e66b",
   "metadata": {},
   "source": [
    "We could layer vector features on top of this. For example, let's grab the roads from OpenStreetMap, and plot them. We just need a little prep work to get the coordinates of the area covered by the DEM, and convert this from the UTM29N zone CRS EPSG:32629 to the global latitude-longitude CRS EPSG:4326 used by OpenStreetMap.\n",
    "\n",
    "QGIS and ArcGIS will allow displaying of raster and vector data saved in mixed coordinate reference systems, and will do what is called an 'on the fly' transformation - meaning it transforms the data in memory to be in the same CRS, but without changing the saved files on disk."
   ]
  },
  {
   "cell_type": "code",
   "execution_count": null,
   "id": "08e11da8-cd48-49e3-a0ef-f8a22ad55d56",
   "metadata": {},
   "outputs": [],
   "source": [
    "bounds  = gpd.GeoDataFrame({\"id\": 1, \"geometry\":[box(*dem.bounds)]}).set_crs(32629)"
   ]
  },
  {
   "cell_type": "code",
   "execution_count": null,
   "id": "fe6082e2-0974-4483-91c7-962802961c13",
   "metadata": {},
   "outputs": [],
   "source": [
    "killarney_roads = ox.features_from_polygon(bounds.to_crs(4326)[\"geometry\"][0], tags={\"highway\": True}).to_crs(32629)"
   ]
  },
  {
   "cell_type": "code",
   "execution_count": null,
   "id": "ff349086-bc94-450e-9495-39014b824ffe",
   "metadata": {},
   "outputs": [],
   "source": [
    "fig, ax = plt.subplots(figsize=(10, 6))\n",
    "#scale_setup = ax.imshow(dem.read()[0], cmap=terrain_map, norm=divnorm)\n",
    "cb = fig.colorbar(scale_setup, ax=ax, extend='both', label=\"Elevation (m)\")\n",
    "cb.set_ticks([19, 0, 200, 400, 600, 800, 1000])\n",
    "ax.ticklabel_format(style='plain')\n",
    "ax.set_xlim(452100, 467700)\n",
    "ax.set_ylim(5758000, 5769500)\n",
    "show(dem, ax=ax, cmap=terrain_map, norm=divnorm)\n",
    "show(shade, transform=dem.transform, ax=ax, cmap=\"Greys\", alpha=0.3)\n",
    "killarney_roads.plot(ax=ax, column=\"highway\", cmap=\"gist_yarg\")\n",
    "plt.show()"
   ]
  },
  {
   "cell_type": "markdown",
   "id": "c91b7c33-c641-4986-bc25-25a6c1924e66",
   "metadata": {},
   "source": [
    "Or we could use satellite imagery instead of the topographic color map:"
   ]
  },
  {
   "cell_type": "code",
   "execution_count": null,
   "id": "ce874679-81da-4f7c-bcfa-332ab1b5a430",
   "metadata": {},
   "outputs": [],
   "source": [
    "photo = rio.open(\n",
    "    'https://raw.githubusercontent.com/bamacgabhann/GY5021/2024/GY5021/2_Raster_Geospatial_Data/sample_data/Killarney/2021-04-25_11-46-59_Sentinel-2_L2A_True_color.tiff'\n",
    ")\n",
    "fig, ax = plt.subplots(figsize=(10, 6))\n",
    "ax.ticklabel_format(style='plain')\n",
    "ax.set_xlim(452100, 467700)\n",
    "ax.set_ylim(5758000, 5769500)\n",
    "show(photo, ax=ax)\n",
    "show(shade, transform=dem.transform, ax=ax, cmap=\"Greys\", alpha=0.2)\n",
    "killarney_roads.plot(ax=ax, column=\"highway\", cmap=\"gist_yarg\")\n",
    "plt.show()"
   ]
  },
  {
   "cell_type": "markdown",
   "id": "eec682e3-13f0-4abb-b3d0-bce41420a395",
   "metadata": {},
   "source": [
    "We could make this look nicer here, but I think that's enough to make the point, that you can combine plots of multiple raster and vector data sources. \n",
    "\n",
    "This might be a case where QGIS or ArcGIS is slightly easier to work with, because they will allow you to tweak the colours and symbols used for individual vector features a bit more easily than in Python, and there's easier options for overlaying maps on hillshade layers.\n"
   ]
  },
  {
   "cell_type": "markdown",
   "id": "5435ebf0-2cb4-4158-a90f-475b76d3f432",
   "metadata": {},
   "source": [
    "## 3. DEM Raster Geoprocessing\n",
    "\n",
    "Elevation data isn't just for looking at, either. It can be particularly useful in the case of flood risk maps. Say the water level in the local river reaches 21m. In that case, we need to create a new array from the DEM layer, identifying areas where the DEM elevation is below 21m. \n",
    "\n",
    "If the elevation is above 21m, we don't need any data, and can set the value to a ```no data``` value. Because we're using float data, we can use NumPy's *Not a Number* (```np.NaN```) as our no data value.\n",
    "\n",
    "We might also set elevation 19m or below as no data, because that's normally covered in water and so wouldn't be regarded as flooded.\n",
    "\n",
    "Once we've done that, we can set a single value - which would normally be ```1```, incicating a Boolean ```True``` - for everywhere with elevation above 19m. Since we've already made the non-flooded areas NaN values, this will only be the areas where the elevation is between 19m and 21m."
   ]
  },
  {
   "cell_type": "code",
   "execution_count": null,
   "id": "626d062d-3bf4-4e48-92f9-fd67f406194b",
   "metadata": {},
   "outputs": [],
   "source": [
    "flood = dem.read()\n",
    "flood[flood>21]=np.NaN\n",
    "flood[flood<19]=np.NaN\n",
    "flood[flood>19]=1"
   ]
  },
  {
   "cell_type": "code",
   "execution_count": null,
   "id": "f556948f-a235-4097-88eb-fb24c4a3be3e",
   "metadata": {},
   "outputs": [],
   "source": [
    "fig, ax = plt.subplots(figsize=(10, 6))\n",
    "#scale_setup = ax.imshow(dem.read()[0], cmap=terrain_map, norm=divnorm)\n",
    "cb = fig.colorbar(scale_setup, ax=ax, extend='both', label=\"Elevation (m)\")\n",
    "cb.set_ticks([19, 0, 200, 400, 600, 800, 1000])\n",
    "ax.ticklabel_format(style='plain')\n",
    "ax.set_xlim(452100, 467700)\n",
    "ax.set_ylim(5758000, 5769500)\n",
    "show(dem, ax=ax, cmap=terrain_map, norm=divnorm)\n",
    "show(shade, transform=dem.transform, ax=ax, cmap=\"Greys\", alpha=0.3)\n",
    "show(flood, transform=dem.transform, ax=ax, cmap=\"tab20b\")\n",
    "killarney_roads.plot(ax=ax, column=\"highway\", cmap=\"gist_yarg\")\n",
    "plt.show()"
   ]
  },
  {
   "cell_type": "markdown",
   "id": "5e4b21e8-628e-4f08-b760-b9ccfa7bcc3a",
   "metadata": {},
   "source": [
    "You can see a few dark blue areas close to the lake, at the edge of Killarney town, and smaller bits at the edges of rivers and lakes. Just a quick example."
   ]
  },
  {
   "cell_type": "markdown",
   "id": "9a67dc6a-e199-4e14-912d-80416949d20d",
   "metadata": {},
   "source": [
    "## 4. Rasters and CRS: Temperature Data\n",
    "\n",
    "As mentioned in the introduction, any data which varies discontinuously across an area is best used as raster data. Another example is temperature data. Let's have a look at global maximum land surface temperature data for April 2021 (I have a reason, wait for it) from <a href='https://www.worldclim.org/data/monthlywth.html'>WorldClim</a>."
   ]
  },
  {
   "cell_type": "code",
   "execution_count": null,
   "id": "515713eb-7ae1-4997-b8cb-fe45df0578c3",
   "metadata": {},
   "outputs": [],
   "source": [
    "temp = rio.open('zip+https://geodata.ucdavis.edu/climate/worldclim/2_1/hist/cts4.06/2.5m/wc2.1_cruts4.06_2.5m_tmax_2020-2021.zip!wc2.1_2.5m_tmax_2021-04.tif')\n",
    "show(temp)"
   ]
  },
  {
   "cell_type": "markdown",
   "id": "9642c438-5487-41a7-bb6a-f95900de7373",
   "metadata": {},
   "source": [
    "This is in the EPSG:4326 CRS, the global latitude-longitude system treated as X-Y coordinates (the first case example we looked at in the Coordinate Reference Systems notebook. We can of course reproject this to a different coordinate reference system. Doing so does, however, mean that we need to work out a new transform for our raster pixels - but rasterio has built-in functions for this, as will any GIS software."
   ]
  },
  {
   "cell_type": "code",
   "execution_count": null,
   "id": "16d24d27-dccd-45a6-8cbe-1b6207f88ca7",
   "metadata": {},
   "outputs": [],
   "source": [
    "dst_crs = '+proj=moll'\n",
    "\n",
    "with rio.open('zip+https://geodata.ucdavis.edu/climate/worldclim/2_1/hist/cts4.06/2.5m/wc2.1_cruts4.06_2.5m_tmax_2020-2021.zip!wc2.1_2.5m_tmax_2021-04.tif') as src:\n",
    "    transform, width, height = calculate_default_transform(\n",
    "        src.crs, dst_crs, src.width, src.height, *src.bounds)\n",
    "    kwargs = src.meta.copy()\n",
    "    kwargs.update({\n",
    "        'crs': dst_crs,\n",
    "        'transform': transform,\n",
    "        'width': width,\n",
    "        'height': height\n",
    "    })\n",
    "\n",
    "    with rio.open('./sample_data/Killarney/wc2.1_2.5m_tmax_2021-04_moll.tif', 'w', **kwargs) as dst:\n",
    "        for i in range(1, src.count + 1):\n",
    "            reproject(\n",
    "                source=rio.band(src, i),\n",
    "                destination=rio.band(dst, i),\n",
    "                src_transform=src.transform,\n",
    "                src_crs=src.crs,\n",
    "                dst_transform=transform,\n",
    "                dst_crs=dst_crs,\n",
    "                resampling=Resampling.nearest)"
   ]
  },
  {
   "cell_type": "code",
   "execution_count": null,
   "id": "337cc6a2-74ee-428f-b70f-031868d53681",
   "metadata": {},
   "outputs": [],
   "source": [
    "temp_moll = rio.open('./sample_data/Killarney/wc2.1_2.5m_tmax_2021-04_moll.tif')\n",
    "ocean = gpd.read_file('https://github.com/bamacgabhann/GY5021/raw/2024/GY5021/1_Introduction_to_Geospatial_Data/sample_data/ocean.gpkg')\n",
    "grid = gpd.read_file('https://github.com/bamacgabhann/GY5021/raw/2024/GY5021/1_Introduction_to_Geospatial_Data/sample_data/LatLongGrid.gpkg')\n",
    "\n",
    "ocean_moll = ocean.to_crs(crs='+proj=moll')\n",
    "grid_moll = grid.to_crs(crs='+proj=moll')\n",
    "\n",
    "fig, ax = plt.subplots(figsize = (10,6))\n",
    "\n",
    "temp_scale_setup = ax.imshow(temp_moll.read()[0], cmap='coolwarm', vmin=-40, vmax=50)\n",
    "cb = fig.colorbar(temp_scale_setup, ax=ax, extend='both', label=\"Temperature (°C)\", shrink=0.6)\n",
    "cb.set_ticks([-30, -20, -10, 0, 10, 20, 30, 40])\n",
    "ocean_moll.plot(ax=ax, color='lightblue')\n",
    "grid_moll.plot(ax=ax, color='white', linewidth=0.5)\n",
    "show(temp_moll, ax=ax, cmap='coolwarm', vmin=-40, vmax=50)\n",
    "ax.axis('off')\n",
    "\n",
    "plt.show()\n"
   ]
  },
  {
   "cell_type": "markdown",
   "id": "976e4dc3-ad61-4af4-9903-91b4936439f9",
   "metadata": {},
   "source": [
    "That looks a bit nicer, doesn't it? Much better way of presenting the data - using the Mollweide projection, and adding vector features for the oceans in light blue, and the global latitude-longitude grid in white. Plus, using the blue-red colourmap to illustrate the temperature is far more intuitive.\n",
    "\n"
   ]
  },
  {
   "cell_type": "markdown",
   "id": "1cef4087-54fd-45ad-b890-38cdddd5d202",
   "metadata": {},
   "source": [
    "## 5. Masking and Cropping Rasters\n",
    "\n",
    "Of course, while this is global temperature, it does also cover the region in Killarney we've been using so far. It's at a far lower resolution, but it does have a few pixels covering the region. Let's have a look - although, honestly, more because it demonstrates some points than because it's super useful.\n",
    "\n",
    "To do this, first, we'll use the GeoDataFrame (called ```bounds```) containing a polygon shape of the raster DEM of the Killarney area (we created this earlier for getting the OpenStreetMap data), and use a global latitude-longitude CRS EPSG:4326 reprojection of this to extract the temperature data within that area.\n",
    "\n",
    "```Rasterio``` refers to showing only part of an image as *masking*; and running mask with ```crop=True``` extracts the non-masked part of the data to a new dataset. That's what's happening in this code. It's also updating the ```meta``` information of the new cropped dataset, so that the shape and transform refer only to the cropped data, rather than the full original dataset."
   ]
  },
  {
   "cell_type": "code",
   "execution_count": null,
   "id": "7381f9d0-9cdc-4e8c-97dd-2e2e497e16c5",
   "metadata": {},
   "outputs": [],
   "source": [
    "with rio.open('zip+https://geodata.ucdavis.edu/climate/worldclim/2_1/hist/cts4.06/2.5m/wc2.1_cruts4.06_2.5m_tmax_2020-2021.zip!wc2.1_2.5m_tmax_2021-04.tif') as src:\n",
    "    out_image, out_transform = rasterio.mask.mask(src, bounds.to_crs(4326).envelope, crop=True)\n",
    "    out_meta = src.meta\n",
    "    out_meta.update({\"driver\": \"GTiff\",\n",
    "                     \"height\": out_image.shape[1],\n",
    "                     \"width\": out_image.shape[2],\n",
    "                     \"transform\": out_transform})\n",
    "with rio.open(\"./sample_data/Killarney/wc2.1_2.5m_tmax_2021-04_K.tif\", \"w\", **out_meta) as dest:\n",
    "    dest.write(out_image)\n",
    "tempK = rio.open(\"./sample_data/Killarney/wc2.1_2.5m_tmax_2021-04_K.tif\")\n",
    "show(tempK)"
   ]
  },
  {
   "cell_type": "markdown",
   "id": "d9ae4989-138a-44fa-9b18-8bc015e58ae8",
   "metadata": {},
   "source": [
    "Not many pixels, just 18 to cover the whole area (6 x 3) - but I'm trying to make a point. We'll get there. Now, to show this with the original image, we need to reproject it to the CRS used by the Killarney DEM - that's the UTM29N grid, EPSG:32629."
   ]
  },
  {
   "cell_type": "code",
   "execution_count": null,
   "id": "f3f75f0a-171e-4c28-88d9-88fda9cbb6a8",
   "metadata": {},
   "outputs": [],
   "source": [
    "dst_crs = 'EPSG:32629'\n",
    "\n",
    "with rio.open(\"./sample_data/Killarney/wc2.1_2.5m_tmax_2021-04_K.tif\") as src:\n",
    "    transform, width, height = calculate_default_transform(\n",
    "        src.crs, dst_crs, src.width, src.height, *src.bounds)\n",
    "    kwargs = src.meta.copy()\n",
    "    kwargs.update({\n",
    "        'crs': dst_crs,\n",
    "        'transform': transform,\n",
    "        'width': width,\n",
    "        'height': height\n",
    "    })\n",
    "\n",
    "    with rio.open(\"./sample_data/Killarney/wc2.1_2.5m_tmax_2021-04_K_UTM29.tif\", 'w', **kwargs) as dst:\n",
    "        for i in range(1, src.count + 1):\n",
    "            reproject(\n",
    "                source=rio.band(src, i),\n",
    "                destination=rio.band(dst, i),\n",
    "                src_transform=src.transform,\n",
    "                src_crs=src.crs,\n",
    "                dst_transform=transform,\n",
    "                dst_crs=dst_crs,\n",
    "                resampling=Resampling.nearest)\n",
    "\n",
    "tempK = rio.open(\"./sample_data/Killarney/wc2.1_2.5m_tmax_2021-04_K_UTM29.tif\")\n",
    "show(tempK)"
   ]
  },
  {
   "cell_type": "markdown",
   "id": "33c06671-92b3-450f-9003-aedc17cf09f7",
   "metadata": {},
   "source": [
    "Now, here's what I want you to notice. The pixels now look pretty close to square - and count them! There's no longer just 18 - we now have a 5 x 4 shape with 20 pixels. And it looks like the pixels have been stretched in the vertical direction - the overall shape is much more square than it used to be.\n",
    "\n",
    "I wanted with this to reinforce the point that while pixels are rectangular, and often displayed as square, on maps - that doesn't mean the area they cover on the ground is square. In fact, it *never* is, due to what we discussed in the Coordinate Reference Systems notebook: the impossibility of plotting a round surface of the Earth on a flat map or computer screen. \n",
    "\n",
    "Also, the pixels haven't actually been stretched - the values have actually been resampled into a new set of pixels in the new coordinate reference system, which most closely matches the new coordinate reference system. This means that some of the pixels will actually be covering a different area - so, a small warning about reprojections of low-resolution data. \n",
    "\n",
    "Still, let's see what it looks like on our Killarney DEM map:"
   ]
  },
  {
   "cell_type": "code",
   "execution_count": null,
   "id": "0bea7f49-cbfc-47f2-a3b8-7a23167c143f",
   "metadata": {},
   "outputs": [],
   "source": [
    "fig, ax = plt.subplots(figsize=(10, 6))\n",
    "\n",
    "temp_scale_setup = ax.imshow(tempK.read()[0], cmap='coolwarm', vmin=-40, vmax=50)\n",
    "cb = fig.colorbar(temp_scale_setup, ax=ax, extend='both', label=\"Temperature (°C)\", shrink=0.6)\n",
    "cb.set_ticks([-30, -20, -10, 0, 10, 20, 30, 40])\n",
    "\n",
    "ax.ticklabel_format(style='plain')\n",
    "ax.set_xlim(452100, 467700)\n",
    "ax.set_ylim(5758000, 5769500)\n",
    "\n",
    "show(tempK, ax=ax, cmap='coolwarm', vmin=-40, vmax=50)\n",
    "show(shade, transform=dem.transform, ax=ax, cmap=\"Greys\", alpha=0.3)\n",
    "killarney_roads.plot(ax=ax, column=\"highway\", cmap=\"gist_yarg\")\n",
    "\n",
    "plt.show()"
   ]
  },
  {
   "cell_type": "markdown",
   "id": "0cab39dc-881d-41bc-ab18-4fef916e64d0",
   "metadata": {},
   "source": [
    "So, only the southeasternmost pixel very noticeably showing as different, although there are some minor variations. \n"
   ]
  },
  {
   "cell_type": "markdown",
   "id": "ae0f11c3-ef67-45a3-a00d-f25393cf3c95",
   "metadata": {},
   "source": [
    "## 6. Raster Coregistration\n",
    "\n",
    "\n",
    "Hopefully I have made the point about the area on the ground represented by pixels - but it is still the case that the temperature data has pixels which are much larger than the pixels of the DEM. Now, in this case, we don't actually need to do any complex analysis comparing these two layers - but you *might* want to do that. And if so, you would not want what you have here.\n",
    "\n",
    "Remember that when we reprojected the temperature data to this CRS, we ended up with 5 x 4 pixels instead of 6 x 3? That's because the data was resampled to a pixel size and shape which suited the new CRS. But if we're resampling the data anyway, why not just resample to exactly the same pixel size and shape as the DEM data?\n",
    "\n",
    "This is referred to as *coregistration* of rasters, where we match a second raster to the extent and resolution of a first."
   ]
  },
  {
   "cell_type": "code",
   "execution_count": null,
   "id": "7ac44fe7-0d86-43e1-9573-d2f13fd78d9f",
   "metadata": {},
   "outputs": [],
   "source": [
    "dst_crs = dem.crs\n",
    "dst_width = dem.width\n",
    "dst_height = dem.height\n",
    "dst_bounds = dem.bounds\n",
    "\n",
    "with rio.open(\"./sample_data/Killarney/wc2.1_2.5m_tmax_2021-04_K.tif\") as src:\n",
    "    transform, width, height = calculate_default_transform(\n",
    "        src.crs, dst_crs, src.width, src.height, dst_width=dst_width, dst_height=dst_height, *src.bounds)\n",
    "    kwargs = src.meta.copy()\n",
    "    kwargs.update({\n",
    "        'crs': dst_crs,\n",
    "        'transform': transform,\n",
    "        'width': width,\n",
    "        'height': height\n",
    "    })\n",
    "\n",
    "    with rio.open(\"./sample_data/Killarney/wc2.1_2.5m_tmax_2021-04_K_coreg.tif\", 'w', **kwargs) as dst:\n",
    "        for i in range(1, src.count + 1):\n",
    "            reproject(\n",
    "                source=rio.band(src, i),\n",
    "                destination=rio.band(dst, i),\n",
    "                src_transform=src.transform,\n",
    "                src_crs=src.crs,\n",
    "                dst_transform=transform,\n",
    "                dst_crs=dst_crs,\n",
    "                resampling=Resampling.nearest)"
   ]
  },
  {
   "cell_type": "code",
   "execution_count": null,
   "id": "0b8a8f24-c4d6-455a-9f20-7f84f4fadcb4",
   "metadata": {},
   "outputs": [],
   "source": [
    "tempK_coreg = rio.open(\"./sample_data/Killarney/wc2.1_2.5m_tmax_2021-04_K_coreg.tif\")\n",
    "\n",
    "fig, ax = plt.subplots(figsize=(10, 6))\n",
    "\n",
    "temp_scale_setup = ax.imshow(tempK_coreg.read()[0], cmap='coolwarm', vmin=-40, vmax=50)\n",
    "cb = fig.colorbar(temp_scale_setup, ax=ax, extend='both', label=\"Temperature (°C)\", shrink=0.6)\n",
    "cb.set_ticks([-30, -20, -10, 0, 10, 20, 30, 40])\n",
    "\n",
    "ax.ticklabel_format(style='plain')\n",
    "ax.set_xlim(452100, 467700)\n",
    "ax.set_ylim(5758000, 5769500)\n",
    "\n",
    "show(tempK_coreg, ax=ax, cmap='coolwarm', vmin=-40, vmax=50)\n",
    "show(shade, transform=dem.transform, ax=ax, cmap=\"Greys\", alpha=0.3)\n",
    "killarney_roads.plot(ax=ax, column=\"highway\", cmap=\"gist_yarg\")\n",
    "\n",
    "plt.show()"
   ]
  },
  {
   "cell_type": "markdown",
   "id": "85a7b4b9-8310-4bbb-990f-1b00b0edcf43",
   "metadata": {},
   "source": [
    "It looks very similar - well, it should, it's the same data plotted in the same way, just with a different pixel size. But, check the southeasternmost corner in this and the previous map, and you will see the difference. We can also see a difference if we look at the numpy arrays behind the scenes:"
   ]
  },
  {
   "cell_type": "code",
   "execution_count": null,
   "id": "14205127-e4be-41ae-be22-9fd3a8202731",
   "metadata": {},
   "outputs": [],
   "source": [
    "# Previous transform\n",
    "print(f'Previous array shape: {tempK.shape}')\n",
    "tempK.read()"
   ]
  },
  {
   "cell_type": "code",
   "execution_count": null,
   "id": "e4626a54-4c49-4a03-9920-447365095ec7",
   "metadata": {},
   "outputs": [],
   "source": [
    "# This transform\n",
    "print(f'This array shape: {tempK_coreg.shape}')\n",
    "tempK_coreg.read()"
   ]
  },
  {
   "cell_type": "markdown",
   "id": "985d792c-bbd8-42e9-9a65-ce8f18861fef",
   "metadata": {},
   "source": [
    "383 x 516 pixels is a huge increase on 4 x 5.\n",
    "\n",
    "So, we can see that different transforms do make a big difference, and it is best to match the pixel size of rasters if we want to do any comparisons.\n",
    "\n",
    "But, it is also crucial to remember that we have *not* increased the spatial resolution of the data - only the spatial resolution at which it is displayed. The spatial resolution of the data is the spatial resolution of the source data - and that's best seen in the original 6 x 3 pixel grid when we first cropped the temperature data to the Killarney area. "
   ]
  },
  {
   "cell_type": "markdown",
   "id": "c9c70f02-6ca1-4bd2-b720-ef024af44267",
   "metadata": {},
   "source": [
    "## Summary\n",
    "\n",
    "So, we've seen here that we can use single-band rasters as digital elevation models, plotting on maps them using colour scales, and as hillshades, or both, and can layer vector data over them. We can also use the elevation values in calculations, including making flood risk maps.\n",
    "\n",
    "We've also seen that we can use other data, such as temperatures, and used that data to try and understand pixel size and shape in rasters, particularly when combining datasets in different coordinate reference systems from different sources.\n",
    "\n",
    "The key takeaways here are using raster data for elevation and data like temperatures, the concept that we can do calculations with the data beyond just showing it on maps, and that we have to be a bit careful when using multiple rasters - matching CRS and resolution in order to do calculations, but bearing in mind that increasing the number of pixels doesn't increase the spatial resolution of the data."
   ]
  },
  {
   "cell_type": "markdown",
   "id": "2d13c487-ce50-412f-8ec3-741a2cbd8b33",
   "metadata": {},
   "source": [
    "___\n",
    "\n",
    "Week 2 Notebooks: \n",
    "\n",
    "8. Introduction to Raster Data <a href=\"https://colab.research.google.com/github/bamacgabhann/GY5021/blob/2024/GY5021/2_Raster_Geospatial_Data/GY5021_8_Introduction_To_Raster_Data.ipynb\" target=\"_parent\"><img src=\"https://colab.research.google.com/assets/colab-badge.svg\" alt=\"Open In Colab\"/></a>     <a href=\"https://mybinder.org/v2/gh/bamacgabhann/GY5021/9a706c8973d5bde0e50593ecc94941b0426f24a6?urlpath=lab%2Ftree%2FGY5021%2F2_Raster_Geospatial_Data%2FGY5021_8_Introduction_To_Raster_Data.ipynb\" target=\"_parent\"><img src=\"https://mybinder.org/badge_logo.svg\" alt=\"Open in Binder\" /></a>\n",
    "\n",
    "9. Single-band Raster Data <a href=\"https://colab.research.google.com/github/bamacgabhann/GY5021/blob/2024/GY5021/2_Raster_Geospatial_Data/GY5021_9_Single-band_Raster_Data.ipynb\" target=\"_parent\"><img src=\"https://colab.research.google.com/assets/colab-badge.svg\" alt=\"Open In Colab\"/></a>     <a href=\"https://mybinder.org/v2/gh/bamacgabhann/GY5021/9a706c8973d5bde0e50593ecc94941b0426f24a6?urlpath=lab%2Ftree%2FGY5021%2F2_Raster_Geospatial_Data%2FGY5021_9_Single-band_Raster_Data.ipynb\" target=\"_parent\"><img src=\"https://mybinder.org/badge_logo.svg\" alt=\"Open in Binder\" /></a>\n",
    "\n",
    "10. Multi-band Raster Data: Passive Remote Sensing <a href=\"https://colab.research.google.com/github/bamacgabhann/GY5021/blob/2024/GY5021/2_Raster_Geospatial_Data/GY5021_10_Multi-band_Raster_Data-Passive_Remote_Sensing.ipynb\" target=\"_parent\"><img src=\"https://colab.research.google.com/assets/colab-badge.svg\" alt=\"Open In Colab\"/></a>     <a href=\"https://mybinder.org/v2/gh/bamacgabhann/GY5021/9a706c8973d5bde0e50593ecc94941b0426f24a6?urlpath=lab%2Ftree%2FGY5021%2F2_Raster_Geospatial_Data%2FGY5021_10_Multi-band_Raster_Data-Passive_Remote_Sensing.ipynb\" target=\"_parent\"><img src=\"https://mybinder.org/badge_logo.svg\" alt=\"Open in Binder\" /></a>"
   ]
  }
 ],
 "metadata": {
  "kernelspec": {
   "display_name": "GY5021",
   "language": "python",
   "name": "gy5021"
  },
  "language_info": {
   "codemirror_mode": {
    "name": "ipython",
    "version": 3
   },
   "file_extension": ".py",
   "mimetype": "text/x-python",
   "name": "python",
   "nbconvert_exporter": "python",
   "pygments_lexer": "ipython3",
   "version": "3.11.6"
  }
 },
 "nbformat": 4,
 "nbformat_minor": 5
}
