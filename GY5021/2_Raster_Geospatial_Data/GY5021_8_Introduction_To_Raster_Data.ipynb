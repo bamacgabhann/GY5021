{
 "cells": [
  {
   "cell_type": "markdown",
   "id": "694e1c62-cef6-492d-b3ce-9fcba86157b3",
   "metadata": {},
   "source": [
    "<a href=\"https://colab.research.google.com/github/bamacgabhann/GY5021/blob/2024/GY5021/2_Raster_Geospatial_Data/GY5021_8_Introduction_To_Raster_Data.ipynb\" target=\"_parent\"><img src=\"https://colab.research.google.com/assets/colab-badge.svg\" alt=\"Open In Colab\"/></a>     <a href=\"https://mybinder.org/v2/gh/bamacgabhann/GY5021/9a706c8973d5bde0e50593ecc94941b0426f24a6?urlpath=lab%2Ftree%2FGY5021%2F2_Raster_Geospatial_Data%2FGY5021_8_Introduction_To_Raster_Data.ipynb\" target=\"_parent\"><img src=\"https://mybinder.org/badge_logo.svg\" alt=\"Open in Binder\" /></a>"
   ]
  },
  {
   "cell_type": "markdown",
   "id": "ead5aaee-d876-4392-89eb-35e60129a068",
   "metadata": {},
   "source": [
    "<img src=\"https://raw.githubusercontent.com/bamacgabhann/GY5021/2024/PD_logo.png\" align=center alt=\"UL Geography logo\"/>"
   ]
  },
  {
   "cell_type": "markdown",
   "id": "48ca0a2d-eab2-493c-a39c-8e96bb933da1",
   "metadata": {},
   "source": [
    "# Raster Data\n",
    "\n",
    "In week 1, we introduced some different types of data which computers can process, how geospatial coordinates of different kinds and in different coordinate reference systems can be stored as data, how additional data can be associated with those coordinates as attributes, and how we can do some processing of that coordinate and attribute data.\n",
    "\n",
    "However, this kind of data, known as *vector* data, is not always a good format in which to store or process geospatial data. "
   ]
  },
  {
   "cell_type": "markdown",
   "id": "53eb714f-88ef-43f3-806c-b83ae91ccc81",
   "metadata": {},
   "source": [
    "## 1. Images and Pixels\n",
    "\n",
    "For example, what if we wanted to show a satellite photograph? Let's use an example of a satellite image I have of Killarney National Park in County Kerry from April 2021. \n",
    "\n",
    "(We'll use the python library ```rasterio``` to work with images here, and we'll also import a couple of other libraries we might want to use)"
   ]
  },
  {
   "cell_type": "code",
   "execution_count": null,
   "id": "c05b139f-b17a-4014-99a7-0ccc52f51bae",
   "metadata": {},
   "outputs": [],
   "source": [
    "!pip install rasterio"
   ]
  },
  {
   "cell_type": "code",
   "execution_count": null,
   "id": "0d450678-ea31-4b30-815f-550c8bfe548b",
   "metadata": {},
   "outputs": [],
   "source": [
    "import matplotlib.pyplot as plt\n",
    "import numpy as np\n",
    "import geopandas as gpd\n",
    "import rasterio as rio\n",
    "from rasterio.plot import show"
   ]
  },
  {
   "cell_type": "code",
   "execution_count": null,
   "id": "d82ed47d-bf1e-44d7-8a17-f27300712a67",
   "metadata": {},
   "outputs": [],
   "source": [
    "photo = rio.open(\n",
    "    'https://raw.githubusercontent.com/bamacgabhann/GY5021/2024/GY5021/2_Raster_Geospatial_Data/sample_data/Killarney/2021-04-25_11-46-59_Sentinel-2_L2A_True_color.tiff'\n",
    ")\n",
    "show(photo)"
   ]
  },
  {
   "cell_type": "markdown",
   "id": "8b69fda4-7b63-4ca6-a113-559165ad3884",
   "metadata": {},
   "source": [
    "It's a nice cloud-free image (which doesn't always happen in Ireland, of course - one reason for using an image from 2021, because I know this one is cloud-free!). To see why vector data isn't a great format for this, let's zoom in on one of the islands in the lake: "
   ]
  },
  {
   "cell_type": "code",
   "execution_count": null,
   "id": "0b010bb9-d14c-4fdf-b1d9-1fa60486e9b8",
   "metadata": {},
   "outputs": [],
   "source": [
    "island = rio.open(\n",
    "    'https://github.com/bamacgabhann/GY5021/raw/2024/GY5021/2_Raster_Geospatial_Data/sample_data/Killarney/killarney_zoom.tif'\n",
    ")\n",
    "show(island)"
   ]
  },
  {
   "cell_type": "markdown",
   "id": "98ee178c-362c-4a7c-83c3-3b2678cc8b1e",
   "metadata": {},
   "source": [
    "We can clearly see here that the photo of the island is made up of a bunch of squares, each with a different colour. These squares are individual *pixels*. Each pixel has a colour.\n",
    "\n",
    "Actually, each pixel has *three* colours. Photographs on a screen are a combination of red, green, and blue."
   ]
  },
  {
   "cell_type": "code",
   "execution_count": null,
   "id": "02527d00-e73b-4ae4-9cf1-f9f1b780371a",
   "metadata": {},
   "outputs": [],
   "source": [
    "fig, (axr, axg, axb) = plt.subplots(1,3, figsize=(21,7))\n",
    "show((island, 1), ax=axr, cmap='Reds', title='red band')\n",
    "show((island, 2), ax=axg, cmap='Greens', title='green band')\n",
    "show((island, 3), ax=axb, cmap='Blues', title='blue band')\n",
    "plt.show()"
   ]
  },
  {
   "cell_type": "markdown",
   "id": "d6ec0853-862c-4083-a73a-196ba51d7cee",
   "metadata": {},
   "source": [
    "Each of these \"bands\" simply has a number for each pixel, specifying how much of the colour to display. Together, the numbers form an array - which in rasterio, uses numpy, just like GeoPandas. We can actually look at the numbers:"
   ]
  },
  {
   "cell_type": "code",
   "execution_count": null,
   "id": "266b6a2d-bef3-4936-a63a-4954006e968c",
   "metadata": {},
   "outputs": [],
   "source": [
    "island.read()"
   ]
  },
  {
   "cell_type": "markdown",
   "id": "592b48d1-e65a-44fa-9f27-f583ae48a73c",
   "metadata": {},
   "source": [
    "That's still a lot of numbers, let's zoom in even further to 9x9 pixels so we can make more sense of the numbers:"
   ]
  },
  {
   "cell_type": "code",
   "execution_count": null,
   "id": "25757c77-f55b-4189-9125-182969d9587e",
   "metadata": {},
   "outputs": [],
   "source": [
    "island_zoom = rio.open(\n",
    "    'https://github.com/bamacgabhann/GY5021/raw/2024/GY5021/2_Raster_Geospatial_Data/sample_data/Killarney/island_zoom.tif'\n",
    ")\n",
    "show(island_zoom)"
   ]
  },
  {
   "cell_type": "code",
   "execution_count": null,
   "id": "6419e2d7-c57f-47c2-b323-8e758fa475f7",
   "metadata": {},
   "outputs": [],
   "source": [
    "fig, (axr, axg, axb) = plt.subplots(1,3, figsize=(21,7))\n",
    "show((island_zoom, 1), ax=axr, cmap='Reds', title='red band')\n",
    "show((island_zoom, 2), ax=axg, cmap='Greens', title='green band')\n",
    "show((island_zoom, 3), ax=axb, cmap='Blues', title='blue band')\n",
    "plt.show()"
   ]
  },
  {
   "cell_type": "code",
   "execution_count": null,
   "id": "2482de29-3899-46fa-969a-0711dfe4df40",
   "metadata": {},
   "outputs": [],
   "source": [
    "island_zoom.read()"
   ]
  },
  {
   "cell_type": "markdown",
   "id": "cf3ca785-a16c-4ea6-a8b6-c91bc24b1d5f",
   "metadata": {},
   "source": [
    "So here, what we have is an array of arrays. The main array - the image as a whole - contains 3 arrays (for red, green, and blue), each of which contains 3 rows and 3 columns (because our image has 3x3 pixels) of numbers. \n",
    "\n",
    "You can see the numbers are ```float32``` decimals - for these, a value of 1.0 means 100% of that colour, and a value of 0 means 0% of that colour. "
   ]
  },
  {
   "cell_type": "markdown",
   "id": "ed6b5f1a-d318-4719-8604-dfc83e0185e3",
   "metadata": {},
   "source": [
    "## 2. Why Not Vector?\n",
    "\n",
    "What you *don't* see here are coordinates - and hopefully it will be easy enough to understand why. It would be completely *possible* to store this data in vector form, with coordinates; in fact, this is what that would look like:"
   ]
  },
  {
   "cell_type": "code",
   "execution_count": null,
   "id": "ebd89164-eec7-487c-9439-9a2905dd1adb",
   "metadata": {},
   "outputs": [],
   "source": [
    "island_zoom_vector = gpd.read_file('https://github.com/bamacgabhann/GY5021/raw/2024/GY5021/2_Raster_Geospatial_Data/sample_data/Killarney/island_zoom_vector.gpkg')\n",
    "island_zoom_vector"
   ]
  },
  {
   "cell_type": "markdown",
   "id": "b366706b-c491-47d7-8555-a760a57d5573",
   "metadata": {},
   "source": [
    "(Remember the index goes up to 8 rather than 9 because it starts at 0, not 1).\n",
    "\n",
    "Saving the data in this format makes it easier to label the values on individual pixels (and hopefully that will help you to understand the concept of pixels and colour values):"
   ]
  },
  {
   "cell_type": "code",
   "execution_count": null,
   "id": "a1176d47-4f42-4390-b4df-1ee6f7c2ddf9",
   "metadata": {},
   "outputs": [],
   "source": [
    "fig, (axr, axg, axb) = plt.subplots(1,3, figsize=(21,7))\n",
    "show((island_zoom, 1), ax=axr, cmap='Reds', title='red band')\n",
    "show((island_zoom, 2), ax=axg, cmap='Greens', title='green band')\n",
    "show((island_zoom, 3), ax=axb, cmap='Blues', title='blue band')\n",
    "island_zoom_vector.apply(lambda x: axr.annotate(text=\"{:.4f}\".format(x['Red']), xy=x.geometry.centroid.coords[0], ha='center'), axis=1)\n",
    "island_zoom_vector.apply(lambda x: axg.annotate(text=\"{:.4f}\".format(x['green']), xy=x.geometry.centroid.coords[0], ha='center'), axis=1)\n",
    "island_zoom_vector.apply(lambda x: axb.annotate(text=\"{:.4f}\".format(x['blue']), xy=x.geometry.centroid.coords[0], ha='center'), axis=1)\n",
    "plt.show()"
   ]
  },
  {
   "cell_type": "markdown",
   "id": "0a3a827f-2cb9-431e-95f6-718fd9a49d86",
   "metadata": {},
   "source": [
    "However, while that works just fine for 9 pixels, can you imagine how much data it would take to store the pixel coordinate polygons for every single pixel? \n",
    "\n",
    "The ```island_zoom.tif``` raster file has a size of 532 bytes, while this vector format ```island_zoom.gpkg``` is 106,496 bytes. That's 200 times larger - and that's just nine pixels. That's ridiculous.\n",
    "\n",
    "The original image above, which we called ```photo```, has 1549 by 1148 pixels, a total of 1,778,252 pixels. Storing almost 2 million sets of polygon vector coordinate features is absolutely going to inflate the file size like a balloon. It would take up a huge amount of unnecessary file storage, plus any processing would take an enormous amount of wasted compute power. And that's just that one image, which isn't a particularly big one.\n",
    "\n",
    "Instead, this data is stored as *raster* data. Rather than storing a polygon geometry for each pixel, it basically stores the coordinates of the corners, and any transformations which need to be applied to the data. The simplest case essentially just assumes the pixels are of equal size, and simply fill the area between the coordinates.\n",
    "\n",
    "We can look at the *metadata* - the key information about the arrays of colour values - of our ```photo``` image:"
   ]
  },
  {
   "cell_type": "code",
   "execution_count": null,
   "id": "904c5829-506b-403b-85c7-02828679c88d",
   "metadata": {},
   "outputs": [],
   "source": [
    "photo.meta"
   ]
  },
  {
   "cell_type": "markdown",
   "id": "0f10822e-294f-45f0-8033-d1e0a3d6e8cf",
   "metadata": {},
   "source": [
    "```driver``` is the type of file - in this case, ```GTiff``` meaning *GeoTiff*. *Tiff* is a common high-resolution image format, standing for *Tagged Image File Format*, and *GeoTiff* is a variant of this format which specifies the geographic coordinates. \n",
    "\n",
    "```dtype``` is the data type in which the colour values are stored - in this case, each colour value is a 32-bit float number between 0 and 1, as discussed above.\n",
    "\n",
    "```nodata``` is the value associated with empty pixels - which we don't have any of here. We'll come back to this, because it is important.\n",
    "\n",
    "```width``` and ```height``` are the size of the image in pixels. \n",
    "\n",
    "```count``` is how many bands the image has - in this case, 3, one each for red, green, and blue. We'll be coming back to this, as well.\n",
    "\n",
    "```crs``` is of course the coordinate reference system, in this case EPSG:32629 - UTM Zone 29N. UTM is a coordinate system we haven't discussed yet, which is extremely useful because it uses metres rather than degrees, minutes, and seconds. Zone 29N is the area which includes Ireland.\n",
    "\n",
    "```transform``` is the key here. This is the data which explains how the pixels are related to the coordinates. It's not important to understand the details of this - I don't! - as long as you understand that this controls how the pixels are fit to the coordinates specified. Here, it's looks fairly simply, but quite complex transforms can be applied where necessary.\n",
    "\n",
    "Using a transform to define how the pixels relate to the coordinates massively reduces the file size, meaning we don't need to store the coordinates of each pixel - only the coordinates of the image bounds."
   ]
  },
  {
   "cell_type": "markdown",
   "id": "eab6eb0f-8e3a-4e4b-815c-4dadd5bcd6b8",
   "metadata": {},
   "source": [
    "## 3. Spatial Resolution\n",
    "\n",
    "Each pixel in the image covers a length and width - and has a single value. This is the *spatial resolution* of the image - the distance over the ground covered by a single pixel. This essentially depends on how good the camera on the satellite is - or whatever sensor, platform, or data source you're using. The higher the spatial resolution, the better your data will be - but of course higher spatial resolution means more pixels, which means larger file sizes.\n",
    "\n",
    "Our original image, ```photo```, has a spatial resolution of 10m per pixel. Each pixel covers an area of 10m x 10m: 1549 x 1148 pixels, totalling 1,778,252 pixels, taking up 10,491,881 bytes of storage/memory:"
   ]
  },
  {
   "cell_type": "code",
   "execution_count": null,
   "id": "decbb7ea-cda1-4cfd-9872-35628146c3a0",
   "metadata": {},
   "outputs": [],
   "source": [
    "photo = rio.open(\n",
    "    'https://raw.githubusercontent.com/bamacgabhann/GY5021/2024/GY5021/2_Raster_Geospatial_Data/sample_data/Killarney/2021-04-25_11-46-59_Sentinel-2_L2A_True_color.tiff'\n",
    ")\n",
    "show(photo)"
   ]
  },
  {
   "cell_type": "markdown",
   "id": "dd20d887-65bd-4d29-b4e2-d765d8de48e4",
   "metadata": {},
   "source": [
    "If we want a smaller file size, we could use a lower spatial resolution. Here's the same image at 30m per pixel - 516 x 382 pixels, total 197,112 pixels, taking up 2,104,164 bytes of memory/storage. The original resolution was 1549 x 1148: 1549/3 = 516.333, and 382.667, rounded to whole numbers because you can't have partial pixels, and that gives you the new 516 x 382 resolution."
   ]
  },
  {
   "cell_type": "code",
   "execution_count": null,
   "id": "1f4d291a-6d09-4ad0-a7b3-82a10263345f",
   "metadata": {},
   "outputs": [],
   "source": [
    "photo30m = rio.open(\n",
    "    'https://raw.githubusercontent.com/bamacgabhann/GY5021/2024/GY5021/2_Raster_Geospatial_Data/sample_data/Killarney/2021-04-25_11-46-59_Sentinel-2_L2A_True_color_30m.tiff'\n",
    ")\n",
    "fig, (ax, axlow) = plt.subplots(1,2, figsize=(15,11))\n",
    "show(photo, ax=ax, title='10m resolution')\n",
    "show(photo30m, ax=axlow, title='30m resolution')\n",
    "plt.show()"
   ]
  },
  {
   "cell_type": "markdown",
   "id": "e8831773-45a1-4410-98c9-dc9e10c06689",
   "metadata": {},
   "source": [
    "We can't see a huge difference here because the images are shown at a small size, but if we zoom in:"
   ]
  },
  {
   "cell_type": "code",
   "execution_count": null,
   "id": "31e16610-9708-4435-a587-cdeebaa9fbcc",
   "metadata": {},
   "outputs": [],
   "source": [
    "photo30m = rio.open(\n",
    "    'https://raw.githubusercontent.com/bamacgabhann/GY5021/2024/GY5021/2_Raster_Geospatial_Data/sample_data/Killarney/2021-04-25_11-46-59_Sentinel-2_L2A_True_color_30m.tiff'\n",
    ")\n",
    "fig, (ax, axlow) = plt.subplots(1,2, figsize=(15,11))\n",
    "ax.set_xlim(464000, 466000)\n",
    "ax.set_ylim(5766000, 5767500)\n",
    "axlow.set_xlim(464000, 466000)\n",
    "axlow.set_ylim(5766000, 5767500)\n",
    "show(photo, ax=ax, title='10m resolution')\n",
    "show(photo30m, ax=axlow, title='30m resolution')\n",
    "plt.show()"
   ]
  },
  {
   "cell_type": "markdown",
   "id": "3328ce46-1990-457b-81a3-28bc105ec110",
   "metadata": {},
   "source": [
    "Here's the same image at an even lower resolution of 60m per pixel - 258 x 191 pixels, total 49,278 pixels, taking up 526,864 bytes of memory/storage. That's about a quarter of the size of the 30m resolution image, because of course the resolution is in both length and width - half as many pixels lengthwise, half as many widthwise. At 30m resolution, 2 x 2 pixels covered 60m x 60m, and that's just one pixel here. Four pixels to one means a quarter of the number of pixels overall."
   ]
  },
  {
   "cell_type": "code",
   "execution_count": null,
   "id": "d6ff171d-7693-4375-b9cc-9e002ade256a",
   "metadata": {},
   "outputs": [],
   "source": [
    "photo60m = rio.open(\n",
    "    'https://raw.githubusercontent.com/bamacgabhann/GY5021/2024/GY5021/2_Raster_Geospatial_Data/sample_data/Killarney/2021-04-25_11-46-59_Sentinel-2_L2A_True_color_60m.tiff'\n",
    ")\n",
    "fig, (ax, axlow) = plt.subplots(1,2, figsize=(15,11))\n",
    "show(photo, ax=ax, title='10m resolution')\n",
    "show(photo60m, ax=axlow, title='60m resolution')\n",
    "plt.show()"
   ]
  },
  {
   "cell_type": "markdown",
   "id": "5844545e-e632-42d3-80a2-3ebb28060a43",
   "metadata": {},
   "source": [
    "Even at full size, we can see the degradation in quality here.\n",
    "\n",
    "Let's go even lower - 100m per pixel, 154 x 114 = 17,556 pixels total, in 187,924 bytes. Compared to our original 10m resolution image, this has a single pixel taking up the length of 10 pixels in the original - and a width of 10 pixels; meaning that 10 x 10 = one hundred pixels in the original is now just one single pixel here."
   ]
  },
  {
   "cell_type": "code",
   "execution_count": null,
   "id": "9cf0b7e5-f8f5-494b-925c-52b0cf386839",
   "metadata": {},
   "outputs": [],
   "source": [
    "photo100m = rio.open(\n",
    "    'https://raw.githubusercontent.com/bamacgabhann/GY5021/2024/GY5021/2_Raster_Geospatial_Data/sample_data/Killarney/2021-04-25_11-46-59_Sentinel-2_L2A_True_color_100m.tiff'\n",
    ")\n",
    "fig, (ax, axlow) = plt.subplots(1,2, figsize=(15,11))\n",
    "show(photo, ax=ax, title='10m resolution')\n",
    "show(photo100m, ax=axlow, title='100m resolution')\n",
    "plt.show()"
   ]
  },
  {
   "cell_type": "markdown",
   "id": "e382da39-8c17-434a-bbfc-8ac9bdfeb037",
   "metadata": {},
   "source": [
    "Even lower again - 500m per pixel, 30 x 22 = just 600 pixels total, in 7,552 bytes."
   ]
  },
  {
   "cell_type": "code",
   "execution_count": null,
   "id": "1f70e03d-6fcf-4977-87b9-0f814d07546a",
   "metadata": {},
   "outputs": [],
   "source": [
    "photo500m = rio.open(\n",
    "    'https://raw.githubusercontent.com/bamacgabhann/GY5021/2024/GY5021/2_Raster_Geospatial_Data/sample_data/Killarney/2021-04-25_11-46-59_Sentinel-2_L2A_True_color_500m.tiff'\n",
    ")\n",
    "fig, (ax, axlow) = plt.subplots(1,2, figsize=(15,11))\n",
    "show(photo, ax=ax, title='10m resolution')\n",
    "show(photo500m, ax=axlow, title='500m resolution')\n",
    "plt.show()"
   ]
  },
  {
   "cell_type": "markdown",
   "id": "55101028-f0b3-48cc-b8fa-b698f534e219",
   "metadata": {},
   "source": [
    "One pixel in this image covers 50 x 50 = 2500 pixels in the original image. We can clearly see just how much less we can see as the resolution reduced, particularly here, where virtually all details have now been obscured.\n",
    "\n",
    "The spatial resolution controls the size of features which can be observed. Even in the original image, at 10m x 10m per pixel, we would barely be able to make out features like roads and individual buildings. By this level, we can barely make out the town of Killarney in the top right of the image.\n",
    "\n",
    "The trade-off is obviously file size, which controls how much computing resources - memory and processing power, and time - are needed to do any kind of analysis on the image. \n",
    "\n",
    "A final, important point - the resolution does not have to be the same in the north-south direction as in the east-west direction. It's entirely possible to have pixels which cover, say, 10m east-west, but 15m north-south. In fact, this is extremely common, and is often seen where imagery is produced with native latitude-longitude coordinates before being converted to a metric CRS."
   ]
  },
  {
   "cell_type": "markdown",
   "id": "578b188e-4361-4ceb-8a67-5327e20b0e36",
   "metadata": {},
   "source": [
    "## 4. Spectral resolution\n",
    "\n",
    "There's another kind of resolution we need to consider. Our colour values in all these images are stored as 32 bit floating point numbers, but what if we don't have that much detail? Here's the same image, with the colours stored as 8-bit integers instead."
   ]
  },
  {
   "cell_type": "code",
   "execution_count": null,
   "id": "4d5f761d-ece8-4521-b5f4-2bcfe4563f23",
   "metadata": {},
   "outputs": [],
   "source": [
    "photo_uint8 = rio.open(\n",
    "    'https://raw.githubusercontent.com/bamacgabhann/GY5021/2024/GY5021/2_Raster_Geospatial_Data/sample_data/Killarney/2021-04-25_11-46-59_Sentinel-2_L2A_True_color_uint8.tiff'\n",
    ")\n",
    "fig, (axfloat, axint) = plt.subplots(1,2, figsize=(15,11))\n",
    "show(photo, ax=axfloat, title='dtype = float32')\n",
    "show(photo_uint8, ax=axint, title='dtype = uint8 (0-255)')\n",
    "plt.show()"
   ]
  },
  {
   "cell_type": "markdown",
   "id": "af59fa64-4edd-4766-a376-1cc1151a1411",
   "metadata": {},
   "source": [
    "To our eyes, we won't be able to see a difference here. The image on the right, which stores the colour values as 8-bit integers, can still store 255 different colour values in each of the red, green, and blue bands, for a total of 16,581,375 different colours - which is more than our eyes can distinguish.\n",
    "\n",
    "If we used 8-bit signed integers, which use one bit to store the +/- sign and so only 7 for the number, restricting us to 0-128, we can start to see some degradation. Some of the dark areas in particular look darker."
   ]
  },
  {
   "cell_type": "code",
   "execution_count": null,
   "id": "329a80c1-5210-41f8-9fc3-aa2b5161c831",
   "metadata": {},
   "outputs": [],
   "source": [
    "photo_int8 = rio.open(\n",
    "    'https://raw.githubusercontent.com/bamacgabhann/GY5021/2024/GY5021/2_Raster_Geospatial_Data/sample_data/Killarney/2021-04-25_11-46-59_Sentinel-2_L2A_True_color_int8.tiff'\n",
    ")\n",
    "\n",
    "fig, (axfloat, axint) = plt.subplots(1,2, figsize=(15,11))\n",
    "show(photo, ax=axfloat, title='dtype = float32')\n",
    "show(photo_int8, ax=axint, title='dtype = uint7 (= signed int8) (0-128)')\n",
    "plt.show()"
   ]
  },
  {
   "cell_type": "markdown",
   "id": "a548cc4d-9dcd-4d11-a26b-a4c3056eb409",
   "metadata": {},
   "source": [
    "Even zoomed in though, it doesn't look *too* bad:"
   ]
  },
  {
   "cell_type": "code",
   "execution_count": null,
   "id": "ee4d3aaf-a942-4e08-b378-d12a998cf78d",
   "metadata": {},
   "outputs": [],
   "source": [
    "fig, (axfloat, axint) = plt.subplots(1,2, figsize=(15,11))\n",
    "axfloat.set_xlim(464000, 466000)\n",
    "axfloat.set_ylim(5766000, 5767500)\n",
    "axint.set_xlim(464000, 466000)\n",
    "axint.set_ylim(5766000, 5767500)\n",
    "show(photo, ax=axfloat, title='dtype = float32')\n",
    "show(photo_int8, ax=axint, title='dtype = uint7 (= signed int8) (0-128)')\n",
    "plt.show()"
   ]
  },
  {
   "cell_type": "markdown",
   "id": "b33d294c-a787-4d2c-bcfa-41d97e8ff14c",
   "metadata": {},
   "source": [
    "I'm doing this a bit artificially now, but if we were to only use 6 bits for each colour, that would restrict us to 0-64. The degradation is a bit clearer now:"
   ]
  },
  {
   "cell_type": "code",
   "execution_count": null,
   "id": "6f0666a1-9851-4281-b17a-931fd6c7d197",
   "metadata": {},
   "outputs": [],
   "source": [
    "photo_uint6 = rio.open(\n",
    "    'https://raw.githubusercontent.com/bamacgabhann/GY5021/2024/GY5021/2_Raster_Geospatial_Data/sample_data/Killarney/2021-04-25_11-46-59_Sentinel-2_L2A_True_color_uint6.tiff'\n",
    ")\n",
    "\n",
    "fig, (axfloat, axint) = plt.subplots(1,2, figsize=(15,11))\n",
    "show(photo, ax=axfloat, title='dtype = float32')\n",
    "show(photo_uint6, ax=axint, title='dtype = uint6 (0-64)')\n",
    "plt.show()"
   ]
  },
  {
   "cell_type": "markdown",
   "id": "6a4a597f-ea53-48ee-b488-df19b257d53e",
   "metadata": {},
   "source": [
    "Zooming in there's some more differences apparent:"
   ]
  },
  {
   "cell_type": "code",
   "execution_count": null,
   "id": "154a8318-dcf8-41b5-8649-35a275ec4505",
   "metadata": {},
   "outputs": [],
   "source": [
    "fig, (axfloat, axint) = plt.subplots(1,2, figsize=(15,11))\n",
    "axfloat.set_xlim(464000, 466000)\n",
    "axfloat.set_ylim(5766000, 5767500)\n",
    "axint.set_xlim(464000, 466000)\n",
    "axint.set_ylim(5766000, 5767500)\n",
    "show(photo, ax=axfloat, title='dtype = float32')\n",
    "show(photo_uint6, ax=axint, title='dtype = uint6 (0-64)')\n",
    "plt.show()"
   ]
  },
  {
   "cell_type": "markdown",
   "id": "13276493-6c21-45a8-975a-397f330b8f30",
   "metadata": {},
   "source": [
    "If we were to use only 4 bits for each colour, the differences become very clear. Here, we have only 0-16 in each colour band:"
   ]
  },
  {
   "cell_type": "code",
   "execution_count": null,
   "id": "f1502768-93d3-435b-838c-89b819a4ec0f",
   "metadata": {},
   "outputs": [],
   "source": [
    "photo_uint4 = rio.open(\n",
    "    'https://raw.githubusercontent.com/bamacgabhann/GY5021/2024/GY5021/2_Raster_Geospatial_Data/sample_data/Killarney/2021-04-25_11-46-59_Sentinel-2_L2A_True_color_uint4.tiff'\n",
    ")\n",
    "\n",
    "fig, (axfloat, axint) = plt.subplots(1,2, figsize=(15,11))\n",
    "show(photo, ax=axfloat, title='dtype = float32')\n",
    "show(photo_uint4, ax=axint, title='dtype = uint4 (0-16)')\n",
    "plt.show()"
   ]
  },
  {
   "cell_type": "markdown",
   "id": "39c634fc-fe98-4d95-9997-4419123c86fd",
   "metadata": {},
   "source": [
    "Close up, this is starting to look *awful*:"
   ]
  },
  {
   "cell_type": "code",
   "execution_count": null,
   "id": "5cea85d7-e157-4f49-a1b4-6b556fa971bb",
   "metadata": {},
   "outputs": [],
   "source": [
    "fig, (axfloat, axint) = plt.subplots(1,2, figsize=(15,11))\n",
    "axfloat.set_xlim(464000, 466000)\n",
    "axfloat.set_ylim(5766000, 5767500)\n",
    "axint.set_xlim(464000, 466000)\n",
    "axint.set_ylim(5766000, 5767500)\n",
    "show(photo, ax=axfloat, title='dtype = float32')\n",
    "show(photo_uint4, ax=axint, title='dtype = uint4 (0-64)')\n",
    "plt.show()"
   ]
  },
  {
   "cell_type": "markdown",
   "id": "35bf549f-f1bc-49de-a90c-48412c0ac3ce",
   "metadata": {},
   "source": [
    "The above is a bit artificial, you'd never get real images like this using 4-bits or 6-bits per colour, but the point I'm trying to make here is broader. Our eyes can distinguish the differences in the 4- and 6-bit images, and while above that we can't see much difference - computers can distinguish *far* more than our eyes. If you're trying to do complex analysis of imagery on a computer, then even the differences between 8-bit integers and 32-bit floats is enormous, and can make a very significant difference in the analysis.\n",
    "\n",
    "So, this *spectral* resolution of the data is just as important as the spatial resolution. This is the precision of the dataset - or to put it another way, how much detail it's possible to store for each pixel.\n",
    "\n",
    "Normally, the spectral resolution will be dictated by the sensor used to collect the data. How good your results will be depends on this - and it's really just a case of understanding the limits of what you have. There's no point trying to do fine-scale spectral analysis on data with a low spectral resolution, just as there's no point trying to map parking spaces, for example, on data with a spatial resolution of 10m - you just won't be able to see the differences."
   ]
  },
  {
   "cell_type": "markdown",
   "id": "eef4cd21-5a78-43ed-9355-cc11b62a5c53",
   "metadata": {},
   "source": [
    "## Summary\n",
    "\n",
    "The key takeaways here are:\n",
    "\n",
    "1. Image-type geospatial data is not used in vector format, but in raster format, where coordinates and a transform are specified for an entire array of pixels instead of giving the coordinates for each pixel separately.\n",
    "2. Since pixels cover a discrete area, they have a spatial resolution - what distance they cover over the ground, which can be different in north-south and east-west directions.\n",
    "3. The spectral resolution is the precision at which the data for each pixel is stored. This is just as important as spatial resolution.\n",
    "\n",
    "It's not just actual images which can be presented in this raster format. Any data which varies discontinuously acruss an area can be stored as a raster, with other common examples including maps of temperature, rainfall, and, as we'll see in our next Notebook, the elevation of the land surface."
   ]
  },
  {
   "cell_type": "markdown",
   "id": "92a9f93a-b006-4273-9cd9-051b21136c80",
   "metadata": {},
   "source": [
    "___\n",
    "\n",
    "Week 2 Notebooks: \n",
    "\n",
    "8. Introduction to Raster Data <a href=\"https://colab.research.google.com/github/bamacgabhann/GY5021/blob/2024/GY5021/2_Raster_Geospatial_Data/GY5021_8_Introduction_To_Raster_Data.ipynb\" target=\"_parent\"><img src=\"https://colab.research.google.com/assets/colab-badge.svg\" alt=\"Open In Colab\"/></a>     <a href=\"https://mybinder.org/v2/gh/bamacgabhann/GY5021/9a706c8973d5bde0e50593ecc94941b0426f24a6?urlpath=lab%2Ftree%2FGY5021%2F2_Raster_Geospatial_Data%2FGY5021_8_Introduction_To_Raster_Data.ipynb\" target=\"_parent\"><img src=\"https://mybinder.org/badge_logo.svg\" alt=\"Open in Binder\" /></a>\n",
    "\n",
    "9. Single-band Raster Data <a href=\"https://colab.research.google.com/github/bamacgabhann/GY5021/blob/2024/GY5021/2_Raster_Geospatial_Data/GY5021_9_Single-band_Raster_Data.ipynb\" target=\"_parent\"><img src=\"https://colab.research.google.com/assets/colab-badge.svg\" alt=\"Open In Colab\"/></a>     <a href=\"https://mybinder.org/v2/gh/bamacgabhann/GY5021/9a706c8973d5bde0e50593ecc94941b0426f24a6?urlpath=lab%2Ftree%2FGY5021%2F2_Raster_Geospatial_Data%2FGY5021_9_Single-band_Raster_Data.ipynb\" target=\"_parent\"><img src=\"https://mybinder.org/badge_logo.svg\" alt=\"Open in Binder\" /></a>\n",
    "\n",
    "10. Multi-band Raster Data: Passive Remote Sensing <a href=\"https://colab.research.google.com/github/bamacgabhann/GY5021/blob/2024/GY5021/2_Raster_Geospatial_Data/GY5021_10_Multi-band_Raster_Data-Passive_Remote_Sensing.ipynb\" target=\"_parent\"><img src=\"https://colab.research.google.com/assets/colab-badge.svg\" alt=\"Open In Colab\"/></a>     <a href=\"https://mybinder.org/v2/gh/bamacgabhann/GY5021/9a706c8973d5bde0e50593ecc94941b0426f24a6?urlpath=lab%2Ftree%2FGY5021%2F2_Raster_Geospatial_Data%2FGY5021_10_Multi-band_Raster_Data-Passive_Remote_Sensing.ipynb\" target=\"_parent\"><img src=\"https://mybinder.org/badge_logo.svg\" alt=\"Open in Binder\" /></a>"
   ]
  }
 ],
 "metadata": {
  "kernelspec": {
   "display_name": "GY5021",
   "language": "python",
   "name": "gy5021"
  },
  "language_info": {
   "codemirror_mode": {
    "name": "ipython",
    "version": 3
   },
   "file_extension": ".py",
   "mimetype": "text/x-python",
   "name": "python",
   "nbconvert_exporter": "python",
   "pygments_lexer": "ipython3",
   "version": "3.11.6"
  }
 },
 "nbformat": 4,
 "nbformat_minor": 5
}
